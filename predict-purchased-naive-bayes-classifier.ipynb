{
 "cells": [
  {
   "cell_type": "markdown",
   "id": "675c726e",
   "metadata": {
    "papermill": {
     "duration": 0.009738,
     "end_time": "2024-09-02T21:12:42.178522",
     "exception": false,
     "start_time": "2024-09-02T21:12:42.168784",
     "status": "completed"
    },
    "tags": []
   },
   "source": [
    "## importing the libraries"
   ]
  },
  {
   "cell_type": "code",
   "execution_count": 1,
   "id": "a15f48ed",
   "metadata": {
    "execution": {
     "iopub.execute_input": "2024-09-02T21:12:42.198701Z",
     "iopub.status.busy": "2024-09-02T21:12:42.198241Z",
     "iopub.status.idle": "2024-09-02T21:12:44.386202Z",
     "shell.execute_reply": "2024-09-02T21:12:44.385130Z"
    },
    "papermill": {
     "duration": 2.201234,
     "end_time": "2024-09-02T21:12:44.389023",
     "exception": false,
     "start_time": "2024-09-02T21:12:42.187789",
     "status": "completed"
    },
    "tags": []
   },
   "outputs": [],
   "source": [
    "import numpy as np\n",
    "import matplotlib.pyplot as plt\n",
    "import pandas as pd\n",
    "import seaborn as sns"
   ]
  },
  {
   "cell_type": "markdown",
   "id": "814bfadb",
   "metadata": {
    "papermill": {
     "duration": 0.009175,
     "end_time": "2024-09-02T21:12:44.407452",
     "exception": false,
     "start_time": "2024-09-02T21:12:44.398277",
     "status": "completed"
    },
    "tags": []
   },
   "source": [
    "## import the data"
   ]
  },
  {
   "cell_type": "code",
   "execution_count": 2,
   "id": "c22903f6",
   "metadata": {
    "execution": {
     "iopub.execute_input": "2024-09-02T21:12:44.427571Z",
     "iopub.status.busy": "2024-09-02T21:12:44.426913Z",
     "iopub.status.idle": "2024-09-02T21:12:44.448839Z",
     "shell.execute_reply": "2024-09-02T21:12:44.447687Z"
    },
    "papermill": {
     "duration": 0.035663,
     "end_time": "2024-09-02T21:12:44.452080",
     "exception": false,
     "start_time": "2024-09-02T21:12:44.416417",
     "status": "completed"
    },
    "tags": []
   },
   "outputs": [],
   "source": [
    "df= pd.read_csv('/kaggle/input/naive-bayes/NaiveBayes.csv')"
   ]
  },
  {
   "cell_type": "code",
   "execution_count": 3,
   "id": "d85ffd6f",
   "metadata": {
    "execution": {
     "iopub.execute_input": "2024-09-02T21:12:44.472620Z",
     "iopub.status.busy": "2024-09-02T21:12:44.472167Z",
     "iopub.status.idle": "2024-09-02T21:12:44.495270Z",
     "shell.execute_reply": "2024-09-02T21:12:44.494233Z"
    },
    "papermill": {
     "duration": 0.036253,
     "end_time": "2024-09-02T21:12:44.497809",
     "exception": false,
     "start_time": "2024-09-02T21:12:44.461556",
     "status": "completed"
    },
    "tags": []
   },
   "outputs": [
    {
     "data": {
      "text/html": [
       "<div>\n",
       "<style scoped>\n",
       "    .dataframe tbody tr th:only-of-type {\n",
       "        vertical-align: middle;\n",
       "    }\n",
       "\n",
       "    .dataframe tbody tr th {\n",
       "        vertical-align: top;\n",
       "    }\n",
       "\n",
       "    .dataframe thead th {\n",
       "        text-align: right;\n",
       "    }\n",
       "</style>\n",
       "<table border=\"1\" class=\"dataframe\">\n",
       "  <thead>\n",
       "    <tr style=\"text-align: right;\">\n",
       "      <th></th>\n",
       "      <th>Age</th>\n",
       "      <th>Salary</th>\n",
       "      <th>Purchased</th>\n",
       "    </tr>\n",
       "  </thead>\n",
       "  <tbody>\n",
       "    <tr>\n",
       "      <th>0</th>\n",
       "      <td>19</td>\n",
       "      <td>19000</td>\n",
       "      <td>0</td>\n",
       "    </tr>\n",
       "    <tr>\n",
       "      <th>1</th>\n",
       "      <td>35</td>\n",
       "      <td>20000</td>\n",
       "      <td>0</td>\n",
       "    </tr>\n",
       "    <tr>\n",
       "      <th>2</th>\n",
       "      <td>26</td>\n",
       "      <td>43000</td>\n",
       "      <td>0</td>\n",
       "    </tr>\n",
       "    <tr>\n",
       "      <th>3</th>\n",
       "      <td>27</td>\n",
       "      <td>57000</td>\n",
       "      <td>0</td>\n",
       "    </tr>\n",
       "    <tr>\n",
       "      <th>4</th>\n",
       "      <td>19</td>\n",
       "      <td>76000</td>\n",
       "      <td>0</td>\n",
       "    </tr>\n",
       "  </tbody>\n",
       "</table>\n",
       "</div>"
      ],
      "text/plain": [
       "   Age  Salary  Purchased\n",
       "0   19   19000          0\n",
       "1   35   20000          0\n",
       "2   26   43000          0\n",
       "3   27   57000          0\n",
       "4   19   76000          0"
      ]
     },
     "execution_count": 3,
     "metadata": {},
     "output_type": "execute_result"
    }
   ],
   "source": [
    "df.head()"
   ]
  },
  {
   "cell_type": "code",
   "execution_count": 4,
   "id": "ee90a8a7",
   "metadata": {
    "execution": {
     "iopub.execute_input": "2024-09-02T21:12:44.518638Z",
     "iopub.status.busy": "2024-09-02T21:12:44.517697Z",
     "iopub.status.idle": "2024-09-02T21:12:44.534406Z",
     "shell.execute_reply": "2024-09-02T21:12:44.533171Z"
    },
    "papermill": {
     "duration": 0.029868,
     "end_time": "2024-09-02T21:12:44.537051",
     "exception": false,
     "start_time": "2024-09-02T21:12:44.507183",
     "status": "completed"
    },
    "tags": []
   },
   "outputs": [
    {
     "data": {
      "text/html": [
       "<div>\n",
       "<style scoped>\n",
       "    .dataframe tbody tr th:only-of-type {\n",
       "        vertical-align: middle;\n",
       "    }\n",
       "\n",
       "    .dataframe tbody tr th {\n",
       "        vertical-align: top;\n",
       "    }\n",
       "\n",
       "    .dataframe thead th {\n",
       "        text-align: right;\n",
       "    }\n",
       "</style>\n",
       "<table border=\"1\" class=\"dataframe\">\n",
       "  <thead>\n",
       "    <tr style=\"text-align: right;\">\n",
       "      <th></th>\n",
       "      <th>Age</th>\n",
       "      <th>Salary</th>\n",
       "      <th>Purchased</th>\n",
       "    </tr>\n",
       "  </thead>\n",
       "  <tbody>\n",
       "    <tr>\n",
       "      <th>0</th>\n",
       "      <td>19</td>\n",
       "      <td>19000</td>\n",
       "      <td>0</td>\n",
       "    </tr>\n",
       "    <tr>\n",
       "      <th>1</th>\n",
       "      <td>35</td>\n",
       "      <td>20000</td>\n",
       "      <td>0</td>\n",
       "    </tr>\n",
       "    <tr>\n",
       "      <th>2</th>\n",
       "      <td>26</td>\n",
       "      <td>43000</td>\n",
       "      <td>0</td>\n",
       "    </tr>\n",
       "    <tr>\n",
       "      <th>3</th>\n",
       "      <td>27</td>\n",
       "      <td>57000</td>\n",
       "      <td>0</td>\n",
       "    </tr>\n",
       "    <tr>\n",
       "      <th>4</th>\n",
       "      <td>19</td>\n",
       "      <td>76000</td>\n",
       "      <td>0</td>\n",
       "    </tr>\n",
       "    <tr>\n",
       "      <th>...</th>\n",
       "      <td>...</td>\n",
       "      <td>...</td>\n",
       "      <td>...</td>\n",
       "    </tr>\n",
       "    <tr>\n",
       "      <th>395</th>\n",
       "      <td>46</td>\n",
       "      <td>41000</td>\n",
       "      <td>1</td>\n",
       "    </tr>\n",
       "    <tr>\n",
       "      <th>396</th>\n",
       "      <td>51</td>\n",
       "      <td>23000</td>\n",
       "      <td>1</td>\n",
       "    </tr>\n",
       "    <tr>\n",
       "      <th>397</th>\n",
       "      <td>50</td>\n",
       "      <td>20000</td>\n",
       "      <td>1</td>\n",
       "    </tr>\n",
       "    <tr>\n",
       "      <th>398</th>\n",
       "      <td>36</td>\n",
       "      <td>33000</td>\n",
       "      <td>0</td>\n",
       "    </tr>\n",
       "    <tr>\n",
       "      <th>399</th>\n",
       "      <td>49</td>\n",
       "      <td>36000</td>\n",
       "      <td>1</td>\n",
       "    </tr>\n",
       "  </tbody>\n",
       "</table>\n",
       "<p>400 rows × 3 columns</p>\n",
       "</div>"
      ],
      "text/plain": [
       "     Age  Salary  Purchased\n",
       "0     19   19000          0\n",
       "1     35   20000          0\n",
       "2     26   43000          0\n",
       "3     27   57000          0\n",
       "4     19   76000          0\n",
       "..   ...     ...        ...\n",
       "395   46   41000          1\n",
       "396   51   23000          1\n",
       "397   50   20000          1\n",
       "398   36   33000          0\n",
       "399   49   36000          1\n",
       "\n",
       "[400 rows x 3 columns]"
      ]
     },
     "execution_count": 4,
     "metadata": {},
     "output_type": "execute_result"
    }
   ],
   "source": [
    "df"
   ]
  },
  {
   "cell_type": "code",
   "execution_count": 5,
   "id": "6fc7f79a",
   "metadata": {
    "execution": {
     "iopub.execute_input": "2024-09-02T21:12:44.558578Z",
     "iopub.status.busy": "2024-09-02T21:12:44.557830Z",
     "iopub.status.idle": "2024-09-02T21:12:44.582390Z",
     "shell.execute_reply": "2024-09-02T21:12:44.580933Z"
    },
    "papermill": {
     "duration": 0.038386,
     "end_time": "2024-09-02T21:12:44.585218",
     "exception": false,
     "start_time": "2024-09-02T21:12:44.546832",
     "status": "completed"
    },
    "tags": []
   },
   "outputs": [
    {
     "name": "stdout",
     "output_type": "stream",
     "text": [
      "<class 'pandas.core.frame.DataFrame'>\n",
      "RangeIndex: 400 entries, 0 to 399\n",
      "Data columns (total 3 columns):\n",
      " #   Column     Non-Null Count  Dtype\n",
      "---  ------     --------------  -----\n",
      " 0   Age        400 non-null    int64\n",
      " 1   Salary     400 non-null    int64\n",
      " 2   Purchased  400 non-null    int64\n",
      "dtypes: int64(3)\n",
      "memory usage: 9.5 KB\n"
     ]
    }
   ],
   "source": [
    "df.info()"
   ]
  },
  {
   "cell_type": "code",
   "execution_count": 6,
   "id": "ac1aceee",
   "metadata": {
    "execution": {
     "iopub.execute_input": "2024-09-02T21:12:44.607187Z",
     "iopub.status.busy": "2024-09-02T21:12:44.606671Z",
     "iopub.status.idle": "2024-09-02T21:12:44.614322Z",
     "shell.execute_reply": "2024-09-02T21:12:44.613130Z"
    },
    "papermill": {
     "duration": 0.021541,
     "end_time": "2024-09-02T21:12:44.616935",
     "exception": false,
     "start_time": "2024-09-02T21:12:44.595394",
     "status": "completed"
    },
    "tags": []
   },
   "outputs": [
    {
     "data": {
      "text/plain": [
       "(400, 3)"
      ]
     },
     "execution_count": 6,
     "metadata": {},
     "output_type": "execute_result"
    }
   ],
   "source": [
    "df.shape"
   ]
  },
  {
   "cell_type": "code",
   "execution_count": 7,
   "id": "0da44920",
   "metadata": {
    "execution": {
     "iopub.execute_input": "2024-09-02T21:12:44.638936Z",
     "iopub.status.busy": "2024-09-02T21:12:44.638505Z",
     "iopub.status.idle": "2024-09-02T21:12:44.647738Z",
     "shell.execute_reply": "2024-09-02T21:12:44.646535Z"
    },
    "papermill": {
     "duration": 0.023388,
     "end_time": "2024-09-02T21:12:44.650266",
     "exception": false,
     "start_time": "2024-09-02T21:12:44.626878",
     "status": "completed"
    },
    "tags": []
   },
   "outputs": [
    {
     "data": {
      "text/plain": [
       "Age          0\n",
       "Salary       0\n",
       "Purchased    0\n",
       "dtype: int64"
      ]
     },
     "execution_count": 7,
     "metadata": {},
     "output_type": "execute_result"
    }
   ],
   "source": [
    "df.isna().sum()"
   ]
  },
  {
   "cell_type": "code",
   "execution_count": 8,
   "id": "1e374228",
   "metadata": {
    "execution": {
     "iopub.execute_input": "2024-09-02T21:12:44.673080Z",
     "iopub.status.busy": "2024-09-02T21:12:44.671856Z",
     "iopub.status.idle": "2024-09-02T21:12:44.697078Z",
     "shell.execute_reply": "2024-09-02T21:12:44.695841Z"
    },
    "papermill": {
     "duration": 0.039585,
     "end_time": "2024-09-02T21:12:44.699816",
     "exception": false,
     "start_time": "2024-09-02T21:12:44.660231",
     "status": "completed"
    },
    "tags": []
   },
   "outputs": [
    {
     "data": {
      "text/html": [
       "<div>\n",
       "<style scoped>\n",
       "    .dataframe tbody tr th:only-of-type {\n",
       "        vertical-align: middle;\n",
       "    }\n",
       "\n",
       "    .dataframe tbody tr th {\n",
       "        vertical-align: top;\n",
       "    }\n",
       "\n",
       "    .dataframe thead th {\n",
       "        text-align: right;\n",
       "    }\n",
       "</style>\n",
       "<table border=\"1\" class=\"dataframe\">\n",
       "  <thead>\n",
       "    <tr style=\"text-align: right;\">\n",
       "      <th></th>\n",
       "      <th>Age</th>\n",
       "      <th>Salary</th>\n",
       "      <th>Purchased</th>\n",
       "    </tr>\n",
       "  </thead>\n",
       "  <tbody>\n",
       "    <tr>\n",
       "      <th>count</th>\n",
       "      <td>400.000000</td>\n",
       "      <td>400.000000</td>\n",
       "      <td>400.000000</td>\n",
       "    </tr>\n",
       "    <tr>\n",
       "      <th>mean</th>\n",
       "      <td>37.655000</td>\n",
       "      <td>69742.500000</td>\n",
       "      <td>0.357500</td>\n",
       "    </tr>\n",
       "    <tr>\n",
       "      <th>std</th>\n",
       "      <td>10.482877</td>\n",
       "      <td>34096.960282</td>\n",
       "      <td>0.479864</td>\n",
       "    </tr>\n",
       "    <tr>\n",
       "      <th>min</th>\n",
       "      <td>18.000000</td>\n",
       "      <td>15000.000000</td>\n",
       "      <td>0.000000</td>\n",
       "    </tr>\n",
       "    <tr>\n",
       "      <th>25%</th>\n",
       "      <td>29.750000</td>\n",
       "      <td>43000.000000</td>\n",
       "      <td>0.000000</td>\n",
       "    </tr>\n",
       "    <tr>\n",
       "      <th>50%</th>\n",
       "      <td>37.000000</td>\n",
       "      <td>70000.000000</td>\n",
       "      <td>0.000000</td>\n",
       "    </tr>\n",
       "    <tr>\n",
       "      <th>75%</th>\n",
       "      <td>46.000000</td>\n",
       "      <td>88000.000000</td>\n",
       "      <td>1.000000</td>\n",
       "    </tr>\n",
       "    <tr>\n",
       "      <th>max</th>\n",
       "      <td>60.000000</td>\n",
       "      <td>150000.000000</td>\n",
       "      <td>1.000000</td>\n",
       "    </tr>\n",
       "  </tbody>\n",
       "</table>\n",
       "</div>"
      ],
      "text/plain": [
       "              Age         Salary   Purchased\n",
       "count  400.000000     400.000000  400.000000\n",
       "mean    37.655000   69742.500000    0.357500\n",
       "std     10.482877   34096.960282    0.479864\n",
       "min     18.000000   15000.000000    0.000000\n",
       "25%     29.750000   43000.000000    0.000000\n",
       "50%     37.000000   70000.000000    0.000000\n",
       "75%     46.000000   88000.000000    1.000000\n",
       "max     60.000000  150000.000000    1.000000"
      ]
     },
     "execution_count": 8,
     "metadata": {},
     "output_type": "execute_result"
    }
   ],
   "source": [
    "df.describe()"
   ]
  },
  {
   "cell_type": "code",
   "execution_count": 9,
   "id": "f4ae7e78",
   "metadata": {
    "execution": {
     "iopub.execute_input": "2024-09-02T21:12:44.722239Z",
     "iopub.status.busy": "2024-09-02T21:12:44.721801Z",
     "iopub.status.idle": "2024-09-02T21:12:44.728581Z",
     "shell.execute_reply": "2024-09-02T21:12:44.727236Z"
    },
    "papermill": {
     "duration": 0.021104,
     "end_time": "2024-09-02T21:12:44.731202",
     "exception": false,
     "start_time": "2024-09-02T21:12:44.710098",
     "status": "completed"
    },
    "tags": []
   },
   "outputs": [],
   "source": [
    "X = df.iloc[:, [0,1]].values\n",
    "y = df.iloc[:, 2].values"
   ]
  },
  {
   "cell_type": "code",
   "execution_count": 10,
   "id": "e5390f7a",
   "metadata": {
    "execution": {
     "iopub.execute_input": "2024-09-02T21:12:44.754354Z",
     "iopub.status.busy": "2024-09-02T21:12:44.753474Z",
     "iopub.status.idle": "2024-09-02T21:12:45.006960Z",
     "shell.execute_reply": "2024-09-02T21:12:45.005672Z"
    },
    "papermill": {
     "duration": 0.268253,
     "end_time": "2024-09-02T21:12:45.009780",
     "exception": false,
     "start_time": "2024-09-02T21:12:44.741527",
     "status": "completed"
    },
    "tags": []
   },
   "outputs": [],
   "source": [
    "from sklearn.model_selection import train_test_split\n",
    "\n",
    "X_train, X_test, y_train, y_test =train_test_split(X,y,test_size= 0.25, random_state=0)"
   ]
  },
  {
   "cell_type": "markdown",
   "id": "403e648b",
   "metadata": {
    "papermill": {
     "duration": 0.009886,
     "end_time": "2024-09-02T21:12:45.030008",
     "exception": false,
     "start_time": "2024-09-02T21:12:45.020122",
     "status": "completed"
    },
    "tags": []
   },
   "source": [
    "## Training the model"
   ]
  },
  {
   "cell_type": "code",
   "execution_count": 11,
   "id": "fd7962e5",
   "metadata": {
    "execution": {
     "iopub.execute_input": "2024-09-02T21:12:45.052899Z",
     "iopub.status.busy": "2024-09-02T21:12:45.052017Z",
     "iopub.status.idle": "2024-09-02T21:12:45.069619Z",
     "shell.execute_reply": "2024-09-02T21:12:45.068566Z"
    },
    "papermill": {
     "duration": 0.032494,
     "end_time": "2024-09-02T21:12:45.072648",
     "exception": false,
     "start_time": "2024-09-02T21:12:45.040154",
     "status": "completed"
    },
    "tags": []
   },
   "outputs": [],
   "source": [
    "from sklearn.naive_bayes import BernoulliNB\n",
    "\n",
    "# initializaing the NB\n",
    "classifer = BernoulliNB()\n",
    "\n",
    "# training the model\n",
    "classifer.fit(X_train, y_train)\n",
    "\n",
    "# testing the model\n",
    "y_pred = classifer.predict(X_test)"
   ]
  },
  {
   "cell_type": "code",
   "execution_count": 12,
   "id": "08de7b9a",
   "metadata": {
    "execution": {
     "iopub.execute_input": "2024-09-02T21:12:45.095477Z",
     "iopub.status.busy": "2024-09-02T21:12:45.094561Z",
     "iopub.status.idle": "2024-09-02T21:12:45.101357Z",
     "shell.execute_reply": "2024-09-02T21:12:45.100310Z"
    },
    "papermill": {
     "duration": 0.021661,
     "end_time": "2024-09-02T21:12:45.104701",
     "exception": false,
     "start_time": "2024-09-02T21:12:45.083040",
     "status": "completed"
    },
    "tags": []
   },
   "outputs": [
    {
     "name": "stdout",
     "output_type": "stream",
     "text": [
      "0.68\n"
     ]
    }
   ],
   "source": [
    "from sklearn.metrics import accuracy_score\n",
    "\n",
    "print(accuracy_score(y_pred, y_test))"
   ]
  },
  {
   "cell_type": "code",
   "execution_count": 13,
   "id": "f38beec5",
   "metadata": {
    "execution": {
     "iopub.execute_input": "2024-09-02T21:12:45.127742Z",
     "iopub.status.busy": "2024-09-02T21:12:45.127304Z",
     "iopub.status.idle": "2024-09-02T21:12:45.136769Z",
     "shell.execute_reply": "2024-09-02T21:12:45.135607Z"
    },
    "papermill": {
     "duration": 0.02403,
     "end_time": "2024-09-02T21:12:45.139124",
     "exception": false,
     "start_time": "2024-09-02T21:12:45.115094",
     "status": "completed"
    },
    "tags": []
   },
   "outputs": [],
   "source": [
    "from sklearn.naive_bayes import GaussianNB\n",
    "\n",
    "# create a Gaussian Classifier\n",
    "classifer1 = GaussianNB()\n",
    "\n",
    "# training the model\n",
    "classifer1.fit(X_train, y_train)\n",
    "\n",
    "# testing the model\n",
    "y_pred1 = classifer1.predict(X_test)"
   ]
  },
  {
   "cell_type": "code",
   "execution_count": 14,
   "id": "8fb805ce",
   "metadata": {
    "execution": {
     "iopub.execute_input": "2024-09-02T21:12:45.163284Z",
     "iopub.status.busy": "2024-09-02T21:12:45.162073Z",
     "iopub.status.idle": "2024-09-02T21:12:45.169919Z",
     "shell.execute_reply": "2024-09-02T21:12:45.168523Z"
    },
    "papermill": {
     "duration": 0.023106,
     "end_time": "2024-09-02T21:12:45.172809",
     "exception": false,
     "start_time": "2024-09-02T21:12:45.149703",
     "status": "completed"
    },
    "tags": []
   },
   "outputs": [
    {
     "name": "stdout",
     "output_type": "stream",
     "text": [
      "0.9\n"
     ]
    }
   ],
   "source": [
    "from sklearn.metrics import accuracy_score\n",
    "\n",
    "print(accuracy_score(y_test,y_pred1))"
   ]
  },
  {
   "cell_type": "markdown",
   "id": "05d0ded7",
   "metadata": {
    "papermill": {
     "duration": 0.011131,
     "end_time": "2024-09-02T21:12:45.194559",
     "exception": false,
     "start_time": "2024-09-02T21:12:45.183428",
     "status": "completed"
    },
    "tags": []
   },
   "source": [
    "## Evaluating"
   ]
  },
  {
   "cell_type": "code",
   "execution_count": 15,
   "id": "b5baca9b",
   "metadata": {
    "execution": {
     "iopub.execute_input": "2024-09-02T21:12:45.218086Z",
     "iopub.status.busy": "2024-09-02T21:12:45.217600Z",
     "iopub.status.idle": "2024-09-02T21:12:45.534305Z",
     "shell.execute_reply": "2024-09-02T21:12:45.533008Z"
    },
    "papermill": {
     "duration": 0.331608,
     "end_time": "2024-09-02T21:12:45.536936",
     "exception": false,
     "start_time": "2024-09-02T21:12:45.205328",
     "status": "completed"
    },
    "tags": []
   },
   "outputs": [
    {
     "data": {
      "text/plain": [
       "<Axes: >"
      ]
     },
     "execution_count": 15,
     "metadata": {},
     "output_type": "execute_result"
    },
    {
     "data": {
      "image/png": "[encoded data removed]",
      "text/plain": [
       "<Figure size 640x480 with 2 Axes>"
      ]
     },
     "metadata": {},
     "output_type": "display_data"
    }
   ],
   "source": [
    "import seaborn as sns\n",
    "from sklearn.metrics import confusion_matrix\n",
    "\n",
    "# passing actual and predicted values\n",
    "cm = confusion_matrix(y_test, y_pred)\n",
    "\n",
    "# true write data values in each cell of the matrix\n",
    "sns.heatmap(cm, annot=True)\n",
    "#plt.savefig('confusion.png')"
   ]
  },
  {
   "cell_type": "code",
   "execution_count": 16,
   "id": "1021dcb5",
   "metadata": {
    "execution": {
     "iopub.execute_input": "2024-09-02T21:12:45.562180Z",
     "iopub.status.busy": "2024-09-02T21:12:45.560949Z",
     "iopub.status.idle": "2024-09-02T21:12:45.862914Z",
     "shell.execute_reply": "2024-09-02T21:12:45.861605Z"
    },
    "papermill": {
     "duration": 0.317202,
     "end_time": "2024-09-02T21:12:45.865648",
     "exception": false,
     "start_time": "2024-09-02T21:12:45.548446",
     "status": "completed"
    },
    "tags": []
   },
   "outputs": [
    {
     "data": {
      "image/png": "[encoded data removed]",
      "text/plain": [
       "<Figure size 640x480 with 2 Axes>"
      ]
     },
     "metadata": {},
     "output_type": "display_data"
    }
   ],
   "source": [
    "import seaborn as sns\n",
    "from sklearn.metrics import confusion_matrix\n",
    "cm = confusion_matrix(y_test, y_pred1)\n",
    "sns.heatmap(cm,annot=True)\n",
    "plt.savefig('confusion1.png')"
   ]
  },
  {
   "cell_type": "code",
   "execution_count": 17,
   "id": "66458139",
   "metadata": {
    "execution": {
     "iopub.execute_input": "2024-09-02T21:12:45.890746Z",
     "iopub.status.busy": "2024-09-02T21:12:45.889792Z",
     "iopub.status.idle": "2024-09-02T21:12:45.896495Z",
     "shell.execute_reply": "2024-09-02T21:12:45.895311Z"
    },
    "papermill": {
     "duration": 0.02193,
     "end_time": "2024-09-02T21:12:45.898954",
     "exception": false,
     "start_time": "2024-09-02T21:12:45.877024",
     "status": "completed"
    },
    "tags": []
   },
   "outputs": [],
   "source": [
    "weather = ['Sunny','Sunny','Overcast','Rainy','Rainy','Rainy','Overcast','Sunny','Sunny', 'Rainy','Sunny','Overcast','Overcast','Rainy']\n",
    "\n",
    "play = ['No','No','Yes','Yes','Yes','No','Yes','No','Yes','Yes','Yes','Yes','Yes','No']"
   ]
  },
  {
   "cell_type": "code",
   "execution_count": 18,
   "id": "18a0c35e",
   "metadata": {
    "execution": {
     "iopub.execute_input": "2024-09-02T21:12:45.923992Z",
     "iopub.status.busy": "2024-09-02T21:12:45.923536Z",
     "iopub.status.idle": "2024-09-02T21:12:45.929830Z",
     "shell.execute_reply": "2024-09-02T21:12:45.928488Z"
    },
    "papermill": {
     "duration": 0.021725,
     "end_time": "2024-09-02T21:12:45.932509",
     "exception": false,
     "start_time": "2024-09-02T21:12:45.910784",
     "status": "completed"
    },
    "tags": []
   },
   "outputs": [],
   "source": [
    "from sklearn import preprocessing\n",
    "labelCode = preprocessing.LabelEncoder()\n",
    "wheather_encoded =labelCode.fit_transform(weather)"
   ]
  },
  {
   "cell_type": "code",
   "execution_count": 19,
   "id": "4a9e19b2",
   "metadata": {
    "execution": {
     "iopub.execute_input": "2024-09-02T21:12:45.956799Z",
     "iopub.status.busy": "2024-09-02T21:12:45.956362Z",
     "iopub.status.idle": "2024-09-02T21:12:45.963049Z",
     "shell.execute_reply": "2024-09-02T21:12:45.961824Z"
    },
    "papermill": {
     "duration": 0.021958,
     "end_time": "2024-09-02T21:12:45.965836",
     "exception": false,
     "start_time": "2024-09-02T21:12:45.943878",
     "status": "completed"
    },
    "tags": []
   },
   "outputs": [
    {
     "name": "stdout",
     "output_type": "stream",
     "text": [
      "[2 2 0 1 1 1 0 2 2 1 2 0 0 1]\n"
     ]
    }
   ],
   "source": [
    "print(wheather_encoded)"
   ]
  },
  {
   "cell_type": "code",
   "execution_count": 20,
   "id": "e7ff372c",
   "metadata": {
    "execution": {
     "iopub.execute_input": "2024-09-02T21:12:45.990392Z",
     "iopub.status.busy": "2024-09-02T21:12:45.989915Z",
     "iopub.status.idle": "2024-09-02T21:12:45.996331Z",
     "shell.execute_reply": "2024-09-02T21:12:45.995159Z"
    },
    "papermill": {
     "duration": 0.021726,
     "end_time": "2024-09-02T21:12:45.998834",
     "exception": false,
     "start_time": "2024-09-02T21:12:45.977108",
     "status": "completed"
    },
    "tags": []
   },
   "outputs": [],
   "source": [
    "from sklearn import preprocessing\n",
    "labelCode = preprocessing.LabelEncoder()\n",
    "label=labelCode.fit_transform(play)"
   ]
  },
  {
   "cell_type": "code",
   "execution_count": 21,
   "id": "8cc33bab",
   "metadata": {
    "execution": {
     "iopub.execute_input": "2024-09-02T21:12:46.023751Z",
     "iopub.status.busy": "2024-09-02T21:12:46.023299Z",
     "iopub.status.idle": "2024-09-02T21:12:46.029213Z",
     "shell.execute_reply": "2024-09-02T21:12:46.027859Z"
    },
    "papermill": {
     "duration": 0.021297,
     "end_time": "2024-09-02T21:12:46.031707",
     "exception": false,
     "start_time": "2024-09-02T21:12:46.010410",
     "status": "completed"
    },
    "tags": []
   },
   "outputs": [],
   "source": [
    "weather_2d = np.reshape(wheather_encoded, (-1, 1))"
   ]
  },
  {
   "cell_type": "code",
   "execution_count": 22,
   "id": "cf2f60e3",
   "metadata": {
    "execution": {
     "iopub.execute_input": "2024-09-02T21:12:46.056649Z",
     "iopub.status.busy": "2024-09-02T21:12:46.056196Z",
     "iopub.status.idle": "2024-09-02T21:12:46.069806Z",
     "shell.execute_reply": "2024-09-02T21:12:46.068274Z"
    },
    "papermill": {
     "duration": 0.029222,
     "end_time": "2024-09-02T21:12:46.072476",
     "exception": false,
     "start_time": "2024-09-02T21:12:46.043254",
     "status": "completed"
    },
    "tags": []
   },
   "outputs": [
    {
     "data": {
      "text/html": [
       "<style>#sk-container-id-1 {color: black;background-color: white;}#sk-container-id-1 pre{padding: 0;}#sk-container-id-1 div.sk-toggleable {background-color: white;}#sk-container-id-1 label.sk-toggleable__label {cursor: pointer;display: block;width: 100%;margin-bottom: 0;padding: 0.3em;box-sizing: border-box;text-align: center;}#sk-container-id-1 label.sk-toggleable__label-arrow:before {content: \"▸\";float: left;margin-right: 0.25em;color: #696969;}#sk-container-id-1 label.sk-toggleable__label-arrow:hover:before {color: black;}#sk-container-id-1 div.sk-estimator:hover label.sk-toggleable__label-arrow:before {color: black;}#sk-container-id-1 div.sk-toggleable__content {max-height: 0;max-width: 0;overflow: hidden;text-align: left;background-color: #f0f8ff;}#sk-container-id-1 div.sk-toggleable__content pre {margin: 0.2em;color: black;border-radius: 0.25em;background-color: #f0f8ff;}#sk-container-id-1 input.sk-toggleable__control:checked~div.sk-toggleable__content {max-height: 200px;max-width: 100%;overflow: auto;}#sk-container-id-1 input.sk-toggleable__control:checked~label.sk-toggleable__label-arrow:before {content: \"▾\";}#sk-container-id-1 div.sk-estimator input.sk-toggleable__control:checked~label.sk-toggleable__label {background-color: #d4ebff;}#sk-container-id-1 div.sk-label input.sk-toggleable__control:checked~label.sk-toggleable__label {background-color: #d4ebff;}#sk-container-id-1 input.sk-hidden--visually {border: 0;clip: rect(1px 1px 1px 1px);clip: rect(1px, 1px, 1px, 1px);height: 1px;margin: -1px;overflow: hidden;padding: 0;position: absolute;width: 1px;}#sk-container-id-1 div.sk-estimator {font-family: monospace;background-color: #f0f8ff;border: 1px dotted black;border-radius: 0.25em;box-sizing: border-box;margin-bottom: 0.5em;}#sk-container-id-1 div.sk-estimator:hover {background-color: #d4ebff;}#sk-container-id-1 div.sk-parallel-item::after {content: \"\";width: 100%;border-bottom: 1px solid gray;flex-grow: 1;}#sk-container-id-1 div.sk-label:hover label.sk-toggleable__label {background-color: #d4ebff;}#sk-container-id-1 div.sk-serial::before {content: \"\";position: absolute;border-left: 1px solid gray;box-sizing: border-box;top: 0;bottom: 0;left: 50%;z-index: 0;}#sk-container-id-1 div.sk-serial {display: flex;flex-direction: column;align-items: center;background-color: white;padding-right: 0.2em;padding-left: 0.2em;position: relative;}#sk-container-id-1 div.sk-item {position: relative;z-index: 1;}#sk-container-id-1 div.sk-parallel {display: flex;align-items: stretch;justify-content: center;background-color: white;position: relative;}#sk-container-id-1 div.sk-item::before, #sk-container-id-1 div.sk-parallel-item::before {content: \"\";position: absolute;border-left: 1px solid gray;box-sizing: border-box;top: 0;bottom: 0;left: 50%;z-index: -1;}#sk-container-id-1 div.sk-parallel-item {display: flex;flex-direction: column;z-index: 1;position: relative;background-color: white;}#sk-container-id-1 div.sk-parallel-item:first-child::after {align-self: flex-end;width: 50%;}#sk-container-id-1 div.sk-parallel-item:last-child::after {align-self: flex-start;width: 50%;}#sk-container-id-1 div.sk-parallel-item:only-child::after {width: 0;}#sk-container-id-1 div.sk-dashed-wrapped {border: 1px dashed gray;margin: 0 0.4em 0.5em 0.4em;box-sizing: border-box;padding-bottom: 0.4em;background-color: white;}#sk-container-id-1 div.sk-label label {font-family: monospace;font-weight: bold;display: inline-block;line-height: 1.2em;}#sk-container-id-1 div.sk-label-container {text-align: center;}#sk-container-id-1 div.sk-container {/* jupyter's `normalize.less` sets `[hidden] { display: none; }` but bootstrap.min.css set `[hidden] { display: none !important; }` so we also need the `!important` here to be able to override the default hidden behavior on the sphinx rendered scikit-learn.org. See: https://github.com/scikit-learn/scikit-learn/issues/21755 */display: inline-block !important;position: relative;}#sk-container-id-1 div.sk-text-repr-fallback {display: none;}</style><div id=\"sk-container-id-1\" class=\"sk-top-container\"><div class=\"sk-text-repr-fallback\"><pre>GaussianNB()</pre><b>In a Jupyter environment, please rerun this cell to show the HTML representation or trust the notebook. <br />On GitHub, the HTML representation is unable to render, please try loading this page with nbviewer.org.</b></div><div class=\"sk-container\" hidden><div class=\"sk-item\"><div class=\"sk-estimator sk-toggleable\"><input class=\"sk-toggleable__control sk-hidden--visually\" id=\"sk-estimator-id-1\" type=\"checkbox\" checked><label for=\"sk-estimator-id-1\" class=\"sk-toggleable__label sk-toggleable__label-arrow\">GaussianNB</label><div class=\"sk-toggleable__content\"><pre>GaussianNB()</pre></div></div></div></div></div>"
      ],
      "text/plain": [
       "GaussianNB()"
      ]
     },
     "execution_count": 22,
     "metadata": {},
     "output_type": "execute_result"
    }
   ],
   "source": [
    "from sklearn.naive_bayes import GaussianNB\n",
    "model = GaussianNB()\n",
    "\n",
    "model.fit(weather_2d, label)"
   ]
  },
  {
   "cell_type": "code",
   "execution_count": 23,
   "id": "63481138",
   "metadata": {
    "execution": {
     "iopub.execute_input": "2024-09-02T21:12:46.098469Z",
     "iopub.status.busy": "2024-09-02T21:12:46.097610Z",
     "iopub.status.idle": "2024-09-02T21:12:46.106301Z",
     "shell.execute_reply": "2024-09-02T21:12:46.105043Z"
    },
    "papermill": {
     "duration": 0.024465,
     "end_time": "2024-09-02T21:12:46.108862",
     "exception": false,
     "start_time": "2024-09-02T21:12:46.084397",
     "status": "completed"
    },
    "tags": []
   },
   "outputs": [
    {
     "data": {
      "text/plain": [
       "array([1])"
      ]
     },
     "execution_count": 23,
     "metadata": {},
     "output_type": "execute_result"
    }
   ],
   "source": [
    "predicted= model.predict([[0]]) # 0:Overcast\n",
    "predicted"
   ]
  },
  {
   "cell_type": "code",
   "execution_count": null,
   "id": "73a09bc9",
   "metadata": {
    "papermill": {
     "duration": 0.011249,
     "end_time": "2024-09-02T21:12:46.131873",
     "exception": false,
     "start_time": "2024-09-02T21:12:46.120624",
     "status": "completed"
    },
    "tags": []
   },
   "outputs": [],
   "source": []
  }
 ],
 "metadata": {
  "kaggle": {
   "accelerator": "none",
   "dataSources": [
    {
     "datasetId": 5633895,
     "sourceId": 9304087,
     "sourceType": "datasetVersion"
    }
   ],
   "dockerImageVersionId": 30761,
   "isGpuEnabled": false,
   "isInternetEnabled": true,
   "language": "python",
   "sourceType": "notebook"
  },
  "kernelspec": {
   "display_name": "Python 3",
   "language": "python",
   "name": "python3"
  },
  "language_info": {
   "codemirror_mode": {
    "name": "ipython",
    "version": 3
   },
   "file_extension": ".py",
   "mimetype": "text/x-python",
   "name": "python",
   "nbconvert_exporter": "python",
   "pygments_lexer": "ipython3",
   "version": "3.10.14"
  },
  "papermill": {
   "default_parameters": {},
   "duration": 7.772124,
   "end_time": "2024-09-02T21:12:46.866638",
   "environment_variables": {},
   "exception": null,
   "input_path": "__notebook__.ipynb",
   "output_path": "__notebook__.ipynb",
   "parameters": {},
   "start_time": "2024-09-02T21:12:39.094514",
   "version": "2.6.0"
  }
 },
 "nbformat": 4,
 "nbformat_minor": 5
}
