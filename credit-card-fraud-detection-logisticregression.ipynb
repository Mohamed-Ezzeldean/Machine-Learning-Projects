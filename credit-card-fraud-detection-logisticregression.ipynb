{
 "cells": [
  {
   "cell_type": "markdown",
   "id": "f567f973",
   "metadata": {
    "papermill": {
     "duration": 0.01316,
     "end_time": "2024-08-30T14:35:25.401242",
     "exception": false,
     "start_time": "2024-08-30T14:35:25.388082",
     "status": "completed"
    },
    "tags": []
   },
   "source": [
    "## import libraries"
   ]
  },
  {
   "cell_type": "code",
   "execution_count": 1,
   "id": "a82c2d5e",
   "metadata": {
    "execution": {
     "iopub.execute_input": "2024-08-30T14:35:25.426864Z",
     "iopub.status.busy": "2024-08-30T14:35:25.426348Z",
     "iopub.status.idle": "2024-08-30T14:35:29.178423Z",
     "shell.execute_reply": "2024-08-30T14:35:29.176647Z"
    },
    "papermill": {
     "duration": 3.768492,
     "end_time": "2024-08-30T14:35:29.181916",
     "exception": false,
     "start_time": "2024-08-30T14:35:25.413424",
     "status": "completed"
    },
    "tags": []
   },
   "outputs": [],
   "source": [
    "import numpy as np\n",
    "import pandas as pd\n",
    "import seaborn as sns \n",
    "import matplotlib.pyplot as plt\n",
    "%matplotlib inline\n",
    "from sklearn.model_selection import train_test_split\n",
    "from sklearn.linear_model import LogisticRegression\n",
    "from sklearn.metrics import accuracy_score"
   ]
  },
  {
   "cell_type": "markdown",
   "id": "fc2ee465",
   "metadata": {
    "papermill": {
     "duration": 0.010676,
     "end_time": "2024-08-30T14:35:29.204258",
     "exception": false,
     "start_time": "2024-08-30T14:35:29.193582",
     "status": "completed"
    },
    "tags": []
   },
   "source": [
    "## load data and get info"
   ]
  },
  {
   "cell_type": "code",
   "execution_count": 2,
   "id": "5b065501",
   "metadata": {
    "execution": {
     "iopub.execute_input": "2024-08-30T14:35:29.229449Z",
     "iopub.status.busy": "2024-08-30T14:35:29.227704Z",
     "iopub.status.idle": "2024-08-30T14:35:34.238610Z",
     "shell.execute_reply": "2024-08-30T14:35:34.236946Z"
    },
    "papermill": {
     "duration": 5.026815,
     "end_time": "2024-08-30T14:35:34.241912",
     "exception": false,
     "start_time": "2024-08-30T14:35:29.215097",
     "status": "completed"
    },
    "tags": []
   },
   "outputs": [],
   "source": [
    "card=pd.read_csv('/kaggle/input/creditcardfraud/creditcard.csv')"
   ]
  },
  {
   "cell_type": "code",
   "execution_count": 3,
   "id": "ab99fc3e",
   "metadata": {
    "execution": {
     "iopub.execute_input": "2024-08-30T14:35:34.267582Z",
     "iopub.status.busy": "2024-08-30T14:35:34.266986Z",
     "iopub.status.idle": "2024-08-30T14:35:34.321409Z",
     "shell.execute_reply": "2024-08-30T14:35:34.319796Z"
    },
    "papermill": {
     "duration": 0.071698,
     "end_time": "2024-08-30T14:35:34.324882",
     "exception": false,
     "start_time": "2024-08-30T14:35:34.253184",
     "status": "completed"
    },
    "tags": []
   },
   "outputs": [
    {
     "data": {
      "text/html": [
       "<div>\n",
       "<style scoped>\n",
       "    .dataframe tbody tr th:only-of-type {\n",
       "        vertical-align: middle;\n",
       "    }\n",
       "\n",
       "    .dataframe tbody tr th {\n",
       "        vertical-align: top;\n",
       "    }\n",
       "\n",
       "    .dataframe thead th {\n",
       "        text-align: right;\n",
       "    }\n",
       "</style>\n",
       "<table border=\"1\" class=\"dataframe\">\n",
       "  <thead>\n",
       "    <tr style=\"text-align: right;\">\n",
       "      <th></th>\n",
       "      <th>Time</th>\n",
       "      <th>V1</th>\n",
       "      <th>V2</th>\n",
       "      <th>V3</th>\n",
       "      <th>V4</th>\n",
       "      <th>V5</th>\n",
       "      <th>V6</th>\n",
       "      <th>V7</th>\n",
       "      <th>V8</th>\n",
       "      <th>V9</th>\n",
       "      <th>...</th>\n",
       "      <th>V21</th>\n",
       "      <th>V22</th>\n",
       "      <th>V23</th>\n",
       "      <th>V24</th>\n",
       "      <th>V25</th>\n",
       "      <th>V26</th>\n",
       "      <th>V27</th>\n",
       "      <th>V28</th>\n",
       "      <th>Amount</th>\n",
       "      <th>Class</th>\n",
       "    </tr>\n",
       "  </thead>\n",
       "  <tbody>\n",
       "    <tr>\n",
       "      <th>0</th>\n",
       "      <td>0.0</td>\n",
       "      <td>-1.359807</td>\n",
       "      <td>-0.072781</td>\n",
       "      <td>2.536347</td>\n",
       "      <td>1.378155</td>\n",
       "      <td>-0.338321</td>\n",
       "      <td>0.462388</td>\n",
       "      <td>0.239599</td>\n",
       "      <td>0.098698</td>\n",
       "      <td>0.363787</td>\n",
       "      <td>...</td>\n",
       "      <td>-0.018307</td>\n",
       "      <td>0.277838</td>\n",
       "      <td>-0.110474</td>\n",
       "      <td>0.066928</td>\n",
       "      <td>0.128539</td>\n",
       "      <td>-0.189115</td>\n",
       "      <td>0.133558</td>\n",
       "      <td>-0.021053</td>\n",
       "      <td>149.62</td>\n",
       "      <td>0</td>\n",
       "    </tr>\n",
       "    <tr>\n",
       "      <th>1</th>\n",
       "      <td>0.0</td>\n",
       "      <td>1.191857</td>\n",
       "      <td>0.266151</td>\n",
       "      <td>0.166480</td>\n",
       "      <td>0.448154</td>\n",
       "      <td>0.060018</td>\n",
       "      <td>-0.082361</td>\n",
       "      <td>-0.078803</td>\n",
       "      <td>0.085102</td>\n",
       "      <td>-0.255425</td>\n",
       "      <td>...</td>\n",
       "      <td>-0.225775</td>\n",
       "      <td>-0.638672</td>\n",
       "      <td>0.101288</td>\n",
       "      <td>-0.339846</td>\n",
       "      <td>0.167170</td>\n",
       "      <td>0.125895</td>\n",
       "      <td>-0.008983</td>\n",
       "      <td>0.014724</td>\n",
       "      <td>2.69</td>\n",
       "      <td>0</td>\n",
       "    </tr>\n",
       "    <tr>\n",
       "      <th>2</th>\n",
       "      <td>1.0</td>\n",
       "      <td>-1.358354</td>\n",
       "      <td>-1.340163</td>\n",
       "      <td>1.773209</td>\n",
       "      <td>0.379780</td>\n",
       "      <td>-0.503198</td>\n",
       "      <td>1.800499</td>\n",
       "      <td>0.791461</td>\n",
       "      <td>0.247676</td>\n",
       "      <td>-1.514654</td>\n",
       "      <td>...</td>\n",
       "      <td>0.247998</td>\n",
       "      <td>0.771679</td>\n",
       "      <td>0.909412</td>\n",
       "      <td>-0.689281</td>\n",
       "      <td>-0.327642</td>\n",
       "      <td>-0.139097</td>\n",
       "      <td>-0.055353</td>\n",
       "      <td>-0.059752</td>\n",
       "      <td>378.66</td>\n",
       "      <td>0</td>\n",
       "    </tr>\n",
       "    <tr>\n",
       "      <th>3</th>\n",
       "      <td>1.0</td>\n",
       "      <td>-0.966272</td>\n",
       "      <td>-0.185226</td>\n",
       "      <td>1.792993</td>\n",
       "      <td>-0.863291</td>\n",
       "      <td>-0.010309</td>\n",
       "      <td>1.247203</td>\n",
       "      <td>0.237609</td>\n",
       "      <td>0.377436</td>\n",
       "      <td>-1.387024</td>\n",
       "      <td>...</td>\n",
       "      <td>-0.108300</td>\n",
       "      <td>0.005274</td>\n",
       "      <td>-0.190321</td>\n",
       "      <td>-1.175575</td>\n",
       "      <td>0.647376</td>\n",
       "      <td>-0.221929</td>\n",
       "      <td>0.062723</td>\n",
       "      <td>0.061458</td>\n",
       "      <td>123.50</td>\n",
       "      <td>0</td>\n",
       "    </tr>\n",
       "    <tr>\n",
       "      <th>4</th>\n",
       "      <td>2.0</td>\n",
       "      <td>-1.158233</td>\n",
       "      <td>0.877737</td>\n",
       "      <td>1.548718</td>\n",
       "      <td>0.403034</td>\n",
       "      <td>-0.407193</td>\n",
       "      <td>0.095921</td>\n",
       "      <td>0.592941</td>\n",
       "      <td>-0.270533</td>\n",
       "      <td>0.817739</td>\n",
       "      <td>...</td>\n",
       "      <td>-0.009431</td>\n",
       "      <td>0.798278</td>\n",
       "      <td>-0.137458</td>\n",
       "      <td>0.141267</td>\n",
       "      <td>-0.206010</td>\n",
       "      <td>0.502292</td>\n",
       "      <td>0.219422</td>\n",
       "      <td>0.215153</td>\n",
       "      <td>69.99</td>\n",
       "      <td>0</td>\n",
       "    </tr>\n",
       "  </tbody>\n",
       "</table>\n",
       "<p>5 rows × 31 columns</p>\n",
       "</div>"
      ],
      "text/plain": [
       "   Time        V1        V2        V3        V4        V5        V6        V7  \\\n",
       "0   0.0 -1.359807 -0.072781  2.536347  1.378155 -0.338321  0.462388  0.239599   \n",
       "1   0.0  1.191857  0.266151  0.166480  0.448154  0.060018 -0.082361 -0.078803   \n",
       "2   1.0 -1.358354 -1.340163  1.773209  0.379780 -0.503198  1.800499  0.791461   \n",
       "3   1.0 -0.966272 -0.185226  1.792993 -0.863291 -0.010309  1.247203  0.237609   \n",
       "4   2.0 -1.158233  0.877737  1.548718  0.403034 -0.407193  0.095921  0.592941   \n",
       "\n",
       "         V8        V9  ...       V21       V22       V23       V24       V25  \\\n",
       "0  0.098698  0.363787  ... -0.018307  0.277838 -0.110474  0.066928  0.128539   \n",
       "1  0.085102 -0.255425  ... -0.225775 -0.638672  0.101288 -0.339846  0.167170   \n",
       "2  0.247676 -1.514654  ...  0.247998  0.771679  0.909412 -0.689281 -0.327642   \n",
       "3  0.377436 -1.387024  ... -0.108300  0.005274 -0.190321 -1.175575  0.647376   \n",
       "4 -0.270533  0.817739  ... -0.009431  0.798278 -0.137458  0.141267 -0.206010   \n",
       "\n",
       "        V26       V27       V28  Amount  Class  \n",
       "0 -0.189115  0.133558 -0.021053  149.62      0  \n",
       "1  0.125895 -0.008983  0.014724    2.69      0  \n",
       "2 -0.139097 -0.055353 -0.059752  378.66      0  \n",
       "3 -0.221929  0.062723  0.061458  123.50      0  \n",
       "4  0.502292  0.219422  0.215153   69.99      0  \n",
       "\n",
       "[5 rows x 31 columns]"
      ]
     },
     "execution_count": 3,
     "metadata": {},
     "output_type": "execute_result"
    }
   ],
   "source": [
    "card.head()"
   ]
  },
  {
   "cell_type": "code",
   "execution_count": 4,
   "id": "4fdb7c22",
   "metadata": {
    "execution": {
     "iopub.execute_input": "2024-08-30T14:35:34.351124Z",
     "iopub.status.busy": "2024-08-30T14:35:34.350633Z",
     "iopub.status.idle": "2024-08-30T14:35:34.359427Z",
     "shell.execute_reply": "2024-08-30T14:35:34.358053Z"
    },
    "papermill": {
     "duration": 0.025692,
     "end_time": "2024-08-30T14:35:34.362573",
     "exception": false,
     "start_time": "2024-08-30T14:35:34.336881",
     "status": "completed"
    },
    "tags": []
   },
   "outputs": [
    {
     "data": {
      "text/plain": [
       "(284807, 31)"
      ]
     },
     "execution_count": 4,
     "metadata": {},
     "output_type": "execute_result"
    }
   ],
   "source": [
    "card.shape"
   ]
  },
  {
   "cell_type": "code",
   "execution_count": 5,
   "id": "2c6892c4",
   "metadata": {
    "execution": {
     "iopub.execute_input": "2024-08-30T14:35:34.388585Z",
     "iopub.status.busy": "2024-08-30T14:35:34.388158Z",
     "iopub.status.idle": "2024-08-30T14:35:34.436066Z",
     "shell.execute_reply": "2024-08-30T14:35:34.434456Z"
    },
    "papermill": {
     "duration": 0.065601,
     "end_time": "2024-08-30T14:35:34.440043",
     "exception": false,
     "start_time": "2024-08-30T14:35:34.374442",
     "status": "completed"
    },
    "tags": []
   },
   "outputs": [
    {
     "name": "stdout",
     "output_type": "stream",
     "text": [
      "<class 'pandas.core.frame.DataFrame'>\n",
      "RangeIndex: 284807 entries, 0 to 284806\n",
      "Data columns (total 31 columns):\n",
      " #   Column  Non-Null Count   Dtype  \n",
      "---  ------  --------------   -----  \n",
      " 0   Time    284807 non-null  float64\n",
      " 1   V1      284807 non-null  float64\n",
      " 2   V2      284807 non-null  float64\n",
      " 3   V3      284807 non-null  float64\n",
      " 4   V4      284807 non-null  float64\n",
      " 5   V5      284807 non-null  float64\n",
      " 6   V6      284807 non-null  float64\n",
      " 7   V7      284807 non-null  float64\n",
      " 8   V8      284807 non-null  float64\n",
      " 9   V9      284807 non-null  float64\n",
      " 10  V10     284807 non-null  float64\n",
      " 11  V11     284807 non-null  float64\n",
      " 12  V12     284807 non-null  float64\n",
      " 13  V13     284807 non-null  float64\n",
      " 14  V14     284807 non-null  float64\n",
      " 15  V15     284807 non-null  float64\n",
      " 16  V16     284807 non-null  float64\n",
      " 17  V17     284807 non-null  float64\n",
      " 18  V18     284807 non-null  float64\n",
      " 19  V19     284807 non-null  float64\n",
      " 20  V20     284807 non-null  float64\n",
      " 21  V21     284807 non-null  float64\n",
      " 22  V22     284807 non-null  float64\n",
      " 23  V23     284807 non-null  float64\n",
      " 24  V24     284807 non-null  float64\n",
      " 25  V25     284807 non-null  float64\n",
      " 26  V26     284807 non-null  float64\n",
      " 27  V27     284807 non-null  float64\n",
      " 28  V28     284807 non-null  float64\n",
      " 29  Amount  284807 non-null  float64\n",
      " 30  Class   284807 non-null  int64  \n",
      "dtypes: float64(30), int64(1)\n",
      "memory usage: 67.4 MB\n"
     ]
    }
   ],
   "source": [
    "card.info()"
   ]
  },
  {
   "cell_type": "code",
   "execution_count": 6,
   "id": "22a52a23",
   "metadata": {
    "execution": {
     "iopub.execute_input": "2024-08-30T14:35:34.467658Z",
     "iopub.status.busy": "2024-08-30T14:35:34.467142Z",
     "iopub.status.idle": "2024-08-30T14:35:34.996505Z",
     "shell.execute_reply": "2024-08-30T14:35:34.994953Z"
    },
    "papermill": {
     "duration": 0.547032,
     "end_time": "2024-08-30T14:35:34.999578",
     "exception": false,
     "start_time": "2024-08-30T14:35:34.452546",
     "status": "completed"
    },
    "tags": []
   },
   "outputs": [
    {
     "data": {
      "text/html": [
       "<div>\n",
       "<style scoped>\n",
       "    .dataframe tbody tr th:only-of-type {\n",
       "        vertical-align: middle;\n",
       "    }\n",
       "\n",
       "    .dataframe tbody tr th {\n",
       "        vertical-align: top;\n",
       "    }\n",
       "\n",
       "    .dataframe thead th {\n",
       "        text-align: right;\n",
       "    }\n",
       "</style>\n",
       "<table border=\"1\" class=\"dataframe\">\n",
       "  <thead>\n",
       "    <tr style=\"text-align: right;\">\n",
       "      <th></th>\n",
       "      <th>Time</th>\n",
       "      <th>V1</th>\n",
       "      <th>V2</th>\n",
       "      <th>V3</th>\n",
       "      <th>V4</th>\n",
       "      <th>V5</th>\n",
       "      <th>V6</th>\n",
       "      <th>V7</th>\n",
       "      <th>V8</th>\n",
       "      <th>V9</th>\n",
       "      <th>...</th>\n",
       "      <th>V21</th>\n",
       "      <th>V22</th>\n",
       "      <th>V23</th>\n",
       "      <th>V24</th>\n",
       "      <th>V25</th>\n",
       "      <th>V26</th>\n",
       "      <th>V27</th>\n",
       "      <th>V28</th>\n",
       "      <th>Amount</th>\n",
       "      <th>Class</th>\n",
       "    </tr>\n",
       "  </thead>\n",
       "  <tbody>\n",
       "    <tr>\n",
       "      <th>count</th>\n",
       "      <td>284807.000000</td>\n",
       "      <td>2.848070e+05</td>\n",
       "      <td>2.848070e+05</td>\n",
       "      <td>2.848070e+05</td>\n",
       "      <td>2.848070e+05</td>\n",
       "      <td>2.848070e+05</td>\n",
       "      <td>2.848070e+05</td>\n",
       "      <td>2.848070e+05</td>\n",
       "      <td>2.848070e+05</td>\n",
       "      <td>2.848070e+05</td>\n",
       "      <td>...</td>\n",
       "      <td>2.848070e+05</td>\n",
       "      <td>2.848070e+05</td>\n",
       "      <td>2.848070e+05</td>\n",
       "      <td>2.848070e+05</td>\n",
       "      <td>2.848070e+05</td>\n",
       "      <td>2.848070e+05</td>\n",
       "      <td>2.848070e+05</td>\n",
       "      <td>2.848070e+05</td>\n",
       "      <td>284807.000000</td>\n",
       "      <td>284807.000000</td>\n",
       "    </tr>\n",
       "    <tr>\n",
       "      <th>mean</th>\n",
       "      <td>94813.859575</td>\n",
       "      <td>1.168375e-15</td>\n",
       "      <td>3.416908e-16</td>\n",
       "      <td>-1.379537e-15</td>\n",
       "      <td>2.074095e-15</td>\n",
       "      <td>9.604066e-16</td>\n",
       "      <td>1.487313e-15</td>\n",
       "      <td>-5.556467e-16</td>\n",
       "      <td>1.213481e-16</td>\n",
       "      <td>-2.406331e-15</td>\n",
       "      <td>...</td>\n",
       "      <td>1.654067e-16</td>\n",
       "      <td>-3.568593e-16</td>\n",
       "      <td>2.578648e-16</td>\n",
       "      <td>4.473266e-15</td>\n",
       "      <td>5.340915e-16</td>\n",
       "      <td>1.683437e-15</td>\n",
       "      <td>-3.660091e-16</td>\n",
       "      <td>-1.227390e-16</td>\n",
       "      <td>88.349619</td>\n",
       "      <td>0.001727</td>\n",
       "    </tr>\n",
       "    <tr>\n",
       "      <th>std</th>\n",
       "      <td>47488.145955</td>\n",
       "      <td>1.958696e+00</td>\n",
       "      <td>1.651309e+00</td>\n",
       "      <td>1.516255e+00</td>\n",
       "      <td>1.415869e+00</td>\n",
       "      <td>1.380247e+00</td>\n",
       "      <td>1.332271e+00</td>\n",
       "      <td>1.237094e+00</td>\n",
       "      <td>1.194353e+00</td>\n",
       "      <td>1.098632e+00</td>\n",
       "      <td>...</td>\n",
       "      <td>7.345240e-01</td>\n",
       "      <td>7.257016e-01</td>\n",
       "      <td>6.244603e-01</td>\n",
       "      <td>6.056471e-01</td>\n",
       "      <td>5.212781e-01</td>\n",
       "      <td>4.822270e-01</td>\n",
       "      <td>4.036325e-01</td>\n",
       "      <td>3.300833e-01</td>\n",
       "      <td>250.120109</td>\n",
       "      <td>0.041527</td>\n",
       "    </tr>\n",
       "    <tr>\n",
       "      <th>min</th>\n",
       "      <td>0.000000</td>\n",
       "      <td>-5.640751e+01</td>\n",
       "      <td>-7.271573e+01</td>\n",
       "      <td>-4.832559e+01</td>\n",
       "      <td>-5.683171e+00</td>\n",
       "      <td>-1.137433e+02</td>\n",
       "      <td>-2.616051e+01</td>\n",
       "      <td>-4.355724e+01</td>\n",
       "      <td>-7.321672e+01</td>\n",
       "      <td>-1.343407e+01</td>\n",
       "      <td>...</td>\n",
       "      <td>-3.483038e+01</td>\n",
       "      <td>-1.093314e+01</td>\n",
       "      <td>-4.480774e+01</td>\n",
       "      <td>-2.836627e+00</td>\n",
       "      <td>-1.029540e+01</td>\n",
       "      <td>-2.604551e+00</td>\n",
       "      <td>-2.256568e+01</td>\n",
       "      <td>-1.543008e+01</td>\n",
       "      <td>0.000000</td>\n",
       "      <td>0.000000</td>\n",
       "    </tr>\n",
       "    <tr>\n",
       "      <th>25%</th>\n",
       "      <td>54201.500000</td>\n",
       "      <td>-9.203734e-01</td>\n",
       "      <td>-5.985499e-01</td>\n",
       "      <td>-8.903648e-01</td>\n",
       "      <td>-8.486401e-01</td>\n",
       "      <td>-6.915971e-01</td>\n",
       "      <td>-7.682956e-01</td>\n",
       "      <td>-5.540759e-01</td>\n",
       "      <td>-2.086297e-01</td>\n",
       "      <td>-6.430976e-01</td>\n",
       "      <td>...</td>\n",
       "      <td>-2.283949e-01</td>\n",
       "      <td>-5.423504e-01</td>\n",
       "      <td>-1.618463e-01</td>\n",
       "      <td>-3.545861e-01</td>\n",
       "      <td>-3.171451e-01</td>\n",
       "      <td>-3.269839e-01</td>\n",
       "      <td>-7.083953e-02</td>\n",
       "      <td>-5.295979e-02</td>\n",
       "      <td>5.600000</td>\n",
       "      <td>0.000000</td>\n",
       "    </tr>\n",
       "    <tr>\n",
       "      <th>50%</th>\n",
       "      <td>84692.000000</td>\n",
       "      <td>1.810880e-02</td>\n",
       "      <td>6.548556e-02</td>\n",
       "      <td>1.798463e-01</td>\n",
       "      <td>-1.984653e-02</td>\n",
       "      <td>-5.433583e-02</td>\n",
       "      <td>-2.741871e-01</td>\n",
       "      <td>4.010308e-02</td>\n",
       "      <td>2.235804e-02</td>\n",
       "      <td>-5.142873e-02</td>\n",
       "      <td>...</td>\n",
       "      <td>-2.945017e-02</td>\n",
       "      <td>6.781943e-03</td>\n",
       "      <td>-1.119293e-02</td>\n",
       "      <td>4.097606e-02</td>\n",
       "      <td>1.659350e-02</td>\n",
       "      <td>-5.213911e-02</td>\n",
       "      <td>1.342146e-03</td>\n",
       "      <td>1.124383e-02</td>\n",
       "      <td>22.000000</td>\n",
       "      <td>0.000000</td>\n",
       "    </tr>\n",
       "    <tr>\n",
       "      <th>75%</th>\n",
       "      <td>139320.500000</td>\n",
       "      <td>1.315642e+00</td>\n",
       "      <td>8.037239e-01</td>\n",
       "      <td>1.027196e+00</td>\n",
       "      <td>7.433413e-01</td>\n",
       "      <td>6.119264e-01</td>\n",
       "      <td>3.985649e-01</td>\n",
       "      <td>5.704361e-01</td>\n",
       "      <td>3.273459e-01</td>\n",
       "      <td>5.971390e-01</td>\n",
       "      <td>...</td>\n",
       "      <td>1.863772e-01</td>\n",
       "      <td>5.285536e-01</td>\n",
       "      <td>1.476421e-01</td>\n",
       "      <td>4.395266e-01</td>\n",
       "      <td>3.507156e-01</td>\n",
       "      <td>2.409522e-01</td>\n",
       "      <td>9.104512e-02</td>\n",
       "      <td>7.827995e-02</td>\n",
       "      <td>77.165000</td>\n",
       "      <td>0.000000</td>\n",
       "    </tr>\n",
       "    <tr>\n",
       "      <th>max</th>\n",
       "      <td>172792.000000</td>\n",
       "      <td>2.454930e+00</td>\n",
       "      <td>2.205773e+01</td>\n",
       "      <td>9.382558e+00</td>\n",
       "      <td>1.687534e+01</td>\n",
       "      <td>3.480167e+01</td>\n",
       "      <td>7.330163e+01</td>\n",
       "      <td>1.205895e+02</td>\n",
       "      <td>2.000721e+01</td>\n",
       "      <td>1.559499e+01</td>\n",
       "      <td>...</td>\n",
       "      <td>2.720284e+01</td>\n",
       "      <td>1.050309e+01</td>\n",
       "      <td>2.252841e+01</td>\n",
       "      <td>4.584549e+00</td>\n",
       "      <td>7.519589e+00</td>\n",
       "      <td>3.517346e+00</td>\n",
       "      <td>3.161220e+01</td>\n",
       "      <td>3.384781e+01</td>\n",
       "      <td>25691.160000</td>\n",
       "      <td>1.000000</td>\n",
       "    </tr>\n",
       "  </tbody>\n",
       "</table>\n",
       "<p>8 rows × 31 columns</p>\n",
       "</div>"
      ],
      "text/plain": [
       "                Time            V1            V2            V3            V4  \\\n",
       "count  284807.000000  2.848070e+05  2.848070e+05  2.848070e+05  2.848070e+05   \n",
       "mean    94813.859575  1.168375e-15  3.416908e-16 -1.379537e-15  2.074095e-15   \n",
       "std     47488.145955  1.958696e+00  1.651309e+00  1.516255e+00  1.415869e+00   \n",
       "min         0.000000 -5.640751e+01 -7.271573e+01 -4.832559e+01 -5.683171e+00   \n",
       "25%     54201.500000 -9.203734e-01 -5.985499e-01 -8.903648e-01 -8.486401e-01   \n",
       "50%     84692.000000  1.810880e-02  6.548556e-02  1.798463e-01 -1.984653e-02   \n",
       "75%    139320.500000  1.315642e+00  8.037239e-01  1.027196e+00  7.433413e-01   \n",
       "max    172792.000000  2.454930e+00  2.205773e+01  9.382558e+00  1.687534e+01   \n",
       "\n",
       "                 V5            V6            V7            V8            V9  \\\n",
       "count  2.848070e+05  2.848070e+05  2.848070e+05  2.848070e+05  2.848070e+05   \n",
       "mean   9.604066e-16  1.487313e-15 -5.556467e-16  1.213481e-16 -2.406331e-15   \n",
       "std    1.380247e+00  1.332271e+00  1.237094e+00  1.194353e+00  1.098632e+00   \n",
       "min   -1.137433e+02 -2.616051e+01 -4.355724e+01 -7.321672e+01 -1.343407e+01   \n",
       "25%   -6.915971e-01 -7.682956e-01 -5.540759e-01 -2.086297e-01 -6.430976e-01   \n",
       "50%   -5.433583e-02 -2.741871e-01  4.010308e-02  2.235804e-02 -5.142873e-02   \n",
       "75%    6.119264e-01  3.985649e-01  5.704361e-01  3.273459e-01  5.971390e-01   \n",
       "max    3.480167e+01  7.330163e+01  1.205895e+02  2.000721e+01  1.559499e+01   \n",
       "\n",
       "       ...           V21           V22           V23           V24  \\\n",
       "count  ...  2.848070e+05  2.848070e+05  2.848070e+05  2.848070e+05   \n",
       "mean   ...  1.654067e-16 -3.568593e-16  2.578648e-16  4.473266e-15   \n",
       "std    ...  7.345240e-01  7.257016e-01  6.244603e-01  6.056471e-01   \n",
       "min    ... -3.483038e+01 -1.093314e+01 -4.480774e+01 -2.836627e+00   \n",
       "25%    ... -2.283949e-01 -5.423504e-01 -1.618463e-01 -3.545861e-01   \n",
       "50%    ... -2.945017e-02  6.781943e-03 -1.119293e-02  4.097606e-02   \n",
       "75%    ...  1.863772e-01  5.285536e-01  1.476421e-01  4.395266e-01   \n",
       "max    ...  2.720284e+01  1.050309e+01  2.252841e+01  4.584549e+00   \n",
       "\n",
       "                V25           V26           V27           V28         Amount  \\\n",
       "count  2.848070e+05  2.848070e+05  2.848070e+05  2.848070e+05  284807.000000   \n",
       "mean   5.340915e-16  1.683437e-15 -3.660091e-16 -1.227390e-16      88.349619   \n",
       "std    5.212781e-01  4.822270e-01  4.036325e-01  3.300833e-01     250.120109   \n",
       "min   -1.029540e+01 -2.604551e+00 -2.256568e+01 -1.543008e+01       0.000000   \n",
       "25%   -3.171451e-01 -3.269839e-01 -7.083953e-02 -5.295979e-02       5.600000   \n",
       "50%    1.659350e-02 -5.213911e-02  1.342146e-03  1.124383e-02      22.000000   \n",
       "75%    3.507156e-01  2.409522e-01  9.104512e-02  7.827995e-02      77.165000   \n",
       "max    7.519589e+00  3.517346e+00  3.161220e+01  3.384781e+01   25691.160000   \n",
       "\n",
       "               Class  \n",
       "count  284807.000000  \n",
       "mean        0.001727  \n",
       "std         0.041527  \n",
       "min         0.000000  \n",
       "25%         0.000000  \n",
       "50%         0.000000  \n",
       "75%         0.000000  \n",
       "max         1.000000  \n",
       "\n",
       "[8 rows x 31 columns]"
      ]
     },
     "execution_count": 6,
     "metadata": {},
     "output_type": "execute_result"
    }
   ],
   "source": [
    "card.describe()"
   ]
  },
  {
   "cell_type": "code",
   "execution_count": 7,
   "id": "37580237",
   "metadata": {
    "execution": {
     "iopub.execute_input": "2024-08-30T14:35:35.028196Z",
     "iopub.status.busy": "2024-08-30T14:35:35.026832Z",
     "iopub.status.idle": "2024-08-30T14:35:35.053086Z",
     "shell.execute_reply": "2024-08-30T14:35:35.051815Z"
    },
    "papermill": {
     "duration": 0.043796,
     "end_time": "2024-08-30T14:35:35.056660",
     "exception": false,
     "start_time": "2024-08-30T14:35:35.012864",
     "status": "completed"
    },
    "tags": []
   },
   "outputs": [
    {
     "data": {
      "text/plain": [
       "Time      0\n",
       "V1        0\n",
       "V2        0\n",
       "V3        0\n",
       "V4        0\n",
       "V5        0\n",
       "V6        0\n",
       "V7        0\n",
       "V8        0\n",
       "V9        0\n",
       "V10       0\n",
       "V11       0\n",
       "V12       0\n",
       "V13       0\n",
       "V14       0\n",
       "V15       0\n",
       "V16       0\n",
       "V17       0\n",
       "V18       0\n",
       "V19       0\n",
       "V20       0\n",
       "V21       0\n",
       "V22       0\n",
       "V23       0\n",
       "V24       0\n",
       "V25       0\n",
       "V26       0\n",
       "V27       0\n",
       "V28       0\n",
       "Amount    0\n",
       "Class     0\n",
       "dtype: int64"
      ]
     },
     "execution_count": 7,
     "metadata": {},
     "output_type": "execute_result"
    }
   ],
   "source": [
    "card.isna().sum()"
   ]
  },
  {
   "cell_type": "markdown",
   "id": "b96d8630",
   "metadata": {
    "papermill": {
     "duration": 0.012535,
     "end_time": "2024-08-30T14:35:35.082869",
     "exception": false,
     "start_time": "2024-08-30T14:35:35.070334",
     "status": "completed"
    },
    "tags": []
   },
   "source": [
    "## Data Analysis"
   ]
  },
  {
   "cell_type": "code",
   "execution_count": 8,
   "id": "40afccb0",
   "metadata": {
    "execution": {
     "iopub.execute_input": "2024-08-30T14:35:35.111661Z",
     "iopub.status.busy": "2024-08-30T14:35:35.111136Z",
     "iopub.status.idle": "2024-08-30T14:35:35.128334Z",
     "shell.execute_reply": "2024-08-30T14:35:35.126744Z"
    },
    "papermill": {
     "duration": 0.035267,
     "end_time": "2024-08-30T14:35:35.131684",
     "exception": false,
     "start_time": "2024-08-30T14:35:35.096417",
     "status": "completed"
    },
    "tags": []
   },
   "outputs": [
    {
     "data": {
      "text/plain": [
       "Class\n",
       "0    284315\n",
       "1       492\n",
       "Name: count, dtype: int64"
      ]
     },
     "execution_count": 8,
     "metadata": {},
     "output_type": "execute_result"
    }
   ],
   "source": [
    "card['Class'].value_counts()"
   ]
  },
  {
   "cell_type": "markdown",
   "id": "613266b9",
   "metadata": {
    "papermill": {
     "duration": 0.012613,
     "end_time": "2024-08-30T14:35:35.157513",
     "exception": false,
     "start_time": "2024-08-30T14:35:35.144900",
     "status": "completed"
    },
    "tags": []
   },
   "source": [
    "492 transactions are fraud\n",
    "\n",
    "284315 transactions are normal"
   ]
  },
  {
   "cell_type": "code",
   "execution_count": 9,
   "id": "17e1d8e3",
   "metadata": {
    "execution": {
     "iopub.execute_input": "2024-08-30T14:35:35.186691Z",
     "iopub.status.busy": "2024-08-30T14:35:35.186167Z",
     "iopub.status.idle": "2024-08-30T14:35:35.501094Z",
     "shell.execute_reply": "2024-08-30T14:35:35.499599Z"
    },
    "papermill": {
     "duration": 0.33259,
     "end_time": "2024-08-30T14:35:35.504054",
     "exception": false,
     "start_time": "2024-08-30T14:35:35.171464",
     "status": "completed"
    },
    "tags": []
   },
   "outputs": [
    {
     "data": {
      "text/plain": [
       "<Axes: xlabel='Class'>"
      ]
     },
     "execution_count": 9,
     "metadata": {},
     "output_type": "execute_result"
    },
    {
     "data": {
      "image/png": "[encoded data removed]",
      "text/plain": [
       "<Figure size 640x480 with 1 Axes>"
      ]
     },
     "metadata": {},
     "output_type": "display_data"
    }
   ],
   "source": [
    "card['Class'].value_counts().plot(kind='bar')"
   ]
  },
  {
   "cell_type": "code",
   "execution_count": 10,
   "id": "a0abdc39",
   "metadata": {
    "execution": {
     "iopub.execute_input": "2024-08-30T14:35:35.533490Z",
     "iopub.status.busy": "2024-08-30T14:35:35.533042Z",
     "iopub.status.idle": "2024-08-30T14:35:35.573486Z",
     "shell.execute_reply": "2024-08-30T14:35:35.572221Z"
    },
    "papermill": {
     "duration": 0.059488,
     "end_time": "2024-08-30T14:35:35.577239",
     "exception": false,
     "start_time": "2024-08-30T14:35:35.517751",
     "status": "completed"
    },
    "tags": []
   },
   "outputs": [],
   "source": [
    "fraud=card[card.Class == 1]\n",
    "normal=card[card.Class == 0]"
   ]
  },
  {
   "cell_type": "code",
   "execution_count": 11,
   "id": "1b6c2f93",
   "metadata": {
    "execution": {
     "iopub.execute_input": "2024-08-30T14:35:35.606454Z",
     "iopub.status.busy": "2024-08-30T14:35:35.605978Z",
     "iopub.status.idle": "2024-08-30T14:35:35.763826Z",
     "shell.execute_reply": "2024-08-30T14:35:35.761842Z"
    },
    "papermill": {
     "duration": 0.176083,
     "end_time": "2024-08-30T14:35:35.767107",
     "exception": false,
     "start_time": "2024-08-30T14:35:35.591024",
     "status": "completed"
    },
    "tags": []
   },
   "outputs": [
    {
     "data": {
      "text/html": [
       "<div>\n",
       "<style scoped>\n",
       "    .dataframe tbody tr th:only-of-type {\n",
       "        vertical-align: middle;\n",
       "    }\n",
       "\n",
       "    .dataframe tbody tr th {\n",
       "        vertical-align: top;\n",
       "    }\n",
       "\n",
       "    .dataframe thead th {\n",
       "        text-align: right;\n",
       "    }\n",
       "</style>\n",
       "<table border=\"1\" class=\"dataframe\">\n",
       "  <thead>\n",
       "    <tr style=\"text-align: right;\">\n",
       "      <th></th>\n",
       "      <th>Time</th>\n",
       "      <th>V1</th>\n",
       "      <th>V2</th>\n",
       "      <th>V3</th>\n",
       "      <th>V4</th>\n",
       "      <th>V5</th>\n",
       "      <th>V6</th>\n",
       "      <th>V7</th>\n",
       "      <th>V8</th>\n",
       "      <th>V9</th>\n",
       "      <th>...</th>\n",
       "      <th>V20</th>\n",
       "      <th>V21</th>\n",
       "      <th>V22</th>\n",
       "      <th>V23</th>\n",
       "      <th>V24</th>\n",
       "      <th>V25</th>\n",
       "      <th>V26</th>\n",
       "      <th>V27</th>\n",
       "      <th>V28</th>\n",
       "      <th>Amount</th>\n",
       "    </tr>\n",
       "    <tr>\n",
       "      <th>Class</th>\n",
       "      <th></th>\n",
       "      <th></th>\n",
       "      <th></th>\n",
       "      <th></th>\n",
       "      <th></th>\n",
       "      <th></th>\n",
       "      <th></th>\n",
       "      <th></th>\n",
       "      <th></th>\n",
       "      <th></th>\n",
       "      <th></th>\n",
       "      <th></th>\n",
       "      <th></th>\n",
       "      <th></th>\n",
       "      <th></th>\n",
       "      <th></th>\n",
       "      <th></th>\n",
       "      <th></th>\n",
       "      <th></th>\n",
       "      <th></th>\n",
       "      <th></th>\n",
       "    </tr>\n",
       "  </thead>\n",
       "  <tbody>\n",
       "    <tr>\n",
       "      <th>0</th>\n",
       "      <td>94838.202258</td>\n",
       "      <td>0.008258</td>\n",
       "      <td>-0.006271</td>\n",
       "      <td>0.012171</td>\n",
       "      <td>-0.007860</td>\n",
       "      <td>0.005453</td>\n",
       "      <td>0.002419</td>\n",
       "      <td>0.009637</td>\n",
       "      <td>-0.000987</td>\n",
       "      <td>0.004467</td>\n",
       "      <td>...</td>\n",
       "      <td>-0.000644</td>\n",
       "      <td>-0.001235</td>\n",
       "      <td>-0.000024</td>\n",
       "      <td>0.000070</td>\n",
       "      <td>0.000182</td>\n",
       "      <td>-0.000072</td>\n",
       "      <td>-0.000089</td>\n",
       "      <td>-0.000295</td>\n",
       "      <td>-0.000131</td>\n",
       "      <td>88.291022</td>\n",
       "    </tr>\n",
       "    <tr>\n",
       "      <th>1</th>\n",
       "      <td>80746.806911</td>\n",
       "      <td>-4.771948</td>\n",
       "      <td>3.623778</td>\n",
       "      <td>-7.033281</td>\n",
       "      <td>4.542029</td>\n",
       "      <td>-3.151225</td>\n",
       "      <td>-1.397737</td>\n",
       "      <td>-5.568731</td>\n",
       "      <td>0.570636</td>\n",
       "      <td>-2.581123</td>\n",
       "      <td>...</td>\n",
       "      <td>0.372319</td>\n",
       "      <td>0.713588</td>\n",
       "      <td>0.014049</td>\n",
       "      <td>-0.040308</td>\n",
       "      <td>-0.105130</td>\n",
       "      <td>0.041449</td>\n",
       "      <td>0.051648</td>\n",
       "      <td>0.170575</td>\n",
       "      <td>0.075667</td>\n",
       "      <td>122.211321</td>\n",
       "    </tr>\n",
       "  </tbody>\n",
       "</table>\n",
       "<p>2 rows × 30 columns</p>\n",
       "</div>"
      ],
      "text/plain": [
       "               Time        V1        V2        V3        V4        V5  \\\n",
       "Class                                                                   \n",
       "0      94838.202258  0.008258 -0.006271  0.012171 -0.007860  0.005453   \n",
       "1      80746.806911 -4.771948  3.623778 -7.033281  4.542029 -3.151225   \n",
       "\n",
       "             V6        V7        V8        V9  ...       V20       V21  \\\n",
       "Class                                          ...                       \n",
       "0      0.002419  0.009637 -0.000987  0.004467  ... -0.000644 -0.001235   \n",
       "1     -1.397737 -5.568731  0.570636 -2.581123  ...  0.372319  0.713588   \n",
       "\n",
       "            V22       V23       V24       V25       V26       V27       V28  \\\n",
       "Class                                                                         \n",
       "0     -0.000024  0.000070  0.000182 -0.000072 -0.000089 -0.000295 -0.000131   \n",
       "1      0.014049 -0.040308 -0.105130  0.041449  0.051648  0.170575  0.075667   \n",
       "\n",
       "           Amount  \n",
       "Class              \n",
       "0       88.291022  \n",
       "1      122.211321  \n",
       "\n",
       "[2 rows x 30 columns]"
      ]
     },
     "execution_count": 11,
     "metadata": {},
     "output_type": "execute_result"
    }
   ],
   "source": [
    "card.groupby('Class').mean()"
   ]
  },
  {
   "cell_type": "code",
   "execution_count": 12,
   "id": "52883dd6",
   "metadata": {
    "execution": {
     "iopub.execute_input": "2024-08-30T14:35:35.797234Z",
     "iopub.status.busy": "2024-08-30T14:35:35.796752Z",
     "iopub.status.idle": "2024-08-30T14:35:35.811099Z",
     "shell.execute_reply": "2024-08-30T14:35:35.809806Z"
    },
    "papermill": {
     "duration": 0.033158,
     "end_time": "2024-08-30T14:35:35.814233",
     "exception": false,
     "start_time": "2024-08-30T14:35:35.781075",
     "status": "completed"
    },
    "tags": []
   },
   "outputs": [
    {
     "data": {
      "text/plain": [
       "count     492.000000\n",
       "mean      122.211321\n",
       "std       256.683288\n",
       "min         0.000000\n",
       "25%         1.000000\n",
       "50%         9.250000\n",
       "75%       105.890000\n",
       "max      2125.870000\n",
       "Name: Amount, dtype: float64"
      ]
     },
     "execution_count": 12,
     "metadata": {},
     "output_type": "execute_result"
    }
   ],
   "source": [
    "fraud.Amount.describe()"
   ]
  },
  {
   "cell_type": "code",
   "execution_count": 13,
   "id": "10cfb8e4",
   "metadata": {
    "execution": {
     "iopub.execute_input": "2024-08-30T14:35:35.845910Z",
     "iopub.status.busy": "2024-08-30T14:35:35.845315Z",
     "iopub.status.idle": "2024-08-30T14:35:35.877628Z",
     "shell.execute_reply": "2024-08-30T14:35:35.875654Z"
    },
    "papermill": {
     "duration": 0.052624,
     "end_time": "2024-08-30T14:35:35.881434",
     "exception": false,
     "start_time": "2024-08-30T14:35:35.828810",
     "status": "completed"
    },
    "tags": []
   },
   "outputs": [
    {
     "data": {
      "text/plain": [
       "count    284315.000000\n",
       "mean         88.291022\n",
       "std         250.105092\n",
       "min           0.000000\n",
       "25%           5.650000\n",
       "50%          22.000000\n",
       "75%          77.050000\n",
       "max       25691.160000\n",
       "Name: Amount, dtype: float64"
      ]
     },
     "execution_count": 13,
     "metadata": {},
     "output_type": "execute_result"
    }
   ],
   "source": [
    "normal.Amount.describe()"
   ]
  },
  {
   "cell_type": "markdown",
   "id": "c5d07053",
   "metadata": {
    "papermill": {
     "duration": 0.01608,
     "end_time": "2024-08-30T14:35:35.913678",
     "exception": false,
     "start_time": "2024-08-30T14:35:35.897598",
     "status": "completed"
    },
    "tags": []
   },
   "source": [
    "## Under-Sampling"
   ]
  },
  {
   "cell_type": "code",
   "execution_count": 14,
   "id": "ce08c023",
   "metadata": {
    "execution": {
     "iopub.execute_input": "2024-08-30T14:35:35.950032Z",
     "iopub.status.busy": "2024-08-30T14:35:35.949517Z",
     "iopub.status.idle": "2024-08-30T14:35:35.968224Z",
     "shell.execute_reply": "2024-08-30T14:35:35.966429Z"
    },
    "papermill": {
     "duration": 0.039419,
     "end_time": "2024-08-30T14:35:35.971407",
     "exception": false,
     "start_time": "2024-08-30T14:35:35.931988",
     "status": "completed"
    },
    "tags": []
   },
   "outputs": [],
   "source": [
    "normal_sample = normal.sample(n=492)"
   ]
  },
  {
   "cell_type": "code",
   "execution_count": 15,
   "id": "253b63e3",
   "metadata": {
    "execution": {
     "iopub.execute_input": "2024-08-30T14:35:36.003686Z",
     "iopub.status.busy": "2024-08-30T14:35:36.002915Z",
     "iopub.status.idle": "2024-08-30T14:35:36.013251Z",
     "shell.execute_reply": "2024-08-30T14:35:36.011242Z"
    },
    "papermill": {
     "duration": 0.031279,
     "end_time": "2024-08-30T14:35:36.017034",
     "exception": false,
     "start_time": "2024-08-30T14:35:35.985755",
     "status": "completed"
    },
    "tags": []
   },
   "outputs": [],
   "source": [
    "new_data = pd.concat([normal_sample, fraud], axis=0)"
   ]
  },
  {
   "cell_type": "code",
   "execution_count": 16,
   "id": "5fb4be39",
   "metadata": {
    "execution": {
     "iopub.execute_input": "2024-08-30T14:35:36.048308Z",
     "iopub.status.busy": "2024-08-30T14:35:36.047782Z",
     "iopub.status.idle": "2024-08-30T14:35:36.081229Z",
     "shell.execute_reply": "2024-08-30T14:35:36.079657Z"
    },
    "papermill": {
     "duration": 0.0526,
     "end_time": "2024-08-30T14:35:36.084498",
     "exception": false,
     "start_time": "2024-08-30T14:35:36.031898",
     "status": "completed"
    },
    "tags": []
   },
   "outputs": [
    {
     "data": {
      "text/html": [
       "<div>\n",
       "<style scoped>\n",
       "    .dataframe tbody tr th:only-of-type {\n",
       "        vertical-align: middle;\n",
       "    }\n",
       "\n",
       "    .dataframe tbody tr th {\n",
       "        vertical-align: top;\n",
       "    }\n",
       "\n",
       "    .dataframe thead th {\n",
       "        text-align: right;\n",
       "    }\n",
       "</style>\n",
       "<table border=\"1\" class=\"dataframe\">\n",
       "  <thead>\n",
       "    <tr style=\"text-align: right;\">\n",
       "      <th></th>\n",
       "      <th>Time</th>\n",
       "      <th>V1</th>\n",
       "      <th>V2</th>\n",
       "      <th>V3</th>\n",
       "      <th>V4</th>\n",
       "      <th>V5</th>\n",
       "      <th>V6</th>\n",
       "      <th>V7</th>\n",
       "      <th>V8</th>\n",
       "      <th>V9</th>\n",
       "      <th>...</th>\n",
       "      <th>V21</th>\n",
       "      <th>V22</th>\n",
       "      <th>V23</th>\n",
       "      <th>V24</th>\n",
       "      <th>V25</th>\n",
       "      <th>V26</th>\n",
       "      <th>V27</th>\n",
       "      <th>V28</th>\n",
       "      <th>Amount</th>\n",
       "      <th>Class</th>\n",
       "    </tr>\n",
       "  </thead>\n",
       "  <tbody>\n",
       "    <tr>\n",
       "      <th>168587</th>\n",
       "      <td>119296.0</td>\n",
       "      <td>0.413211</td>\n",
       "      <td>-0.265398</td>\n",
       "      <td>-0.415074</td>\n",
       "      <td>-0.950615</td>\n",
       "      <td>-0.306553</td>\n",
       "      <td>-0.329632</td>\n",
       "      <td>0.798048</td>\n",
       "      <td>-0.213808</td>\n",
       "      <td>-1.245928</td>\n",
       "      <td>...</td>\n",
       "      <td>0.153886</td>\n",
       "      <td>0.848809</td>\n",
       "      <td>0.158259</td>\n",
       "      <td>-0.331569</td>\n",
       "      <td>-0.241486</td>\n",
       "      <td>-0.075418</td>\n",
       "      <td>0.025819</td>\n",
       "      <td>-0.010146</td>\n",
       "      <td>143.00</td>\n",
       "      <td>0</td>\n",
       "    </tr>\n",
       "    <tr>\n",
       "      <th>144247</th>\n",
       "      <td>85969.0</td>\n",
       "      <td>1.076174</td>\n",
       "      <td>-0.249817</td>\n",
       "      <td>1.201254</td>\n",
       "      <td>1.736929</td>\n",
       "      <td>-0.820663</td>\n",
       "      <td>0.563686</td>\n",
       "      <td>-0.612289</td>\n",
       "      <td>0.350604</td>\n",
       "      <td>1.432945</td>\n",
       "      <td>...</td>\n",
       "      <td>-0.428383</td>\n",
       "      <td>-0.817082</td>\n",
       "      <td>0.097351</td>\n",
       "      <td>0.036085</td>\n",
       "      <td>0.384303</td>\n",
       "      <td>-0.505270</td>\n",
       "      <td>0.083324</td>\n",
       "      <td>0.026284</td>\n",
       "      <td>11.90</td>\n",
       "      <td>0</td>\n",
       "    </tr>\n",
       "    <tr>\n",
       "      <th>256931</th>\n",
       "      <td>157925.0</td>\n",
       "      <td>2.066124</td>\n",
       "      <td>0.149124</td>\n",
       "      <td>-1.694850</td>\n",
       "      <td>0.415536</td>\n",
       "      <td>0.431440</td>\n",
       "      <td>-0.811469</td>\n",
       "      <td>0.166703</td>\n",
       "      <td>-0.208972</td>\n",
       "      <td>0.499039</td>\n",
       "      <td>...</td>\n",
       "      <td>-0.358328</td>\n",
       "      <td>-0.920590</td>\n",
       "      <td>0.350865</td>\n",
       "      <td>0.507043</td>\n",
       "      <td>-0.277817</td>\n",
       "      <td>0.175586</td>\n",
       "      <td>-0.059677</td>\n",
       "      <td>-0.031038</td>\n",
       "      <td>0.89</td>\n",
       "      <td>0</td>\n",
       "    </tr>\n",
       "    <tr>\n",
       "      <th>25334</th>\n",
       "      <td>33565.0</td>\n",
       "      <td>-1.829043</td>\n",
       "      <td>1.724010</td>\n",
       "      <td>1.205678</td>\n",
       "      <td>-0.872747</td>\n",
       "      <td>0.043297</td>\n",
       "      <td>0.302666</td>\n",
       "      <td>0.175006</td>\n",
       "      <td>-3.266219</td>\n",
       "      <td>-0.258880</td>\n",
       "      <td>...</td>\n",
       "      <td>2.604712</td>\n",
       "      <td>-2.148888</td>\n",
       "      <td>0.515509</td>\n",
       "      <td>0.105531</td>\n",
       "      <td>-0.383742</td>\n",
       "      <td>-0.176718</td>\n",
       "      <td>0.172040</td>\n",
       "      <td>-0.050502</td>\n",
       "      <td>55.50</td>\n",
       "      <td>0</td>\n",
       "    </tr>\n",
       "    <tr>\n",
       "      <th>272359</th>\n",
       "      <td>165046.0</td>\n",
       "      <td>2.018292</td>\n",
       "      <td>-0.678091</td>\n",
       "      <td>-0.747837</td>\n",
       "      <td>-0.878156</td>\n",
       "      <td>-0.585353</td>\n",
       "      <td>-0.491568</td>\n",
       "      <td>-0.589270</td>\n",
       "      <td>-0.023394</td>\n",
       "      <td>1.562115</td>\n",
       "      <td>...</td>\n",
       "      <td>-0.187977</td>\n",
       "      <td>-0.556380</td>\n",
       "      <td>0.387007</td>\n",
       "      <td>0.472584</td>\n",
       "      <td>-0.610642</td>\n",
       "      <td>0.315124</td>\n",
       "      <td>-0.053133</td>\n",
       "      <td>-0.037494</td>\n",
       "      <td>37.21</td>\n",
       "      <td>0</td>\n",
       "    </tr>\n",
       "  </tbody>\n",
       "</table>\n",
       "<p>5 rows × 31 columns</p>\n",
       "</div>"
      ],
      "text/plain": [
       "            Time        V1        V2        V3        V4        V5        V6  \\\n",
       "168587  119296.0  0.413211 -0.265398 -0.415074 -0.950615 -0.306553 -0.329632   \n",
       "144247   85969.0  1.076174 -0.249817  1.201254  1.736929 -0.820663  0.563686   \n",
       "256931  157925.0  2.066124  0.149124 -1.694850  0.415536  0.431440 -0.811469   \n",
       "25334    33565.0 -1.829043  1.724010  1.205678 -0.872747  0.043297  0.302666   \n",
       "272359  165046.0  2.018292 -0.678091 -0.747837 -0.878156 -0.585353 -0.491568   \n",
       "\n",
       "              V7        V8        V9  ...       V21       V22       V23  \\\n",
       "168587  0.798048 -0.213808 -1.245928  ...  0.153886  0.848809  0.158259   \n",
       "144247 -0.612289  0.350604  1.432945  ... -0.428383 -0.817082  0.097351   \n",
       "256931  0.166703 -0.208972  0.499039  ... -0.358328 -0.920590  0.350865   \n",
       "25334   0.175006 -3.266219 -0.258880  ...  2.604712 -2.148888  0.515509   \n",
       "272359 -0.589270 -0.023394  1.562115  ... -0.187977 -0.556380  0.387007   \n",
       "\n",
       "             V24       V25       V26       V27       V28  Amount  Class  \n",
       "168587 -0.331569 -0.241486 -0.075418  0.025819 -0.010146  143.00      0  \n",
       "144247  0.036085  0.384303 -0.505270  0.083324  0.026284   11.90      0  \n",
       "256931  0.507043 -0.277817  0.175586 -0.059677 -0.031038    0.89      0  \n",
       "25334   0.105531 -0.383742 -0.176718  0.172040 -0.050502   55.50      0  \n",
       "272359  0.472584 -0.610642  0.315124 -0.053133 -0.037494   37.21      0  \n",
       "\n",
       "[5 rows x 31 columns]"
      ]
     },
     "execution_count": 16,
     "metadata": {},
     "output_type": "execute_result"
    }
   ],
   "source": [
    "new_data.head()"
   ]
  },
  {
   "cell_type": "code",
   "execution_count": 17,
   "id": "4932b3c5",
   "metadata": {
    "execution": {
     "iopub.execute_input": "2024-08-30T14:35:36.119187Z",
     "iopub.status.busy": "2024-08-30T14:35:36.117354Z",
     "iopub.status.idle": "2024-08-30T14:35:36.129767Z",
     "shell.execute_reply": "2024-08-30T14:35:36.128087Z"
    },
    "papermill": {
     "duration": 0.033862,
     "end_time": "2024-08-30T14:35:36.133228",
     "exception": false,
     "start_time": "2024-08-30T14:35:36.099366",
     "status": "completed"
    },
    "tags": []
   },
   "outputs": [
    {
     "data": {
      "text/plain": [
       "Class\n",
       "0    492\n",
       "1    492\n",
       "Name: count, dtype: int64"
      ]
     },
     "execution_count": 17,
     "metadata": {},
     "output_type": "execute_result"
    }
   ],
   "source": [
    "new_data['Class'].value_counts()"
   ]
  },
  {
   "cell_type": "code",
   "execution_count": 18,
   "id": "d3a255b9",
   "metadata": {
    "execution": {
     "iopub.execute_input": "2024-08-30T14:35:36.168973Z",
     "iopub.status.busy": "2024-08-30T14:35:36.168409Z",
     "iopub.status.idle": "2024-08-30T14:35:36.202082Z",
     "shell.execute_reply": "2024-08-30T14:35:36.200786Z"
    },
    "papermill": {
     "duration": 0.056408,
     "end_time": "2024-08-30T14:35:36.205744",
     "exception": false,
     "start_time": "2024-08-30T14:35:36.149336",
     "status": "completed"
    },
    "tags": []
   },
   "outputs": [
    {
     "data": {
      "text/html": [
       "<div>\n",
       "<style scoped>\n",
       "    .dataframe tbody tr th:only-of-type {\n",
       "        vertical-align: middle;\n",
       "    }\n",
       "\n",
       "    .dataframe tbody tr th {\n",
       "        vertical-align: top;\n",
       "    }\n",
       "\n",
       "    .dataframe thead th {\n",
       "        text-align: right;\n",
       "    }\n",
       "</style>\n",
       "<table border=\"1\" class=\"dataframe\">\n",
       "  <thead>\n",
       "    <tr style=\"text-align: right;\">\n",
       "      <th></th>\n",
       "      <th>Time</th>\n",
       "      <th>V1</th>\n",
       "      <th>V2</th>\n",
       "      <th>V3</th>\n",
       "      <th>V4</th>\n",
       "      <th>V5</th>\n",
       "      <th>V6</th>\n",
       "      <th>V7</th>\n",
       "      <th>V8</th>\n",
       "      <th>V9</th>\n",
       "      <th>...</th>\n",
       "      <th>V20</th>\n",
       "      <th>V21</th>\n",
       "      <th>V22</th>\n",
       "      <th>V23</th>\n",
       "      <th>V24</th>\n",
       "      <th>V25</th>\n",
       "      <th>V26</th>\n",
       "      <th>V27</th>\n",
       "      <th>V28</th>\n",
       "      <th>Amount</th>\n",
       "    </tr>\n",
       "    <tr>\n",
       "      <th>Class</th>\n",
       "      <th></th>\n",
       "      <th></th>\n",
       "      <th></th>\n",
       "      <th></th>\n",
       "      <th></th>\n",
       "      <th></th>\n",
       "      <th></th>\n",
       "      <th></th>\n",
       "      <th></th>\n",
       "      <th></th>\n",
       "      <th></th>\n",
       "      <th></th>\n",
       "      <th></th>\n",
       "      <th></th>\n",
       "      <th></th>\n",
       "      <th></th>\n",
       "      <th></th>\n",
       "      <th></th>\n",
       "      <th></th>\n",
       "      <th></th>\n",
       "      <th></th>\n",
       "    </tr>\n",
       "  </thead>\n",
       "  <tbody>\n",
       "    <tr>\n",
       "      <th>0</th>\n",
       "      <td>94520.849593</td>\n",
       "      <td>-0.015478</td>\n",
       "      <td>-0.021094</td>\n",
       "      <td>0.082671</td>\n",
       "      <td>-0.141411</td>\n",
       "      <td>-0.122435</td>\n",
       "      <td>0.023934</td>\n",
       "      <td>0.037200</td>\n",
       "      <td>0.048638</td>\n",
       "      <td>-0.004728</td>\n",
       "      <td>...</td>\n",
       "      <td>-0.006508</td>\n",
       "      <td>0.004087</td>\n",
       "      <td>-0.042795</td>\n",
       "      <td>0.000819</td>\n",
       "      <td>-0.022662</td>\n",
       "      <td>0.035676</td>\n",
       "      <td>-0.001694</td>\n",
       "      <td>0.002893</td>\n",
       "      <td>-0.013616</td>\n",
       "      <td>95.724573</td>\n",
       "    </tr>\n",
       "    <tr>\n",
       "      <th>1</th>\n",
       "      <td>80746.806911</td>\n",
       "      <td>-4.771948</td>\n",
       "      <td>3.623778</td>\n",
       "      <td>-7.033281</td>\n",
       "      <td>4.542029</td>\n",
       "      <td>-3.151225</td>\n",
       "      <td>-1.397737</td>\n",
       "      <td>-5.568731</td>\n",
       "      <td>0.570636</td>\n",
       "      <td>-2.581123</td>\n",
       "      <td>...</td>\n",
       "      <td>0.372319</td>\n",
       "      <td>0.713588</td>\n",
       "      <td>0.014049</td>\n",
       "      <td>-0.040308</td>\n",
       "      <td>-0.105130</td>\n",
       "      <td>0.041449</td>\n",
       "      <td>0.051648</td>\n",
       "      <td>0.170575</td>\n",
       "      <td>0.075667</td>\n",
       "      <td>122.211321</td>\n",
       "    </tr>\n",
       "  </tbody>\n",
       "</table>\n",
       "<p>2 rows × 30 columns</p>\n",
       "</div>"
      ],
      "text/plain": [
       "               Time        V1        V2        V3        V4        V5  \\\n",
       "Class                                                                   \n",
       "0      94520.849593 -0.015478 -0.021094  0.082671 -0.141411 -0.122435   \n",
       "1      80746.806911 -4.771948  3.623778 -7.033281  4.542029 -3.151225   \n",
       "\n",
       "             V6        V7        V8        V9  ...       V20       V21  \\\n",
       "Class                                          ...                       \n",
       "0      0.023934  0.037200  0.048638 -0.004728  ... -0.006508  0.004087   \n",
       "1     -1.397737 -5.568731  0.570636 -2.581123  ...  0.372319  0.713588   \n",
       "\n",
       "            V22       V23       V24       V25       V26       V27       V28  \\\n",
       "Class                                                                         \n",
       "0     -0.042795  0.000819 -0.022662  0.035676 -0.001694  0.002893 -0.013616   \n",
       "1      0.014049 -0.040308 -0.105130  0.041449  0.051648  0.170575  0.075667   \n",
       "\n",
       "           Amount  \n",
       "Class              \n",
       "0       95.724573  \n",
       "1      122.211321  \n",
       "\n",
       "[2 rows x 30 columns]"
      ]
     },
     "execution_count": 18,
     "metadata": {},
     "output_type": "execute_result"
    }
   ],
   "source": [
    "new_data.groupby('Class').mean()"
   ]
  },
  {
   "cell_type": "markdown",
   "id": "8ca1ef12",
   "metadata": {
    "papermill": {
     "duration": 0.014875,
     "end_time": "2024-08-30T14:35:36.236674",
     "exception": false,
     "start_time": "2024-08-30T14:35:36.221799",
     "status": "completed"
    },
    "tags": []
   },
   "source": [
    "## Build Model"
   ]
  },
  {
   "cell_type": "code",
   "execution_count": 19,
   "id": "0297595b",
   "metadata": {
    "execution": {
     "iopub.execute_input": "2024-08-30T14:35:36.270071Z",
     "iopub.status.busy": "2024-08-30T14:35:36.269449Z",
     "iopub.status.idle": "2024-08-30T14:35:36.278167Z",
     "shell.execute_reply": "2024-08-30T14:35:36.276513Z"
    },
    "papermill": {
     "duration": 0.029575,
     "end_time": "2024-08-30T14:35:36.281784",
     "exception": false,
     "start_time": "2024-08-30T14:35:36.252209",
     "status": "completed"
    },
    "tags": []
   },
   "outputs": [],
   "source": [
    "x = new_data.drop(columns='Class', axis=1)\n",
    "y = new_data['Class']"
   ]
  },
  {
   "cell_type": "code",
   "execution_count": 20,
   "id": "3844c011",
   "metadata": {
    "execution": {
     "iopub.execute_input": "2024-08-30T14:35:36.314447Z",
     "iopub.status.busy": "2024-08-30T14:35:36.313987Z",
     "iopub.status.idle": "2024-08-30T14:35:36.355510Z",
     "shell.execute_reply": "2024-08-30T14:35:36.354031Z"
    },
    "papermill": {
     "duration": 0.061162,
     "end_time": "2024-08-30T14:35:36.358370",
     "exception": false,
     "start_time": "2024-08-30T14:35:36.297208",
     "status": "completed"
    },
    "tags": []
   },
   "outputs": [
    {
     "data": {
      "text/html": [
       "<div>\n",
       "<style scoped>\n",
       "    .dataframe tbody tr th:only-of-type {\n",
       "        vertical-align: middle;\n",
       "    }\n",
       "\n",
       "    .dataframe tbody tr th {\n",
       "        vertical-align: top;\n",
       "    }\n",
       "\n",
       "    .dataframe thead th {\n",
       "        text-align: right;\n",
       "    }\n",
       "</style>\n",
       "<table border=\"1\" class=\"dataframe\">\n",
       "  <thead>\n",
       "    <tr style=\"text-align: right;\">\n",
       "      <th></th>\n",
       "      <th>Time</th>\n",
       "      <th>V1</th>\n",
       "      <th>V2</th>\n",
       "      <th>V3</th>\n",
       "      <th>V4</th>\n",
       "      <th>V5</th>\n",
       "      <th>V6</th>\n",
       "      <th>V7</th>\n",
       "      <th>V8</th>\n",
       "      <th>V9</th>\n",
       "      <th>...</th>\n",
       "      <th>V20</th>\n",
       "      <th>V21</th>\n",
       "      <th>V22</th>\n",
       "      <th>V23</th>\n",
       "      <th>V24</th>\n",
       "      <th>V25</th>\n",
       "      <th>V26</th>\n",
       "      <th>V27</th>\n",
       "      <th>V28</th>\n",
       "      <th>Amount</th>\n",
       "    </tr>\n",
       "  </thead>\n",
       "  <tbody>\n",
       "    <tr>\n",
       "      <th>168587</th>\n",
       "      <td>119296.0</td>\n",
       "      <td>0.413211</td>\n",
       "      <td>-0.265398</td>\n",
       "      <td>-0.415074</td>\n",
       "      <td>-0.950615</td>\n",
       "      <td>-0.306553</td>\n",
       "      <td>-0.329632</td>\n",
       "      <td>0.798048</td>\n",
       "      <td>-0.213808</td>\n",
       "      <td>-1.245928</td>\n",
       "      <td>...</td>\n",
       "      <td>-0.232068</td>\n",
       "      <td>0.153886</td>\n",
       "      <td>0.848809</td>\n",
       "      <td>0.158259</td>\n",
       "      <td>-0.331569</td>\n",
       "      <td>-0.241486</td>\n",
       "      <td>-0.075418</td>\n",
       "      <td>0.025819</td>\n",
       "      <td>-0.010146</td>\n",
       "      <td>143.00</td>\n",
       "    </tr>\n",
       "    <tr>\n",
       "      <th>144247</th>\n",
       "      <td>85969.0</td>\n",
       "      <td>1.076174</td>\n",
       "      <td>-0.249817</td>\n",
       "      <td>1.201254</td>\n",
       "      <td>1.736929</td>\n",
       "      <td>-0.820663</td>\n",
       "      <td>0.563686</td>\n",
       "      <td>-0.612289</td>\n",
       "      <td>0.350604</td>\n",
       "      <td>1.432945</td>\n",
       "      <td>...</td>\n",
       "      <td>-0.283828</td>\n",
       "      <td>-0.428383</td>\n",
       "      <td>-0.817082</td>\n",
       "      <td>0.097351</td>\n",
       "      <td>0.036085</td>\n",
       "      <td>0.384303</td>\n",
       "      <td>-0.505270</td>\n",
       "      <td>0.083324</td>\n",
       "      <td>0.026284</td>\n",
       "      <td>11.90</td>\n",
       "    </tr>\n",
       "    <tr>\n",
       "      <th>256931</th>\n",
       "      <td>157925.0</td>\n",
       "      <td>2.066124</td>\n",
       "      <td>0.149124</td>\n",
       "      <td>-1.694850</td>\n",
       "      <td>0.415536</td>\n",
       "      <td>0.431440</td>\n",
       "      <td>-0.811469</td>\n",
       "      <td>0.166703</td>\n",
       "      <td>-0.208972</td>\n",
       "      <td>0.499039</td>\n",
       "      <td>...</td>\n",
       "      <td>-0.168195</td>\n",
       "      <td>-0.358328</td>\n",
       "      <td>-0.920590</td>\n",
       "      <td>0.350865</td>\n",
       "      <td>0.507043</td>\n",
       "      <td>-0.277817</td>\n",
       "      <td>0.175586</td>\n",
       "      <td>-0.059677</td>\n",
       "      <td>-0.031038</td>\n",
       "      <td>0.89</td>\n",
       "    </tr>\n",
       "    <tr>\n",
       "      <th>25334</th>\n",
       "      <td>33565.0</td>\n",
       "      <td>-1.829043</td>\n",
       "      <td>1.724010</td>\n",
       "      <td>1.205678</td>\n",
       "      <td>-0.872747</td>\n",
       "      <td>0.043297</td>\n",
       "      <td>0.302666</td>\n",
       "      <td>0.175006</td>\n",
       "      <td>-3.266219</td>\n",
       "      <td>-0.258880</td>\n",
       "      <td>...</td>\n",
       "      <td>-0.740043</td>\n",
       "      <td>2.604712</td>\n",
       "      <td>-2.148888</td>\n",
       "      <td>0.515509</td>\n",
       "      <td>0.105531</td>\n",
       "      <td>-0.383742</td>\n",
       "      <td>-0.176718</td>\n",
       "      <td>0.172040</td>\n",
       "      <td>-0.050502</td>\n",
       "      <td>55.50</td>\n",
       "    </tr>\n",
       "    <tr>\n",
       "      <th>272359</th>\n",
       "      <td>165046.0</td>\n",
       "      <td>2.018292</td>\n",
       "      <td>-0.678091</td>\n",
       "      <td>-0.747837</td>\n",
       "      <td>-0.878156</td>\n",
       "      <td>-0.585353</td>\n",
       "      <td>-0.491568</td>\n",
       "      <td>-0.589270</td>\n",
       "      <td>-0.023394</td>\n",
       "      <td>1.562115</td>\n",
       "      <td>...</td>\n",
       "      <td>-0.094650</td>\n",
       "      <td>-0.187977</td>\n",
       "      <td>-0.556380</td>\n",
       "      <td>0.387007</td>\n",
       "      <td>0.472584</td>\n",
       "      <td>-0.610642</td>\n",
       "      <td>0.315124</td>\n",
       "      <td>-0.053133</td>\n",
       "      <td>-0.037494</td>\n",
       "      <td>37.21</td>\n",
       "    </tr>\n",
       "    <tr>\n",
       "      <th>...</th>\n",
       "      <td>...</td>\n",
       "      <td>...</td>\n",
       "      <td>...</td>\n",
       "      <td>...</td>\n",
       "      <td>...</td>\n",
       "      <td>...</td>\n",
       "      <td>...</td>\n",
       "      <td>...</td>\n",
       "      <td>...</td>\n",
       "      <td>...</td>\n",
       "      <td>...</td>\n",
       "      <td>...</td>\n",
       "      <td>...</td>\n",
       "      <td>...</td>\n",
       "      <td>...</td>\n",
       "      <td>...</td>\n",
       "      <td>...</td>\n",
       "      <td>...</td>\n",
       "      <td>...</td>\n",
       "      <td>...</td>\n",
       "      <td>...</td>\n",
       "    </tr>\n",
       "    <tr>\n",
       "      <th>279863</th>\n",
       "      <td>169142.0</td>\n",
       "      <td>-1.927883</td>\n",
       "      <td>1.125653</td>\n",
       "      <td>-4.518331</td>\n",
       "      <td>1.749293</td>\n",
       "      <td>-1.566487</td>\n",
       "      <td>-2.010494</td>\n",
       "      <td>-0.882850</td>\n",
       "      <td>0.697211</td>\n",
       "      <td>-2.064945</td>\n",
       "      <td>...</td>\n",
       "      <td>1.252967</td>\n",
       "      <td>0.778584</td>\n",
       "      <td>-0.319189</td>\n",
       "      <td>0.639419</td>\n",
       "      <td>-0.294885</td>\n",
       "      <td>0.537503</td>\n",
       "      <td>0.788395</td>\n",
       "      <td>0.292680</td>\n",
       "      <td>0.147968</td>\n",
       "      <td>390.00</td>\n",
       "    </tr>\n",
       "    <tr>\n",
       "      <th>280143</th>\n",
       "      <td>169347.0</td>\n",
       "      <td>1.378559</td>\n",
       "      <td>1.289381</td>\n",
       "      <td>-5.004247</td>\n",
       "      <td>1.411850</td>\n",
       "      <td>0.442581</td>\n",
       "      <td>-1.326536</td>\n",
       "      <td>-1.413170</td>\n",
       "      <td>0.248525</td>\n",
       "      <td>-1.127396</td>\n",
       "      <td>...</td>\n",
       "      <td>0.226138</td>\n",
       "      <td>0.370612</td>\n",
       "      <td>0.028234</td>\n",
       "      <td>-0.145640</td>\n",
       "      <td>-0.081049</td>\n",
       "      <td>0.521875</td>\n",
       "      <td>0.739467</td>\n",
       "      <td>0.389152</td>\n",
       "      <td>0.186637</td>\n",
       "      <td>0.76</td>\n",
       "    </tr>\n",
       "    <tr>\n",
       "      <th>280149</th>\n",
       "      <td>169351.0</td>\n",
       "      <td>-0.676143</td>\n",
       "      <td>1.126366</td>\n",
       "      <td>-2.213700</td>\n",
       "      <td>0.468308</td>\n",
       "      <td>-1.120541</td>\n",
       "      <td>-0.003346</td>\n",
       "      <td>-2.234739</td>\n",
       "      <td>1.210158</td>\n",
       "      <td>-0.652250</td>\n",
       "      <td>...</td>\n",
       "      <td>0.247968</td>\n",
       "      <td>0.751826</td>\n",
       "      <td>0.834108</td>\n",
       "      <td>0.190944</td>\n",
       "      <td>0.032070</td>\n",
       "      <td>-0.739695</td>\n",
       "      <td>0.471111</td>\n",
       "      <td>0.385107</td>\n",
       "      <td>0.194361</td>\n",
       "      <td>77.89</td>\n",
       "    </tr>\n",
       "    <tr>\n",
       "      <th>281144</th>\n",
       "      <td>169966.0</td>\n",
       "      <td>-3.113832</td>\n",
       "      <td>0.585864</td>\n",
       "      <td>-5.399730</td>\n",
       "      <td>1.817092</td>\n",
       "      <td>-0.840618</td>\n",
       "      <td>-2.943548</td>\n",
       "      <td>-2.208002</td>\n",
       "      <td>1.058733</td>\n",
       "      <td>-1.632333</td>\n",
       "      <td>...</td>\n",
       "      <td>0.306271</td>\n",
       "      <td>0.583276</td>\n",
       "      <td>-0.269209</td>\n",
       "      <td>-0.456108</td>\n",
       "      <td>-0.183659</td>\n",
       "      <td>-0.328168</td>\n",
       "      <td>0.606116</td>\n",
       "      <td>0.884876</td>\n",
       "      <td>-0.253700</td>\n",
       "      <td>245.00</td>\n",
       "    </tr>\n",
       "    <tr>\n",
       "      <th>281674</th>\n",
       "      <td>170348.0</td>\n",
       "      <td>1.991976</td>\n",
       "      <td>0.158476</td>\n",
       "      <td>-2.583441</td>\n",
       "      <td>0.408670</td>\n",
       "      <td>1.151147</td>\n",
       "      <td>-0.096695</td>\n",
       "      <td>0.223050</td>\n",
       "      <td>-0.068384</td>\n",
       "      <td>0.577829</td>\n",
       "      <td>...</td>\n",
       "      <td>-0.017652</td>\n",
       "      <td>-0.164350</td>\n",
       "      <td>-0.295135</td>\n",
       "      <td>-0.072173</td>\n",
       "      <td>-0.450261</td>\n",
       "      <td>0.313267</td>\n",
       "      <td>-0.289617</td>\n",
       "      <td>0.002988</td>\n",
       "      <td>-0.015309</td>\n",
       "      <td>42.53</td>\n",
       "    </tr>\n",
       "  </tbody>\n",
       "</table>\n",
       "<p>984 rows × 30 columns</p>\n",
       "</div>"
      ],
      "text/plain": [
       "            Time        V1        V2        V3        V4        V5        V6  \\\n",
       "168587  119296.0  0.413211 -0.265398 -0.415074 -0.950615 -0.306553 -0.329632   \n",
       "144247   85969.0  1.076174 -0.249817  1.201254  1.736929 -0.820663  0.563686   \n",
       "256931  157925.0  2.066124  0.149124 -1.694850  0.415536  0.431440 -0.811469   \n",
       "25334    33565.0 -1.829043  1.724010  1.205678 -0.872747  0.043297  0.302666   \n",
       "272359  165046.0  2.018292 -0.678091 -0.747837 -0.878156 -0.585353 -0.491568   \n",
       "...          ...       ...       ...       ...       ...       ...       ...   \n",
       "279863  169142.0 -1.927883  1.125653 -4.518331  1.749293 -1.566487 -2.010494   \n",
       "280143  169347.0  1.378559  1.289381 -5.004247  1.411850  0.442581 -1.326536   \n",
       "280149  169351.0 -0.676143  1.126366 -2.213700  0.468308 -1.120541 -0.003346   \n",
       "281144  169966.0 -3.113832  0.585864 -5.399730  1.817092 -0.840618 -2.943548   \n",
       "281674  170348.0  1.991976  0.158476 -2.583441  0.408670  1.151147 -0.096695   \n",
       "\n",
       "              V7        V8        V9  ...       V20       V21       V22  \\\n",
       "168587  0.798048 -0.213808 -1.245928  ... -0.232068  0.153886  0.848809   \n",
       "144247 -0.612289  0.350604  1.432945  ... -0.283828 -0.428383 -0.817082   \n",
       "256931  0.166703 -0.208972  0.499039  ... -0.168195 -0.358328 -0.920590   \n",
       "25334   0.175006 -3.266219 -0.258880  ... -0.740043  2.604712 -2.148888   \n",
       "272359 -0.589270 -0.023394  1.562115  ... -0.094650 -0.187977 -0.556380   \n",
       "...          ...       ...       ...  ...       ...       ...       ...   \n",
       "279863 -0.882850  0.697211 -2.064945  ...  1.252967  0.778584 -0.319189   \n",
       "280143 -1.413170  0.248525 -1.127396  ...  0.226138  0.370612  0.028234   \n",
       "280149 -2.234739  1.210158 -0.652250  ...  0.247968  0.751826  0.834108   \n",
       "281144 -2.208002  1.058733 -1.632333  ...  0.306271  0.583276 -0.269209   \n",
       "281674  0.223050 -0.068384  0.577829  ... -0.017652 -0.164350 -0.295135   \n",
       "\n",
       "             V23       V24       V25       V26       V27       V28  Amount  \n",
       "168587  0.158259 -0.331569 -0.241486 -0.075418  0.025819 -0.010146  143.00  \n",
       "144247  0.097351  0.036085  0.384303 -0.505270  0.083324  0.026284   11.90  \n",
       "256931  0.350865  0.507043 -0.277817  0.175586 -0.059677 -0.031038    0.89  \n",
       "25334   0.515509  0.105531 -0.383742 -0.176718  0.172040 -0.050502   55.50  \n",
       "272359  0.387007  0.472584 -0.610642  0.315124 -0.053133 -0.037494   37.21  \n",
       "...          ...       ...       ...       ...       ...       ...     ...  \n",
       "279863  0.639419 -0.294885  0.537503  0.788395  0.292680  0.147968  390.00  \n",
       "280143 -0.145640 -0.081049  0.521875  0.739467  0.389152  0.186637    0.76  \n",
       "280149  0.190944  0.032070 -0.739695  0.471111  0.385107  0.194361   77.89  \n",
       "281144 -0.456108 -0.183659 -0.328168  0.606116  0.884876 -0.253700  245.00  \n",
       "281674 -0.072173 -0.450261  0.313267 -0.289617  0.002988 -0.015309   42.53  \n",
       "\n",
       "[984 rows x 30 columns]"
      ]
     },
     "execution_count": 20,
     "metadata": {},
     "output_type": "execute_result"
    }
   ],
   "source": [
    "x"
   ]
  },
  {
   "cell_type": "code",
   "execution_count": 21,
   "id": "20552a7f",
   "metadata": {
    "execution": {
     "iopub.execute_input": "2024-08-30T14:35:36.392119Z",
     "iopub.status.busy": "2024-08-30T14:35:36.391670Z",
     "iopub.status.idle": "2024-08-30T14:35:36.402063Z",
     "shell.execute_reply": "2024-08-30T14:35:36.400700Z"
    },
    "papermill": {
     "duration": 0.030514,
     "end_time": "2024-08-30T14:35:36.405087",
     "exception": false,
     "start_time": "2024-08-30T14:35:36.374573",
     "status": "completed"
    },
    "tags": []
   },
   "outputs": [
    {
     "data": {
      "text/plain": [
       "168587    0\n",
       "144247    0\n",
       "256931    0\n",
       "25334     0\n",
       "272359    0\n",
       "         ..\n",
       "279863    1\n",
       "280143    1\n",
       "280149    1\n",
       "281144    1\n",
       "281674    1\n",
       "Name: Class, Length: 984, dtype: int64"
      ]
     },
     "execution_count": 21,
     "metadata": {},
     "output_type": "execute_result"
    }
   ],
   "source": [
    "y"
   ]
  },
  {
   "cell_type": "code",
   "execution_count": 22,
   "id": "6881aeb4",
   "metadata": {
    "execution": {
     "iopub.execute_input": "2024-08-30T14:35:36.440607Z",
     "iopub.status.busy": "2024-08-30T14:35:36.440012Z",
     "iopub.status.idle": "2024-08-30T14:35:36.450272Z",
     "shell.execute_reply": "2024-08-30T14:35:36.448977Z"
    },
    "papermill": {
     "duration": 0.03159,
     "end_time": "2024-08-30T14:35:36.453568",
     "exception": false,
     "start_time": "2024-08-30T14:35:36.421978",
     "status": "completed"
    },
    "tags": []
   },
   "outputs": [],
   "source": [
    "x_train, x_test, y_train, y_test = train_test_split(x,y, test_size=0.2, random_state=11)"
   ]
  },
  {
   "cell_type": "code",
   "execution_count": 23,
   "id": "15e39614",
   "metadata": {
    "execution": {
     "iopub.execute_input": "2024-08-30T14:35:36.487225Z",
     "iopub.status.busy": "2024-08-30T14:35:36.486754Z",
     "iopub.status.idle": "2024-08-30T14:35:36.493183Z",
     "shell.execute_reply": "2024-08-30T14:35:36.491653Z"
    },
    "papermill": {
     "duration": 0.02792,
     "end_time": "2024-08-30T14:35:36.497309",
     "exception": false,
     "start_time": "2024-08-30T14:35:36.469389",
     "status": "completed"
    },
    "tags": []
   },
   "outputs": [],
   "source": [
    "model = LogisticRegression()"
   ]
  },
  {
   "cell_type": "code",
   "execution_count": 24,
   "id": "cee4a11e",
   "metadata": {
    "execution": {
     "iopub.execute_input": "2024-08-30T14:35:36.530810Z",
     "iopub.status.busy": "2024-08-30T14:35:36.530247Z",
     "iopub.status.idle": "2024-08-30T14:35:36.588467Z",
     "shell.execute_reply": "2024-08-30T14:35:36.586962Z"
    },
    "papermill": {
     "duration": 0.080602,
     "end_time": "2024-08-30T14:35:36.593625",
     "exception": false,
     "start_time": "2024-08-30T14:35:36.513023",
     "status": "completed"
    },
    "tags": []
   },
   "outputs": [
    {
     "data": {
      "text/html": [
       "<style>#sk-container-id-1 {color: black;background-color: white;}#sk-container-id-1 pre{padding: 0;}#sk-container-id-1 div.sk-toggleable {background-color: white;}#sk-container-id-1 label.sk-toggleable__label {cursor: pointer;display: block;width: 100%;margin-bottom: 0;padding: 0.3em;box-sizing: border-box;text-align: center;}#sk-container-id-1 label.sk-toggleable__label-arrow:before {content: \"▸\";float: left;margin-right: 0.25em;color: #696969;}#sk-container-id-1 label.sk-toggleable__label-arrow:hover:before {color: black;}#sk-container-id-1 div.sk-estimator:hover label.sk-toggleable__label-arrow:before {color: black;}#sk-container-id-1 div.sk-toggleable__content {max-height: 0;max-width: 0;overflow: hidden;text-align: left;background-color: #f0f8ff;}#sk-container-id-1 div.sk-toggleable__content pre {margin: 0.2em;color: black;border-radius: 0.25em;background-color: #f0f8ff;}#sk-container-id-1 input.sk-toggleable__control:checked~div.sk-toggleable__content {max-height: 200px;max-width: 100%;overflow: auto;}#sk-container-id-1 input.sk-toggleable__control:checked~label.sk-toggleable__label-arrow:before {content: \"▾\";}#sk-container-id-1 div.sk-estimator input.sk-toggleable__control:checked~label.sk-toggleable__label {background-color: #d4ebff;}#sk-container-id-1 div.sk-label input.sk-toggleable__control:checked~label.sk-toggleable__label {background-color: #d4ebff;}#sk-container-id-1 input.sk-hidden--visually {border: 0;clip: rect(1px 1px 1px 1px);clip: rect(1px, 1px, 1px, 1px);height: 1px;margin: -1px;overflow: hidden;padding: 0;position: absolute;width: 1px;}#sk-container-id-1 div.sk-estimator {font-family: monospace;background-color: #f0f8ff;border: 1px dotted black;border-radius: 0.25em;box-sizing: border-box;margin-bottom: 0.5em;}#sk-container-id-1 div.sk-estimator:hover {background-color: #d4ebff;}#sk-container-id-1 div.sk-parallel-item::after {content: \"\";width: 100%;border-bottom: 1px solid gray;flex-grow: 1;}#sk-container-id-1 div.sk-label:hover label.sk-toggleable__label {background-color: #d4ebff;}#sk-container-id-1 div.sk-serial::before {content: \"\";position: absolute;border-left: 1px solid gray;box-sizing: border-box;top: 0;bottom: 0;left: 50%;z-index: 0;}#sk-container-id-1 div.sk-serial {display: flex;flex-direction: column;align-items: center;background-color: white;padding-right: 0.2em;padding-left: 0.2em;position: relative;}#sk-container-id-1 div.sk-item {position: relative;z-index: 1;}#sk-container-id-1 div.sk-parallel {display: flex;align-items: stretch;justify-content: center;background-color: white;position: relative;}#sk-container-id-1 div.sk-item::before, #sk-container-id-1 div.sk-parallel-item::before {content: \"\";position: absolute;border-left: 1px solid gray;box-sizing: border-box;top: 0;bottom: 0;left: 50%;z-index: -1;}#sk-container-id-1 div.sk-parallel-item {display: flex;flex-direction: column;z-index: 1;position: relative;background-color: white;}#sk-container-id-1 div.sk-parallel-item:first-child::after {align-self: flex-end;width: 50%;}#sk-container-id-1 div.sk-parallel-item:last-child::after {align-self: flex-start;width: 50%;}#sk-container-id-1 div.sk-parallel-item:only-child::after {width: 0;}#sk-container-id-1 div.sk-dashed-wrapped {border: 1px dashed gray;margin: 0 0.4em 0.5em 0.4em;box-sizing: border-box;padding-bottom: 0.4em;background-color: white;}#sk-container-id-1 div.sk-label label {font-family: monospace;font-weight: bold;display: inline-block;line-height: 1.2em;}#sk-container-id-1 div.sk-label-container {text-align: center;}#sk-container-id-1 div.sk-container {/* jupyter's `normalize.less` sets `[hidden] { display: none; }` but bootstrap.min.css set `[hidden] { display: none !important; }` so we also need the `!important` here to be able to override the default hidden behavior on the sphinx rendered scikit-learn.org. See: https://github.com/scikit-learn/scikit-learn/issues/21755 */display: inline-block !important;position: relative;}#sk-container-id-1 div.sk-text-repr-fallback {display: none;}</style><div id=\"sk-container-id-1\" class=\"sk-top-container\"><div class=\"sk-text-repr-fallback\"><pre>LogisticRegression()</pre><b>In a Jupyter environment, please rerun this cell to show the HTML representation or trust the notebook. <br />On GitHub, the HTML representation is unable to render, please try loading this page with nbviewer.org.</b></div><div class=\"sk-container\" hidden><div class=\"sk-item\"><div class=\"sk-estimator sk-toggleable\"><input class=\"sk-toggleable__control sk-hidden--visually\" id=\"sk-estimator-id-1\" type=\"checkbox\" checked><label for=\"sk-estimator-id-1\" class=\"sk-toggleable__label sk-toggleable__label-arrow\">LogisticRegression</label><div class=\"sk-toggleable__content\"><pre>LogisticRegression()</pre></div></div></div></div></div>"
      ],
      "text/plain": [
       "LogisticRegression()"
      ]
     },
     "execution_count": 24,
     "metadata": {},
     "output_type": "execute_result"
    }
   ],
   "source": [
    "model.fit(x_train, y_train)"
   ]
  },
  {
   "cell_type": "code",
   "execution_count": 25,
   "id": "032d5539",
   "metadata": {
    "execution": {
     "iopub.execute_input": "2024-08-30T14:35:36.669692Z",
     "iopub.status.busy": "2024-08-30T14:35:36.667226Z",
     "iopub.status.idle": "2024-08-30T14:35:36.688930Z",
     "shell.execute_reply": "2024-08-30T14:35:36.686971Z"
    },
    "papermill": {
     "duration": 0.064769,
     "end_time": "2024-08-30T14:35:36.693408",
     "exception": false,
     "start_time": "2024-08-30T14:35:36.628639",
     "status": "completed"
    },
    "tags": []
   },
   "outputs": [],
   "source": [
    "train_prediction = model.predict(x_train)\n",
    "training_accuracy = accuracy_score(train_prediction, y_train)"
   ]
  },
  {
   "cell_type": "code",
   "execution_count": 26,
   "id": "7ad396a0",
   "metadata": {
    "execution": {
     "iopub.execute_input": "2024-08-30T14:35:36.766447Z",
     "iopub.status.busy": "2024-08-30T14:35:36.765664Z",
     "iopub.status.idle": "2024-08-30T14:35:36.776337Z",
     "shell.execute_reply": "2024-08-30T14:35:36.775073Z"
    },
    "papermill": {
     "duration": 0.053022,
     "end_time": "2024-08-30T14:35:36.783027",
     "exception": false,
     "start_time": "2024-08-30T14:35:36.730005",
     "status": "completed"
    },
    "tags": []
   },
   "outputs": [
    {
     "data": {
      "text/plain": [
       "0.9199491740787802"
      ]
     },
     "execution_count": 26,
     "metadata": {},
     "output_type": "execute_result"
    }
   ],
   "source": [
    "training_accuracy"
   ]
  },
  {
   "cell_type": "code",
   "execution_count": 27,
   "id": "a747bcf8",
   "metadata": {
    "execution": {
     "iopub.execute_input": "2024-08-30T14:35:36.830280Z",
     "iopub.status.busy": "2024-08-30T14:35:36.829854Z",
     "iopub.status.idle": "2024-08-30T14:35:36.840613Z",
     "shell.execute_reply": "2024-08-30T14:35:36.839131Z"
    },
    "papermill": {
     "duration": 0.033425,
     "end_time": "2024-08-30T14:35:36.844271",
     "exception": false,
     "start_time": "2024-08-30T14:35:36.810846",
     "status": "completed"
    },
    "tags": []
   },
   "outputs": [],
   "source": [
    "test_prediction = model.predict(x_test)\n",
    "testing_accuracy = accuracy_score(test_prediction, y_test)"
   ]
  },
  {
   "cell_type": "code",
   "execution_count": 28,
   "id": "f24cacd6",
   "metadata": {
    "execution": {
     "iopub.execute_input": "2024-08-30T14:35:36.880342Z",
     "iopub.status.busy": "2024-08-30T14:35:36.879893Z",
     "iopub.status.idle": "2024-08-30T14:35:36.889337Z",
     "shell.execute_reply": "2024-08-30T14:35:36.887647Z"
    },
    "papermill": {
     "duration": 0.031996,
     "end_time": "2024-08-30T14:35:36.892871",
     "exception": false,
     "start_time": "2024-08-30T14:35:36.860875",
     "status": "completed"
    },
    "tags": []
   },
   "outputs": [
    {
     "data": {
      "text/plain": [
       "0.9238578680203046"
      ]
     },
     "execution_count": 28,
     "metadata": {},
     "output_type": "execute_result"
    }
   ],
   "source": [
    "testing_accuracy"
   ]
  },
  {
   "cell_type": "code",
   "execution_count": null,
   "id": "20eb044e",
   "metadata": {
    "papermill": {
     "duration": 0.016165,
     "end_time": "2024-08-30T14:35:36.926871",
     "exception": false,
     "start_time": "2024-08-30T14:35:36.910706",
     "status": "completed"
    },
    "tags": []
   },
   "outputs": [],
   "source": []
  }
 ],
 "metadata": {
  "kaggle": {
   "accelerator": "none",
   "dataSources": [
    {
     "datasetId": 310,
     "sourceId": 23498,
     "sourceType": "datasetVersion"
    }
   ],
   "dockerImageVersionId": 30761,
   "isGpuEnabled": false,
   "isInternetEnabled": true,
   "language": "python",
   "sourceType": "notebook"
  },
  "kernelspec": {
   "display_name": "Python 3",
   "language": "python",
   "name": "python3"
  },
  "language_info": {
   "codemirror_mode": {
    "name": "ipython",
    "version": 3
   },
   "file_extension": ".py",
   "mimetype": "text/x-python",
   "name": "python",
   "nbconvert_exporter": "python",
   "pygments_lexer": "ipython3",
   "version": "3.10.14"
  },
  "papermill": {
   "default_parameters": {},
   "duration": 16.372513,
   "end_time": "2024-08-30T14:35:37.772391",
   "environment_variables": {},
   "exception": null,
   "input_path": "__notebook__.ipynb",
   "output_path": "__notebook__.ipynb",
   "parameters": {},
   "start_time": "2024-08-30T14:35:21.399878",
   "version": "2.6.0"
  }
 },
 "nbformat": 4,
 "nbformat_minor": 5
}
