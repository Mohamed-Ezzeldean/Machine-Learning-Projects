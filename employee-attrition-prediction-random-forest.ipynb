{
 "cells": [
  {
   "cell_type": "markdown",
   "id": "0ba290ad",
   "metadata": {
    "papermill": {
     "duration": 0.011795,
     "end_time": "2024-08-31T16:11:36.163324",
     "exception": false,
     "start_time": "2024-08-31T16:11:36.151529",
     "status": "completed"
    },
    "tags": []
   },
   "source": [
    "## import libraries"
   ]
  },
  {
   "cell_type": "code",
   "execution_count": 1,
   "id": "77c6129d",
   "metadata": {
    "execution": {
     "iopub.execute_input": "2024-08-31T16:11:36.186896Z",
     "iopub.status.busy": "2024-08-31T16:11:36.186463Z",
     "iopub.status.idle": "2024-08-31T16:11:38.531681Z",
     "shell.execute_reply": "2024-08-31T16:11:38.530656Z"
    },
    "papermill": {
     "duration": 2.360131,
     "end_time": "2024-08-31T16:11:38.534389",
     "exception": false,
     "start_time": "2024-08-31T16:11:36.174258",
     "status": "completed"
    },
    "tags": []
   },
   "outputs": [],
   "source": [
    "import numpy as np\n",
    "import pandas as pd \n",
    "import seaborn as sns \n",
    "import matplotlib.pyplot as plt\n",
    "%matplotlib inline\n",
    "from sklearn.model_selection import train_test_split\n",
    "from sklearn.ensemble import RandomForestClassifier\n",
    "from sklearn.metrics import classification_report,accuracy_score\n",
    "from sklearn.metrics import confusion_matrix"
   ]
  },
  {
   "cell_type": "markdown",
   "id": "9aa7231a",
   "metadata": {
    "papermill": {
     "duration": 0.011118,
     "end_time": "2024-08-31T16:11:38.556707",
     "exception": false,
     "start_time": "2024-08-31T16:11:38.545589",
     "status": "completed"
    },
    "tags": []
   },
   "source": [
    "## load data and get info"
   ]
  },
  {
   "cell_type": "code",
   "execution_count": 2,
   "id": "c82fc134",
   "metadata": {
    "execution": {
     "iopub.execute_input": "2024-08-31T16:11:38.580982Z",
     "iopub.status.busy": "2024-08-31T16:11:38.580403Z",
     "iopub.status.idle": "2024-08-31T16:11:38.617093Z",
     "shell.execute_reply": "2024-08-31T16:11:38.616040Z"
    },
    "papermill": {
     "duration": 0.051606,
     "end_time": "2024-08-31T16:11:38.619495",
     "exception": false,
     "start_time": "2024-08-31T16:11:38.567889",
     "status": "completed"
    },
    "tags": []
   },
   "outputs": [],
   "source": [
    "employee=pd.read_csv('/kaggle/input/employee-attrition/Dataset01-Employee_Attrition.csv')"
   ]
  },
  {
   "cell_type": "code",
   "execution_count": 3,
   "id": "4fb5b705",
   "metadata": {
    "execution": {
     "iopub.execute_input": "2024-08-31T16:11:38.643560Z",
     "iopub.status.busy": "2024-08-31T16:11:38.642758Z",
     "iopub.status.idle": "2024-08-31T16:11:38.666905Z",
     "shell.execute_reply": "2024-08-31T16:11:38.665909Z"
    },
    "papermill": {
     "duration": 0.038693,
     "end_time": "2024-08-31T16:11:38.669384",
     "exception": false,
     "start_time": "2024-08-31T16:11:38.630691",
     "status": "completed"
    },
    "tags": []
   },
   "outputs": [
    {
     "data": {
      "text/html": [
       "<div>\n",
       "<style scoped>\n",
       "    .dataframe tbody tr th:only-of-type {\n",
       "        vertical-align: middle;\n",
       "    }\n",
       "\n",
       "    .dataframe tbody tr th {\n",
       "        vertical-align: top;\n",
       "    }\n",
       "\n",
       "    .dataframe thead th {\n",
       "        text-align: right;\n",
       "    }\n",
       "</style>\n",
       "<table border=\"1\" class=\"dataframe\">\n",
       "  <thead>\n",
       "    <tr style=\"text-align: right;\">\n",
       "      <th></th>\n",
       "      <th>satisfaction_level</th>\n",
       "      <th>last_evaluation</th>\n",
       "      <th>number_project</th>\n",
       "      <th>average_montly_hours</th>\n",
       "      <th>time_spend_company</th>\n",
       "      <th>Work_accident</th>\n",
       "      <th>left</th>\n",
       "      <th>promotion_last_5years</th>\n",
       "      <th>Department</th>\n",
       "      <th>salary</th>\n",
       "    </tr>\n",
       "  </thead>\n",
       "  <tbody>\n",
       "    <tr>\n",
       "      <th>0</th>\n",
       "      <td>0.38</td>\n",
       "      <td>0.53</td>\n",
       "      <td>2</td>\n",
       "      <td>157</td>\n",
       "      <td>3</td>\n",
       "      <td>0</td>\n",
       "      <td>1</td>\n",
       "      <td>0</td>\n",
       "      <td>sales</td>\n",
       "      <td>low</td>\n",
       "    </tr>\n",
       "    <tr>\n",
       "      <th>1</th>\n",
       "      <td>0.80</td>\n",
       "      <td>0.86</td>\n",
       "      <td>5</td>\n",
       "      <td>262</td>\n",
       "      <td>6</td>\n",
       "      <td>0</td>\n",
       "      <td>1</td>\n",
       "      <td>0</td>\n",
       "      <td>sales</td>\n",
       "      <td>medium</td>\n",
       "    </tr>\n",
       "    <tr>\n",
       "      <th>2</th>\n",
       "      <td>0.11</td>\n",
       "      <td>0.88</td>\n",
       "      <td>7</td>\n",
       "      <td>272</td>\n",
       "      <td>4</td>\n",
       "      <td>0</td>\n",
       "      <td>1</td>\n",
       "      <td>0</td>\n",
       "      <td>sales</td>\n",
       "      <td>medium</td>\n",
       "    </tr>\n",
       "    <tr>\n",
       "      <th>3</th>\n",
       "      <td>0.72</td>\n",
       "      <td>0.87</td>\n",
       "      <td>5</td>\n",
       "      <td>223</td>\n",
       "      <td>5</td>\n",
       "      <td>0</td>\n",
       "      <td>1</td>\n",
       "      <td>0</td>\n",
       "      <td>sales</td>\n",
       "      <td>low</td>\n",
       "    </tr>\n",
       "    <tr>\n",
       "      <th>4</th>\n",
       "      <td>0.37</td>\n",
       "      <td>0.52</td>\n",
       "      <td>2</td>\n",
       "      <td>159</td>\n",
       "      <td>3</td>\n",
       "      <td>0</td>\n",
       "      <td>1</td>\n",
       "      <td>0</td>\n",
       "      <td>sales</td>\n",
       "      <td>low</td>\n",
       "    </tr>\n",
       "  </tbody>\n",
       "</table>\n",
       "</div>"
      ],
      "text/plain": [
       "   satisfaction_level  last_evaluation  number_project  average_montly_hours  \\\n",
       "0                0.38             0.53               2                   157   \n",
       "1                0.80             0.86               5                   262   \n",
       "2                0.11             0.88               7                   272   \n",
       "3                0.72             0.87               5                   223   \n",
       "4                0.37             0.52               2                   159   \n",
       "\n",
       "   time_spend_company  Work_accident  left  promotion_last_5years Department  \\\n",
       "0                   3              0     1                      0      sales   \n",
       "1                   6              0     1                      0      sales   \n",
       "2                   4              0     1                      0      sales   \n",
       "3                   5              0     1                      0      sales   \n",
       "4                   3              0     1                      0      sales   \n",
       "\n",
       "   salary  \n",
       "0     low  \n",
       "1  medium  \n",
       "2  medium  \n",
       "3     low  \n",
       "4     low  "
      ]
     },
     "execution_count": 3,
     "metadata": {},
     "output_type": "execute_result"
    }
   ],
   "source": [
    "employee.head()"
   ]
  },
  {
   "cell_type": "code",
   "execution_count": 4,
   "id": "b0e8221b",
   "metadata": {
    "execution": {
     "iopub.execute_input": "2024-08-31T16:11:38.694863Z",
     "iopub.status.busy": "2024-08-31T16:11:38.694468Z",
     "iopub.status.idle": "2024-08-31T16:11:38.701052Z",
     "shell.execute_reply": "2024-08-31T16:11:38.700107Z"
    },
    "papermill": {
     "duration": 0.02227,
     "end_time": "2024-08-31T16:11:38.703181",
     "exception": false,
     "start_time": "2024-08-31T16:11:38.680911",
     "status": "completed"
    },
    "tags": []
   },
   "outputs": [
    {
     "data": {
      "text/plain": [
       "(14999, 10)"
      ]
     },
     "execution_count": 4,
     "metadata": {},
     "output_type": "execute_result"
    }
   ],
   "source": [
    "employee.shape"
   ]
  },
  {
   "cell_type": "code",
   "execution_count": 5,
   "id": "d7c4adfa",
   "metadata": {
    "execution": {
     "iopub.execute_input": "2024-08-31T16:11:38.727836Z",
     "iopub.status.busy": "2024-08-31T16:11:38.726907Z",
     "iopub.status.idle": "2024-08-31T16:11:38.751394Z",
     "shell.execute_reply": "2024-08-31T16:11:38.750240Z"
    },
    "papermill": {
     "duration": 0.039261,
     "end_time": "2024-08-31T16:11:38.753772",
     "exception": false,
     "start_time": "2024-08-31T16:11:38.714511",
     "status": "completed"
    },
    "tags": []
   },
   "outputs": [
    {
     "name": "stdout",
     "output_type": "stream",
     "text": [
      "<class 'pandas.core.frame.DataFrame'>\n",
      "RangeIndex: 14999 entries, 0 to 14998\n",
      "Data columns (total 10 columns):\n",
      " #   Column                 Non-Null Count  Dtype  \n",
      "---  ------                 --------------  -----  \n",
      " 0   satisfaction_level     14999 non-null  float64\n",
      " 1   last_evaluation        14999 non-null  float64\n",
      " 2   number_project         14999 non-null  int64  \n",
      " 3   average_montly_hours   14999 non-null  int64  \n",
      " 4   time_spend_company     14999 non-null  int64  \n",
      " 5   Work_accident          14999 non-null  int64  \n",
      " 6   left                   14999 non-null  int64  \n",
      " 7   promotion_last_5years  14999 non-null  int64  \n",
      " 8   Department             14999 non-null  object \n",
      " 9   salary                 14999 non-null  object \n",
      "dtypes: float64(2), int64(6), object(2)\n",
      "memory usage: 1.1+ MB\n"
     ]
    }
   ],
   "source": [
    "employee.info()"
   ]
  },
  {
   "cell_type": "code",
   "execution_count": 6,
   "id": "4a2330f6",
   "metadata": {
    "execution": {
     "iopub.execute_input": "2024-08-31T16:11:38.778173Z",
     "iopub.status.busy": "2024-08-31T16:11:38.777779Z",
     "iopub.status.idle": "2024-08-31T16:11:38.791441Z",
     "shell.execute_reply": "2024-08-31T16:11:38.790387Z"
    },
    "papermill": {
     "duration": 0.0284,
     "end_time": "2024-08-31T16:11:38.793596",
     "exception": false,
     "start_time": "2024-08-31T16:11:38.765196",
     "status": "completed"
    },
    "tags": []
   },
   "outputs": [
    {
     "data": {
      "text/html": [
       "<div>\n",
       "<style scoped>\n",
       "    .dataframe tbody tr th:only-of-type {\n",
       "        vertical-align: middle;\n",
       "    }\n",
       "\n",
       "    .dataframe tbody tr th {\n",
       "        vertical-align: top;\n",
       "    }\n",
       "\n",
       "    .dataframe thead th {\n",
       "        text-align: right;\n",
       "    }\n",
       "</style>\n",
       "<table border=\"1\" class=\"dataframe\">\n",
       "  <thead>\n",
       "    <tr style=\"text-align: right;\">\n",
       "      <th></th>\n",
       "      <th>satisfaction_level</th>\n",
       "      <th>last_evaluation</th>\n",
       "      <th>number_project</th>\n",
       "      <th>average_montly_hours</th>\n",
       "      <th>time_spend_company</th>\n",
       "      <th>Work_accident</th>\n",
       "      <th>left</th>\n",
       "      <th>promotion_last_5years</th>\n",
       "      <th>Department</th>\n",
       "      <th>salary</th>\n",
       "    </tr>\n",
       "  </thead>\n",
       "  <tbody>\n",
       "    <tr>\n",
       "      <th>14994</th>\n",
       "      <td>0.40</td>\n",
       "      <td>0.57</td>\n",
       "      <td>2</td>\n",
       "      <td>151</td>\n",
       "      <td>3</td>\n",
       "      <td>0</td>\n",
       "      <td>1</td>\n",
       "      <td>0</td>\n",
       "      <td>support</td>\n",
       "      <td>low</td>\n",
       "    </tr>\n",
       "    <tr>\n",
       "      <th>14995</th>\n",
       "      <td>0.37</td>\n",
       "      <td>0.48</td>\n",
       "      <td>2</td>\n",
       "      <td>160</td>\n",
       "      <td>3</td>\n",
       "      <td>0</td>\n",
       "      <td>1</td>\n",
       "      <td>0</td>\n",
       "      <td>support</td>\n",
       "      <td>low</td>\n",
       "    </tr>\n",
       "    <tr>\n",
       "      <th>14996</th>\n",
       "      <td>0.37</td>\n",
       "      <td>0.53</td>\n",
       "      <td>2</td>\n",
       "      <td>143</td>\n",
       "      <td>3</td>\n",
       "      <td>0</td>\n",
       "      <td>1</td>\n",
       "      <td>0</td>\n",
       "      <td>support</td>\n",
       "      <td>low</td>\n",
       "    </tr>\n",
       "    <tr>\n",
       "      <th>14997</th>\n",
       "      <td>0.11</td>\n",
       "      <td>0.96</td>\n",
       "      <td>6</td>\n",
       "      <td>280</td>\n",
       "      <td>4</td>\n",
       "      <td>0</td>\n",
       "      <td>1</td>\n",
       "      <td>0</td>\n",
       "      <td>support</td>\n",
       "      <td>low</td>\n",
       "    </tr>\n",
       "    <tr>\n",
       "      <th>14998</th>\n",
       "      <td>0.37</td>\n",
       "      <td>0.52</td>\n",
       "      <td>2</td>\n",
       "      <td>158</td>\n",
       "      <td>3</td>\n",
       "      <td>0</td>\n",
       "      <td>1</td>\n",
       "      <td>0</td>\n",
       "      <td>support</td>\n",
       "      <td>low</td>\n",
       "    </tr>\n",
       "  </tbody>\n",
       "</table>\n",
       "</div>"
      ],
      "text/plain": [
       "       satisfaction_level  last_evaluation  number_project  \\\n",
       "14994                0.40             0.57               2   \n",
       "14995                0.37             0.48               2   \n",
       "14996                0.37             0.53               2   \n",
       "14997                0.11             0.96               6   \n",
       "14998                0.37             0.52               2   \n",
       "\n",
       "       average_montly_hours  time_spend_company  Work_accident  left  \\\n",
       "14994                   151                   3              0     1   \n",
       "14995                   160                   3              0     1   \n",
       "14996                   143                   3              0     1   \n",
       "14997                   280                   4              0     1   \n",
       "14998                   158                   3              0     1   \n",
       "\n",
       "       promotion_last_5years Department salary  \n",
       "14994                      0    support    low  \n",
       "14995                      0    support    low  \n",
       "14996                      0    support    low  \n",
       "14997                      0    support    low  \n",
       "14998                      0    support    low  "
      ]
     },
     "execution_count": 6,
     "metadata": {},
     "output_type": "execute_result"
    }
   ],
   "source": [
    "employee.tail()"
   ]
  },
  {
   "cell_type": "code",
   "execution_count": 7,
   "id": "b683fd67",
   "metadata": {
    "execution": {
     "iopub.execute_input": "2024-08-31T16:11:38.819141Z",
     "iopub.status.busy": "2024-08-31T16:11:38.818183Z",
     "iopub.status.idle": "2024-08-31T16:11:38.828342Z",
     "shell.execute_reply": "2024-08-31T16:11:38.827114Z"
    },
    "papermill": {
     "duration": 0.025212,
     "end_time": "2024-08-31T16:11:38.830440",
     "exception": false,
     "start_time": "2024-08-31T16:11:38.805228",
     "status": "completed"
    },
    "tags": []
   },
   "outputs": [
    {
     "data": {
      "text/plain": [
       "satisfaction_level       0\n",
       "last_evaluation          0\n",
       "number_project           0\n",
       "average_montly_hours     0\n",
       "time_spend_company       0\n",
       "Work_accident            0\n",
       "left                     0\n",
       "promotion_last_5years    0\n",
       "Department               0\n",
       "salary                   0\n",
       "dtype: int64"
      ]
     },
     "execution_count": 7,
     "metadata": {},
     "output_type": "execute_result"
    }
   ],
   "source": [
    "employee.isna().sum()"
   ]
  },
  {
   "cell_type": "code",
   "execution_count": 8,
   "id": "c509ad9f",
   "metadata": {
    "execution": {
     "iopub.execute_input": "2024-08-31T16:11:38.856425Z",
     "iopub.status.busy": "2024-08-31T16:11:38.856000Z",
     "iopub.status.idle": "2024-08-31T16:11:38.867872Z",
     "shell.execute_reply": "2024-08-31T16:11:38.866855Z"
    },
    "papermill": {
     "duration": 0.027309,
     "end_time": "2024-08-31T16:11:38.869944",
     "exception": false,
     "start_time": "2024-08-31T16:11:38.842635",
     "status": "completed"
    },
    "tags": []
   },
   "outputs": [
    {
     "data": {
      "text/plain": [
       "3008"
      ]
     },
     "execution_count": 8,
     "metadata": {},
     "output_type": "execute_result"
    }
   ],
   "source": [
    "employee.duplicated().sum()"
   ]
  },
  {
   "cell_type": "code",
   "execution_count": 9,
   "id": "556c1473",
   "metadata": {
    "execution": {
     "iopub.execute_input": "2024-08-31T16:11:38.895714Z",
     "iopub.status.busy": "2024-08-31T16:11:38.894847Z",
     "iopub.status.idle": "2024-08-31T16:11:38.901494Z",
     "shell.execute_reply": "2024-08-31T16:11:38.900520Z"
    },
    "papermill": {
     "duration": 0.021836,
     "end_time": "2024-08-31T16:11:38.903522",
     "exception": false,
     "start_time": "2024-08-31T16:11:38.881686",
     "status": "completed"
    },
    "tags": []
   },
   "outputs": [
    {
     "data": {
      "text/plain": [
       "Index(['satisfaction_level', 'last_evaluation', 'number_project',\n",
       "       'average_montly_hours', 'time_spend_company', 'Work_accident', 'left',\n",
       "       'promotion_last_5years', 'Department', 'salary'],\n",
       "      dtype='object')"
      ]
     },
     "execution_count": 9,
     "metadata": {},
     "output_type": "execute_result"
    }
   ],
   "source": [
    "employee.columns"
   ]
  },
  {
   "cell_type": "markdown",
   "id": "724010f0",
   "metadata": {
    "papermill": {
     "duration": 0.011572,
     "end_time": "2024-08-31T16:11:38.927145",
     "exception": false,
     "start_time": "2024-08-31T16:11:38.915573",
     "status": "completed"
    },
    "tags": []
   },
   "source": [
    "## Analysis and Visualization"
   ]
  },
  {
   "cell_type": "code",
   "execution_count": 10,
   "id": "63b5eb10",
   "metadata": {
    "execution": {
     "iopub.execute_input": "2024-08-31T16:11:38.953443Z",
     "iopub.status.busy": "2024-08-31T16:11:38.952208Z",
     "iopub.status.idle": "2024-08-31T16:11:38.961892Z",
     "shell.execute_reply": "2024-08-31T16:11:38.960848Z"
    },
    "papermill": {
     "duration": 0.025204,
     "end_time": "2024-08-31T16:11:38.964222",
     "exception": false,
     "start_time": "2024-08-31T16:11:38.939018",
     "status": "completed"
    },
    "tags": []
   },
   "outputs": [
    {
     "data": {
      "text/plain": [
       "left\n",
       "0    11428\n",
       "1     3571\n",
       "Name: count, dtype: int64"
      ]
     },
     "execution_count": 10,
     "metadata": {},
     "output_type": "execute_result"
    }
   ],
   "source": [
    "employee['left'].value_counts()"
   ]
  },
  {
   "cell_type": "code",
   "execution_count": 11,
   "id": "4e10e0e5",
   "metadata": {
    "execution": {
     "iopub.execute_input": "2024-08-31T16:11:38.989942Z",
     "iopub.status.busy": "2024-08-31T16:11:38.989526Z",
     "iopub.status.idle": "2024-08-31T16:11:39.223068Z",
     "shell.execute_reply": "2024-08-31T16:11:39.222080Z"
    },
    "papermill": {
     "duration": 0.249179,
     "end_time": "2024-08-31T16:11:39.225465",
     "exception": false,
     "start_time": "2024-08-31T16:11:38.976286",
     "status": "completed"
    },
    "tags": []
   },
   "outputs": [
    {
     "data": {
      "text/plain": [
       "<Axes: xlabel='left'>"
      ]
     },
     "execution_count": 11,
     "metadata": {},
     "output_type": "execute_result"
    },
    {
     "data": {
      "image/png": "[encoded data removed]",
      "text/plain": [
       "<Figure size 640x480 with 1 Axes>"
      ]
     },
     "metadata": {},
     "output_type": "display_data"
    }
   ],
   "source": [
    "employee['left'].value_counts().plot(kind='bar')"
   ]
  },
  {
   "cell_type": "code",
   "execution_count": 12,
   "id": "aa366a2d",
   "metadata": {
    "execution": {
     "iopub.execute_input": "2024-08-31T16:11:39.252044Z",
     "iopub.status.busy": "2024-08-31T16:11:39.251623Z",
     "iopub.status.idle": "2024-08-31T16:11:39.276756Z",
     "shell.execute_reply": "2024-08-31T16:11:39.275760Z"
    },
    "papermill": {
     "duration": 0.040961,
     "end_time": "2024-08-31T16:11:39.278891",
     "exception": false,
     "start_time": "2024-08-31T16:11:39.237930",
     "status": "completed"
    },
    "tags": []
   },
   "outputs": [
    {
     "data": {
      "text/html": [
       "<div>\n",
       "<style scoped>\n",
       "    .dataframe tbody tr th:only-of-type {\n",
       "        vertical-align: middle;\n",
       "    }\n",
       "\n",
       "    .dataframe tbody tr th {\n",
       "        vertical-align: top;\n",
       "    }\n",
       "\n",
       "    .dataframe thead th {\n",
       "        text-align: right;\n",
       "    }\n",
       "</style>\n",
       "<table border=\"1\" class=\"dataframe\">\n",
       "  <thead>\n",
       "    <tr style=\"text-align: right;\">\n",
       "      <th>left</th>\n",
       "      <th>0</th>\n",
       "      <th>1</th>\n",
       "    </tr>\n",
       "    <tr>\n",
       "      <th>salary</th>\n",
       "      <th></th>\n",
       "      <th></th>\n",
       "    </tr>\n",
       "  </thead>\n",
       "  <tbody>\n",
       "    <tr>\n",
       "      <th>high</th>\n",
       "      <td>1155</td>\n",
       "      <td>82</td>\n",
       "    </tr>\n",
       "    <tr>\n",
       "      <th>low</th>\n",
       "      <td>5144</td>\n",
       "      <td>2172</td>\n",
       "    </tr>\n",
       "    <tr>\n",
       "      <th>medium</th>\n",
       "      <td>5129</td>\n",
       "      <td>1317</td>\n",
       "    </tr>\n",
       "  </tbody>\n",
       "</table>\n",
       "</div>"
      ],
      "text/plain": [
       "left       0     1\n",
       "salary            \n",
       "high    1155    82\n",
       "low     5144  2172\n",
       "medium  5129  1317"
      ]
     },
     "execution_count": 12,
     "metadata": {},
     "output_type": "execute_result"
    }
   ],
   "source": [
    "pd.crosstab(employee.salary,employee.left)"
   ]
  },
  {
   "cell_type": "code",
   "execution_count": 13,
   "id": "1d834b7b",
   "metadata": {
    "execution": {
     "iopub.execute_input": "2024-08-31T16:11:39.305869Z",
     "iopub.status.busy": "2024-08-31T16:11:39.305483Z",
     "iopub.status.idle": "2024-08-31T16:11:39.552496Z",
     "shell.execute_reply": "2024-08-31T16:11:39.551475Z"
    },
    "papermill": {
     "duration": 0.263139,
     "end_time": "2024-08-31T16:11:39.554791",
     "exception": false,
     "start_time": "2024-08-31T16:11:39.291652",
     "status": "completed"
    },
    "tags": []
   },
   "outputs": [
    {
     "data": {
      "text/plain": [
       "<Axes: xlabel='salary'>"
      ]
     },
     "execution_count": 13,
     "metadata": {},
     "output_type": "execute_result"
    },
    {
     "data": {
      "image/png": "[encoded data removed]",
      "text/plain": [
       "<Figure size 640x480 with 1 Axes>"
      ]
     },
     "metadata": {},
     "output_type": "display_data"
    }
   ],
   "source": [
    "pd.crosstab(employee.salary,employee.left).plot(kind='bar')"
   ]
  },
  {
   "cell_type": "code",
   "execution_count": 14,
   "id": "24d2ae9a",
   "metadata": {
    "execution": {
     "iopub.execute_input": "2024-08-31T16:11:39.582362Z",
     "iopub.status.busy": "2024-08-31T16:11:39.581953Z",
     "iopub.status.idle": "2024-08-31T16:11:39.600550Z",
     "shell.execute_reply": "2024-08-31T16:11:39.599529Z"
    },
    "papermill": {
     "duration": 0.03506,
     "end_time": "2024-08-31T16:11:39.602795",
     "exception": false,
     "start_time": "2024-08-31T16:11:39.567735",
     "status": "completed"
    },
    "tags": []
   },
   "outputs": [
    {
     "data": {
      "text/html": [
       "<div>\n",
       "<style scoped>\n",
       "    .dataframe tbody tr th:only-of-type {\n",
       "        vertical-align: middle;\n",
       "    }\n",
       "\n",
       "    .dataframe tbody tr th {\n",
       "        vertical-align: top;\n",
       "    }\n",
       "\n",
       "    .dataframe thead th {\n",
       "        text-align: right;\n",
       "    }\n",
       "</style>\n",
       "<table border=\"1\" class=\"dataframe\">\n",
       "  <thead>\n",
       "    <tr style=\"text-align: right;\">\n",
       "      <th>left</th>\n",
       "      <th>0</th>\n",
       "      <th>1</th>\n",
       "    </tr>\n",
       "    <tr>\n",
       "      <th>Department</th>\n",
       "      <th></th>\n",
       "      <th></th>\n",
       "    </tr>\n",
       "  </thead>\n",
       "  <tbody>\n",
       "    <tr>\n",
       "      <th>IT</th>\n",
       "      <td>954</td>\n",
       "      <td>273</td>\n",
       "    </tr>\n",
       "    <tr>\n",
       "      <th>RandD</th>\n",
       "      <td>666</td>\n",
       "      <td>121</td>\n",
       "    </tr>\n",
       "    <tr>\n",
       "      <th>accounting</th>\n",
       "      <td>563</td>\n",
       "      <td>204</td>\n",
       "    </tr>\n",
       "    <tr>\n",
       "      <th>hr</th>\n",
       "      <td>524</td>\n",
       "      <td>215</td>\n",
       "    </tr>\n",
       "    <tr>\n",
       "      <th>management</th>\n",
       "      <td>539</td>\n",
       "      <td>91</td>\n",
       "    </tr>\n",
       "    <tr>\n",
       "      <th>marketing</th>\n",
       "      <td>655</td>\n",
       "      <td>203</td>\n",
       "    </tr>\n",
       "    <tr>\n",
       "      <th>product_mng</th>\n",
       "      <td>704</td>\n",
       "      <td>198</td>\n",
       "    </tr>\n",
       "    <tr>\n",
       "      <th>sales</th>\n",
       "      <td>3126</td>\n",
       "      <td>1014</td>\n",
       "    </tr>\n",
       "    <tr>\n",
       "      <th>support</th>\n",
       "      <td>1674</td>\n",
       "      <td>555</td>\n",
       "    </tr>\n",
       "    <tr>\n",
       "      <th>technical</th>\n",
       "      <td>2023</td>\n",
       "      <td>697</td>\n",
       "    </tr>\n",
       "  </tbody>\n",
       "</table>\n",
       "</div>"
      ],
      "text/plain": [
       "left            0     1\n",
       "Department             \n",
       "IT            954   273\n",
       "RandD         666   121\n",
       "accounting    563   204\n",
       "hr            524   215\n",
       "management    539    91\n",
       "marketing     655   203\n",
       "product_mng   704   198\n",
       "sales        3126  1014\n",
       "support      1674   555\n",
       "technical    2023   697"
      ]
     },
     "execution_count": 14,
     "metadata": {},
     "output_type": "execute_result"
    }
   ],
   "source": [
    "pd.crosstab(employee.Department,employee.left)"
   ]
  },
  {
   "cell_type": "code",
   "execution_count": 15,
   "id": "272c4d94",
   "metadata": {
    "execution": {
     "iopub.execute_input": "2024-08-31T16:11:39.631059Z",
     "iopub.status.busy": "2024-08-31T16:11:39.630670Z",
     "iopub.status.idle": "2024-08-31T16:11:39.922773Z",
     "shell.execute_reply": "2024-08-31T16:11:39.921748Z"
    },
    "papermill": {
     "duration": 0.308846,
     "end_time": "2024-08-31T16:11:39.924939",
     "exception": false,
     "start_time": "2024-08-31T16:11:39.616093",
     "status": "completed"
    },
    "tags": []
   },
   "outputs": [
    {
     "data": {
      "text/plain": [
       "<Axes: xlabel='Department'>"
      ]
     },
     "execution_count": 15,
     "metadata": {},
     "output_type": "execute_result"
    },
    {
     "data": {
      "image/png": "[encoded data removed]",
      "text/plain": [
       "<Figure size 640x480 with 1 Axes>"
      ]
     },
     "metadata": {},
     "output_type": "display_data"
    }
   ],
   "source": [
    "pd.crosstab(employee.Department,employee.left).plot(kind='bar')"
   ]
  },
  {
   "cell_type": "code",
   "execution_count": null,
   "id": "de2cc4c5",
   "metadata": {
    "papermill": {
     "duration": 0.013558,
     "end_time": "2024-08-31T16:11:39.952442",
     "exception": false,
     "start_time": "2024-08-31T16:11:39.938884",
     "status": "completed"
    },
    "tags": []
   },
   "outputs": [],
   "source": []
  },
  {
   "cell_type": "markdown",
   "id": "a881499d",
   "metadata": {
    "papermill": {
     "duration": 0.013515,
     "end_time": "2024-08-31T16:11:39.980037",
     "exception": false,
     "start_time": "2024-08-31T16:11:39.966522",
     "status": "completed"
    },
    "tags": []
   },
   "source": [
    "## preprocessing"
   ]
  },
  {
   "cell_type": "code",
   "execution_count": 16,
   "id": "866efca2",
   "metadata": {
    "execution": {
     "iopub.execute_input": "2024-08-31T16:11:40.009453Z",
     "iopub.status.busy": "2024-08-31T16:11:40.009026Z",
     "iopub.status.idle": "2024-08-31T16:11:40.020299Z",
     "shell.execute_reply": "2024-08-31T16:11:40.019275Z"
    },
    "papermill": {
     "duration": 0.029524,
     "end_time": "2024-08-31T16:11:40.023381",
     "exception": false,
     "start_time": "2024-08-31T16:11:39.993857",
     "status": "completed"
    },
    "tags": []
   },
   "outputs": [],
   "source": [
    "employee=employee.drop_duplicates()"
   ]
  },
  {
   "cell_type": "code",
   "execution_count": 17,
   "id": "a2fdec12",
   "metadata": {
    "execution": {
     "iopub.execute_input": "2024-08-31T16:11:40.053133Z",
     "iopub.status.busy": "2024-08-31T16:11:40.052699Z",
     "iopub.status.idle": "2024-08-31T16:11:40.059636Z",
     "shell.execute_reply": "2024-08-31T16:11:40.058550Z"
    },
    "papermill": {
     "duration": 0.024459,
     "end_time": "2024-08-31T16:11:40.062085",
     "exception": false,
     "start_time": "2024-08-31T16:11:40.037626",
     "status": "completed"
    },
    "tags": []
   },
   "outputs": [
    {
     "data": {
      "text/plain": [
       "(11991, 10)"
      ]
     },
     "execution_count": 17,
     "metadata": {},
     "output_type": "execute_result"
    }
   ],
   "source": [
    "employee.shape"
   ]
  },
  {
   "cell_type": "code",
   "execution_count": 18,
   "id": "9529015b",
   "metadata": {
    "execution": {
     "iopub.execute_input": "2024-08-31T16:11:40.092516Z",
     "iopub.status.busy": "2024-08-31T16:11:40.091665Z",
     "iopub.status.idle": "2024-08-31T16:11:40.100540Z",
     "shell.execute_reply": "2024-08-31T16:11:40.099686Z"
    },
    "papermill": {
     "duration": 0.026524,
     "end_time": "2024-08-31T16:11:40.102656",
     "exception": false,
     "start_time": "2024-08-31T16:11:40.076132",
     "status": "completed"
    },
    "tags": []
   },
   "outputs": [
    {
     "data": {
      "text/plain": [
       "Department\n",
       "sales          3239\n",
       "technical      2244\n",
       "support        1821\n",
       "IT              976\n",
       "RandD           694\n",
       "product_mng     686\n",
       "marketing       673\n",
       "accounting      621\n",
       "hr              601\n",
       "management      436\n",
       "Name: count, dtype: int64"
      ]
     },
     "execution_count": 18,
     "metadata": {},
     "output_type": "execute_result"
    }
   ],
   "source": [
    "employee['Department'].value_counts()"
   ]
  },
  {
   "cell_type": "code",
   "execution_count": 19,
   "id": "23ea7ec7",
   "metadata": {
    "execution": {
     "iopub.execute_input": "2024-08-31T16:11:40.132370Z",
     "iopub.status.busy": "2024-08-31T16:11:40.131959Z",
     "iopub.status.idle": "2024-08-31T16:11:40.141453Z",
     "shell.execute_reply": "2024-08-31T16:11:40.140249Z"
    },
    "papermill": {
     "duration": 0.026865,
     "end_time": "2024-08-31T16:11:40.143516",
     "exception": false,
     "start_time": "2024-08-31T16:11:40.116651",
     "status": "completed"
    },
    "tags": []
   },
   "outputs": [
    {
     "data": {
      "text/plain": [
       "salary\n",
       "low       5740\n",
       "medium    5261\n",
       "high       990\n",
       "Name: count, dtype: int64"
      ]
     },
     "execution_count": 19,
     "metadata": {},
     "output_type": "execute_result"
    }
   ],
   "source": [
    "employee['salary'].value_counts()"
   ]
  },
  {
   "cell_type": "code",
   "execution_count": 20,
   "id": "bdc62929",
   "metadata": {
    "execution": {
     "iopub.execute_input": "2024-08-31T16:11:40.173400Z",
     "iopub.status.busy": "2024-08-31T16:11:40.172996Z",
     "iopub.status.idle": "2024-08-31T16:11:40.183560Z",
     "shell.execute_reply": "2024-08-31T16:11:40.182286Z"
    },
    "papermill": {
     "duration": 0.028106,
     "end_time": "2024-08-31T16:11:40.185773",
     "exception": false,
     "start_time": "2024-08-31T16:11:40.157667",
     "status": "completed"
    },
    "tags": []
   },
   "outputs": [
    {
     "name": "stdout",
     "output_type": "stream",
     "text": [
      "Before Encoding the Data:\n",
      "\n",
      "    Department\n",
      "0        sales\n",
      "1    technical\n",
      "2      support\n",
      "3           IT\n",
      "4        RandD\n",
      "5  product_mng\n",
      "6    marketing\n",
      "7   accounting\n",
      "8           hr\n",
      "9   management\n",
      "\n",
      "Before Encoding the Data:\n",
      "\n",
      "   salary\n",
      "0     low\n",
      "1  medium\n",
      "2    high\n",
      "\n"
     ]
    }
   ],
   "source": [
    "from sklearn.preprocessing import LabelEncoder\n",
    "\n",
    "# Create a sample dataframe with categorical data\n",
    "Departmentt = pd.DataFrame({'Department': ['sales', 'technical','support','IT','RandD','product_mng','marketing','accounting','hr', 'management']})\n",
    "salarys = pd.DataFrame({'salary': ['low', 'medium','high']})\n",
    "\n",
    "print(f\"Before Encoding the Data:\\n\\n{Departmentt}\\n\")\n",
    "print(f\"Before Encoding the Data:\\n\\n{salarys}\\n\")"
   ]
  },
  {
   "cell_type": "code",
   "execution_count": 21,
   "id": "e0217d72",
   "metadata": {
    "execution": {
     "iopub.execute_input": "2024-08-31T16:11:40.216113Z",
     "iopub.status.busy": "2024-08-31T16:11:40.215291Z",
     "iopub.status.idle": "2024-08-31T16:11:40.226219Z",
     "shell.execute_reply": "2024-08-31T16:11:40.225102Z"
    },
    "papermill": {
     "duration": 0.028353,
     "end_time": "2024-08-31T16:11:40.228387",
     "exception": false,
     "start_time": "2024-08-31T16:11:40.200034",
     "status": "completed"
    },
    "tags": []
   },
   "outputs": [],
   "source": [
    "# Create a LabelEncoder object\n",
    "le = LabelEncoder()\n",
    "\n",
    "# Fit and transform the categorical data\n",
    "employee['Department'] = le.fit_transform(employee['Department'])\n",
    "employee['salary'] = le.fit_transform(employee['salary'])"
   ]
  },
  {
   "cell_type": "code",
   "execution_count": 22,
   "id": "1d793e12",
   "metadata": {
    "execution": {
     "iopub.execute_input": "2024-08-31T16:11:40.258582Z",
     "iopub.status.busy": "2024-08-31T16:11:40.257929Z",
     "iopub.status.idle": "2024-08-31T16:11:40.267131Z",
     "shell.execute_reply": "2024-08-31T16:11:40.266120Z"
    },
    "papermill": {
     "duration": 0.026648,
     "end_time": "2024-08-31T16:11:40.269291",
     "exception": false,
     "start_time": "2024-08-31T16:11:40.242643",
     "status": "completed"
    },
    "tags": []
   },
   "outputs": [
    {
     "data": {
      "text/html": [
       "<div>\n",
       "<style scoped>\n",
       "    .dataframe tbody tr th:only-of-type {\n",
       "        vertical-align: middle;\n",
       "    }\n",
       "\n",
       "    .dataframe tbody tr th {\n",
       "        vertical-align: top;\n",
       "    }\n",
       "\n",
       "    .dataframe thead th {\n",
       "        text-align: right;\n",
       "    }\n",
       "</style>\n",
       "<table border=\"1\" class=\"dataframe\">\n",
       "  <thead>\n",
       "    <tr style=\"text-align: right;\">\n",
       "      <th></th>\n",
       "      <th>Department</th>\n",
       "    </tr>\n",
       "  </thead>\n",
       "  <tbody>\n",
       "    <tr>\n",
       "      <th>0</th>\n",
       "      <td>sales</td>\n",
       "    </tr>\n",
       "    <tr>\n",
       "      <th>1</th>\n",
       "      <td>technical</td>\n",
       "    </tr>\n",
       "    <tr>\n",
       "      <th>2</th>\n",
       "      <td>support</td>\n",
       "    </tr>\n",
       "    <tr>\n",
       "      <th>3</th>\n",
       "      <td>IT</td>\n",
       "    </tr>\n",
       "    <tr>\n",
       "      <th>4</th>\n",
       "      <td>RandD</td>\n",
       "    </tr>\n",
       "    <tr>\n",
       "      <th>5</th>\n",
       "      <td>product_mng</td>\n",
       "    </tr>\n",
       "    <tr>\n",
       "      <th>6</th>\n",
       "      <td>marketing</td>\n",
       "    </tr>\n",
       "    <tr>\n",
       "      <th>7</th>\n",
       "      <td>accounting</td>\n",
       "    </tr>\n",
       "    <tr>\n",
       "      <th>8</th>\n",
       "      <td>hr</td>\n",
       "    </tr>\n",
       "    <tr>\n",
       "      <th>9</th>\n",
       "      <td>management</td>\n",
       "    </tr>\n",
       "  </tbody>\n",
       "</table>\n",
       "</div>"
      ],
      "text/plain": [
       "    Department\n",
       "0        sales\n",
       "1    technical\n",
       "2      support\n",
       "3           IT\n",
       "4        RandD\n",
       "5  product_mng\n",
       "6    marketing\n",
       "7   accounting\n",
       "8           hr\n",
       "9   management"
      ]
     },
     "execution_count": 22,
     "metadata": {},
     "output_type": "execute_result"
    }
   ],
   "source": [
    "Departmentt"
   ]
  },
  {
   "cell_type": "code",
   "execution_count": 23,
   "id": "40771e0f",
   "metadata": {
    "execution": {
     "iopub.execute_input": "2024-08-31T16:11:40.299900Z",
     "iopub.status.busy": "2024-08-31T16:11:40.299411Z",
     "iopub.status.idle": "2024-08-31T16:11:40.308363Z",
     "shell.execute_reply": "2024-08-31T16:11:40.307338Z"
    },
    "papermill": {
     "duration": 0.026587,
     "end_time": "2024-08-31T16:11:40.310363",
     "exception": false,
     "start_time": "2024-08-31T16:11:40.283776",
     "status": "completed"
    },
    "tags": []
   },
   "outputs": [
    {
     "data": {
      "text/html": [
       "<div>\n",
       "<style scoped>\n",
       "    .dataframe tbody tr th:only-of-type {\n",
       "        vertical-align: middle;\n",
       "    }\n",
       "\n",
       "    .dataframe tbody tr th {\n",
       "        vertical-align: top;\n",
       "    }\n",
       "\n",
       "    .dataframe thead th {\n",
       "        text-align: right;\n",
       "    }\n",
       "</style>\n",
       "<table border=\"1\" class=\"dataframe\">\n",
       "  <thead>\n",
       "    <tr style=\"text-align: right;\">\n",
       "      <th></th>\n",
       "      <th>salary</th>\n",
       "    </tr>\n",
       "  </thead>\n",
       "  <tbody>\n",
       "    <tr>\n",
       "      <th>0</th>\n",
       "      <td>low</td>\n",
       "    </tr>\n",
       "    <tr>\n",
       "      <th>1</th>\n",
       "      <td>medium</td>\n",
       "    </tr>\n",
       "    <tr>\n",
       "      <th>2</th>\n",
       "      <td>high</td>\n",
       "    </tr>\n",
       "  </tbody>\n",
       "</table>\n",
       "</div>"
      ],
      "text/plain": [
       "   salary\n",
       "0     low\n",
       "1  medium\n",
       "2    high"
      ]
     },
     "execution_count": 23,
     "metadata": {},
     "output_type": "execute_result"
    }
   ],
   "source": [
    "salarys"
   ]
  },
  {
   "cell_type": "code",
   "execution_count": 24,
   "id": "5fce0787",
   "metadata": {
    "execution": {
     "iopub.execute_input": "2024-08-31T16:11:40.340550Z",
     "iopub.status.busy": "2024-08-31T16:11:40.340149Z",
     "iopub.status.idle": "2024-08-31T16:11:40.359237Z",
     "shell.execute_reply": "2024-08-31T16:11:40.358249Z"
    },
    "papermill": {
     "duration": 0.036734,
     "end_time": "2024-08-31T16:11:40.361351",
     "exception": false,
     "start_time": "2024-08-31T16:11:40.324617",
     "status": "completed"
    },
    "tags": []
   },
   "outputs": [
    {
     "data": {
      "text/html": [
       "<div>\n",
       "<style scoped>\n",
       "    .dataframe tbody tr th:only-of-type {\n",
       "        vertical-align: middle;\n",
       "    }\n",
       "\n",
       "    .dataframe tbody tr th {\n",
       "        vertical-align: top;\n",
       "    }\n",
       "\n",
       "    .dataframe thead th {\n",
       "        text-align: right;\n",
       "    }\n",
       "</style>\n",
       "<table border=\"1\" class=\"dataframe\">\n",
       "  <thead>\n",
       "    <tr style=\"text-align: right;\">\n",
       "      <th></th>\n",
       "      <th>satisfaction_level</th>\n",
       "      <th>last_evaluation</th>\n",
       "      <th>number_project</th>\n",
       "      <th>average_montly_hours</th>\n",
       "      <th>time_spend_company</th>\n",
       "      <th>Work_accident</th>\n",
       "      <th>promotion_last_5years</th>\n",
       "      <th>Department</th>\n",
       "      <th>salary</th>\n",
       "    </tr>\n",
       "    <tr>\n",
       "      <th>left</th>\n",
       "      <th></th>\n",
       "      <th></th>\n",
       "      <th></th>\n",
       "      <th></th>\n",
       "      <th></th>\n",
       "      <th></th>\n",
       "      <th></th>\n",
       "      <th></th>\n",
       "      <th></th>\n",
       "    </tr>\n",
       "  </thead>\n",
       "  <tbody>\n",
       "    <tr>\n",
       "      <th>0</th>\n",
       "      <td>0.667365</td>\n",
       "      <td>0.715667</td>\n",
       "      <td>3.786800</td>\n",
       "      <td>198.94270</td>\n",
       "      <td>3.262000</td>\n",
       "      <td>0.174500</td>\n",
       "      <td>0.019500</td>\n",
       "      <td>5.847500</td>\n",
       "      <td>1.35500</td>\n",
       "    </tr>\n",
       "    <tr>\n",
       "      <th>1</th>\n",
       "      <td>0.440271</td>\n",
       "      <td>0.721783</td>\n",
       "      <td>3.883476</td>\n",
       "      <td>208.16223</td>\n",
       "      <td>3.881467</td>\n",
       "      <td>0.052737</td>\n",
       "      <td>0.004018</td>\n",
       "      <td>5.989955</td>\n",
       "      <td>1.36213</td>\n",
       "    </tr>\n",
       "  </tbody>\n",
       "</table>\n",
       "</div>"
      ],
      "text/plain": [
       "      satisfaction_level  last_evaluation  number_project  \\\n",
       "left                                                        \n",
       "0               0.667365         0.715667        3.786800   \n",
       "1               0.440271         0.721783        3.883476   \n",
       "\n",
       "      average_montly_hours  time_spend_company  Work_accident  \\\n",
       "left                                                            \n",
       "0                198.94270            3.262000       0.174500   \n",
       "1                208.16223            3.881467       0.052737   \n",
       "\n",
       "      promotion_last_5years  Department   salary  \n",
       "left                                              \n",
       "0                  0.019500    5.847500  1.35500  \n",
       "1                  0.004018    5.989955  1.36213  "
      ]
     },
     "execution_count": 24,
     "metadata": {},
     "output_type": "execute_result"
    }
   ],
   "source": [
    "employee.groupby('left').mean()"
   ]
  },
  {
   "cell_type": "code",
   "execution_count": 25,
   "id": "a84cfa60",
   "metadata": {
    "execution": {
     "iopub.execute_input": "2024-08-31T16:11:40.392766Z",
     "iopub.status.busy": "2024-08-31T16:11:40.392372Z",
     "iopub.status.idle": "2024-08-31T16:11:41.101707Z",
     "shell.execute_reply": "2024-08-31T16:11:41.100636Z"
    },
    "papermill": {
     "duration": 0.728963,
     "end_time": "2024-08-31T16:11:41.105179",
     "exception": false,
     "start_time": "2024-08-31T16:11:40.376216",
     "status": "completed"
    },
    "tags": []
   },
   "outputs": [
    {
     "data": {
      "text/plain": [
       "<Axes: >"
      ]
     },
     "execution_count": 25,
     "metadata": {},
     "output_type": "execute_result"
    },
    {
     "data": {
      "image/png": "[encoded data removed]",
      "text/plain": [
       "<Figure size 1500x1000 with 2 Axes>"
      ]
     },
     "metadata": {},
     "output_type": "display_data"
    }
   ],
   "source": [
    "plt.figure(figsize=(15,10))\n",
    "sns.heatmap(employee.corr(),annot=True)"
   ]
  },
  {
   "cell_type": "markdown",
   "id": "9d88a4ff",
   "metadata": {
    "papermill": {
     "duration": 0.016364,
     "end_time": "2024-08-31T16:11:41.138278",
     "exception": false,
     "start_time": "2024-08-31T16:11:41.121914",
     "status": "completed"
    },
    "tags": []
   },
   "source": [
    "## Build Model"
   ]
  },
  {
   "cell_type": "code",
   "execution_count": 26,
   "id": "f3793f87",
   "metadata": {
    "execution": {
     "iopub.execute_input": "2024-08-31T16:11:41.173689Z",
     "iopub.status.busy": "2024-08-31T16:11:41.172869Z",
     "iopub.status.idle": "2024-08-31T16:11:41.179080Z",
     "shell.execute_reply": "2024-08-31T16:11:41.178141Z"
    },
    "papermill": {
     "duration": 0.026109,
     "end_time": "2024-08-31T16:11:41.181177",
     "exception": false,
     "start_time": "2024-08-31T16:11:41.155068",
     "status": "completed"
    },
    "tags": []
   },
   "outputs": [],
   "source": [
    "x=employee[['satisfaction_level','average_montly_hours','promotion_last_5years','salary']]"
   ]
  },
  {
   "cell_type": "code",
   "execution_count": 27,
   "id": "4c019c83",
   "metadata": {
    "execution": {
     "iopub.execute_input": "2024-08-31T16:11:41.216407Z",
     "iopub.status.busy": "2024-08-31T16:11:41.215621Z",
     "iopub.status.idle": "2024-08-31T16:11:41.221283Z",
     "shell.execute_reply": "2024-08-31T16:11:41.220360Z"
    },
    "papermill": {
     "duration": 0.025494,
     "end_time": "2024-08-31T16:11:41.223407",
     "exception": false,
     "start_time": "2024-08-31T16:11:41.197913",
     "status": "completed"
    },
    "tags": []
   },
   "outputs": [],
   "source": [
    "x=x.drop('salary',axis=1)"
   ]
  },
  {
   "cell_type": "code",
   "execution_count": 28,
   "id": "3fb012af",
   "metadata": {
    "execution": {
     "iopub.execute_input": "2024-08-31T16:11:41.258298Z",
     "iopub.status.busy": "2024-08-31T16:11:41.257900Z",
     "iopub.status.idle": "2024-08-31T16:11:41.262642Z",
     "shell.execute_reply": "2024-08-31T16:11:41.261633Z"
    },
    "papermill": {
     "duration": 0.024685,
     "end_time": "2024-08-31T16:11:41.264765",
     "exception": false,
     "start_time": "2024-08-31T16:11:41.240080",
     "status": "completed"
    },
    "tags": []
   },
   "outputs": [],
   "source": [
    "y=employee['left']"
   ]
  },
  {
   "cell_type": "code",
   "execution_count": 29,
   "id": "4205fc38",
   "metadata": {
    "execution": {
     "iopub.execute_input": "2024-08-31T16:11:41.300007Z",
     "iopub.status.busy": "2024-08-31T16:11:41.299066Z",
     "iopub.status.idle": "2024-08-31T16:11:41.310880Z",
     "shell.execute_reply": "2024-08-31T16:11:41.309913Z"
    },
    "papermill": {
     "duration": 0.031751,
     "end_time": "2024-08-31T16:11:41.312974",
     "exception": false,
     "start_time": "2024-08-31T16:11:41.281223",
     "status": "completed"
    },
    "tags": []
   },
   "outputs": [
    {
     "data": {
      "text/html": [
       "<div>\n",
       "<style scoped>\n",
       "    .dataframe tbody tr th:only-of-type {\n",
       "        vertical-align: middle;\n",
       "    }\n",
       "\n",
       "    .dataframe tbody tr th {\n",
       "        vertical-align: top;\n",
       "    }\n",
       "\n",
       "    .dataframe thead th {\n",
       "        text-align: right;\n",
       "    }\n",
       "</style>\n",
       "<table border=\"1\" class=\"dataframe\">\n",
       "  <thead>\n",
       "    <tr style=\"text-align: right;\">\n",
       "      <th></th>\n",
       "      <th>satisfaction_level</th>\n",
       "      <th>average_montly_hours</th>\n",
       "      <th>promotion_last_5years</th>\n",
       "    </tr>\n",
       "  </thead>\n",
       "  <tbody>\n",
       "    <tr>\n",
       "      <th>0</th>\n",
       "      <td>0.38</td>\n",
       "      <td>157</td>\n",
       "      <td>0</td>\n",
       "    </tr>\n",
       "    <tr>\n",
       "      <th>1</th>\n",
       "      <td>0.80</td>\n",
       "      <td>262</td>\n",
       "      <td>0</td>\n",
       "    </tr>\n",
       "    <tr>\n",
       "      <th>2</th>\n",
       "      <td>0.11</td>\n",
       "      <td>272</td>\n",
       "      <td>0</td>\n",
       "    </tr>\n",
       "    <tr>\n",
       "      <th>3</th>\n",
       "      <td>0.72</td>\n",
       "      <td>223</td>\n",
       "      <td>0</td>\n",
       "    </tr>\n",
       "    <tr>\n",
       "      <th>4</th>\n",
       "      <td>0.37</td>\n",
       "      <td>159</td>\n",
       "      <td>0</td>\n",
       "    </tr>\n",
       "    <tr>\n",
       "      <th>...</th>\n",
       "      <td>...</td>\n",
       "      <td>...</td>\n",
       "      <td>...</td>\n",
       "    </tr>\n",
       "    <tr>\n",
       "      <th>11995</th>\n",
       "      <td>0.90</td>\n",
       "      <td>259</td>\n",
       "      <td>1</td>\n",
       "    </tr>\n",
       "    <tr>\n",
       "      <th>11996</th>\n",
       "      <td>0.74</td>\n",
       "      <td>266</td>\n",
       "      <td>1</td>\n",
       "    </tr>\n",
       "    <tr>\n",
       "      <th>11997</th>\n",
       "      <td>0.85</td>\n",
       "      <td>185</td>\n",
       "      <td>1</td>\n",
       "    </tr>\n",
       "    <tr>\n",
       "      <th>11998</th>\n",
       "      <td>0.33</td>\n",
       "      <td>172</td>\n",
       "      <td>1</td>\n",
       "    </tr>\n",
       "    <tr>\n",
       "      <th>11999</th>\n",
       "      <td>0.50</td>\n",
       "      <td>180</td>\n",
       "      <td>0</td>\n",
       "    </tr>\n",
       "  </tbody>\n",
       "</table>\n",
       "<p>11991 rows × 3 columns</p>\n",
       "</div>"
      ],
      "text/plain": [
       "       satisfaction_level  average_montly_hours  promotion_last_5years\n",
       "0                    0.38                   157                      0\n",
       "1                    0.80                   262                      0\n",
       "2                    0.11                   272                      0\n",
       "3                    0.72                   223                      0\n",
       "4                    0.37                   159                      0\n",
       "...                   ...                   ...                    ...\n",
       "11995                0.90                   259                      1\n",
       "11996                0.74                   266                      1\n",
       "11997                0.85                   185                      1\n",
       "11998                0.33                   172                      1\n",
       "11999                0.50                   180                      0\n",
       "\n",
       "[11991 rows x 3 columns]"
      ]
     },
     "execution_count": 29,
     "metadata": {},
     "output_type": "execute_result"
    }
   ],
   "source": [
    "x"
   ]
  },
  {
   "cell_type": "code",
   "execution_count": 30,
   "id": "296028cb",
   "metadata": {
    "execution": {
     "iopub.execute_input": "2024-08-31T16:11:41.396168Z",
     "iopub.status.busy": "2024-08-31T16:11:41.395223Z",
     "iopub.status.idle": "2024-08-31T16:11:41.403023Z",
     "shell.execute_reply": "2024-08-31T16:11:41.402068Z"
    },
    "papermill": {
     "duration": 0.074704,
     "end_time": "2024-08-31T16:11:41.405126",
     "exception": false,
     "start_time": "2024-08-31T16:11:41.330422",
     "status": "completed"
    },
    "tags": []
   },
   "outputs": [
    {
     "data": {
      "text/plain": [
       "0        1\n",
       "1        1\n",
       "2        1\n",
       "3        1\n",
       "4        1\n",
       "        ..\n",
       "11995    0\n",
       "11996    0\n",
       "11997    0\n",
       "11998    0\n",
       "11999    0\n",
       "Name: left, Length: 11991, dtype: int64"
      ]
     },
     "execution_count": 30,
     "metadata": {},
     "output_type": "execute_result"
    }
   ],
   "source": [
    "y"
   ]
  },
  {
   "cell_type": "code",
   "execution_count": 31,
   "id": "3c70292a",
   "metadata": {
    "execution": {
     "iopub.execute_input": "2024-08-31T16:11:41.441487Z",
     "iopub.status.busy": "2024-08-31T16:11:41.441077Z",
     "iopub.status.idle": "2024-08-31T16:11:41.450019Z",
     "shell.execute_reply": "2024-08-31T16:11:41.449181Z"
    },
    "papermill": {
     "duration": 0.029799,
     "end_time": "2024-08-31T16:11:41.452163",
     "exception": false,
     "start_time": "2024-08-31T16:11:41.422364",
     "status": "completed"
    },
    "tags": []
   },
   "outputs": [],
   "source": [
    "x_train,x_test,y_train,y_test = train_test_split(x,y,test_size=0.2,random_state=11)"
   ]
  },
  {
   "cell_type": "code",
   "execution_count": 32,
   "id": "6fd256c7",
   "metadata": {
    "execution": {
     "iopub.execute_input": "2024-08-31T16:11:41.489146Z",
     "iopub.status.busy": "2024-08-31T16:11:41.488224Z",
     "iopub.status.idle": "2024-08-31T16:11:41.499631Z",
     "shell.execute_reply": "2024-08-31T16:11:41.498690Z"
    },
    "papermill": {
     "duration": 0.031908,
     "end_time": "2024-08-31T16:11:41.501745",
     "exception": false,
     "start_time": "2024-08-31T16:11:41.469837",
     "status": "completed"
    },
    "tags": []
   },
   "outputs": [
    {
     "data": {
      "text/html": [
       "<div>\n",
       "<style scoped>\n",
       "    .dataframe tbody tr th:only-of-type {\n",
       "        vertical-align: middle;\n",
       "    }\n",
       "\n",
       "    .dataframe tbody tr th {\n",
       "        vertical-align: top;\n",
       "    }\n",
       "\n",
       "    .dataframe thead th {\n",
       "        text-align: right;\n",
       "    }\n",
       "</style>\n",
       "<table border=\"1\" class=\"dataframe\">\n",
       "  <thead>\n",
       "    <tr style=\"text-align: right;\">\n",
       "      <th></th>\n",
       "      <th>satisfaction_level</th>\n",
       "      <th>average_montly_hours</th>\n",
       "      <th>promotion_last_5years</th>\n",
       "    </tr>\n",
       "  </thead>\n",
       "  <tbody>\n",
       "    <tr>\n",
       "      <th>696</th>\n",
       "      <td>0.10</td>\n",
       "      <td>291</td>\n",
       "      <td>0</td>\n",
       "    </tr>\n",
       "    <tr>\n",
       "      <th>6302</th>\n",
       "      <td>0.68</td>\n",
       "      <td>139</td>\n",
       "      <td>0</td>\n",
       "    </tr>\n",
       "    <tr>\n",
       "      <th>10555</th>\n",
       "      <td>0.75</td>\n",
       "      <td>140</td>\n",
       "      <td>0</td>\n",
       "    </tr>\n",
       "    <tr>\n",
       "      <th>2025</th>\n",
       "      <td>0.84</td>\n",
       "      <td>246</td>\n",
       "      <td>0</td>\n",
       "    </tr>\n",
       "    <tr>\n",
       "      <th>9431</th>\n",
       "      <td>0.52</td>\n",
       "      <td>163</td>\n",
       "      <td>0</td>\n",
       "    </tr>\n",
       "    <tr>\n",
       "      <th>...</th>\n",
       "      <td>...</td>\n",
       "      <td>...</td>\n",
       "      <td>...</td>\n",
       "    </tr>\n",
       "    <tr>\n",
       "      <th>4032</th>\n",
       "      <td>0.63</td>\n",
       "      <td>217</td>\n",
       "      <td>0</td>\n",
       "    </tr>\n",
       "    <tr>\n",
       "      <th>7268</th>\n",
       "      <td>0.95</td>\n",
       "      <td>255</td>\n",
       "      <td>0</td>\n",
       "    </tr>\n",
       "    <tr>\n",
       "      <th>5209</th>\n",
       "      <td>0.74</td>\n",
       "      <td>177</td>\n",
       "      <td>0</td>\n",
       "    </tr>\n",
       "    <tr>\n",
       "      <th>3784</th>\n",
       "      <td>0.80</td>\n",
       "      <td>225</td>\n",
       "      <td>0</td>\n",
       "    </tr>\n",
       "    <tr>\n",
       "      <th>10146</th>\n",
       "      <td>0.49</td>\n",
       "      <td>168</td>\n",
       "      <td>0</td>\n",
       "    </tr>\n",
       "  </tbody>\n",
       "</table>\n",
       "<p>9592 rows × 3 columns</p>\n",
       "</div>"
      ],
      "text/plain": [
       "       satisfaction_level  average_montly_hours  promotion_last_5years\n",
       "696                  0.10                   291                      0\n",
       "6302                 0.68                   139                      0\n",
       "10555                0.75                   140                      0\n",
       "2025                 0.84                   246                      0\n",
       "9431                 0.52                   163                      0\n",
       "...                   ...                   ...                    ...\n",
       "4032                 0.63                   217                      0\n",
       "7268                 0.95                   255                      0\n",
       "5209                 0.74                   177                      0\n",
       "3784                 0.80                   225                      0\n",
       "10146                0.49                   168                      0\n",
       "\n",
       "[9592 rows x 3 columns]"
      ]
     },
     "execution_count": 32,
     "metadata": {},
     "output_type": "execute_result"
    }
   ],
   "source": [
    "x_train"
   ]
  },
  {
   "cell_type": "code",
   "execution_count": 33,
   "id": "c32c1584",
   "metadata": {
    "execution": {
     "iopub.execute_input": "2024-08-31T16:11:41.538507Z",
     "iopub.status.busy": "2024-08-31T16:11:41.537666Z",
     "iopub.status.idle": "2024-08-31T16:11:41.549178Z",
     "shell.execute_reply": "2024-08-31T16:11:41.548154Z"
    },
    "papermill": {
     "duration": 0.032145,
     "end_time": "2024-08-31T16:11:41.551188",
     "exception": false,
     "start_time": "2024-08-31T16:11:41.519043",
     "status": "completed"
    },
    "tags": []
   },
   "outputs": [
    {
     "data": {
      "text/html": [
       "<div>\n",
       "<style scoped>\n",
       "    .dataframe tbody tr th:only-of-type {\n",
       "        vertical-align: middle;\n",
       "    }\n",
       "\n",
       "    .dataframe tbody tr th {\n",
       "        vertical-align: top;\n",
       "    }\n",
       "\n",
       "    .dataframe thead th {\n",
       "        text-align: right;\n",
       "    }\n",
       "</style>\n",
       "<table border=\"1\" class=\"dataframe\">\n",
       "  <thead>\n",
       "    <tr style=\"text-align: right;\">\n",
       "      <th></th>\n",
       "      <th>satisfaction_level</th>\n",
       "      <th>average_montly_hours</th>\n",
       "      <th>promotion_last_5years</th>\n",
       "    </tr>\n",
       "  </thead>\n",
       "  <tbody>\n",
       "    <tr>\n",
       "      <th>4524</th>\n",
       "      <td>0.78</td>\n",
       "      <td>180</td>\n",
       "      <td>0</td>\n",
       "    </tr>\n",
       "    <tr>\n",
       "      <th>5867</th>\n",
       "      <td>0.61</td>\n",
       "      <td>263</td>\n",
       "      <td>0</td>\n",
       "    </tr>\n",
       "    <tr>\n",
       "      <th>2597</th>\n",
       "      <td>0.56</td>\n",
       "      <td>172</td>\n",
       "      <td>0</td>\n",
       "    </tr>\n",
       "    <tr>\n",
       "      <th>3916</th>\n",
       "      <td>0.25</td>\n",
       "      <td>158</td>\n",
       "      <td>0</td>\n",
       "    </tr>\n",
       "    <tr>\n",
       "      <th>9391</th>\n",
       "      <td>0.62</td>\n",
       "      <td>153</td>\n",
       "      <td>0</td>\n",
       "    </tr>\n",
       "    <tr>\n",
       "      <th>...</th>\n",
       "      <td>...</td>\n",
       "      <td>...</td>\n",
       "      <td>...</td>\n",
       "    </tr>\n",
       "    <tr>\n",
       "      <th>3111</th>\n",
       "      <td>0.87</td>\n",
       "      <td>145</td>\n",
       "      <td>0</td>\n",
       "    </tr>\n",
       "    <tr>\n",
       "      <th>6168</th>\n",
       "      <td>0.82</td>\n",
       "      <td>198</td>\n",
       "      <td>0</td>\n",
       "    </tr>\n",
       "    <tr>\n",
       "      <th>5438</th>\n",
       "      <td>0.93</td>\n",
       "      <td>225</td>\n",
       "      <td>0</td>\n",
       "    </tr>\n",
       "    <tr>\n",
       "      <th>7866</th>\n",
       "      <td>0.69</td>\n",
       "      <td>139</td>\n",
       "      <td>0</td>\n",
       "    </tr>\n",
       "    <tr>\n",
       "      <th>4147</th>\n",
       "      <td>0.82</td>\n",
       "      <td>149</td>\n",
       "      <td>0</td>\n",
       "    </tr>\n",
       "  </tbody>\n",
       "</table>\n",
       "<p>2399 rows × 3 columns</p>\n",
       "</div>"
      ],
      "text/plain": [
       "      satisfaction_level  average_montly_hours  promotion_last_5years\n",
       "4524                0.78                   180                      0\n",
       "5867                0.61                   263                      0\n",
       "2597                0.56                   172                      0\n",
       "3916                0.25                   158                      0\n",
       "9391                0.62                   153                      0\n",
       "...                  ...                   ...                    ...\n",
       "3111                0.87                   145                      0\n",
       "6168                0.82                   198                      0\n",
       "5438                0.93                   225                      0\n",
       "7866                0.69                   139                      0\n",
       "4147                0.82                   149                      0\n",
       "\n",
       "[2399 rows x 3 columns]"
      ]
     },
     "execution_count": 33,
     "metadata": {},
     "output_type": "execute_result"
    }
   ],
   "source": [
    "x_test"
   ]
  },
  {
   "cell_type": "code",
   "execution_count": 34,
   "id": "4a697a2a",
   "metadata": {
    "execution": {
     "iopub.execute_input": "2024-08-31T16:11:41.588561Z",
     "iopub.status.busy": "2024-08-31T16:11:41.587673Z",
     "iopub.status.idle": "2024-08-31T16:11:41.592534Z",
     "shell.execute_reply": "2024-08-31T16:11:41.591394Z"
    },
    "papermill": {
     "duration": 0.025698,
     "end_time": "2024-08-31T16:11:41.594601",
     "exception": false,
     "start_time": "2024-08-31T16:11:41.568903",
     "status": "completed"
    },
    "tags": []
   },
   "outputs": [],
   "source": [
    "model=RandomForestClassifier(n_estimators=10)"
   ]
  },
  {
   "cell_type": "code",
   "execution_count": 35,
   "id": "4b971388",
   "metadata": {
    "execution": {
     "iopub.execute_input": "2024-08-31T16:11:41.631530Z",
     "iopub.status.busy": "2024-08-31T16:11:41.631135Z",
     "iopub.status.idle": "2024-08-31T16:11:41.726097Z",
     "shell.execute_reply": "2024-08-31T16:11:41.725076Z"
    },
    "papermill": {
     "duration": 0.115965,
     "end_time": "2024-08-31T16:11:41.728212",
     "exception": false,
     "start_time": "2024-08-31T16:11:41.612247",
     "status": "completed"
    },
    "tags": []
   },
   "outputs": [
    {
     "data": {
      "text/html": [
       "<style>#sk-container-id-1 {color: black;background-color: white;}#sk-container-id-1 pre{padding: 0;}#sk-container-id-1 div.sk-toggleable {background-color: white;}#sk-container-id-1 label.sk-toggleable__label {cursor: pointer;display: block;width: 100%;margin-bottom: 0;padding: 0.3em;box-sizing: border-box;text-align: center;}#sk-container-id-1 label.sk-toggleable__label-arrow:before {content: \"▸\";float: left;margin-right: 0.25em;color: #696969;}#sk-container-id-1 label.sk-toggleable__label-arrow:hover:before {color: black;}#sk-container-id-1 div.sk-estimator:hover label.sk-toggleable__label-arrow:before {color: black;}#sk-container-id-1 div.sk-toggleable__content {max-height: 0;max-width: 0;overflow: hidden;text-align: left;background-color: #f0f8ff;}#sk-container-id-1 div.sk-toggleable__content pre {margin: 0.2em;color: black;border-radius: 0.25em;background-color: #f0f8ff;}#sk-container-id-1 input.sk-toggleable__control:checked~div.sk-toggleable__content {max-height: 200px;max-width: 100%;overflow: auto;}#sk-container-id-1 input.sk-toggleable__control:checked~label.sk-toggleable__label-arrow:before {content: \"▾\";}#sk-container-id-1 div.sk-estimator input.sk-toggleable__control:checked~label.sk-toggleable__label {background-color: #d4ebff;}#sk-container-id-1 div.sk-label input.sk-toggleable__control:checked~label.sk-toggleable__label {background-color: #d4ebff;}#sk-container-id-1 input.sk-hidden--visually {border: 0;clip: rect(1px 1px 1px 1px);clip: rect(1px, 1px, 1px, 1px);height: 1px;margin: -1px;overflow: hidden;padding: 0;position: absolute;width: 1px;}#sk-container-id-1 div.sk-estimator {font-family: monospace;background-color: #f0f8ff;border: 1px dotted black;border-radius: 0.25em;box-sizing: border-box;margin-bottom: 0.5em;}#sk-container-id-1 div.sk-estimator:hover {background-color: #d4ebff;}#sk-container-id-1 div.sk-parallel-item::after {content: \"\";width: 100%;border-bottom: 1px solid gray;flex-grow: 1;}#sk-container-id-1 div.sk-label:hover label.sk-toggleable__label {background-color: #d4ebff;}#sk-container-id-1 div.sk-serial::before {content: \"\";position: absolute;border-left: 1px solid gray;box-sizing: border-box;top: 0;bottom: 0;left: 50%;z-index: 0;}#sk-container-id-1 div.sk-serial {display: flex;flex-direction: column;align-items: center;background-color: white;padding-right: 0.2em;padding-left: 0.2em;position: relative;}#sk-container-id-1 div.sk-item {position: relative;z-index: 1;}#sk-container-id-1 div.sk-parallel {display: flex;align-items: stretch;justify-content: center;background-color: white;position: relative;}#sk-container-id-1 div.sk-item::before, #sk-container-id-1 div.sk-parallel-item::before {content: \"\";position: absolute;border-left: 1px solid gray;box-sizing: border-box;top: 0;bottom: 0;left: 50%;z-index: -1;}#sk-container-id-1 div.sk-parallel-item {display: flex;flex-direction: column;z-index: 1;position: relative;background-color: white;}#sk-container-id-1 div.sk-parallel-item:first-child::after {align-self: flex-end;width: 50%;}#sk-container-id-1 div.sk-parallel-item:last-child::after {align-self: flex-start;width: 50%;}#sk-container-id-1 div.sk-parallel-item:only-child::after {width: 0;}#sk-container-id-1 div.sk-dashed-wrapped {border: 1px dashed gray;margin: 0 0.4em 0.5em 0.4em;box-sizing: border-box;padding-bottom: 0.4em;background-color: white;}#sk-container-id-1 div.sk-label label {font-family: monospace;font-weight: bold;display: inline-block;line-height: 1.2em;}#sk-container-id-1 div.sk-label-container {text-align: center;}#sk-container-id-1 div.sk-container {/* jupyter's `normalize.less` sets `[hidden] { display: none; }` but bootstrap.min.css set `[hidden] { display: none !important; }` so we also need the `!important` here to be able to override the default hidden behavior on the sphinx rendered scikit-learn.org. See: https://github.com/scikit-learn/scikit-learn/issues/21755 */display: inline-block !important;position: relative;}#sk-container-id-1 div.sk-text-repr-fallback {display: none;}</style><div id=\"sk-container-id-1\" class=\"sk-top-container\"><div class=\"sk-text-repr-fallback\"><pre>RandomForestClassifier(n_estimators=10)</pre><b>In a Jupyter environment, please rerun this cell to show the HTML representation or trust the notebook. <br />On GitHub, the HTML representation is unable to render, please try loading this page with nbviewer.org.</b></div><div class=\"sk-container\" hidden><div class=\"sk-item\"><div class=\"sk-estimator sk-toggleable\"><input class=\"sk-toggleable__control sk-hidden--visually\" id=\"sk-estimator-id-1\" type=\"checkbox\" checked><label for=\"sk-estimator-id-1\" class=\"sk-toggleable__label sk-toggleable__label-arrow\">RandomForestClassifier</label><div class=\"sk-toggleable__content\"><pre>RandomForestClassifier(n_estimators=10)</pre></div></div></div></div></div>"
      ],
      "text/plain": [
       "RandomForestClassifier(n_estimators=10)"
      ]
     },
     "execution_count": 35,
     "metadata": {},
     "output_type": "execute_result"
    }
   ],
   "source": [
    "model.fit(x_train, y_train)"
   ]
  },
  {
   "cell_type": "code",
   "execution_count": 36,
   "id": "2bd37208",
   "metadata": {
    "execution": {
     "iopub.execute_input": "2024-08-31T16:11:41.767220Z",
     "iopub.status.busy": "2024-08-31T16:11:41.766350Z",
     "iopub.status.idle": "2024-08-31T16:11:41.789677Z",
     "shell.execute_reply": "2024-08-31T16:11:41.788700Z"
    },
    "papermill": {
     "duration": 0.045174,
     "end_time": "2024-08-31T16:11:41.791787",
     "exception": false,
     "start_time": "2024-08-31T16:11:41.746613",
     "status": "completed"
    },
    "tags": []
   },
   "outputs": [
    {
     "data": {
      "text/plain": [
       "0.9639282735613011"
      ]
     },
     "execution_count": 36,
     "metadata": {},
     "output_type": "execute_result"
    }
   ],
   "source": [
    "model.score(x_train, y_train)"
   ]
  },
  {
   "cell_type": "code",
   "execution_count": 37,
   "id": "5fd63ed2",
   "metadata": {
    "execution": {
     "iopub.execute_input": "2024-08-31T16:11:41.830274Z",
     "iopub.status.busy": "2024-08-31T16:11:41.829864Z",
     "iopub.status.idle": "2024-08-31T16:11:41.843812Z",
     "shell.execute_reply": "2024-08-31T16:11:41.842771Z"
    },
    "papermill": {
     "duration": 0.035701,
     "end_time": "2024-08-31T16:11:41.845936",
     "exception": false,
     "start_time": "2024-08-31T16:11:41.810235",
     "status": "completed"
    },
    "tags": []
   },
   "outputs": [
    {
     "data": {
      "text/plain": [
       "0.9103793247186328"
      ]
     },
     "execution_count": 37,
     "metadata": {},
     "output_type": "execute_result"
    }
   ],
   "source": [
    "model.score(x_test, y_test)"
   ]
  },
  {
   "cell_type": "code",
   "execution_count": 38,
   "id": "0a2d242f",
   "metadata": {
    "execution": {
     "iopub.execute_input": "2024-08-31T16:11:41.884285Z",
     "iopub.status.busy": "2024-08-31T16:11:41.883839Z",
     "iopub.status.idle": "2024-08-31T16:11:41.895197Z",
     "shell.execute_reply": "2024-08-31T16:11:41.894175Z"
    },
    "papermill": {
     "duration": 0.033241,
     "end_time": "2024-08-31T16:11:41.897541",
     "exception": false,
     "start_time": "2024-08-31T16:11:41.864300",
     "status": "completed"
    },
    "tags": []
   },
   "outputs": [],
   "source": [
    "predict_test=model.predict(x_test)"
   ]
  },
  {
   "cell_type": "code",
   "execution_count": 39,
   "id": "d0b5414f",
   "metadata": {
    "execution": {
     "iopub.execute_input": "2024-08-31T16:11:41.935722Z",
     "iopub.status.busy": "2024-08-31T16:11:41.935275Z",
     "iopub.status.idle": "2024-08-31T16:11:41.941918Z",
     "shell.execute_reply": "2024-08-31T16:11:41.940953Z"
    },
    "papermill": {
     "duration": 0.02811,
     "end_time": "2024-08-31T16:11:41.944009",
     "exception": false,
     "start_time": "2024-08-31T16:11:41.915899",
     "status": "completed"
    },
    "tags": []
   },
   "outputs": [
    {
     "data": {
      "text/plain": [
       "array([0, 0, 0, ..., 0, 0, 0])"
      ]
     },
     "execution_count": 39,
     "metadata": {},
     "output_type": "execute_result"
    }
   ],
   "source": [
    "predict_test"
   ]
  },
  {
   "cell_type": "code",
   "execution_count": 40,
   "id": "6020cbb6",
   "metadata": {
    "execution": {
     "iopub.execute_input": "2024-08-31T16:11:41.982715Z",
     "iopub.status.busy": "2024-08-31T16:11:41.982288Z",
     "iopub.status.idle": "2024-08-31T16:11:41.989842Z",
     "shell.execute_reply": "2024-08-31T16:11:41.988506Z"
    },
    "papermill": {
     "duration": 0.029734,
     "end_time": "2024-08-31T16:11:41.992166",
     "exception": false,
     "start_time": "2024-08-31T16:11:41.962432",
     "status": "completed"
    },
    "tags": []
   },
   "outputs": [],
   "source": [
    "c=confusion_matrix(y_test,predict_test)"
   ]
  },
  {
   "cell_type": "code",
   "execution_count": 41,
   "id": "bb2b81d5",
   "metadata": {
    "execution": {
     "iopub.execute_input": "2024-08-31T16:11:42.031389Z",
     "iopub.status.busy": "2024-08-31T16:11:42.030963Z",
     "iopub.status.idle": "2024-08-31T16:11:42.423803Z",
     "shell.execute_reply": "2024-08-31T16:11:42.422721Z"
    },
    "papermill": {
     "duration": 0.41548,
     "end_time": "2024-08-31T16:11:42.426405",
     "exception": false,
     "start_time": "2024-08-31T16:11:42.010925",
     "status": "completed"
    },
    "tags": []
   },
   "outputs": [
    {
     "data": {
      "text/plain": [
       "Text(95.72222222222221, 0.5, 'Truth')"
      ]
     },
     "execution_count": 41,
     "metadata": {},
     "output_type": "execute_result"
    },
    {
     "data": {
      "image/png": "[encoded data removed]",
      "text/plain": [
       "<Figure size 1000x700 with 2 Axes>"
      ]
     },
     "metadata": {},
     "output_type": "display_data"
    }
   ],
   "source": [
    "plt.figure(figsize=(10,7))\n",
    "sns.heatmap(c, annot=True)\n",
    "plt.xlabel('Predicted')\n",
    "plt.ylabel('Truth')"
   ]
  },
  {
   "cell_type": "code",
   "execution_count": 42,
   "id": "a9d5db9f",
   "metadata": {
    "execution": {
     "iopub.execute_input": "2024-08-31T16:11:42.466565Z",
     "iopub.status.busy": "2024-08-31T16:11:42.466182Z",
     "iopub.status.idle": "2024-08-31T16:11:42.483987Z",
     "shell.execute_reply": "2024-08-31T16:11:42.483020Z"
    },
    "papermill": {
     "duration": 0.040303,
     "end_time": "2024-08-31T16:11:42.486140",
     "exception": false,
     "start_time": "2024-08-31T16:11:42.445837",
     "status": "completed"
    },
    "tags": []
   },
   "outputs": [
    {
     "data": {
      "text/plain": [
       "'              precision    recall  f1-score   support\\n\\n           0       0.94      0.95      0.95      1981\\n           1       0.76      0.70      0.73       418\\n\\n    accuracy                           0.91      2399\\n   macro avg       0.85      0.83      0.84      2399\\nweighted avg       0.91      0.91      0.91      2399\\n'"
      ]
     },
     "execution_count": 42,
     "metadata": {},
     "output_type": "execute_result"
    }
   ],
   "source": [
    "classification_report(y_test,predict_test)"
   ]
  },
  {
   "cell_type": "code",
   "execution_count": 43,
   "id": "c9887394",
   "metadata": {
    "execution": {
     "iopub.execute_input": "2024-08-31T16:11:42.526127Z",
     "iopub.status.busy": "2024-08-31T16:11:42.525435Z",
     "iopub.status.idle": "2024-08-31T16:11:42.533162Z",
     "shell.execute_reply": "2024-08-31T16:11:42.532255Z"
    },
    "papermill": {
     "duration": 0.030029,
     "end_time": "2024-08-31T16:11:42.535207",
     "exception": false,
     "start_time": "2024-08-31T16:11:42.505178",
     "status": "completed"
    },
    "tags": []
   },
   "outputs": [
    {
     "data": {
      "text/plain": [
       "0.9103793247186328"
      ]
     },
     "execution_count": 43,
     "metadata": {},
     "output_type": "execute_result"
    }
   ],
   "source": [
    "accuracy_score(y_test,predict_test)"
   ]
  },
  {
   "cell_type": "code",
   "execution_count": 44,
   "id": "1401aad3",
   "metadata": {
    "execution": {
     "iopub.execute_input": "2024-08-31T16:11:42.575682Z",
     "iopub.status.busy": "2024-08-31T16:11:42.575267Z",
     "iopub.status.idle": "2024-08-31T16:11:42.595220Z",
     "shell.execute_reply": "2024-08-31T16:11:42.594173Z"
    },
    "papermill": {
     "duration": 0.043146,
     "end_time": "2024-08-31T16:11:42.597661",
     "exception": false,
     "start_time": "2024-08-31T16:11:42.554515",
     "status": "completed"
    },
    "tags": []
   },
   "outputs": [],
   "source": [
    "predict_train=model.predict(x_train)"
   ]
  },
  {
   "cell_type": "code",
   "execution_count": 45,
   "id": "c46bfec1",
   "metadata": {
    "execution": {
     "iopub.execute_input": "2024-08-31T16:11:42.638112Z",
     "iopub.status.busy": "2024-08-31T16:11:42.637183Z",
     "iopub.status.idle": "2024-08-31T16:11:42.643651Z",
     "shell.execute_reply": "2024-08-31T16:11:42.642719Z"
    },
    "papermill": {
     "duration": 0.028772,
     "end_time": "2024-08-31T16:11:42.645758",
     "exception": false,
     "start_time": "2024-08-31T16:11:42.616986",
     "status": "completed"
    },
    "tags": []
   },
   "outputs": [
    {
     "data": {
      "text/plain": [
       "array([1, 0, 0, ..., 0, 0, 0])"
      ]
     },
     "execution_count": 45,
     "metadata": {},
     "output_type": "execute_result"
    }
   ],
   "source": [
    "predict_train"
   ]
  },
  {
   "cell_type": "code",
   "execution_count": 46,
   "id": "021d3831",
   "metadata": {
    "execution": {
     "iopub.execute_input": "2024-08-31T16:11:42.685852Z",
     "iopub.status.busy": "2024-08-31T16:11:42.685444Z",
     "iopub.status.idle": "2024-08-31T16:11:42.693074Z",
     "shell.execute_reply": "2024-08-31T16:11:42.692050Z"
    },
    "papermill": {
     "duration": 0.030382,
     "end_time": "2024-08-31T16:11:42.695434",
     "exception": false,
     "start_time": "2024-08-31T16:11:42.665052",
     "status": "completed"
    },
    "tags": []
   },
   "outputs": [],
   "source": [
    "cm=confusion_matrix(y_train,predict_train)"
   ]
  },
  {
   "cell_type": "code",
   "execution_count": 47,
   "id": "10863805",
   "metadata": {
    "execution": {
     "iopub.execute_input": "2024-08-31T16:11:42.737876Z",
     "iopub.status.busy": "2024-08-31T16:11:42.737460Z",
     "iopub.status.idle": "2024-08-31T16:11:43.034694Z",
     "shell.execute_reply": "2024-08-31T16:11:43.033565Z"
    },
    "papermill": {
     "duration": 0.32038,
     "end_time": "2024-08-31T16:11:43.037096",
     "exception": false,
     "start_time": "2024-08-31T16:11:42.716716",
     "status": "completed"
    },
    "tags": []
   },
   "outputs": [
    {
     "data": {
      "text/plain": [
       "Text(95.72222222222221, 0.5, 'Truth')"
      ]
     },
     "execution_count": 47,
     "metadata": {},
     "output_type": "execute_result"
    },
    {
     "data": {
      "image/png": "[encoded data removed]",
      "text/plain": [
       "<Figure size 1000x700 with 2 Axes>"
      ]
     },
     "metadata": {},
     "output_type": "display_data"
    }
   ],
   "source": [
    "plt.figure(figsize=(10,7))\n",
    "sns.heatmap(cm, annot=True)\n",
    "plt.xlabel('Predicted')\n",
    "plt.ylabel('Truth')"
   ]
  },
  {
   "cell_type": "code",
   "execution_count": 48,
   "id": "93def5a5",
   "metadata": {
    "execution": {
     "iopub.execute_input": "2024-08-31T16:11:43.078978Z",
     "iopub.status.busy": "2024-08-31T16:11:43.078569Z",
     "iopub.status.idle": "2024-08-31T16:11:43.106217Z",
     "shell.execute_reply": "2024-08-31T16:11:43.105125Z"
    },
    "papermill": {
     "duration": 0.051345,
     "end_time": "2024-08-31T16:11:43.108562",
     "exception": false,
     "start_time": "2024-08-31T16:11:43.057217",
     "status": "completed"
    },
    "tags": []
   },
   "outputs": [
    {
     "data": {
      "text/plain": [
       "'              precision    recall  f1-score   support\\n\\n           0       0.97      0.98      0.98      8019\\n           1       0.91      0.86      0.89      1573\\n\\n    accuracy                           0.96      9592\\n   macro avg       0.94      0.92      0.93      9592\\nweighted avg       0.96      0.96      0.96      9592\\n'"
      ]
     },
     "execution_count": 48,
     "metadata": {},
     "output_type": "execute_result"
    }
   ],
   "source": [
    "classification_report(y_train,predict_train)"
   ]
  },
  {
   "cell_type": "code",
   "execution_count": 49,
   "id": "2557d745",
   "metadata": {
    "execution": {
     "iopub.execute_input": "2024-08-31T16:11:43.150293Z",
     "iopub.status.busy": "2024-08-31T16:11:43.149911Z",
     "iopub.status.idle": "2024-08-31T16:11:43.158898Z",
     "shell.execute_reply": "2024-08-31T16:11:43.157868Z"
    },
    "papermill": {
     "duration": 0.032319,
     "end_time": "2024-08-31T16:11:43.161033",
     "exception": false,
     "start_time": "2024-08-31T16:11:43.128714",
     "status": "completed"
    },
    "tags": []
   },
   "outputs": [
    {
     "data": {
      "text/plain": [
       "0.9639282735613011"
      ]
     },
     "execution_count": 49,
     "metadata": {},
     "output_type": "execute_result"
    }
   ],
   "source": [
    "accuracy_score(y_train,predict_train)"
   ]
  },
  {
   "cell_type": "code",
   "execution_count": null,
   "id": "b7a85eab",
   "metadata": {
    "papermill": {
     "duration": 0.01973,
     "end_time": "2024-08-31T16:11:43.200764",
     "exception": false,
     "start_time": "2024-08-31T16:11:43.181034",
     "status": "completed"
    },
    "tags": []
   },
   "outputs": [],
   "source": []
  }
 ],
 "metadata": {
  "kaggle": {
   "accelerator": "none",
   "dataSources": [
    {
     "datasetId": 656,
     "sourceId": 2110,
     "sourceType": "datasetVersion"
    },
    {
     "datasetId": 5623162,
     "sourceId": 9288863,
     "sourceType": "datasetVersion"
    }
   ],
   "dockerImageVersionId": 30761,
   "isGpuEnabled": false,
   "isInternetEnabled": true,
   "language": "python",
   "sourceType": "notebook"
  },
  "kernelspec": {
   "display_name": "Python 3",
   "language": "python",
   "name": "python3"
  },
  "language_info": {
   "codemirror_mode": {
    "name": "ipython",
    "version": 3
   },
   "file_extension": ".py",
   "mimetype": "text/x-python",
   "name": "python",
   "nbconvert_exporter": "python",
   "pygments_lexer": "ipython3",
   "version": "3.10.14"
  },
  "papermill": {
   "default_parameters": {},
   "duration": 10.252052,
   "end_time": "2024-08-31T16:11:43.840997",
   "environment_variables": {},
   "exception": null,
   "input_path": "__notebook__.ipynb",
   "output_path": "__notebook__.ipynb",
   "parameters": {},
   "start_time": "2024-08-31T16:11:33.588945",
   "version": "2.6.0"
  }
 },
 "nbformat": 4,
 "nbformat_minor": 5
}
