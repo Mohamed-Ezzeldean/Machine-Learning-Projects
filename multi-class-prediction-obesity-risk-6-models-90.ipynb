{
 "cells": [
  {
   "cell_type": "markdown",
   "id": "2c8a49c0",
   "metadata": {
    "papermill": {
     "duration": 0.027664,
     "end_time": "2024-09-06T12:44:06.509870",
     "exception": false,
     "start_time": "2024-09-06T12:44:06.482206",
     "status": "completed"
    },
    "tags": []
   },
   "source": [
    "# Import Libraries"
   ]
  },
  {
   "cell_type": "code",
   "execution_count": 1,
   "id": "cf66c262",
   "metadata": {
    "execution": {
     "iopub.execute_input": "2024-09-06T12:44:06.564551Z",
     "iopub.status.busy": "2024-09-06T12:44:06.563971Z",
     "iopub.status.idle": "2024-09-06T12:44:10.238319Z",
     "shell.execute_reply": "2024-09-06T12:44:10.236755Z"
    },
    "papermill": {
     "duration": 3.704889,
     "end_time": "2024-09-06T12:44:10.241138",
     "exception": false,
     "start_time": "2024-09-06T12:44:06.536249",
     "status": "completed"
    },
    "tags": []
   },
   "outputs": [],
   "source": [
    "import numpy as np\n",
    "import pandas as pd\n",
    "import seaborn as sns \n",
    "import matplotlib.pyplot as plt\n",
    "%matplotlib inline\n",
    "\n",
    "from sklearn.ensemble import RandomForestClassifier , GradientBoostingClassifier\n",
    "from sklearn.linear_model import LogisticRegression\n",
    "from sklearn.naive_bayes import GaussianNB\n",
    "from sklearn.svm import SVC\n",
    "from sklearn.neighbors import KNeighborsClassifier\n",
    "from xgboost import XGBClassifier\n",
    "\n",
    "from sklearn.model_selection import train_test_split\n",
    "from sklearn.model_selection import GridSearchCV\n",
    "from sklearn.metrics import classification_report\n",
    "from sklearn.preprocessing import LabelEncoder , StandardScaler\n",
    "\n",
    "\n",
    "import warnings\n",
    "warnings.filterwarnings('ignore')"
   ]
  },
  {
   "cell_type": "markdown",
   "id": "49f8a8e0",
   "metadata": {
    "execution": {
     "iopub.execute_input": "2024-09-06T09:57:23.645065Z",
     "iopub.status.busy": "2024-09-06T09:57:23.644593Z",
     "iopub.status.idle": "2024-09-06T09:57:23.650152Z",
     "shell.execute_reply": "2024-09-06T09:57:23.648992Z",
     "shell.execute_reply.started": "2024-09-06T09:57:23.645021Z"
    },
    "papermill": {
     "duration": 0.025446,
     "end_time": "2024-09-06T12:44:10.293092",
     "exception": false,
     "start_time": "2024-09-06T12:44:10.267646",
     "status": "completed"
    },
    "tags": []
   },
   "source": [
    "# Load Data and Get Info"
   ]
  },
  {
   "cell_type": "code",
   "execution_count": 2,
   "id": "cc1f27f2",
   "metadata": {
    "execution": {
     "iopub.execute_input": "2024-09-06T12:44:10.348217Z",
     "iopub.status.busy": "2024-09-06T12:44:10.347504Z",
     "iopub.status.idle": "2024-09-06T12:44:10.485443Z",
     "shell.execute_reply": "2024-09-06T12:44:10.484202Z"
    },
    "papermill": {
     "duration": 0.169465,
     "end_time": "2024-09-06T12:44:10.488399",
     "exception": false,
     "start_time": "2024-09-06T12:44:10.318934",
     "status": "completed"
    },
    "tags": []
   },
   "outputs": [],
   "source": [
    "obesity_train=pd.read_csv('/kaggle/input/playground-series-s4e2/train.csv')"
   ]
  },
  {
   "cell_type": "code",
   "execution_count": 3,
   "id": "42f9c757",
   "metadata": {
    "execution": {
     "iopub.execute_input": "2024-09-06T12:44:10.542065Z",
     "iopub.status.busy": "2024-09-06T12:44:10.541586Z",
     "iopub.status.idle": "2024-09-06T12:44:10.611028Z",
     "shell.execute_reply": "2024-09-06T12:44:10.609903Z"
    },
    "papermill": {
     "duration": 0.100109,
     "end_time": "2024-09-06T12:44:10.613934",
     "exception": false,
     "start_time": "2024-09-06T12:44:10.513825",
     "status": "completed"
    },
    "tags": []
   },
   "outputs": [],
   "source": [
    "obesity_test=pd.read_csv('/kaggle/input/playground-series-s4e2/test.csv')"
   ]
  },
  {
   "cell_type": "code",
   "execution_count": 4,
   "id": "7f082855",
   "metadata": {
    "execution": {
     "iopub.execute_input": "2024-09-06T12:44:10.667935Z",
     "iopub.status.busy": "2024-09-06T12:44:10.666883Z",
     "iopub.status.idle": "2024-09-06T12:44:10.708369Z",
     "shell.execute_reply": "2024-09-06T12:44:10.707022Z"
    },
    "papermill": {
     "duration": 0.072127,
     "end_time": "2024-09-06T12:44:10.711940",
     "exception": false,
     "start_time": "2024-09-06T12:44:10.639813",
     "status": "completed"
    },
    "tags": []
   },
   "outputs": [
    {
     "data": {
      "text/html": [
       "<div>\n",
       "<style scoped>\n",
       "    .dataframe tbody tr th:only-of-type {\n",
       "        vertical-align: middle;\n",
       "    }\n",
       "\n",
       "    .dataframe tbody tr th {\n",
       "        vertical-align: top;\n",
       "    }\n",
       "\n",
       "    .dataframe thead th {\n",
       "        text-align: right;\n",
       "    }\n",
       "</style>\n",
       "<table border=\"1\" class=\"dataframe\">\n",
       "  <thead>\n",
       "    <tr style=\"text-align: right;\">\n",
       "      <th></th>\n",
       "      <th>id</th>\n",
       "      <th>Gender</th>\n",
       "      <th>Age</th>\n",
       "      <th>Height</th>\n",
       "      <th>Weight</th>\n",
       "      <th>family_history_with_overweight</th>\n",
       "      <th>FAVC</th>\n",
       "      <th>FCVC</th>\n",
       "      <th>NCP</th>\n",
       "      <th>CAEC</th>\n",
       "      <th>SMOKE</th>\n",
       "      <th>CH2O</th>\n",
       "      <th>SCC</th>\n",
       "      <th>FAF</th>\n",
       "      <th>TUE</th>\n",
       "      <th>CALC</th>\n",
       "      <th>MTRANS</th>\n",
       "      <th>NObeyesdad</th>\n",
       "    </tr>\n",
       "  </thead>\n",
       "  <tbody>\n",
       "    <tr>\n",
       "      <th>0</th>\n",
       "      <td>0</td>\n",
       "      <td>Male</td>\n",
       "      <td>24.443011</td>\n",
       "      <td>1.699998</td>\n",
       "      <td>81.669950</td>\n",
       "      <td>yes</td>\n",
       "      <td>yes</td>\n",
       "      <td>2.000000</td>\n",
       "      <td>2.983297</td>\n",
       "      <td>Sometimes</td>\n",
       "      <td>no</td>\n",
       "      <td>2.763573</td>\n",
       "      <td>no</td>\n",
       "      <td>0.000000</td>\n",
       "      <td>0.976473</td>\n",
       "      <td>Sometimes</td>\n",
       "      <td>Public_Transportation</td>\n",
       "      <td>Overweight_Level_II</td>\n",
       "    </tr>\n",
       "    <tr>\n",
       "      <th>1</th>\n",
       "      <td>1</td>\n",
       "      <td>Female</td>\n",
       "      <td>18.000000</td>\n",
       "      <td>1.560000</td>\n",
       "      <td>57.000000</td>\n",
       "      <td>yes</td>\n",
       "      <td>yes</td>\n",
       "      <td>2.000000</td>\n",
       "      <td>3.000000</td>\n",
       "      <td>Frequently</td>\n",
       "      <td>no</td>\n",
       "      <td>2.000000</td>\n",
       "      <td>no</td>\n",
       "      <td>1.000000</td>\n",
       "      <td>1.000000</td>\n",
       "      <td>no</td>\n",
       "      <td>Automobile</td>\n",
       "      <td>Normal_Weight</td>\n",
       "    </tr>\n",
       "    <tr>\n",
       "      <th>2</th>\n",
       "      <td>2</td>\n",
       "      <td>Female</td>\n",
       "      <td>18.000000</td>\n",
       "      <td>1.711460</td>\n",
       "      <td>50.165754</td>\n",
       "      <td>yes</td>\n",
       "      <td>yes</td>\n",
       "      <td>1.880534</td>\n",
       "      <td>1.411685</td>\n",
       "      <td>Sometimes</td>\n",
       "      <td>no</td>\n",
       "      <td>1.910378</td>\n",
       "      <td>no</td>\n",
       "      <td>0.866045</td>\n",
       "      <td>1.673584</td>\n",
       "      <td>no</td>\n",
       "      <td>Public_Transportation</td>\n",
       "      <td>Insufficient_Weight</td>\n",
       "    </tr>\n",
       "    <tr>\n",
       "      <th>3</th>\n",
       "      <td>3</td>\n",
       "      <td>Female</td>\n",
       "      <td>20.952737</td>\n",
       "      <td>1.710730</td>\n",
       "      <td>131.274851</td>\n",
       "      <td>yes</td>\n",
       "      <td>yes</td>\n",
       "      <td>3.000000</td>\n",
       "      <td>3.000000</td>\n",
       "      <td>Sometimes</td>\n",
       "      <td>no</td>\n",
       "      <td>1.674061</td>\n",
       "      <td>no</td>\n",
       "      <td>1.467863</td>\n",
       "      <td>0.780199</td>\n",
       "      <td>Sometimes</td>\n",
       "      <td>Public_Transportation</td>\n",
       "      <td>Obesity_Type_III</td>\n",
       "    </tr>\n",
       "    <tr>\n",
       "      <th>4</th>\n",
       "      <td>4</td>\n",
       "      <td>Male</td>\n",
       "      <td>31.641081</td>\n",
       "      <td>1.914186</td>\n",
       "      <td>93.798055</td>\n",
       "      <td>yes</td>\n",
       "      <td>yes</td>\n",
       "      <td>2.679664</td>\n",
       "      <td>1.971472</td>\n",
       "      <td>Sometimes</td>\n",
       "      <td>no</td>\n",
       "      <td>1.979848</td>\n",
       "      <td>no</td>\n",
       "      <td>1.967973</td>\n",
       "      <td>0.931721</td>\n",
       "      <td>Sometimes</td>\n",
       "      <td>Public_Transportation</td>\n",
       "      <td>Overweight_Level_II</td>\n",
       "    </tr>\n",
       "  </tbody>\n",
       "</table>\n",
       "</div>"
      ],
      "text/plain": [
       "   id  Gender        Age    Height      Weight family_history_with_overweight  \\\n",
       "0   0    Male  24.443011  1.699998   81.669950                            yes   \n",
       "1   1  Female  18.000000  1.560000   57.000000                            yes   \n",
       "2   2  Female  18.000000  1.711460   50.165754                            yes   \n",
       "3   3  Female  20.952737  1.710730  131.274851                            yes   \n",
       "4   4    Male  31.641081  1.914186   93.798055                            yes   \n",
       "\n",
       "  FAVC      FCVC       NCP        CAEC SMOKE      CH2O SCC       FAF  \\\n",
       "0  yes  2.000000  2.983297   Sometimes    no  2.763573  no  0.000000   \n",
       "1  yes  2.000000  3.000000  Frequently    no  2.000000  no  1.000000   \n",
       "2  yes  1.880534  1.411685   Sometimes    no  1.910378  no  0.866045   \n",
       "3  yes  3.000000  3.000000   Sometimes    no  1.674061  no  1.467863   \n",
       "4  yes  2.679664  1.971472   Sometimes    no  1.979848  no  1.967973   \n",
       "\n",
       "        TUE       CALC                 MTRANS           NObeyesdad  \n",
       "0  0.976473  Sometimes  Public_Transportation  Overweight_Level_II  \n",
       "1  1.000000         no             Automobile        Normal_Weight  \n",
       "2  1.673584         no  Public_Transportation  Insufficient_Weight  \n",
       "3  0.780199  Sometimes  Public_Transportation     Obesity_Type_III  \n",
       "4  0.931721  Sometimes  Public_Transportation  Overweight_Level_II  "
      ]
     },
     "execution_count": 4,
     "metadata": {},
     "output_type": "execute_result"
    }
   ],
   "source": [
    "obesity_train.head()"
   ]
  },
  {
   "cell_type": "code",
   "execution_count": 5,
   "id": "61a4320c",
   "metadata": {
    "execution": {
     "iopub.execute_input": "2024-09-06T12:44:10.766121Z",
     "iopub.status.busy": "2024-09-06T12:44:10.765622Z",
     "iopub.status.idle": "2024-09-06T12:44:10.773661Z",
     "shell.execute_reply": "2024-09-06T12:44:10.772183Z"
    },
    "papermill": {
     "duration": 0.03816,
     "end_time": "2024-09-06T12:44:10.776235",
     "exception": false,
     "start_time": "2024-09-06T12:44:10.738075",
     "status": "completed"
    },
    "tags": []
   },
   "outputs": [
    {
     "data": {
      "text/plain": [
       "(20758, 18)"
      ]
     },
     "execution_count": 5,
     "metadata": {},
     "output_type": "execute_result"
    }
   ],
   "source": [
    "obesity_train.shape"
   ]
  },
  {
   "cell_type": "code",
   "execution_count": 6,
   "id": "5fc8627d",
   "metadata": {
    "execution": {
     "iopub.execute_input": "2024-09-06T12:44:10.830858Z",
     "iopub.status.busy": "2024-09-06T12:44:10.829382Z",
     "iopub.status.idle": "2024-09-06T12:44:10.854461Z",
     "shell.execute_reply": "2024-09-06T12:44:10.853092Z"
    },
    "papermill": {
     "duration": 0.055192,
     "end_time": "2024-09-06T12:44:10.857337",
     "exception": false,
     "start_time": "2024-09-06T12:44:10.802145",
     "status": "completed"
    },
    "tags": []
   },
   "outputs": [
    {
     "data": {
      "text/html": [
       "<div>\n",
       "<style scoped>\n",
       "    .dataframe tbody tr th:only-of-type {\n",
       "        vertical-align: middle;\n",
       "    }\n",
       "\n",
       "    .dataframe tbody tr th {\n",
       "        vertical-align: top;\n",
       "    }\n",
       "\n",
       "    .dataframe thead th {\n",
       "        text-align: right;\n",
       "    }\n",
       "</style>\n",
       "<table border=\"1\" class=\"dataframe\">\n",
       "  <thead>\n",
       "    <tr style=\"text-align: right;\">\n",
       "      <th></th>\n",
       "      <th>id</th>\n",
       "      <th>Gender</th>\n",
       "      <th>Age</th>\n",
       "      <th>Height</th>\n",
       "      <th>Weight</th>\n",
       "      <th>family_history_with_overweight</th>\n",
       "      <th>FAVC</th>\n",
       "      <th>FCVC</th>\n",
       "      <th>NCP</th>\n",
       "      <th>CAEC</th>\n",
       "      <th>SMOKE</th>\n",
       "      <th>CH2O</th>\n",
       "      <th>SCC</th>\n",
       "      <th>FAF</th>\n",
       "      <th>TUE</th>\n",
       "      <th>CALC</th>\n",
       "      <th>MTRANS</th>\n",
       "      <th>NObeyesdad</th>\n",
       "    </tr>\n",
       "  </thead>\n",
       "  <tbody>\n",
       "    <tr>\n",
       "      <th>20753</th>\n",
       "      <td>20753</td>\n",
       "      <td>Male</td>\n",
       "      <td>25.137087</td>\n",
       "      <td>1.766626</td>\n",
       "      <td>114.187096</td>\n",
       "      <td>yes</td>\n",
       "      <td>yes</td>\n",
       "      <td>2.919584</td>\n",
       "      <td>3.000000</td>\n",
       "      <td>Sometimes</td>\n",
       "      <td>no</td>\n",
       "      <td>2.151809</td>\n",
       "      <td>no</td>\n",
       "      <td>1.330519</td>\n",
       "      <td>0.196680</td>\n",
       "      <td>Sometimes</td>\n",
       "      <td>Public_Transportation</td>\n",
       "      <td>Obesity_Type_II</td>\n",
       "    </tr>\n",
       "    <tr>\n",
       "      <th>20754</th>\n",
       "      <td>20754</td>\n",
       "      <td>Male</td>\n",
       "      <td>18.000000</td>\n",
       "      <td>1.710000</td>\n",
       "      <td>50.000000</td>\n",
       "      <td>no</td>\n",
       "      <td>yes</td>\n",
       "      <td>3.000000</td>\n",
       "      <td>4.000000</td>\n",
       "      <td>Frequently</td>\n",
       "      <td>no</td>\n",
       "      <td>1.000000</td>\n",
       "      <td>no</td>\n",
       "      <td>2.000000</td>\n",
       "      <td>1.000000</td>\n",
       "      <td>Sometimes</td>\n",
       "      <td>Public_Transportation</td>\n",
       "      <td>Insufficient_Weight</td>\n",
       "    </tr>\n",
       "    <tr>\n",
       "      <th>20755</th>\n",
       "      <td>20755</td>\n",
       "      <td>Male</td>\n",
       "      <td>20.101026</td>\n",
       "      <td>1.819557</td>\n",
       "      <td>105.580491</td>\n",
       "      <td>yes</td>\n",
       "      <td>yes</td>\n",
       "      <td>2.407817</td>\n",
       "      <td>3.000000</td>\n",
       "      <td>Sometimes</td>\n",
       "      <td>no</td>\n",
       "      <td>2.000000</td>\n",
       "      <td>no</td>\n",
       "      <td>1.158040</td>\n",
       "      <td>1.198439</td>\n",
       "      <td>no</td>\n",
       "      <td>Public_Transportation</td>\n",
       "      <td>Obesity_Type_II</td>\n",
       "    </tr>\n",
       "    <tr>\n",
       "      <th>20756</th>\n",
       "      <td>20756</td>\n",
       "      <td>Male</td>\n",
       "      <td>33.852953</td>\n",
       "      <td>1.700000</td>\n",
       "      <td>83.520113</td>\n",
       "      <td>yes</td>\n",
       "      <td>yes</td>\n",
       "      <td>2.671238</td>\n",
       "      <td>1.971472</td>\n",
       "      <td>Sometimes</td>\n",
       "      <td>no</td>\n",
       "      <td>2.144838</td>\n",
       "      <td>no</td>\n",
       "      <td>0.000000</td>\n",
       "      <td>0.973834</td>\n",
       "      <td>no</td>\n",
       "      <td>Automobile</td>\n",
       "      <td>Overweight_Level_II</td>\n",
       "    </tr>\n",
       "    <tr>\n",
       "      <th>20757</th>\n",
       "      <td>20757</td>\n",
       "      <td>Male</td>\n",
       "      <td>26.680376</td>\n",
       "      <td>1.816547</td>\n",
       "      <td>118.134898</td>\n",
       "      <td>yes</td>\n",
       "      <td>yes</td>\n",
       "      <td>3.000000</td>\n",
       "      <td>3.000000</td>\n",
       "      <td>Sometimes</td>\n",
       "      <td>no</td>\n",
       "      <td>2.003563</td>\n",
       "      <td>no</td>\n",
       "      <td>0.684487</td>\n",
       "      <td>0.713823</td>\n",
       "      <td>Sometimes</td>\n",
       "      <td>Public_Transportation</td>\n",
       "      <td>Obesity_Type_II</td>\n",
       "    </tr>\n",
       "  </tbody>\n",
       "</table>\n",
       "</div>"
      ],
      "text/plain": [
       "          id Gender        Age    Height      Weight  \\\n",
       "20753  20753   Male  25.137087  1.766626  114.187096   \n",
       "20754  20754   Male  18.000000  1.710000   50.000000   \n",
       "20755  20755   Male  20.101026  1.819557  105.580491   \n",
       "20756  20756   Male  33.852953  1.700000   83.520113   \n",
       "20757  20757   Male  26.680376  1.816547  118.134898   \n",
       "\n",
       "      family_history_with_overweight FAVC      FCVC       NCP        CAEC  \\\n",
       "20753                            yes  yes  2.919584  3.000000   Sometimes   \n",
       "20754                             no  yes  3.000000  4.000000  Frequently   \n",
       "20755                            yes  yes  2.407817  3.000000   Sometimes   \n",
       "20756                            yes  yes  2.671238  1.971472   Sometimes   \n",
       "20757                            yes  yes  3.000000  3.000000   Sometimes   \n",
       "\n",
       "      SMOKE      CH2O SCC       FAF       TUE       CALC  \\\n",
       "20753    no  2.151809  no  1.330519  0.196680  Sometimes   \n",
       "20754    no  1.000000  no  2.000000  1.000000  Sometimes   \n",
       "20755    no  2.000000  no  1.158040  1.198439         no   \n",
       "20756    no  2.144838  no  0.000000  0.973834         no   \n",
       "20757    no  2.003563  no  0.684487  0.713823  Sometimes   \n",
       "\n",
       "                      MTRANS           NObeyesdad  \n",
       "20753  Public_Transportation      Obesity_Type_II  \n",
       "20754  Public_Transportation  Insufficient_Weight  \n",
       "20755  Public_Transportation      Obesity_Type_II  \n",
       "20756             Automobile  Overweight_Level_II  \n",
       "20757  Public_Transportation      Obesity_Type_II  "
      ]
     },
     "execution_count": 6,
     "metadata": {},
     "output_type": "execute_result"
    }
   ],
   "source": [
    "obesity_train.tail()"
   ]
  },
  {
   "cell_type": "code",
   "execution_count": 7,
   "id": "69aacc63",
   "metadata": {
    "execution": {
     "iopub.execute_input": "2024-09-06T12:44:10.911695Z",
     "iopub.status.busy": "2024-09-06T12:44:10.911266Z",
     "iopub.status.idle": "2024-09-06T12:44:10.960744Z",
     "shell.execute_reply": "2024-09-06T12:44:10.959086Z"
    },
    "papermill": {
     "duration": 0.079781,
     "end_time": "2024-09-06T12:44:10.963591",
     "exception": false,
     "start_time": "2024-09-06T12:44:10.883810",
     "status": "completed"
    },
    "tags": []
   },
   "outputs": [
    {
     "name": "stdout",
     "output_type": "stream",
     "text": [
      "<class 'pandas.core.frame.DataFrame'>\n",
      "RangeIndex: 20758 entries, 0 to 20757\n",
      "Data columns (total 18 columns):\n",
      " #   Column                          Non-Null Count  Dtype  \n",
      "---  ------                          --------------  -----  \n",
      " 0   id                              20758 non-null  int64  \n",
      " 1   Gender                          20758 non-null  object \n",
      " 2   Age                             20758 non-null  float64\n",
      " 3   Height                          20758 non-null  float64\n",
      " 4   Weight                          20758 non-null  float64\n",
      " 5   family_history_with_overweight  20758 non-null  object \n",
      " 6   FAVC                            20758 non-null  object \n",
      " 7   FCVC                            20758 non-null  float64\n",
      " 8   NCP                             20758 non-null  float64\n",
      " 9   CAEC                            20758 non-null  object \n",
      " 10  SMOKE                           20758 non-null  object \n",
      " 11  CH2O                            20758 non-null  float64\n",
      " 12  SCC                             20758 non-null  object \n",
      " 13  FAF                             20758 non-null  float64\n",
      " 14  TUE                             20758 non-null  float64\n",
      " 15  CALC                            20758 non-null  object \n",
      " 16  MTRANS                          20758 non-null  object \n",
      " 17  NObeyesdad                      20758 non-null  object \n",
      "dtypes: float64(8), int64(1), object(9)\n",
      "memory usage: 2.9+ MB\n"
     ]
    }
   ],
   "source": [
    "obesity_train.info()"
   ]
  },
  {
   "cell_type": "code",
   "execution_count": 8,
   "id": "a8c60df1",
   "metadata": {
    "execution": {
     "iopub.execute_input": "2024-09-06T12:44:11.019196Z",
     "iopub.status.busy": "2024-09-06T12:44:11.018709Z",
     "iopub.status.idle": "2024-09-06T12:44:11.068656Z",
     "shell.execute_reply": "2024-09-06T12:44:11.067396Z"
    },
    "papermill": {
     "duration": 0.081217,
     "end_time": "2024-09-06T12:44:11.071357",
     "exception": false,
     "start_time": "2024-09-06T12:44:10.990140",
     "status": "completed"
    },
    "tags": []
   },
   "outputs": [
    {
     "data": {
      "text/html": [
       "<div>\n",
       "<style scoped>\n",
       "    .dataframe tbody tr th:only-of-type {\n",
       "        vertical-align: middle;\n",
       "    }\n",
       "\n",
       "    .dataframe tbody tr th {\n",
       "        vertical-align: top;\n",
       "    }\n",
       "\n",
       "    .dataframe thead th {\n",
       "        text-align: right;\n",
       "    }\n",
       "</style>\n",
       "<table border=\"1\" class=\"dataframe\">\n",
       "  <thead>\n",
       "    <tr style=\"text-align: right;\">\n",
       "      <th></th>\n",
       "      <th>id</th>\n",
       "      <th>Age</th>\n",
       "      <th>Height</th>\n",
       "      <th>Weight</th>\n",
       "      <th>FCVC</th>\n",
       "      <th>NCP</th>\n",
       "      <th>CH2O</th>\n",
       "      <th>FAF</th>\n",
       "      <th>TUE</th>\n",
       "    </tr>\n",
       "  </thead>\n",
       "  <tbody>\n",
       "    <tr>\n",
       "      <th>count</th>\n",
       "      <td>20758.00000</td>\n",
       "      <td>20758.000000</td>\n",
       "      <td>20758.000000</td>\n",
       "      <td>20758.000000</td>\n",
       "      <td>20758.000000</td>\n",
       "      <td>20758.000000</td>\n",
       "      <td>20758.000000</td>\n",
       "      <td>20758.000000</td>\n",
       "      <td>20758.000000</td>\n",
       "    </tr>\n",
       "    <tr>\n",
       "      <th>mean</th>\n",
       "      <td>10378.50000</td>\n",
       "      <td>23.841804</td>\n",
       "      <td>1.700245</td>\n",
       "      <td>87.887768</td>\n",
       "      <td>2.445908</td>\n",
       "      <td>2.761332</td>\n",
       "      <td>2.029418</td>\n",
       "      <td>0.981747</td>\n",
       "      <td>0.616756</td>\n",
       "    </tr>\n",
       "    <tr>\n",
       "      <th>std</th>\n",
       "      <td>5992.46278</td>\n",
       "      <td>5.688072</td>\n",
       "      <td>0.087312</td>\n",
       "      <td>26.379443</td>\n",
       "      <td>0.533218</td>\n",
       "      <td>0.705375</td>\n",
       "      <td>0.608467</td>\n",
       "      <td>0.838302</td>\n",
       "      <td>0.602113</td>\n",
       "    </tr>\n",
       "    <tr>\n",
       "      <th>min</th>\n",
       "      <td>0.00000</td>\n",
       "      <td>14.000000</td>\n",
       "      <td>1.450000</td>\n",
       "      <td>39.000000</td>\n",
       "      <td>1.000000</td>\n",
       "      <td>1.000000</td>\n",
       "      <td>1.000000</td>\n",
       "      <td>0.000000</td>\n",
       "      <td>0.000000</td>\n",
       "    </tr>\n",
       "    <tr>\n",
       "      <th>25%</th>\n",
       "      <td>5189.25000</td>\n",
       "      <td>20.000000</td>\n",
       "      <td>1.631856</td>\n",
       "      <td>66.000000</td>\n",
       "      <td>2.000000</td>\n",
       "      <td>3.000000</td>\n",
       "      <td>1.792022</td>\n",
       "      <td>0.008013</td>\n",
       "      <td>0.000000</td>\n",
       "    </tr>\n",
       "    <tr>\n",
       "      <th>50%</th>\n",
       "      <td>10378.50000</td>\n",
       "      <td>22.815416</td>\n",
       "      <td>1.700000</td>\n",
       "      <td>84.064875</td>\n",
       "      <td>2.393837</td>\n",
       "      <td>3.000000</td>\n",
       "      <td>2.000000</td>\n",
       "      <td>1.000000</td>\n",
       "      <td>0.573887</td>\n",
       "    </tr>\n",
       "    <tr>\n",
       "      <th>75%</th>\n",
       "      <td>15567.75000</td>\n",
       "      <td>26.000000</td>\n",
       "      <td>1.762887</td>\n",
       "      <td>111.600553</td>\n",
       "      <td>3.000000</td>\n",
       "      <td>3.000000</td>\n",
       "      <td>2.549617</td>\n",
       "      <td>1.587406</td>\n",
       "      <td>1.000000</td>\n",
       "    </tr>\n",
       "    <tr>\n",
       "      <th>max</th>\n",
       "      <td>20757.00000</td>\n",
       "      <td>61.000000</td>\n",
       "      <td>1.975663</td>\n",
       "      <td>165.057269</td>\n",
       "      <td>3.000000</td>\n",
       "      <td>4.000000</td>\n",
       "      <td>3.000000</td>\n",
       "      <td>3.000000</td>\n",
       "      <td>2.000000</td>\n",
       "    </tr>\n",
       "  </tbody>\n",
       "</table>\n",
       "</div>"
      ],
      "text/plain": [
       "                id           Age        Height        Weight          FCVC  \\\n",
       "count  20758.00000  20758.000000  20758.000000  20758.000000  20758.000000   \n",
       "mean   10378.50000     23.841804      1.700245     87.887768      2.445908   \n",
       "std     5992.46278      5.688072      0.087312     26.379443      0.533218   \n",
       "min        0.00000     14.000000      1.450000     39.000000      1.000000   \n",
       "25%     5189.25000     20.000000      1.631856     66.000000      2.000000   \n",
       "50%    10378.50000     22.815416      1.700000     84.064875      2.393837   \n",
       "75%    15567.75000     26.000000      1.762887    111.600553      3.000000   \n",
       "max    20757.00000     61.000000      1.975663    165.057269      3.000000   \n",
       "\n",
       "                NCP          CH2O           FAF           TUE  \n",
       "count  20758.000000  20758.000000  20758.000000  20758.000000  \n",
       "mean       2.761332      2.029418      0.981747      0.616756  \n",
       "std        0.705375      0.608467      0.838302      0.602113  \n",
       "min        1.000000      1.000000      0.000000      0.000000  \n",
       "25%        3.000000      1.792022      0.008013      0.000000  \n",
       "50%        3.000000      2.000000      1.000000      0.573887  \n",
       "75%        3.000000      2.549617      1.587406      1.000000  \n",
       "max        4.000000      3.000000      3.000000      2.000000  "
      ]
     },
     "execution_count": 8,
     "metadata": {},
     "output_type": "execute_result"
    }
   ],
   "source": [
    "obesity_train.describe()"
   ]
  },
  {
   "cell_type": "code",
   "execution_count": 9,
   "id": "c1e428e1",
   "metadata": {
    "execution": {
     "iopub.execute_input": "2024-09-06T12:44:11.128347Z",
     "iopub.status.busy": "2024-09-06T12:44:11.126835Z",
     "iopub.status.idle": "2024-09-06T12:44:11.158357Z",
     "shell.execute_reply": "2024-09-06T12:44:11.156952Z"
    },
    "papermill": {
     "duration": 0.062816,
     "end_time": "2024-09-06T12:44:11.161042",
     "exception": false,
     "start_time": "2024-09-06T12:44:11.098226",
     "status": "completed"
    },
    "tags": []
   },
   "outputs": [
    {
     "data": {
      "text/plain": [
       "id                                0\n",
       "Gender                            0\n",
       "Age                               0\n",
       "Height                            0\n",
       "Weight                            0\n",
       "family_history_with_overweight    0\n",
       "FAVC                              0\n",
       "FCVC                              0\n",
       "NCP                               0\n",
       "CAEC                              0\n",
       "SMOKE                             0\n",
       "CH2O                              0\n",
       "SCC                               0\n",
       "FAF                               0\n",
       "TUE                               0\n",
       "CALC                              0\n",
       "MTRANS                            0\n",
       "NObeyesdad                        0\n",
       "dtype: int64"
      ]
     },
     "execution_count": 9,
     "metadata": {},
     "output_type": "execute_result"
    }
   ],
   "source": [
    "obesity_train.isna().sum()"
   ]
  },
  {
   "cell_type": "code",
   "execution_count": 10,
   "id": "8ac549bf",
   "metadata": {
    "execution": {
     "iopub.execute_input": "2024-09-06T12:44:11.216471Z",
     "iopub.status.busy": "2024-09-06T12:44:11.216008Z",
     "iopub.status.idle": "2024-09-06T12:44:11.252017Z",
     "shell.execute_reply": "2024-09-06T12:44:11.250718Z"
    },
    "papermill": {
     "duration": 0.066851,
     "end_time": "2024-09-06T12:44:11.254791",
     "exception": false,
     "start_time": "2024-09-06T12:44:11.187940",
     "status": "completed"
    },
    "tags": []
   },
   "outputs": [
    {
     "data": {
      "text/plain": [
       "0"
      ]
     },
     "execution_count": 10,
     "metadata": {},
     "output_type": "execute_result"
    }
   ],
   "source": [
    "obesity_train.duplicated().sum()"
   ]
  },
  {
   "cell_type": "code",
   "execution_count": 11,
   "id": "e74031c0",
   "metadata": {
    "execution": {
     "iopub.execute_input": "2024-09-06T12:44:11.311927Z",
     "iopub.status.busy": "2024-09-06T12:44:11.310837Z",
     "iopub.status.idle": "2024-09-06T12:44:11.342868Z",
     "shell.execute_reply": "2024-09-06T12:44:11.341734Z"
    },
    "papermill": {
     "duration": 0.063941,
     "end_time": "2024-09-06T12:44:11.345816",
     "exception": false,
     "start_time": "2024-09-06T12:44:11.281875",
     "status": "completed"
    },
    "tags": []
   },
   "outputs": [
    {
     "data": {
      "text/html": [
       "<div>\n",
       "<style scoped>\n",
       "    .dataframe tbody tr th:only-of-type {\n",
       "        vertical-align: middle;\n",
       "    }\n",
       "\n",
       "    .dataframe tbody tr th {\n",
       "        vertical-align: top;\n",
       "    }\n",
       "\n",
       "    .dataframe thead th {\n",
       "        text-align: right;\n",
       "    }\n",
       "</style>\n",
       "<table border=\"1\" class=\"dataframe\">\n",
       "  <thead>\n",
       "    <tr style=\"text-align: right;\">\n",
       "      <th></th>\n",
       "      <th>id</th>\n",
       "      <th>Gender</th>\n",
       "      <th>Age</th>\n",
       "      <th>Height</th>\n",
       "      <th>Weight</th>\n",
       "      <th>family_history_with_overweight</th>\n",
       "      <th>FAVC</th>\n",
       "      <th>FCVC</th>\n",
       "      <th>NCP</th>\n",
       "      <th>CAEC</th>\n",
       "      <th>SMOKE</th>\n",
       "      <th>CH2O</th>\n",
       "      <th>SCC</th>\n",
       "      <th>FAF</th>\n",
       "      <th>TUE</th>\n",
       "      <th>CALC</th>\n",
       "      <th>MTRANS</th>\n",
       "      <th>NObeyesdad</th>\n",
       "    </tr>\n",
       "  </thead>\n",
       "  <tbody>\n",
       "    <tr>\n",
       "      <th>6351</th>\n",
       "      <td>6351</td>\n",
       "      <td>Female</td>\n",
       "      <td>21.412434</td>\n",
       "      <td>1.817231</td>\n",
       "      <td>152.217135</td>\n",
       "      <td>yes</td>\n",
       "      <td>yes</td>\n",
       "      <td>3.0000</td>\n",
       "      <td>3.0</td>\n",
       "      <td>Sometimes</td>\n",
       "      <td>no</td>\n",
       "      <td>2.305521</td>\n",
       "      <td>no</td>\n",
       "      <td>1.956278</td>\n",
       "      <td>0.923760</td>\n",
       "      <td>Sometimes</td>\n",
       "      <td>Public_Transportation</td>\n",
       "      <td>Obesity_Type_III</td>\n",
       "    </tr>\n",
       "    <tr>\n",
       "      <th>4153</th>\n",
       "      <td>4153</td>\n",
       "      <td>Female</td>\n",
       "      <td>25.988668</td>\n",
       "      <td>1.603404</td>\n",
       "      <td>102.555691</td>\n",
       "      <td>yes</td>\n",
       "      <td>yes</td>\n",
       "      <td>3.0000</td>\n",
       "      <td>3.0</td>\n",
       "      <td>Sometimes</td>\n",
       "      <td>no</td>\n",
       "      <td>1.031354</td>\n",
       "      <td>no</td>\n",
       "      <td>0.026033</td>\n",
       "      <td>0.543118</td>\n",
       "      <td>Sometimes</td>\n",
       "      <td>Public_Transportation</td>\n",
       "      <td>Obesity_Type_III</td>\n",
       "    </tr>\n",
       "    <tr>\n",
       "      <th>10285</th>\n",
       "      <td>10285</td>\n",
       "      <td>Female</td>\n",
       "      <td>21.000000</td>\n",
       "      <td>1.610000</td>\n",
       "      <td>66.000000</td>\n",
       "      <td>no</td>\n",
       "      <td>yes</td>\n",
       "      <td>3.0000</td>\n",
       "      <td>3.0</td>\n",
       "      <td>Sometimes</td>\n",
       "      <td>no</td>\n",
       "      <td>3.000000</td>\n",
       "      <td>yes</td>\n",
       "      <td>0.000000</td>\n",
       "      <td>0.000000</td>\n",
       "      <td>Sometimes</td>\n",
       "      <td>Public_Transportation</td>\n",
       "      <td>Overweight_Level_I</td>\n",
       "    </tr>\n",
       "    <tr>\n",
       "      <th>9115</th>\n",
       "      <td>9115</td>\n",
       "      <td>Male</td>\n",
       "      <td>17.210933</td>\n",
       "      <td>1.819557</td>\n",
       "      <td>58.325122</td>\n",
       "      <td>yes</td>\n",
       "      <td>yes</td>\n",
       "      <td>2.5596</td>\n",
       "      <td>4.0</td>\n",
       "      <td>Sometimes</td>\n",
       "      <td>no</td>\n",
       "      <td>2.000000</td>\n",
       "      <td>no</td>\n",
       "      <td>2.000000</td>\n",
       "      <td>0.000000</td>\n",
       "      <td>Sometimes</td>\n",
       "      <td>Automobile</td>\n",
       "      <td>Insufficient_Weight</td>\n",
       "    </tr>\n",
       "    <tr>\n",
       "      <th>1608</th>\n",
       "      <td>1608</td>\n",
       "      <td>Female</td>\n",
       "      <td>26.000000</td>\n",
       "      <td>1.624950</td>\n",
       "      <td>110.676343</td>\n",
       "      <td>yes</td>\n",
       "      <td>yes</td>\n",
       "      <td>3.0000</td>\n",
       "      <td>3.0</td>\n",
       "      <td>Sometimes</td>\n",
       "      <td>no</td>\n",
       "      <td>2.554007</td>\n",
       "      <td>no</td>\n",
       "      <td>0.000000</td>\n",
       "      <td>0.503896</td>\n",
       "      <td>Sometimes</td>\n",
       "      <td>Public_Transportation</td>\n",
       "      <td>Obesity_Type_III</td>\n",
       "    </tr>\n",
       "  </tbody>\n",
       "</table>\n",
       "</div>"
      ],
      "text/plain": [
       "          id  Gender        Age    Height      Weight  \\\n",
       "6351    6351  Female  21.412434  1.817231  152.217135   \n",
       "4153    4153  Female  25.988668  1.603404  102.555691   \n",
       "10285  10285  Female  21.000000  1.610000   66.000000   \n",
       "9115    9115    Male  17.210933  1.819557   58.325122   \n",
       "1608    1608  Female  26.000000  1.624950  110.676343   \n",
       "\n",
       "      family_history_with_overweight FAVC    FCVC  NCP       CAEC SMOKE  \\\n",
       "6351                             yes  yes  3.0000  3.0  Sometimes    no   \n",
       "4153                             yes  yes  3.0000  3.0  Sometimes    no   \n",
       "10285                             no  yes  3.0000  3.0  Sometimes    no   \n",
       "9115                             yes  yes  2.5596  4.0  Sometimes    no   \n",
       "1608                             yes  yes  3.0000  3.0  Sometimes    no   \n",
       "\n",
       "           CH2O  SCC       FAF       TUE       CALC                 MTRANS  \\\n",
       "6351   2.305521   no  1.956278  0.923760  Sometimes  Public_Transportation   \n",
       "4153   1.031354   no  0.026033  0.543118  Sometimes  Public_Transportation   \n",
       "10285  3.000000  yes  0.000000  0.000000  Sometimes  Public_Transportation   \n",
       "9115   2.000000   no  2.000000  0.000000  Sometimes             Automobile   \n",
       "1608   2.554007   no  0.000000  0.503896  Sometimes  Public_Transportation   \n",
       "\n",
       "                NObeyesdad  \n",
       "6351      Obesity_Type_III  \n",
       "4153      Obesity_Type_III  \n",
       "10285   Overweight_Level_I  \n",
       "9115   Insufficient_Weight  \n",
       "1608      Obesity_Type_III  "
      ]
     },
     "execution_count": 11,
     "metadata": {},
     "output_type": "execute_result"
    }
   ],
   "source": [
    "obesity_train.sample(5)"
   ]
  },
  {
   "cell_type": "code",
   "execution_count": 12,
   "id": "8475c9f4",
   "metadata": {
    "collapsed": true,
    "execution": {
     "iopub.execute_input": "2024-09-06T12:44:11.403157Z",
     "iopub.status.busy": "2024-09-06T12:44:11.402613Z",
     "iopub.status.idle": "2024-09-06T12:44:11.411074Z",
     "shell.execute_reply": "2024-09-06T12:44:11.409854Z"
    },
    "jupyter": {
     "outputs_hidden": true
    },
    "papermill": {
     "duration": 0.039962,
     "end_time": "2024-09-06T12:44:11.413760",
     "exception": false,
     "start_time": "2024-09-06T12:44:11.373798",
     "status": "completed"
    },
    "tags": []
   },
   "outputs": [
    {
     "data": {
      "text/plain": [
       "Index(['id', 'Gender', 'Age', 'Height', 'Weight',\n",
       "       'family_history_with_overweight', 'FAVC', 'FCVC', 'NCP', 'CAEC',\n",
       "       'SMOKE', 'CH2O', 'SCC', 'FAF', 'TUE', 'CALC', 'MTRANS', 'NObeyesdad'],\n",
       "      dtype='object')"
      ]
     },
     "execution_count": 12,
     "metadata": {},
     "output_type": "execute_result"
    }
   ],
   "source": [
    "obesity_train.columns"
   ]
  },
  {
   "cell_type": "markdown",
   "id": "9c5fe165",
   "metadata": {
    "papermill": {
     "duration": 0.027397,
     "end_time": "2024-09-06T12:44:11.469686",
     "exception": false,
     "start_time": "2024-09-06T12:44:11.442289",
     "status": "completed"
    },
    "tags": []
   },
   "source": [
    "# Preprocessing"
   ]
  },
  {
   "cell_type": "markdown",
   "id": "65c8c78c",
   "metadata": {
    "papermill": {
     "duration": 0.027899,
     "end_time": "2024-09-06T12:44:11.524973",
     "exception": false,
     "start_time": "2024-09-06T12:44:11.497074",
     "status": "completed"
    },
    "tags": []
   },
   "source": [
    "Transform object to int"
   ]
  },
  {
   "cell_type": "markdown",
   "id": "180d9c85",
   "metadata": {
    "papermill": {
     "duration": 0.027252,
     "end_time": "2024-09-06T12:44:11.580828",
     "exception": false,
     "start_time": "2024-09-06T12:44:11.553576",
     "status": "completed"
    },
    "tags": []
   },
   "source": [
    "### Train Data"
   ]
  },
  {
   "cell_type": "code",
   "execution_count": 13,
   "id": "71de9192",
   "metadata": {
    "execution": {
     "iopub.execute_input": "2024-09-06T12:44:11.695093Z",
     "iopub.status.busy": "2024-09-06T12:44:11.694630Z",
     "iopub.status.idle": "2024-09-06T12:44:11.700204Z",
     "shell.execute_reply": "2024-09-06T12:44:11.698967Z"
    },
    "papermill": {
     "duration": 0.094032,
     "end_time": "2024-09-06T12:44:11.702740",
     "exception": false,
     "start_time": "2024-09-06T12:44:11.608708",
     "status": "completed"
    },
    "tags": []
   },
   "outputs": [],
   "source": [
    "la=LabelEncoder()"
   ]
  },
  {
   "cell_type": "code",
   "execution_count": 14,
   "id": "d424c9cc",
   "metadata": {
    "execution": {
     "iopub.execute_input": "2024-09-06T12:44:11.761957Z",
     "iopub.status.busy": "2024-09-06T12:44:11.761134Z",
     "iopub.status.idle": "2024-09-06T12:44:11.769514Z",
     "shell.execute_reply": "2024-09-06T12:44:11.768351Z"
    },
    "papermill": {
     "duration": 0.040609,
     "end_time": "2024-09-06T12:44:11.772169",
     "exception": false,
     "start_time": "2024-09-06T12:44:11.731560",
     "status": "completed"
    },
    "tags": []
   },
   "outputs": [],
   "source": [
    "ob=obesity_train.select_dtypes(include='object')\n",
    "non_ob=obesity_train.select_dtypes(exclude='object')"
   ]
  },
  {
   "cell_type": "code",
   "execution_count": 15,
   "id": "8c2099d1",
   "metadata": {
    "execution": {
     "iopub.execute_input": "2024-09-06T12:44:11.829312Z",
     "iopub.status.busy": "2024-09-06T12:44:11.828804Z",
     "iopub.status.idle": "2024-09-06T12:44:11.845495Z",
     "shell.execute_reply": "2024-09-06T12:44:11.844288Z"
    },
    "papermill": {
     "duration": 0.048585,
     "end_time": "2024-09-06T12:44:11.848292",
     "exception": false,
     "start_time": "2024-09-06T12:44:11.799707",
     "status": "completed"
    },
    "tags": []
   },
   "outputs": [
    {
     "data": {
      "text/html": [
       "<div>\n",
       "<style scoped>\n",
       "    .dataframe tbody tr th:only-of-type {\n",
       "        vertical-align: middle;\n",
       "    }\n",
       "\n",
       "    .dataframe tbody tr th {\n",
       "        vertical-align: top;\n",
       "    }\n",
       "\n",
       "    .dataframe thead th {\n",
       "        text-align: right;\n",
       "    }\n",
       "</style>\n",
       "<table border=\"1\" class=\"dataframe\">\n",
       "  <thead>\n",
       "    <tr style=\"text-align: right;\">\n",
       "      <th></th>\n",
       "      <th>Gender</th>\n",
       "      <th>family_history_with_overweight</th>\n",
       "      <th>FAVC</th>\n",
       "      <th>CAEC</th>\n",
       "      <th>SMOKE</th>\n",
       "      <th>SCC</th>\n",
       "      <th>CALC</th>\n",
       "      <th>MTRANS</th>\n",
       "      <th>NObeyesdad</th>\n",
       "    </tr>\n",
       "  </thead>\n",
       "  <tbody>\n",
       "    <tr>\n",
       "      <th>0</th>\n",
       "      <td>Male</td>\n",
       "      <td>yes</td>\n",
       "      <td>yes</td>\n",
       "      <td>Sometimes</td>\n",
       "      <td>no</td>\n",
       "      <td>no</td>\n",
       "      <td>Sometimes</td>\n",
       "      <td>Public_Transportation</td>\n",
       "      <td>Overweight_Level_II</td>\n",
       "    </tr>\n",
       "    <tr>\n",
       "      <th>1</th>\n",
       "      <td>Female</td>\n",
       "      <td>yes</td>\n",
       "      <td>yes</td>\n",
       "      <td>Frequently</td>\n",
       "      <td>no</td>\n",
       "      <td>no</td>\n",
       "      <td>no</td>\n",
       "      <td>Automobile</td>\n",
       "      <td>Normal_Weight</td>\n",
       "    </tr>\n",
       "    <tr>\n",
       "      <th>2</th>\n",
       "      <td>Female</td>\n",
       "      <td>yes</td>\n",
       "      <td>yes</td>\n",
       "      <td>Sometimes</td>\n",
       "      <td>no</td>\n",
       "      <td>no</td>\n",
       "      <td>no</td>\n",
       "      <td>Public_Transportation</td>\n",
       "      <td>Insufficient_Weight</td>\n",
       "    </tr>\n",
       "    <tr>\n",
       "      <th>3</th>\n",
       "      <td>Female</td>\n",
       "      <td>yes</td>\n",
       "      <td>yes</td>\n",
       "      <td>Sometimes</td>\n",
       "      <td>no</td>\n",
       "      <td>no</td>\n",
       "      <td>Sometimes</td>\n",
       "      <td>Public_Transportation</td>\n",
       "      <td>Obesity_Type_III</td>\n",
       "    </tr>\n",
       "    <tr>\n",
       "      <th>4</th>\n",
       "      <td>Male</td>\n",
       "      <td>yes</td>\n",
       "      <td>yes</td>\n",
       "      <td>Sometimes</td>\n",
       "      <td>no</td>\n",
       "      <td>no</td>\n",
       "      <td>Sometimes</td>\n",
       "      <td>Public_Transportation</td>\n",
       "      <td>Overweight_Level_II</td>\n",
       "    </tr>\n",
       "  </tbody>\n",
       "</table>\n",
       "</div>"
      ],
      "text/plain": [
       "   Gender family_history_with_overweight FAVC        CAEC SMOKE SCC  \\\n",
       "0    Male                            yes  yes   Sometimes    no  no   \n",
       "1  Female                            yes  yes  Frequently    no  no   \n",
       "2  Female                            yes  yes   Sometimes    no  no   \n",
       "3  Female                            yes  yes   Sometimes    no  no   \n",
       "4    Male                            yes  yes   Sometimes    no  no   \n",
       "\n",
       "        CALC                 MTRANS           NObeyesdad  \n",
       "0  Sometimes  Public_Transportation  Overweight_Level_II  \n",
       "1         no             Automobile        Normal_Weight  \n",
       "2         no  Public_Transportation  Insufficient_Weight  \n",
       "3  Sometimes  Public_Transportation     Obesity_Type_III  \n",
       "4  Sometimes  Public_Transportation  Overweight_Level_II  "
      ]
     },
     "execution_count": 15,
     "metadata": {},
     "output_type": "execute_result"
    }
   ],
   "source": [
    "ob.head()"
   ]
  },
  {
   "cell_type": "code",
   "execution_count": 16,
   "id": "cb62ec9b",
   "metadata": {
    "execution": {
     "iopub.execute_input": "2024-09-06T12:44:11.907378Z",
     "iopub.status.busy": "2024-09-06T12:44:11.906063Z",
     "iopub.status.idle": "2024-09-06T12:44:11.923760Z",
     "shell.execute_reply": "2024-09-06T12:44:11.922454Z"
    },
    "papermill": {
     "duration": 0.050151,
     "end_time": "2024-09-06T12:44:11.926550",
     "exception": false,
     "start_time": "2024-09-06T12:44:11.876399",
     "status": "completed"
    },
    "tags": []
   },
   "outputs": [
    {
     "data": {
      "text/html": [
       "<div>\n",
       "<style scoped>\n",
       "    .dataframe tbody tr th:only-of-type {\n",
       "        vertical-align: middle;\n",
       "    }\n",
       "\n",
       "    .dataframe tbody tr th {\n",
       "        vertical-align: top;\n",
       "    }\n",
       "\n",
       "    .dataframe thead th {\n",
       "        text-align: right;\n",
       "    }\n",
       "</style>\n",
       "<table border=\"1\" class=\"dataframe\">\n",
       "  <thead>\n",
       "    <tr style=\"text-align: right;\">\n",
       "      <th></th>\n",
       "      <th>id</th>\n",
       "      <th>Age</th>\n",
       "      <th>Height</th>\n",
       "      <th>Weight</th>\n",
       "      <th>FCVC</th>\n",
       "      <th>NCP</th>\n",
       "      <th>CH2O</th>\n",
       "      <th>FAF</th>\n",
       "      <th>TUE</th>\n",
       "    </tr>\n",
       "  </thead>\n",
       "  <tbody>\n",
       "    <tr>\n",
       "      <th>0</th>\n",
       "      <td>0</td>\n",
       "      <td>24.443011</td>\n",
       "      <td>1.699998</td>\n",
       "      <td>81.669950</td>\n",
       "      <td>2.000000</td>\n",
       "      <td>2.983297</td>\n",
       "      <td>2.763573</td>\n",
       "      <td>0.000000</td>\n",
       "      <td>0.976473</td>\n",
       "    </tr>\n",
       "    <tr>\n",
       "      <th>1</th>\n",
       "      <td>1</td>\n",
       "      <td>18.000000</td>\n",
       "      <td>1.560000</td>\n",
       "      <td>57.000000</td>\n",
       "      <td>2.000000</td>\n",
       "      <td>3.000000</td>\n",
       "      <td>2.000000</td>\n",
       "      <td>1.000000</td>\n",
       "      <td>1.000000</td>\n",
       "    </tr>\n",
       "    <tr>\n",
       "      <th>2</th>\n",
       "      <td>2</td>\n",
       "      <td>18.000000</td>\n",
       "      <td>1.711460</td>\n",
       "      <td>50.165754</td>\n",
       "      <td>1.880534</td>\n",
       "      <td>1.411685</td>\n",
       "      <td>1.910378</td>\n",
       "      <td>0.866045</td>\n",
       "      <td>1.673584</td>\n",
       "    </tr>\n",
       "    <tr>\n",
       "      <th>3</th>\n",
       "      <td>3</td>\n",
       "      <td>20.952737</td>\n",
       "      <td>1.710730</td>\n",
       "      <td>131.274851</td>\n",
       "      <td>3.000000</td>\n",
       "      <td>3.000000</td>\n",
       "      <td>1.674061</td>\n",
       "      <td>1.467863</td>\n",
       "      <td>0.780199</td>\n",
       "    </tr>\n",
       "    <tr>\n",
       "      <th>4</th>\n",
       "      <td>4</td>\n",
       "      <td>31.641081</td>\n",
       "      <td>1.914186</td>\n",
       "      <td>93.798055</td>\n",
       "      <td>2.679664</td>\n",
       "      <td>1.971472</td>\n",
       "      <td>1.979848</td>\n",
       "      <td>1.967973</td>\n",
       "      <td>0.931721</td>\n",
       "    </tr>\n",
       "  </tbody>\n",
       "</table>\n",
       "</div>"
      ],
      "text/plain": [
       "   id        Age    Height      Weight      FCVC       NCP      CH2O  \\\n",
       "0   0  24.443011  1.699998   81.669950  2.000000  2.983297  2.763573   \n",
       "1   1  18.000000  1.560000   57.000000  2.000000  3.000000  2.000000   \n",
       "2   2  18.000000  1.711460   50.165754  1.880534  1.411685  1.910378   \n",
       "3   3  20.952737  1.710730  131.274851  3.000000  3.000000  1.674061   \n",
       "4   4  31.641081  1.914186   93.798055  2.679664  1.971472  1.979848   \n",
       "\n",
       "        FAF       TUE  \n",
       "0  0.000000  0.976473  \n",
       "1  1.000000  1.000000  \n",
       "2  0.866045  1.673584  \n",
       "3  1.467863  0.780199  \n",
       "4  1.967973  0.931721  "
      ]
     },
     "execution_count": 16,
     "metadata": {},
     "output_type": "execute_result"
    }
   ],
   "source": [
    "non_ob.head()"
   ]
  },
  {
   "cell_type": "code",
   "execution_count": 17,
   "id": "97e0e5ac",
   "metadata": {
    "execution": {
     "iopub.execute_input": "2024-09-06T12:44:11.986019Z",
     "iopub.status.busy": "2024-09-06T12:44:11.985528Z",
     "iopub.status.idle": "2024-09-06T12:44:12.054660Z",
     "shell.execute_reply": "2024-09-06T12:44:12.053486Z"
    },
    "papermill": {
     "duration": 0.102402,
     "end_time": "2024-09-06T12:44:12.057526",
     "exception": false,
     "start_time": "2024-09-06T12:44:11.955124",
     "status": "completed"
    },
    "tags": []
   },
   "outputs": [],
   "source": [
    "for i in range(0,ob.shape[1]):\n",
    "    ob.iloc[:,i]=la.fit_transform(ob.iloc[:,i])"
   ]
  },
  {
   "cell_type": "code",
   "execution_count": 18,
   "id": "2eb8cbb0",
   "metadata": {
    "execution": {
     "iopub.execute_input": "2024-09-06T12:44:12.116872Z",
     "iopub.status.busy": "2024-09-06T12:44:12.116406Z",
     "iopub.status.idle": "2024-09-06T12:44:12.133642Z",
     "shell.execute_reply": "2024-09-06T12:44:12.132298Z"
    },
    "papermill": {
     "duration": 0.049885,
     "end_time": "2024-09-06T12:44:12.136450",
     "exception": false,
     "start_time": "2024-09-06T12:44:12.086565",
     "status": "completed"
    },
    "tags": []
   },
   "outputs": [
    {
     "data": {
      "text/html": [
       "<div>\n",
       "<style scoped>\n",
       "    .dataframe tbody tr th:only-of-type {\n",
       "        vertical-align: middle;\n",
       "    }\n",
       "\n",
       "    .dataframe tbody tr th {\n",
       "        vertical-align: top;\n",
       "    }\n",
       "\n",
       "    .dataframe thead th {\n",
       "        text-align: right;\n",
       "    }\n",
       "</style>\n",
       "<table border=\"1\" class=\"dataframe\">\n",
       "  <thead>\n",
       "    <tr style=\"text-align: right;\">\n",
       "      <th></th>\n",
       "      <th>Gender</th>\n",
       "      <th>family_history_with_overweight</th>\n",
       "      <th>FAVC</th>\n",
       "      <th>CAEC</th>\n",
       "      <th>SMOKE</th>\n",
       "      <th>SCC</th>\n",
       "      <th>CALC</th>\n",
       "      <th>MTRANS</th>\n",
       "      <th>NObeyesdad</th>\n",
       "    </tr>\n",
       "  </thead>\n",
       "  <tbody>\n",
       "    <tr>\n",
       "      <th>0</th>\n",
       "      <td>1</td>\n",
       "      <td>1</td>\n",
       "      <td>1</td>\n",
       "      <td>2</td>\n",
       "      <td>0</td>\n",
       "      <td>0</td>\n",
       "      <td>1</td>\n",
       "      <td>3</td>\n",
       "      <td>6</td>\n",
       "    </tr>\n",
       "    <tr>\n",
       "      <th>1</th>\n",
       "      <td>0</td>\n",
       "      <td>1</td>\n",
       "      <td>1</td>\n",
       "      <td>1</td>\n",
       "      <td>0</td>\n",
       "      <td>0</td>\n",
       "      <td>2</td>\n",
       "      <td>0</td>\n",
       "      <td>1</td>\n",
       "    </tr>\n",
       "    <tr>\n",
       "      <th>2</th>\n",
       "      <td>0</td>\n",
       "      <td>1</td>\n",
       "      <td>1</td>\n",
       "      <td>2</td>\n",
       "      <td>0</td>\n",
       "      <td>0</td>\n",
       "      <td>2</td>\n",
       "      <td>3</td>\n",
       "      <td>0</td>\n",
       "    </tr>\n",
       "    <tr>\n",
       "      <th>3</th>\n",
       "      <td>0</td>\n",
       "      <td>1</td>\n",
       "      <td>1</td>\n",
       "      <td>2</td>\n",
       "      <td>0</td>\n",
       "      <td>0</td>\n",
       "      <td>1</td>\n",
       "      <td>3</td>\n",
       "      <td>4</td>\n",
       "    </tr>\n",
       "    <tr>\n",
       "      <th>4</th>\n",
       "      <td>1</td>\n",
       "      <td>1</td>\n",
       "      <td>1</td>\n",
       "      <td>2</td>\n",
       "      <td>0</td>\n",
       "      <td>0</td>\n",
       "      <td>1</td>\n",
       "      <td>3</td>\n",
       "      <td>6</td>\n",
       "    </tr>\n",
       "  </tbody>\n",
       "</table>\n",
       "</div>"
      ],
      "text/plain": [
       "  Gender family_history_with_overweight FAVC CAEC SMOKE SCC CALC MTRANS  \\\n",
       "0      1                              1    1    2     0   0    1      3   \n",
       "1      0                              1    1    1     0   0    2      0   \n",
       "2      0                              1    1    2     0   0    2      3   \n",
       "3      0                              1    1    2     0   0    1      3   \n",
       "4      1                              1    1    2     0   0    1      3   \n",
       "\n",
       "  NObeyesdad  \n",
       "0          6  \n",
       "1          1  \n",
       "2          0  \n",
       "3          4  \n",
       "4          6  "
      ]
     },
     "execution_count": 18,
     "metadata": {},
     "output_type": "execute_result"
    }
   ],
   "source": [
    "ob.head()"
   ]
  },
  {
   "cell_type": "code",
   "execution_count": 19,
   "id": "44d64c0e",
   "metadata": {
    "execution": {
     "iopub.execute_input": "2024-09-06T12:44:12.198391Z",
     "iopub.status.busy": "2024-09-06T12:44:12.197273Z",
     "iopub.status.idle": "2024-09-06T12:44:12.216205Z",
     "shell.execute_reply": "2024-09-06T12:44:12.215002Z"
    },
    "papermill": {
     "duration": 0.053231,
     "end_time": "2024-09-06T12:44:12.219371",
     "exception": false,
     "start_time": "2024-09-06T12:44:12.166140",
     "status": "completed"
    },
    "tags": []
   },
   "outputs": [],
   "source": [
    "ob=ob.astype('int')"
   ]
  },
  {
   "cell_type": "code",
   "execution_count": 20,
   "id": "660a28e6",
   "metadata": {
    "execution": {
     "iopub.execute_input": "2024-09-06T12:44:12.279763Z",
     "iopub.status.busy": "2024-09-06T12:44:12.278813Z",
     "iopub.status.idle": "2024-09-06T12:44:12.291730Z",
     "shell.execute_reply": "2024-09-06T12:44:12.290486Z"
    },
    "papermill": {
     "duration": 0.046055,
     "end_time": "2024-09-06T12:44:12.294547",
     "exception": false,
     "start_time": "2024-09-06T12:44:12.248492",
     "status": "completed"
    },
    "tags": []
   },
   "outputs": [
    {
     "name": "stdout",
     "output_type": "stream",
     "text": [
      "<class 'pandas.core.frame.DataFrame'>\n",
      "RangeIndex: 20758 entries, 0 to 20757\n",
      "Data columns (total 9 columns):\n",
      " #   Column                          Non-Null Count  Dtype\n",
      "---  ------                          --------------  -----\n",
      " 0   Gender                          20758 non-null  int64\n",
      " 1   family_history_with_overweight  20758 non-null  int64\n",
      " 2   FAVC                            20758 non-null  int64\n",
      " 3   CAEC                            20758 non-null  int64\n",
      " 4   SMOKE                           20758 non-null  int64\n",
      " 5   SCC                             20758 non-null  int64\n",
      " 6   CALC                            20758 non-null  int64\n",
      " 7   MTRANS                          20758 non-null  int64\n",
      " 8   NObeyesdad                      20758 non-null  int64\n",
      "dtypes: int64(9)\n",
      "memory usage: 1.4 MB\n"
     ]
    }
   ],
   "source": [
    "ob.info()"
   ]
  },
  {
   "cell_type": "code",
   "execution_count": 21,
   "id": "bd6c70e0",
   "metadata": {
    "execution": {
     "iopub.execute_input": "2024-09-06T12:44:12.358865Z",
     "iopub.status.busy": "2024-09-06T12:44:12.358230Z",
     "iopub.status.idle": "2024-09-06T12:44:12.369007Z",
     "shell.execute_reply": "2024-09-06T12:44:12.367036Z"
    },
    "papermill": {
     "duration": 0.049033,
     "end_time": "2024-09-06T12:44:12.372435",
     "exception": false,
     "start_time": "2024-09-06T12:44:12.323402",
     "status": "completed"
    },
    "tags": []
   },
   "outputs": [],
   "source": [
    "obesity_train=pd.concat([ob,non_ob],axis=1)"
   ]
  },
  {
   "cell_type": "code",
   "execution_count": 22,
   "id": "5b931aef",
   "metadata": {
    "execution": {
     "iopub.execute_input": "2024-09-06T12:44:12.439336Z",
     "iopub.status.busy": "2024-09-06T12:44:12.438815Z",
     "iopub.status.idle": "2024-09-06T12:44:12.473280Z",
     "shell.execute_reply": "2024-09-06T12:44:12.471658Z"
    },
    "papermill": {
     "duration": 0.069147,
     "end_time": "2024-09-06T12:44:12.477001",
     "exception": false,
     "start_time": "2024-09-06T12:44:12.407854",
     "status": "completed"
    },
    "tags": []
   },
   "outputs": [
    {
     "data": {
      "text/html": [
       "<div>\n",
       "<style scoped>\n",
       "    .dataframe tbody tr th:only-of-type {\n",
       "        vertical-align: middle;\n",
       "    }\n",
       "\n",
       "    .dataframe tbody tr th {\n",
       "        vertical-align: top;\n",
       "    }\n",
       "\n",
       "    .dataframe thead th {\n",
       "        text-align: right;\n",
       "    }\n",
       "</style>\n",
       "<table border=\"1\" class=\"dataframe\">\n",
       "  <thead>\n",
       "    <tr style=\"text-align: right;\">\n",
       "      <th></th>\n",
       "      <th>Gender</th>\n",
       "      <th>family_history_with_overweight</th>\n",
       "      <th>FAVC</th>\n",
       "      <th>CAEC</th>\n",
       "      <th>SMOKE</th>\n",
       "      <th>SCC</th>\n",
       "      <th>CALC</th>\n",
       "      <th>MTRANS</th>\n",
       "      <th>NObeyesdad</th>\n",
       "      <th>id</th>\n",
       "      <th>Age</th>\n",
       "      <th>Height</th>\n",
       "      <th>Weight</th>\n",
       "      <th>FCVC</th>\n",
       "      <th>NCP</th>\n",
       "      <th>CH2O</th>\n",
       "      <th>FAF</th>\n",
       "      <th>TUE</th>\n",
       "    </tr>\n",
       "  </thead>\n",
       "  <tbody>\n",
       "    <tr>\n",
       "      <th>0</th>\n",
       "      <td>1</td>\n",
       "      <td>1</td>\n",
       "      <td>1</td>\n",
       "      <td>2</td>\n",
       "      <td>0</td>\n",
       "      <td>0</td>\n",
       "      <td>1</td>\n",
       "      <td>3</td>\n",
       "      <td>6</td>\n",
       "      <td>0</td>\n",
       "      <td>24.443011</td>\n",
       "      <td>1.699998</td>\n",
       "      <td>81.669950</td>\n",
       "      <td>2.000000</td>\n",
       "      <td>2.983297</td>\n",
       "      <td>2.763573</td>\n",
       "      <td>0.000000</td>\n",
       "      <td>0.976473</td>\n",
       "    </tr>\n",
       "    <tr>\n",
       "      <th>1</th>\n",
       "      <td>0</td>\n",
       "      <td>1</td>\n",
       "      <td>1</td>\n",
       "      <td>1</td>\n",
       "      <td>0</td>\n",
       "      <td>0</td>\n",
       "      <td>2</td>\n",
       "      <td>0</td>\n",
       "      <td>1</td>\n",
       "      <td>1</td>\n",
       "      <td>18.000000</td>\n",
       "      <td>1.560000</td>\n",
       "      <td>57.000000</td>\n",
       "      <td>2.000000</td>\n",
       "      <td>3.000000</td>\n",
       "      <td>2.000000</td>\n",
       "      <td>1.000000</td>\n",
       "      <td>1.000000</td>\n",
       "    </tr>\n",
       "    <tr>\n",
       "      <th>2</th>\n",
       "      <td>0</td>\n",
       "      <td>1</td>\n",
       "      <td>1</td>\n",
       "      <td>2</td>\n",
       "      <td>0</td>\n",
       "      <td>0</td>\n",
       "      <td>2</td>\n",
       "      <td>3</td>\n",
       "      <td>0</td>\n",
       "      <td>2</td>\n",
       "      <td>18.000000</td>\n",
       "      <td>1.711460</td>\n",
       "      <td>50.165754</td>\n",
       "      <td>1.880534</td>\n",
       "      <td>1.411685</td>\n",
       "      <td>1.910378</td>\n",
       "      <td>0.866045</td>\n",
       "      <td>1.673584</td>\n",
       "    </tr>\n",
       "    <tr>\n",
       "      <th>3</th>\n",
       "      <td>0</td>\n",
       "      <td>1</td>\n",
       "      <td>1</td>\n",
       "      <td>2</td>\n",
       "      <td>0</td>\n",
       "      <td>0</td>\n",
       "      <td>1</td>\n",
       "      <td>3</td>\n",
       "      <td>4</td>\n",
       "      <td>3</td>\n",
       "      <td>20.952737</td>\n",
       "      <td>1.710730</td>\n",
       "      <td>131.274851</td>\n",
       "      <td>3.000000</td>\n",
       "      <td>3.000000</td>\n",
       "      <td>1.674061</td>\n",
       "      <td>1.467863</td>\n",
       "      <td>0.780199</td>\n",
       "    </tr>\n",
       "    <tr>\n",
       "      <th>4</th>\n",
       "      <td>1</td>\n",
       "      <td>1</td>\n",
       "      <td>1</td>\n",
       "      <td>2</td>\n",
       "      <td>0</td>\n",
       "      <td>0</td>\n",
       "      <td>1</td>\n",
       "      <td>3</td>\n",
       "      <td>6</td>\n",
       "      <td>4</td>\n",
       "      <td>31.641081</td>\n",
       "      <td>1.914186</td>\n",
       "      <td>93.798055</td>\n",
       "      <td>2.679664</td>\n",
       "      <td>1.971472</td>\n",
       "      <td>1.979848</td>\n",
       "      <td>1.967973</td>\n",
       "      <td>0.931721</td>\n",
       "    </tr>\n",
       "    <tr>\n",
       "      <th>...</th>\n",
       "      <td>...</td>\n",
       "      <td>...</td>\n",
       "      <td>...</td>\n",
       "      <td>...</td>\n",
       "      <td>...</td>\n",
       "      <td>...</td>\n",
       "      <td>...</td>\n",
       "      <td>...</td>\n",
       "      <td>...</td>\n",
       "      <td>...</td>\n",
       "      <td>...</td>\n",
       "      <td>...</td>\n",
       "      <td>...</td>\n",
       "      <td>...</td>\n",
       "      <td>...</td>\n",
       "      <td>...</td>\n",
       "      <td>...</td>\n",
       "      <td>...</td>\n",
       "    </tr>\n",
       "    <tr>\n",
       "      <th>20753</th>\n",
       "      <td>1</td>\n",
       "      <td>1</td>\n",
       "      <td>1</td>\n",
       "      <td>2</td>\n",
       "      <td>0</td>\n",
       "      <td>0</td>\n",
       "      <td>1</td>\n",
       "      <td>3</td>\n",
       "      <td>3</td>\n",
       "      <td>20753</td>\n",
       "      <td>25.137087</td>\n",
       "      <td>1.766626</td>\n",
       "      <td>114.187096</td>\n",
       "      <td>2.919584</td>\n",
       "      <td>3.000000</td>\n",
       "      <td>2.151809</td>\n",
       "      <td>1.330519</td>\n",
       "      <td>0.196680</td>\n",
       "    </tr>\n",
       "    <tr>\n",
       "      <th>20754</th>\n",
       "      <td>1</td>\n",
       "      <td>0</td>\n",
       "      <td>1</td>\n",
       "      <td>1</td>\n",
       "      <td>0</td>\n",
       "      <td>0</td>\n",
       "      <td>1</td>\n",
       "      <td>3</td>\n",
       "      <td>0</td>\n",
       "      <td>20754</td>\n",
       "      <td>18.000000</td>\n",
       "      <td>1.710000</td>\n",
       "      <td>50.000000</td>\n",
       "      <td>3.000000</td>\n",
       "      <td>4.000000</td>\n",
       "      <td>1.000000</td>\n",
       "      <td>2.000000</td>\n",
       "      <td>1.000000</td>\n",
       "    </tr>\n",
       "    <tr>\n",
       "      <th>20755</th>\n",
       "      <td>1</td>\n",
       "      <td>1</td>\n",
       "      <td>1</td>\n",
       "      <td>2</td>\n",
       "      <td>0</td>\n",
       "      <td>0</td>\n",
       "      <td>2</td>\n",
       "      <td>3</td>\n",
       "      <td>3</td>\n",
       "      <td>20755</td>\n",
       "      <td>20.101026</td>\n",
       "      <td>1.819557</td>\n",
       "      <td>105.580491</td>\n",
       "      <td>2.407817</td>\n",
       "      <td>3.000000</td>\n",
       "      <td>2.000000</td>\n",
       "      <td>1.158040</td>\n",
       "      <td>1.198439</td>\n",
       "    </tr>\n",
       "    <tr>\n",
       "      <th>20756</th>\n",
       "      <td>1</td>\n",
       "      <td>1</td>\n",
       "      <td>1</td>\n",
       "      <td>2</td>\n",
       "      <td>0</td>\n",
       "      <td>0</td>\n",
       "      <td>2</td>\n",
       "      <td>0</td>\n",
       "      <td>6</td>\n",
       "      <td>20756</td>\n",
       "      <td>33.852953</td>\n",
       "      <td>1.700000</td>\n",
       "      <td>83.520113</td>\n",
       "      <td>2.671238</td>\n",
       "      <td>1.971472</td>\n",
       "      <td>2.144838</td>\n",
       "      <td>0.000000</td>\n",
       "      <td>0.973834</td>\n",
       "    </tr>\n",
       "    <tr>\n",
       "      <th>20757</th>\n",
       "      <td>1</td>\n",
       "      <td>1</td>\n",
       "      <td>1</td>\n",
       "      <td>2</td>\n",
       "      <td>0</td>\n",
       "      <td>0</td>\n",
       "      <td>1</td>\n",
       "      <td>3</td>\n",
       "      <td>3</td>\n",
       "      <td>20757</td>\n",
       "      <td>26.680376</td>\n",
       "      <td>1.816547</td>\n",
       "      <td>118.134898</td>\n",
       "      <td>3.000000</td>\n",
       "      <td>3.000000</td>\n",
       "      <td>2.003563</td>\n",
       "      <td>0.684487</td>\n",
       "      <td>0.713823</td>\n",
       "    </tr>\n",
       "  </tbody>\n",
       "</table>\n",
       "<p>20758 rows × 18 columns</p>\n",
       "</div>"
      ],
      "text/plain": [
       "       Gender  family_history_with_overweight  FAVC  CAEC  SMOKE  SCC  CALC  \\\n",
       "0           1                               1     1     2      0    0     1   \n",
       "1           0                               1     1     1      0    0     2   \n",
       "2           0                               1     1     2      0    0     2   \n",
       "3           0                               1     1     2      0    0     1   \n",
       "4           1                               1     1     2      0    0     1   \n",
       "...       ...                             ...   ...   ...    ...  ...   ...   \n",
       "20753       1                               1     1     2      0    0     1   \n",
       "20754       1                               0     1     1      0    0     1   \n",
       "20755       1                               1     1     2      0    0     2   \n",
       "20756       1                               1     1     2      0    0     2   \n",
       "20757       1                               1     1     2      0    0     1   \n",
       "\n",
       "       MTRANS  NObeyesdad     id        Age    Height      Weight      FCVC  \\\n",
       "0           3           6      0  24.443011  1.699998   81.669950  2.000000   \n",
       "1           0           1      1  18.000000  1.560000   57.000000  2.000000   \n",
       "2           3           0      2  18.000000  1.711460   50.165754  1.880534   \n",
       "3           3           4      3  20.952737  1.710730  131.274851  3.000000   \n",
       "4           3           6      4  31.641081  1.914186   93.798055  2.679664   \n",
       "...       ...         ...    ...        ...       ...         ...       ...   \n",
       "20753       3           3  20753  25.137087  1.766626  114.187096  2.919584   \n",
       "20754       3           0  20754  18.000000  1.710000   50.000000  3.000000   \n",
       "20755       3           3  20755  20.101026  1.819557  105.580491  2.407817   \n",
       "20756       0           6  20756  33.852953  1.700000   83.520113  2.671238   \n",
       "20757       3           3  20757  26.680376  1.816547  118.134898  3.000000   \n",
       "\n",
       "            NCP      CH2O       FAF       TUE  \n",
       "0      2.983297  2.763573  0.000000  0.976473  \n",
       "1      3.000000  2.000000  1.000000  1.000000  \n",
       "2      1.411685  1.910378  0.866045  1.673584  \n",
       "3      3.000000  1.674061  1.467863  0.780199  \n",
       "4      1.971472  1.979848  1.967973  0.931721  \n",
       "...         ...       ...       ...       ...  \n",
       "20753  3.000000  2.151809  1.330519  0.196680  \n",
       "20754  4.000000  1.000000  2.000000  1.000000  \n",
       "20755  3.000000  2.000000  1.158040  1.198439  \n",
       "20756  1.971472  2.144838  0.000000  0.973834  \n",
       "20757  3.000000  2.003563  0.684487  0.713823  \n",
       "\n",
       "[20758 rows x 18 columns]"
      ]
     },
     "execution_count": 22,
     "metadata": {},
     "output_type": "execute_result"
    }
   ],
   "source": [
    "obesity_train"
   ]
  },
  {
   "cell_type": "markdown",
   "id": "d37f4c32",
   "metadata": {
    "papermill": {
     "duration": 0.02966,
     "end_time": "2024-09-06T12:44:12.540203",
     "exception": false,
     "start_time": "2024-09-06T12:44:12.510543",
     "status": "completed"
    },
    "tags": []
   },
   "source": [
    "### Test Data"
   ]
  },
  {
   "cell_type": "code",
   "execution_count": 23,
   "id": "089433b5",
   "metadata": {
    "execution": {
     "iopub.execute_input": "2024-09-06T12:44:12.601591Z",
     "iopub.status.busy": "2024-09-06T12:44:12.601137Z",
     "iopub.status.idle": "2024-09-06T12:44:12.609789Z",
     "shell.execute_reply": "2024-09-06T12:44:12.607894Z"
    },
    "papermill": {
     "duration": 0.043333,
     "end_time": "2024-09-06T12:44:12.613092",
     "exception": false,
     "start_time": "2024-09-06T12:44:12.569759",
     "status": "completed"
    },
    "tags": []
   },
   "outputs": [],
   "source": [
    "obj=obesity_test.select_dtypes(include='object')\n",
    "non_obj=obesity_test.select_dtypes(exclude='object')"
   ]
  },
  {
   "cell_type": "code",
   "execution_count": 24,
   "id": "780081c5",
   "metadata": {
    "execution": {
     "iopub.execute_input": "2024-09-06T12:44:12.678349Z",
     "iopub.status.busy": "2024-09-06T12:44:12.677758Z",
     "iopub.status.idle": "2024-09-06T12:44:12.696419Z",
     "shell.execute_reply": "2024-09-06T12:44:12.695005Z"
    },
    "papermill": {
     "duration": 0.053334,
     "end_time": "2024-09-06T12:44:12.699714",
     "exception": false,
     "start_time": "2024-09-06T12:44:12.646380",
     "status": "completed"
    },
    "tags": []
   },
   "outputs": [
    {
     "data": {
      "text/html": [
       "<div>\n",
       "<style scoped>\n",
       "    .dataframe tbody tr th:only-of-type {\n",
       "        vertical-align: middle;\n",
       "    }\n",
       "\n",
       "    .dataframe tbody tr th {\n",
       "        vertical-align: top;\n",
       "    }\n",
       "\n",
       "    .dataframe thead th {\n",
       "        text-align: right;\n",
       "    }\n",
       "</style>\n",
       "<table border=\"1\" class=\"dataframe\">\n",
       "  <thead>\n",
       "    <tr style=\"text-align: right;\">\n",
       "      <th></th>\n",
       "      <th>Gender</th>\n",
       "      <th>family_history_with_overweight</th>\n",
       "      <th>FAVC</th>\n",
       "      <th>CAEC</th>\n",
       "      <th>SMOKE</th>\n",
       "      <th>SCC</th>\n",
       "      <th>CALC</th>\n",
       "      <th>MTRANS</th>\n",
       "    </tr>\n",
       "  </thead>\n",
       "  <tbody>\n",
       "    <tr>\n",
       "      <th>0</th>\n",
       "      <td>Male</td>\n",
       "      <td>yes</td>\n",
       "      <td>yes</td>\n",
       "      <td>Sometimes</td>\n",
       "      <td>no</td>\n",
       "      <td>no</td>\n",
       "      <td>Sometimes</td>\n",
       "      <td>Public_Transportation</td>\n",
       "    </tr>\n",
       "    <tr>\n",
       "      <th>1</th>\n",
       "      <td>Female</td>\n",
       "      <td>yes</td>\n",
       "      <td>yes</td>\n",
       "      <td>Sometimes</td>\n",
       "      <td>no</td>\n",
       "      <td>no</td>\n",
       "      <td>Sometimes</td>\n",
       "      <td>Public_Transportation</td>\n",
       "    </tr>\n",
       "    <tr>\n",
       "      <th>2</th>\n",
       "      <td>Female</td>\n",
       "      <td>yes</td>\n",
       "      <td>yes</td>\n",
       "      <td>Sometimes</td>\n",
       "      <td>no</td>\n",
       "      <td>no</td>\n",
       "      <td>Sometimes</td>\n",
       "      <td>Public_Transportation</td>\n",
       "    </tr>\n",
       "    <tr>\n",
       "      <th>3</th>\n",
       "      <td>Male</td>\n",
       "      <td>yes</td>\n",
       "      <td>yes</td>\n",
       "      <td>Sometimes</td>\n",
       "      <td>no</td>\n",
       "      <td>no</td>\n",
       "      <td>Sometimes</td>\n",
       "      <td>Public_Transportation</td>\n",
       "    </tr>\n",
       "    <tr>\n",
       "      <th>4</th>\n",
       "      <td>Female</td>\n",
       "      <td>yes</td>\n",
       "      <td>yes</td>\n",
       "      <td>Sometimes</td>\n",
       "      <td>no</td>\n",
       "      <td>no</td>\n",
       "      <td>Sometimes</td>\n",
       "      <td>Public_Transportation</td>\n",
       "    </tr>\n",
       "  </tbody>\n",
       "</table>\n",
       "</div>"
      ],
      "text/plain": [
       "   Gender family_history_with_overweight FAVC       CAEC SMOKE SCC       CALC  \\\n",
       "0    Male                            yes  yes  Sometimes    no  no  Sometimes   \n",
       "1  Female                            yes  yes  Sometimes    no  no  Sometimes   \n",
       "2  Female                            yes  yes  Sometimes    no  no  Sometimes   \n",
       "3    Male                            yes  yes  Sometimes    no  no  Sometimes   \n",
       "4  Female                            yes  yes  Sometimes    no  no  Sometimes   \n",
       "\n",
       "                  MTRANS  \n",
       "0  Public_Transportation  \n",
       "1  Public_Transportation  \n",
       "2  Public_Transportation  \n",
       "3  Public_Transportation  \n",
       "4  Public_Transportation  "
      ]
     },
     "execution_count": 24,
     "metadata": {},
     "output_type": "execute_result"
    }
   ],
   "source": [
    "obj.head()"
   ]
  },
  {
   "cell_type": "code",
   "execution_count": 25,
   "id": "325fcfcd",
   "metadata": {
    "execution": {
     "iopub.execute_input": "2024-09-06T12:44:12.764183Z",
     "iopub.status.busy": "2024-09-06T12:44:12.762868Z",
     "iopub.status.idle": "2024-09-06T12:44:12.784483Z",
     "shell.execute_reply": "2024-09-06T12:44:12.783076Z"
    },
    "papermill": {
     "duration": 0.056597,
     "end_time": "2024-09-06T12:44:12.787253",
     "exception": false,
     "start_time": "2024-09-06T12:44:12.730656",
     "status": "completed"
    },
    "tags": []
   },
   "outputs": [
    {
     "data": {
      "text/html": [
       "<div>\n",
       "<style scoped>\n",
       "    .dataframe tbody tr th:only-of-type {\n",
       "        vertical-align: middle;\n",
       "    }\n",
       "\n",
       "    .dataframe tbody tr th {\n",
       "        vertical-align: top;\n",
       "    }\n",
       "\n",
       "    .dataframe thead th {\n",
       "        text-align: right;\n",
       "    }\n",
       "</style>\n",
       "<table border=\"1\" class=\"dataframe\">\n",
       "  <thead>\n",
       "    <tr style=\"text-align: right;\">\n",
       "      <th></th>\n",
       "      <th>id</th>\n",
       "      <th>Age</th>\n",
       "      <th>Height</th>\n",
       "      <th>Weight</th>\n",
       "      <th>FCVC</th>\n",
       "      <th>NCP</th>\n",
       "      <th>CH2O</th>\n",
       "      <th>FAF</th>\n",
       "      <th>TUE</th>\n",
       "    </tr>\n",
       "  </thead>\n",
       "  <tbody>\n",
       "    <tr>\n",
       "      <th>0</th>\n",
       "      <td>20758</td>\n",
       "      <td>26.899886</td>\n",
       "      <td>1.848294</td>\n",
       "      <td>120.644178</td>\n",
       "      <td>2.938616</td>\n",
       "      <td>3.000000</td>\n",
       "      <td>2.825629</td>\n",
       "      <td>0.855400</td>\n",
       "      <td>0.000000</td>\n",
       "    </tr>\n",
       "    <tr>\n",
       "      <th>1</th>\n",
       "      <td>20759</td>\n",
       "      <td>21.000000</td>\n",
       "      <td>1.600000</td>\n",
       "      <td>66.000000</td>\n",
       "      <td>2.000000</td>\n",
       "      <td>1.000000</td>\n",
       "      <td>3.000000</td>\n",
       "      <td>1.000000</td>\n",
       "      <td>0.000000</td>\n",
       "    </tr>\n",
       "    <tr>\n",
       "      <th>2</th>\n",
       "      <td>20760</td>\n",
       "      <td>26.000000</td>\n",
       "      <td>1.643355</td>\n",
       "      <td>111.600553</td>\n",
       "      <td>3.000000</td>\n",
       "      <td>3.000000</td>\n",
       "      <td>2.621877</td>\n",
       "      <td>0.000000</td>\n",
       "      <td>0.250502</td>\n",
       "    </tr>\n",
       "    <tr>\n",
       "      <th>3</th>\n",
       "      <td>20761</td>\n",
       "      <td>20.979254</td>\n",
       "      <td>1.553127</td>\n",
       "      <td>103.669116</td>\n",
       "      <td>2.000000</td>\n",
       "      <td>2.977909</td>\n",
       "      <td>2.786417</td>\n",
       "      <td>0.094851</td>\n",
       "      <td>0.000000</td>\n",
       "    </tr>\n",
       "    <tr>\n",
       "      <th>4</th>\n",
       "      <td>20762</td>\n",
       "      <td>26.000000</td>\n",
       "      <td>1.627396</td>\n",
       "      <td>104.835346</td>\n",
       "      <td>3.000000</td>\n",
       "      <td>3.000000</td>\n",
       "      <td>2.653531</td>\n",
       "      <td>0.000000</td>\n",
       "      <td>0.741069</td>\n",
       "    </tr>\n",
       "  </tbody>\n",
       "</table>\n",
       "</div>"
      ],
      "text/plain": [
       "      id        Age    Height      Weight      FCVC       NCP      CH2O  \\\n",
       "0  20758  26.899886  1.848294  120.644178  2.938616  3.000000  2.825629   \n",
       "1  20759  21.000000  1.600000   66.000000  2.000000  1.000000  3.000000   \n",
       "2  20760  26.000000  1.643355  111.600553  3.000000  3.000000  2.621877   \n",
       "3  20761  20.979254  1.553127  103.669116  2.000000  2.977909  2.786417   \n",
       "4  20762  26.000000  1.627396  104.835346  3.000000  3.000000  2.653531   \n",
       "\n",
       "        FAF       TUE  \n",
       "0  0.855400  0.000000  \n",
       "1  1.000000  0.000000  \n",
       "2  0.000000  0.250502  \n",
       "3  0.094851  0.000000  \n",
       "4  0.000000  0.741069  "
      ]
     },
     "execution_count": 25,
     "metadata": {},
     "output_type": "execute_result"
    }
   ],
   "source": [
    "non_obj.head()"
   ]
  },
  {
   "cell_type": "code",
   "execution_count": 26,
   "id": "a6deef37",
   "metadata": {
    "execution": {
     "iopub.execute_input": "2024-09-06T12:44:12.857662Z",
     "iopub.status.busy": "2024-09-06T12:44:12.856465Z",
     "iopub.status.idle": "2024-09-06T12:44:12.911537Z",
     "shell.execute_reply": "2024-09-06T12:44:12.910030Z"
    },
    "papermill": {
     "duration": 0.097106,
     "end_time": "2024-09-06T12:44:12.915519",
     "exception": false,
     "start_time": "2024-09-06T12:44:12.818413",
     "status": "completed"
    },
    "tags": []
   },
   "outputs": [],
   "source": [
    "for i in range(0,obj.shape[1]):\n",
    "    obj.iloc[:,i]=la.fit_transform(obj.iloc[:,i])"
   ]
  },
  {
   "cell_type": "code",
   "execution_count": 27,
   "id": "71eb3370",
   "metadata": {
    "execution": {
     "iopub.execute_input": "2024-09-06T12:44:12.984041Z",
     "iopub.status.busy": "2024-09-06T12:44:12.983453Z",
     "iopub.status.idle": "2024-09-06T12:44:13.003407Z",
     "shell.execute_reply": "2024-09-06T12:44:13.002151Z"
    },
    "papermill": {
     "duration": 0.055701,
     "end_time": "2024-09-06T12:44:13.006468",
     "exception": false,
     "start_time": "2024-09-06T12:44:12.950767",
     "status": "completed"
    },
    "tags": []
   },
   "outputs": [
    {
     "data": {
      "text/html": [
       "<div>\n",
       "<style scoped>\n",
       "    .dataframe tbody tr th:only-of-type {\n",
       "        vertical-align: middle;\n",
       "    }\n",
       "\n",
       "    .dataframe tbody tr th {\n",
       "        vertical-align: top;\n",
       "    }\n",
       "\n",
       "    .dataframe thead th {\n",
       "        text-align: right;\n",
       "    }\n",
       "</style>\n",
       "<table border=\"1\" class=\"dataframe\">\n",
       "  <thead>\n",
       "    <tr style=\"text-align: right;\">\n",
       "      <th></th>\n",
       "      <th>Gender</th>\n",
       "      <th>family_history_with_overweight</th>\n",
       "      <th>FAVC</th>\n",
       "      <th>CAEC</th>\n",
       "      <th>SMOKE</th>\n",
       "      <th>SCC</th>\n",
       "      <th>CALC</th>\n",
       "      <th>MTRANS</th>\n",
       "    </tr>\n",
       "  </thead>\n",
       "  <tbody>\n",
       "    <tr>\n",
       "      <th>0</th>\n",
       "      <td>1</td>\n",
       "      <td>1</td>\n",
       "      <td>1</td>\n",
       "      <td>2</td>\n",
       "      <td>0</td>\n",
       "      <td>0</td>\n",
       "      <td>2</td>\n",
       "      <td>3</td>\n",
       "    </tr>\n",
       "    <tr>\n",
       "      <th>1</th>\n",
       "      <td>0</td>\n",
       "      <td>1</td>\n",
       "      <td>1</td>\n",
       "      <td>2</td>\n",
       "      <td>0</td>\n",
       "      <td>0</td>\n",
       "      <td>2</td>\n",
       "      <td>3</td>\n",
       "    </tr>\n",
       "    <tr>\n",
       "      <th>2</th>\n",
       "      <td>0</td>\n",
       "      <td>1</td>\n",
       "      <td>1</td>\n",
       "      <td>2</td>\n",
       "      <td>0</td>\n",
       "      <td>0</td>\n",
       "      <td>2</td>\n",
       "      <td>3</td>\n",
       "    </tr>\n",
       "    <tr>\n",
       "      <th>3</th>\n",
       "      <td>1</td>\n",
       "      <td>1</td>\n",
       "      <td>1</td>\n",
       "      <td>2</td>\n",
       "      <td>0</td>\n",
       "      <td>0</td>\n",
       "      <td>2</td>\n",
       "      <td>3</td>\n",
       "    </tr>\n",
       "    <tr>\n",
       "      <th>4</th>\n",
       "      <td>0</td>\n",
       "      <td>1</td>\n",
       "      <td>1</td>\n",
       "      <td>2</td>\n",
       "      <td>0</td>\n",
       "      <td>0</td>\n",
       "      <td>2</td>\n",
       "      <td>3</td>\n",
       "    </tr>\n",
       "  </tbody>\n",
       "</table>\n",
       "</div>"
      ],
      "text/plain": [
       "  Gender family_history_with_overweight FAVC CAEC SMOKE SCC CALC MTRANS\n",
       "0      1                              1    1    2     0   0    2      3\n",
       "1      0                              1    1    2     0   0    2      3\n",
       "2      0                              1    1    2     0   0    2      3\n",
       "3      1                              1    1    2     0   0    2      3\n",
       "4      0                              1    1    2     0   0    2      3"
      ]
     },
     "execution_count": 27,
     "metadata": {},
     "output_type": "execute_result"
    }
   ],
   "source": [
    "obj.head()"
   ]
  },
  {
   "cell_type": "code",
   "execution_count": 28,
   "id": "30e2a4ed",
   "metadata": {
    "execution": {
     "iopub.execute_input": "2024-09-06T12:44:13.075218Z",
     "iopub.status.busy": "2024-09-06T12:44:13.074615Z",
     "iopub.status.idle": "2024-09-06T12:44:13.091441Z",
     "shell.execute_reply": "2024-09-06T12:44:13.090165Z"
    },
    "papermill": {
     "duration": 0.053099,
     "end_time": "2024-09-06T12:44:13.094320",
     "exception": false,
     "start_time": "2024-09-06T12:44:13.041221",
     "status": "completed"
    },
    "tags": []
   },
   "outputs": [],
   "source": [
    "obj=obj.astype('int')"
   ]
  },
  {
   "cell_type": "code",
   "execution_count": 29,
   "id": "cf188813",
   "metadata": {
    "execution": {
     "iopub.execute_input": "2024-09-06T12:44:13.161697Z",
     "iopub.status.busy": "2024-09-06T12:44:13.161080Z",
     "iopub.status.idle": "2024-09-06T12:44:13.178484Z",
     "shell.execute_reply": "2024-09-06T12:44:13.177044Z"
    },
    "papermill": {
     "duration": 0.056592,
     "end_time": "2024-09-06T12:44:13.181843",
     "exception": false,
     "start_time": "2024-09-06T12:44:13.125251",
     "status": "completed"
    },
    "tags": []
   },
   "outputs": [
    {
     "name": "stdout",
     "output_type": "stream",
     "text": [
      "<class 'pandas.core.frame.DataFrame'>\n",
      "RangeIndex: 13840 entries, 0 to 13839\n",
      "Data columns (total 8 columns):\n",
      " #   Column                          Non-Null Count  Dtype\n",
      "---  ------                          --------------  -----\n",
      " 0   Gender                          13840 non-null  int64\n",
      " 1   family_history_with_overweight  13840 non-null  int64\n",
      " 2   FAVC                            13840 non-null  int64\n",
      " 3   CAEC                            13840 non-null  int64\n",
      " 4   SMOKE                           13840 non-null  int64\n",
      " 5   SCC                             13840 non-null  int64\n",
      " 6   CALC                            13840 non-null  int64\n",
      " 7   MTRANS                          13840 non-null  int64\n",
      "dtypes: int64(8)\n",
      "memory usage: 865.1 KB\n"
     ]
    }
   ],
   "source": [
    "obj.info()"
   ]
  },
  {
   "cell_type": "code",
   "execution_count": 30,
   "id": "52f12444",
   "metadata": {
    "execution": {
     "iopub.execute_input": "2024-09-06T12:44:13.247061Z",
     "iopub.status.busy": "2024-09-06T12:44:13.246016Z",
     "iopub.status.idle": "2024-09-06T12:44:13.254522Z",
     "shell.execute_reply": "2024-09-06T12:44:13.253072Z"
    },
    "papermill": {
     "duration": 0.044527,
     "end_time": "2024-09-06T12:44:13.257823",
     "exception": false,
     "start_time": "2024-09-06T12:44:13.213296",
     "status": "completed"
    },
    "tags": []
   },
   "outputs": [],
   "source": [
    "obesity_test=pd.concat([obj,non_obj],axis=1)"
   ]
  },
  {
   "cell_type": "code",
   "execution_count": 31,
   "id": "f88285a2",
   "metadata": {
    "execution": {
     "iopub.execute_input": "2024-09-06T12:44:13.326164Z",
     "iopub.status.busy": "2024-09-06T12:44:13.324843Z",
     "iopub.status.idle": "2024-09-06T12:44:13.356367Z",
     "shell.execute_reply": "2024-09-06T12:44:13.355052Z"
    },
    "papermill": {
     "duration": 0.067083,
     "end_time": "2024-09-06T12:44:13.359141",
     "exception": false,
     "start_time": "2024-09-06T12:44:13.292058",
     "status": "completed"
    },
    "tags": []
   },
   "outputs": [
    {
     "data": {
      "text/html": [
       "<div>\n",
       "<style scoped>\n",
       "    .dataframe tbody tr th:only-of-type {\n",
       "        vertical-align: middle;\n",
       "    }\n",
       "\n",
       "    .dataframe tbody tr th {\n",
       "        vertical-align: top;\n",
       "    }\n",
       "\n",
       "    .dataframe thead th {\n",
       "        text-align: right;\n",
       "    }\n",
       "</style>\n",
       "<table border=\"1\" class=\"dataframe\">\n",
       "  <thead>\n",
       "    <tr style=\"text-align: right;\">\n",
       "      <th></th>\n",
       "      <th>Gender</th>\n",
       "      <th>family_history_with_overweight</th>\n",
       "      <th>FAVC</th>\n",
       "      <th>CAEC</th>\n",
       "      <th>SMOKE</th>\n",
       "      <th>SCC</th>\n",
       "      <th>CALC</th>\n",
       "      <th>MTRANS</th>\n",
       "      <th>id</th>\n",
       "      <th>Age</th>\n",
       "      <th>Height</th>\n",
       "      <th>Weight</th>\n",
       "      <th>FCVC</th>\n",
       "      <th>NCP</th>\n",
       "      <th>CH2O</th>\n",
       "      <th>FAF</th>\n",
       "      <th>TUE</th>\n",
       "    </tr>\n",
       "  </thead>\n",
       "  <tbody>\n",
       "    <tr>\n",
       "      <th>0</th>\n",
       "      <td>1</td>\n",
       "      <td>1</td>\n",
       "      <td>1</td>\n",
       "      <td>2</td>\n",
       "      <td>0</td>\n",
       "      <td>0</td>\n",
       "      <td>2</td>\n",
       "      <td>3</td>\n",
       "      <td>20758</td>\n",
       "      <td>26.899886</td>\n",
       "      <td>1.848294</td>\n",
       "      <td>120.644178</td>\n",
       "      <td>2.938616</td>\n",
       "      <td>3.000000</td>\n",
       "      <td>2.825629</td>\n",
       "      <td>0.855400</td>\n",
       "      <td>0.000000</td>\n",
       "    </tr>\n",
       "    <tr>\n",
       "      <th>1</th>\n",
       "      <td>0</td>\n",
       "      <td>1</td>\n",
       "      <td>1</td>\n",
       "      <td>2</td>\n",
       "      <td>0</td>\n",
       "      <td>0</td>\n",
       "      <td>2</td>\n",
       "      <td>3</td>\n",
       "      <td>20759</td>\n",
       "      <td>21.000000</td>\n",
       "      <td>1.600000</td>\n",
       "      <td>66.000000</td>\n",
       "      <td>2.000000</td>\n",
       "      <td>1.000000</td>\n",
       "      <td>3.000000</td>\n",
       "      <td>1.000000</td>\n",
       "      <td>0.000000</td>\n",
       "    </tr>\n",
       "    <tr>\n",
       "      <th>2</th>\n",
       "      <td>0</td>\n",
       "      <td>1</td>\n",
       "      <td>1</td>\n",
       "      <td>2</td>\n",
       "      <td>0</td>\n",
       "      <td>0</td>\n",
       "      <td>2</td>\n",
       "      <td>3</td>\n",
       "      <td>20760</td>\n",
       "      <td>26.000000</td>\n",
       "      <td>1.643355</td>\n",
       "      <td>111.600553</td>\n",
       "      <td>3.000000</td>\n",
       "      <td>3.000000</td>\n",
       "      <td>2.621877</td>\n",
       "      <td>0.000000</td>\n",
       "      <td>0.250502</td>\n",
       "    </tr>\n",
       "    <tr>\n",
       "      <th>3</th>\n",
       "      <td>1</td>\n",
       "      <td>1</td>\n",
       "      <td>1</td>\n",
       "      <td>2</td>\n",
       "      <td>0</td>\n",
       "      <td>0</td>\n",
       "      <td>2</td>\n",
       "      <td>3</td>\n",
       "      <td>20761</td>\n",
       "      <td>20.979254</td>\n",
       "      <td>1.553127</td>\n",
       "      <td>103.669116</td>\n",
       "      <td>2.000000</td>\n",
       "      <td>2.977909</td>\n",
       "      <td>2.786417</td>\n",
       "      <td>0.094851</td>\n",
       "      <td>0.000000</td>\n",
       "    </tr>\n",
       "    <tr>\n",
       "      <th>4</th>\n",
       "      <td>0</td>\n",
       "      <td>1</td>\n",
       "      <td>1</td>\n",
       "      <td>2</td>\n",
       "      <td>0</td>\n",
       "      <td>0</td>\n",
       "      <td>2</td>\n",
       "      <td>3</td>\n",
       "      <td>20762</td>\n",
       "      <td>26.000000</td>\n",
       "      <td>1.627396</td>\n",
       "      <td>104.835346</td>\n",
       "      <td>3.000000</td>\n",
       "      <td>3.000000</td>\n",
       "      <td>2.653531</td>\n",
       "      <td>0.000000</td>\n",
       "      <td>0.741069</td>\n",
       "    </tr>\n",
       "    <tr>\n",
       "      <th>...</th>\n",
       "      <td>...</td>\n",
       "      <td>...</td>\n",
       "      <td>...</td>\n",
       "      <td>...</td>\n",
       "      <td>...</td>\n",
       "      <td>...</td>\n",
       "      <td>...</td>\n",
       "      <td>...</td>\n",
       "      <td>...</td>\n",
       "      <td>...</td>\n",
       "      <td>...</td>\n",
       "      <td>...</td>\n",
       "      <td>...</td>\n",
       "      <td>...</td>\n",
       "      <td>...</td>\n",
       "      <td>...</td>\n",
       "      <td>...</td>\n",
       "    </tr>\n",
       "    <tr>\n",
       "      <th>13835</th>\n",
       "      <td>1</td>\n",
       "      <td>1</td>\n",
       "      <td>0</td>\n",
       "      <td>2</td>\n",
       "      <td>0</td>\n",
       "      <td>0</td>\n",
       "      <td>2</td>\n",
       "      <td>3</td>\n",
       "      <td>34593</td>\n",
       "      <td>23.327836</td>\n",
       "      <td>1.721384</td>\n",
       "      <td>78.030383</td>\n",
       "      <td>2.813234</td>\n",
       "      <td>3.000000</td>\n",
       "      <td>1.000000</td>\n",
       "      <td>0.807076</td>\n",
       "      <td>0.778632</td>\n",
       "    </tr>\n",
       "    <tr>\n",
       "      <th>13836</th>\n",
       "      <td>0</td>\n",
       "      <td>0</td>\n",
       "      <td>1</td>\n",
       "      <td>2</td>\n",
       "      <td>0</td>\n",
       "      <td>0</td>\n",
       "      <td>2</td>\n",
       "      <td>3</td>\n",
       "      <td>34594</td>\n",
       "      <td>29.000000</td>\n",
       "      <td>1.590000</td>\n",
       "      <td>62.000000</td>\n",
       "      <td>3.000000</td>\n",
       "      <td>3.000000</td>\n",
       "      <td>2.000000</td>\n",
       "      <td>0.000000</td>\n",
       "      <td>0.000000</td>\n",
       "    </tr>\n",
       "    <tr>\n",
       "      <th>13837</th>\n",
       "      <td>0</td>\n",
       "      <td>0</td>\n",
       "      <td>1</td>\n",
       "      <td>1</td>\n",
       "      <td>0</td>\n",
       "      <td>0</td>\n",
       "      <td>2</td>\n",
       "      <td>3</td>\n",
       "      <td>34595</td>\n",
       "      <td>22.935612</td>\n",
       "      <td>1.585547</td>\n",
       "      <td>44.376637</td>\n",
       "      <td>3.000000</td>\n",
       "      <td>2.273740</td>\n",
       "      <td>2.000000</td>\n",
       "      <td>1.949840</td>\n",
       "      <td>1.000000</td>\n",
       "    </tr>\n",
       "    <tr>\n",
       "      <th>13838</th>\n",
       "      <td>1</td>\n",
       "      <td>1</td>\n",
       "      <td>1</td>\n",
       "      <td>2</td>\n",
       "      <td>0</td>\n",
       "      <td>0</td>\n",
       "      <td>3</td>\n",
       "      <td>3</td>\n",
       "      <td>34596</td>\n",
       "      <td>21.000000</td>\n",
       "      <td>1.620000</td>\n",
       "      <td>53.000000</td>\n",
       "      <td>2.000000</td>\n",
       "      <td>3.000000</td>\n",
       "      <td>2.000000</td>\n",
       "      <td>3.000000</td>\n",
       "      <td>2.000000</td>\n",
       "    </tr>\n",
       "    <tr>\n",
       "      <th>13839</th>\n",
       "      <td>1</td>\n",
       "      <td>1</td>\n",
       "      <td>1</td>\n",
       "      <td>2</td>\n",
       "      <td>0</td>\n",
       "      <td>0</td>\n",
       "      <td>2</td>\n",
       "      <td>3</td>\n",
       "      <td>34597</td>\n",
       "      <td>26.490926</td>\n",
       "      <td>1.812259</td>\n",
       "      <td>120.980508</td>\n",
       "      <td>2.744994</td>\n",
       "      <td>3.000000</td>\n",
       "      <td>2.205977</td>\n",
       "      <td>1.304291</td>\n",
       "      <td>0.630866</td>\n",
       "    </tr>\n",
       "  </tbody>\n",
       "</table>\n",
       "<p>13840 rows × 17 columns</p>\n",
       "</div>"
      ],
      "text/plain": [
       "       Gender  family_history_with_overweight  FAVC  CAEC  SMOKE  SCC  CALC  \\\n",
       "0           1                               1     1     2      0    0     2   \n",
       "1           0                               1     1     2      0    0     2   \n",
       "2           0                               1     1     2      0    0     2   \n",
       "3           1                               1     1     2      0    0     2   \n",
       "4           0                               1     1     2      0    0     2   \n",
       "...       ...                             ...   ...   ...    ...  ...   ...   \n",
       "13835       1                               1     0     2      0    0     2   \n",
       "13836       0                               0     1     2      0    0     2   \n",
       "13837       0                               0     1     1      0    0     2   \n",
       "13838       1                               1     1     2      0    0     3   \n",
       "13839       1                               1     1     2      0    0     2   \n",
       "\n",
       "       MTRANS     id        Age    Height      Weight      FCVC       NCP  \\\n",
       "0           3  20758  26.899886  1.848294  120.644178  2.938616  3.000000   \n",
       "1           3  20759  21.000000  1.600000   66.000000  2.000000  1.000000   \n",
       "2           3  20760  26.000000  1.643355  111.600553  3.000000  3.000000   \n",
       "3           3  20761  20.979254  1.553127  103.669116  2.000000  2.977909   \n",
       "4           3  20762  26.000000  1.627396  104.835346  3.000000  3.000000   \n",
       "...       ...    ...        ...       ...         ...       ...       ...   \n",
       "13835       3  34593  23.327836  1.721384   78.030383  2.813234  3.000000   \n",
       "13836       3  34594  29.000000  1.590000   62.000000  3.000000  3.000000   \n",
       "13837       3  34595  22.935612  1.585547   44.376637  3.000000  2.273740   \n",
       "13838       3  34596  21.000000  1.620000   53.000000  2.000000  3.000000   \n",
       "13839       3  34597  26.490926  1.812259  120.980508  2.744994  3.000000   \n",
       "\n",
       "           CH2O       FAF       TUE  \n",
       "0      2.825629  0.855400  0.000000  \n",
       "1      3.000000  1.000000  0.000000  \n",
       "2      2.621877  0.000000  0.250502  \n",
       "3      2.786417  0.094851  0.000000  \n",
       "4      2.653531  0.000000  0.741069  \n",
       "...         ...       ...       ...  \n",
       "13835  1.000000  0.807076  0.778632  \n",
       "13836  2.000000  0.000000  0.000000  \n",
       "13837  2.000000  1.949840  1.000000  \n",
       "13838  2.000000  3.000000  2.000000  \n",
       "13839  2.205977  1.304291  0.630866  \n",
       "\n",
       "[13840 rows x 17 columns]"
      ]
     },
     "execution_count": 31,
     "metadata": {},
     "output_type": "execute_result"
    }
   ],
   "source": [
    "obesity_test"
   ]
  },
  {
   "cell_type": "markdown",
   "id": "41282fc8",
   "metadata": {
    "papermill": {
     "duration": 0.031538,
     "end_time": "2024-09-06T12:44:13.423209",
     "exception": false,
     "start_time": "2024-09-06T12:44:13.391671",
     "status": "completed"
    },
    "tags": []
   },
   "source": [
    "scaler for large number"
   ]
  },
  {
   "cell_type": "code",
   "execution_count": 32,
   "id": "615d03e9",
   "metadata": {
    "execution": {
     "iopub.execute_input": "2024-09-06T12:44:13.487415Z",
     "iopub.status.busy": "2024-09-06T12:44:13.486936Z",
     "iopub.status.idle": "2024-09-06T12:44:13.492486Z",
     "shell.execute_reply": "2024-09-06T12:44:13.491097Z"
    },
    "papermill": {
     "duration": 0.041169,
     "end_time": "2024-09-06T12:44:13.495409",
     "exception": false,
     "start_time": "2024-09-06T12:44:13.454240",
     "status": "completed"
    },
    "tags": []
   },
   "outputs": [],
   "source": [
    "ss=StandardScaler()"
   ]
  },
  {
   "cell_type": "code",
   "execution_count": 33,
   "id": "275c29f2",
   "metadata": {
    "execution": {
     "iopub.execute_input": "2024-09-06T12:44:13.563400Z",
     "iopub.status.busy": "2024-09-06T12:44:13.562842Z",
     "iopub.status.idle": "2024-09-06T12:44:13.580706Z",
     "shell.execute_reply": "2024-09-06T12:44:13.579500Z"
    },
    "papermill": {
     "duration": 0.053426,
     "end_time": "2024-09-06T12:44:13.583583",
     "exception": false,
     "start_time": "2024-09-06T12:44:13.530157",
     "status": "completed"
    },
    "tags": []
   },
   "outputs": [],
   "source": [
    "obesity_test['Age']=ss.fit_transform(obesity_test[['Age']])\n",
    "obesity_test['Weight']=ss.fit_transform(obesity_test[['Weight']])"
   ]
  },
  {
   "cell_type": "code",
   "execution_count": 34,
   "id": "7b504977",
   "metadata": {
    "execution": {
     "iopub.execute_input": "2024-09-06T12:44:13.649727Z",
     "iopub.status.busy": "2024-09-06T12:44:13.648804Z",
     "iopub.status.idle": "2024-09-06T12:44:13.679927Z",
     "shell.execute_reply": "2024-09-06T12:44:13.678733Z"
    },
    "papermill": {
     "duration": 0.067392,
     "end_time": "2024-09-06T12:44:13.683089",
     "exception": false,
     "start_time": "2024-09-06T12:44:13.615697",
     "status": "completed"
    },
    "tags": []
   },
   "outputs": [
    {
     "data": {
      "text/html": [
       "<div>\n",
       "<style scoped>\n",
       "    .dataframe tbody tr th:only-of-type {\n",
       "        vertical-align: middle;\n",
       "    }\n",
       "\n",
       "    .dataframe tbody tr th {\n",
       "        vertical-align: top;\n",
       "    }\n",
       "\n",
       "    .dataframe thead th {\n",
       "        text-align: right;\n",
       "    }\n",
       "</style>\n",
       "<table border=\"1\" class=\"dataframe\">\n",
       "  <thead>\n",
       "    <tr style=\"text-align: right;\">\n",
       "      <th></th>\n",
       "      <th>Gender</th>\n",
       "      <th>family_history_with_overweight</th>\n",
       "      <th>FAVC</th>\n",
       "      <th>CAEC</th>\n",
       "      <th>SMOKE</th>\n",
       "      <th>SCC</th>\n",
       "      <th>CALC</th>\n",
       "      <th>MTRANS</th>\n",
       "      <th>id</th>\n",
       "      <th>Age</th>\n",
       "      <th>Height</th>\n",
       "      <th>Weight</th>\n",
       "      <th>FCVC</th>\n",
       "      <th>NCP</th>\n",
       "      <th>CH2O</th>\n",
       "      <th>FAF</th>\n",
       "      <th>TUE</th>\n",
       "    </tr>\n",
       "  </thead>\n",
       "  <tbody>\n",
       "    <tr>\n",
       "      <th>0</th>\n",
       "      <td>1</td>\n",
       "      <td>1</td>\n",
       "      <td>1</td>\n",
       "      <td>2</td>\n",
       "      <td>0</td>\n",
       "      <td>0</td>\n",
       "      <td>2</td>\n",
       "      <td>3</td>\n",
       "      <td>20758</td>\n",
       "      <td>0.508163</td>\n",
       "      <td>1.848294</td>\n",
       "      <td>1.273786</td>\n",
       "      <td>2.938616</td>\n",
       "      <td>3.000000</td>\n",
       "      <td>2.825629</td>\n",
       "      <td>0.855400</td>\n",
       "      <td>0.000000</td>\n",
       "    </tr>\n",
       "    <tr>\n",
       "      <th>1</th>\n",
       "      <td>0</td>\n",
       "      <td>1</td>\n",
       "      <td>1</td>\n",
       "      <td>2</td>\n",
       "      <td>0</td>\n",
       "      <td>0</td>\n",
       "      <td>2</td>\n",
       "      <td>3</td>\n",
       "      <td>20759</td>\n",
       "      <td>-0.509128</td>\n",
       "      <td>1.600000</td>\n",
       "      <td>-0.818988</td>\n",
       "      <td>2.000000</td>\n",
       "      <td>1.000000</td>\n",
       "      <td>3.000000</td>\n",
       "      <td>1.000000</td>\n",
       "      <td>0.000000</td>\n",
       "    </tr>\n",
       "    <tr>\n",
       "      <th>2</th>\n",
       "      <td>0</td>\n",
       "      <td>1</td>\n",
       "      <td>1</td>\n",
       "      <td>2</td>\n",
       "      <td>0</td>\n",
       "      <td>0</td>\n",
       "      <td>2</td>\n",
       "      <td>3</td>\n",
       "      <td>20760</td>\n",
       "      <td>0.353000</td>\n",
       "      <td>1.643355</td>\n",
       "      <td>0.927432</td>\n",
       "      <td>3.000000</td>\n",
       "      <td>3.000000</td>\n",
       "      <td>2.621877</td>\n",
       "      <td>0.000000</td>\n",
       "      <td>0.250502</td>\n",
       "    </tr>\n",
       "    <tr>\n",
       "      <th>3</th>\n",
       "      <td>1</td>\n",
       "      <td>1</td>\n",
       "      <td>1</td>\n",
       "      <td>2</td>\n",
       "      <td>0</td>\n",
       "      <td>0</td>\n",
       "      <td>2</td>\n",
       "      <td>3</td>\n",
       "      <td>20761</td>\n",
       "      <td>-0.512705</td>\n",
       "      <td>1.553127</td>\n",
       "      <td>0.623672</td>\n",
       "      <td>2.000000</td>\n",
       "      <td>2.977909</td>\n",
       "      <td>2.786417</td>\n",
       "      <td>0.094851</td>\n",
       "      <td>0.000000</td>\n",
       "    </tr>\n",
       "    <tr>\n",
       "      <th>4</th>\n",
       "      <td>0</td>\n",
       "      <td>1</td>\n",
       "      <td>1</td>\n",
       "      <td>2</td>\n",
       "      <td>0</td>\n",
       "      <td>0</td>\n",
       "      <td>2</td>\n",
       "      <td>3</td>\n",
       "      <td>20762</td>\n",
       "      <td>0.353000</td>\n",
       "      <td>1.627396</td>\n",
       "      <td>0.668336</td>\n",
       "      <td>3.000000</td>\n",
       "      <td>3.000000</td>\n",
       "      <td>2.653531</td>\n",
       "      <td>0.000000</td>\n",
       "      <td>0.741069</td>\n",
       "    </tr>\n",
       "    <tr>\n",
       "      <th>...</th>\n",
       "      <td>...</td>\n",
       "      <td>...</td>\n",
       "      <td>...</td>\n",
       "      <td>...</td>\n",
       "      <td>...</td>\n",
       "      <td>...</td>\n",
       "      <td>...</td>\n",
       "      <td>...</td>\n",
       "      <td>...</td>\n",
       "      <td>...</td>\n",
       "      <td>...</td>\n",
       "      <td>...</td>\n",
       "      <td>...</td>\n",
       "      <td>...</td>\n",
       "      <td>...</td>\n",
       "      <td>...</td>\n",
       "      <td>...</td>\n",
       "    </tr>\n",
       "    <tr>\n",
       "      <th>13835</th>\n",
       "      <td>1</td>\n",
       "      <td>1</td>\n",
       "      <td>0</td>\n",
       "      <td>2</td>\n",
       "      <td>0</td>\n",
       "      <td>0</td>\n",
       "      <td>2</td>\n",
       "      <td>3</td>\n",
       "      <td>34593</td>\n",
       "      <td>-0.107749</td>\n",
       "      <td>1.721384</td>\n",
       "      <td>-0.358246</td>\n",
       "      <td>2.813234</td>\n",
       "      <td>3.000000</td>\n",
       "      <td>1.000000</td>\n",
       "      <td>0.807076</td>\n",
       "      <td>0.778632</td>\n",
       "    </tr>\n",
       "    <tr>\n",
       "      <th>13836</th>\n",
       "      <td>0</td>\n",
       "      <td>0</td>\n",
       "      <td>1</td>\n",
       "      <td>2</td>\n",
       "      <td>0</td>\n",
       "      <td>0</td>\n",
       "      <td>2</td>\n",
       "      <td>3</td>\n",
       "      <td>34594</td>\n",
       "      <td>0.870277</td>\n",
       "      <td>1.590000</td>\n",
       "      <td>-0.972181</td>\n",
       "      <td>3.000000</td>\n",
       "      <td>3.000000</td>\n",
       "      <td>2.000000</td>\n",
       "      <td>0.000000</td>\n",
       "      <td>0.000000</td>\n",
       "    </tr>\n",
       "    <tr>\n",
       "      <th>13837</th>\n",
       "      <td>0</td>\n",
       "      <td>0</td>\n",
       "      <td>1</td>\n",
       "      <td>1</td>\n",
       "      <td>0</td>\n",
       "      <td>0</td>\n",
       "      <td>2</td>\n",
       "      <td>3</td>\n",
       "      <td>34595</td>\n",
       "      <td>-0.175379</td>\n",
       "      <td>1.585547</td>\n",
       "      <td>-1.647125</td>\n",
       "      <td>3.000000</td>\n",
       "      <td>2.273740</td>\n",
       "      <td>2.000000</td>\n",
       "      <td>1.949840</td>\n",
       "      <td>1.000000</td>\n",
       "    </tr>\n",
       "    <tr>\n",
       "      <th>13838</th>\n",
       "      <td>1</td>\n",
       "      <td>1</td>\n",
       "      <td>1</td>\n",
       "      <td>2</td>\n",
       "      <td>0</td>\n",
       "      <td>0</td>\n",
       "      <td>3</td>\n",
       "      <td>3</td>\n",
       "      <td>34596</td>\n",
       "      <td>-0.509128</td>\n",
       "      <td>1.620000</td>\n",
       "      <td>-1.316865</td>\n",
       "      <td>2.000000</td>\n",
       "      <td>3.000000</td>\n",
       "      <td>2.000000</td>\n",
       "      <td>3.000000</td>\n",
       "      <td>2.000000</td>\n",
       "    </tr>\n",
       "    <tr>\n",
       "      <th>13839</th>\n",
       "      <td>1</td>\n",
       "      <td>1</td>\n",
       "      <td>1</td>\n",
       "      <td>2</td>\n",
       "      <td>0</td>\n",
       "      <td>0</td>\n",
       "      <td>2</td>\n",
       "      <td>3</td>\n",
       "      <td>34597</td>\n",
       "      <td>0.437648</td>\n",
       "      <td>1.812259</td>\n",
       "      <td>1.286667</td>\n",
       "      <td>2.744994</td>\n",
       "      <td>3.000000</td>\n",
       "      <td>2.205977</td>\n",
       "      <td>1.304291</td>\n",
       "      <td>0.630866</td>\n",
       "    </tr>\n",
       "  </tbody>\n",
       "</table>\n",
       "<p>13840 rows × 17 columns</p>\n",
       "</div>"
      ],
      "text/plain": [
       "       Gender  family_history_with_overweight  FAVC  CAEC  SMOKE  SCC  CALC  \\\n",
       "0           1                               1     1     2      0    0     2   \n",
       "1           0                               1     1     2      0    0     2   \n",
       "2           0                               1     1     2      0    0     2   \n",
       "3           1                               1     1     2      0    0     2   \n",
       "4           0                               1     1     2      0    0     2   \n",
       "...       ...                             ...   ...   ...    ...  ...   ...   \n",
       "13835       1                               1     0     2      0    0     2   \n",
       "13836       0                               0     1     2      0    0     2   \n",
       "13837       0                               0     1     1      0    0     2   \n",
       "13838       1                               1     1     2      0    0     3   \n",
       "13839       1                               1     1     2      0    0     2   \n",
       "\n",
       "       MTRANS     id       Age    Height    Weight      FCVC       NCP  \\\n",
       "0           3  20758  0.508163  1.848294  1.273786  2.938616  3.000000   \n",
       "1           3  20759 -0.509128  1.600000 -0.818988  2.000000  1.000000   \n",
       "2           3  20760  0.353000  1.643355  0.927432  3.000000  3.000000   \n",
       "3           3  20761 -0.512705  1.553127  0.623672  2.000000  2.977909   \n",
       "4           3  20762  0.353000  1.627396  0.668336  3.000000  3.000000   \n",
       "...       ...    ...       ...       ...       ...       ...       ...   \n",
       "13835       3  34593 -0.107749  1.721384 -0.358246  2.813234  3.000000   \n",
       "13836       3  34594  0.870277  1.590000 -0.972181  3.000000  3.000000   \n",
       "13837       3  34595 -0.175379  1.585547 -1.647125  3.000000  2.273740   \n",
       "13838       3  34596 -0.509128  1.620000 -1.316865  2.000000  3.000000   \n",
       "13839       3  34597  0.437648  1.812259  1.286667  2.744994  3.000000   \n",
       "\n",
       "           CH2O       FAF       TUE  \n",
       "0      2.825629  0.855400  0.000000  \n",
       "1      3.000000  1.000000  0.000000  \n",
       "2      2.621877  0.000000  0.250502  \n",
       "3      2.786417  0.094851  0.000000  \n",
       "4      2.653531  0.000000  0.741069  \n",
       "...         ...       ...       ...  \n",
       "13835  1.000000  0.807076  0.778632  \n",
       "13836  2.000000  0.000000  0.000000  \n",
       "13837  2.000000  1.949840  1.000000  \n",
       "13838  2.000000  3.000000  2.000000  \n",
       "13839  2.205977  1.304291  0.630866  \n",
       "\n",
       "[13840 rows x 17 columns]"
      ]
     },
     "execution_count": 34,
     "metadata": {},
     "output_type": "execute_result"
    }
   ],
   "source": [
    "obesity_test"
   ]
  },
  {
   "cell_type": "code",
   "execution_count": 35,
   "id": "44297636",
   "metadata": {
    "execution": {
     "iopub.execute_input": "2024-09-06T12:44:13.755869Z",
     "iopub.status.busy": "2024-09-06T12:44:13.755304Z",
     "iopub.status.idle": "2024-09-06T12:44:13.773481Z",
     "shell.execute_reply": "2024-09-06T12:44:13.772263Z"
    },
    "papermill": {
     "duration": 0.056482,
     "end_time": "2024-09-06T12:44:13.777210",
     "exception": false,
     "start_time": "2024-09-06T12:44:13.720728",
     "status": "completed"
    },
    "tags": []
   },
   "outputs": [],
   "source": [
    "obesity_train['Age']=ss.fit_transform(obesity_train[['Age']])\n",
    "obesity_train['Weight']=ss.fit_transform(obesity_train[['Weight']])"
   ]
  },
  {
   "cell_type": "code",
   "execution_count": 36,
   "id": "ba78e7e5",
   "metadata": {
    "execution": {
     "iopub.execute_input": "2024-09-06T12:44:13.847813Z",
     "iopub.status.busy": "2024-09-06T12:44:13.847244Z",
     "iopub.status.idle": "2024-09-06T12:44:13.881680Z",
     "shell.execute_reply": "2024-09-06T12:44:13.880227Z"
    },
    "papermill": {
     "duration": 0.072293,
     "end_time": "2024-09-06T12:44:13.885139",
     "exception": false,
     "start_time": "2024-09-06T12:44:13.812846",
     "status": "completed"
    },
    "tags": []
   },
   "outputs": [
    {
     "data": {
      "text/html": [
       "<div>\n",
       "<style scoped>\n",
       "    .dataframe tbody tr th:only-of-type {\n",
       "        vertical-align: middle;\n",
       "    }\n",
       "\n",
       "    .dataframe tbody tr th {\n",
       "        vertical-align: top;\n",
       "    }\n",
       "\n",
       "    .dataframe thead th {\n",
       "        text-align: right;\n",
       "    }\n",
       "</style>\n",
       "<table border=\"1\" class=\"dataframe\">\n",
       "  <thead>\n",
       "    <tr style=\"text-align: right;\">\n",
       "      <th></th>\n",
       "      <th>Gender</th>\n",
       "      <th>family_history_with_overweight</th>\n",
       "      <th>FAVC</th>\n",
       "      <th>CAEC</th>\n",
       "      <th>SMOKE</th>\n",
       "      <th>SCC</th>\n",
       "      <th>CALC</th>\n",
       "      <th>MTRANS</th>\n",
       "      <th>NObeyesdad</th>\n",
       "      <th>id</th>\n",
       "      <th>Age</th>\n",
       "      <th>Height</th>\n",
       "      <th>Weight</th>\n",
       "      <th>FCVC</th>\n",
       "      <th>NCP</th>\n",
       "      <th>CH2O</th>\n",
       "      <th>FAF</th>\n",
       "      <th>TUE</th>\n",
       "    </tr>\n",
       "  </thead>\n",
       "  <tbody>\n",
       "    <tr>\n",
       "      <th>0</th>\n",
       "      <td>1</td>\n",
       "      <td>1</td>\n",
       "      <td>1</td>\n",
       "      <td>2</td>\n",
       "      <td>0</td>\n",
       "      <td>0</td>\n",
       "      <td>1</td>\n",
       "      <td>3</td>\n",
       "      <td>6</td>\n",
       "      <td>0</td>\n",
       "      <td>0.105699</td>\n",
       "      <td>1.699998</td>\n",
       "      <td>-0.235713</td>\n",
       "      <td>2.000000</td>\n",
       "      <td>2.983297</td>\n",
       "      <td>2.763573</td>\n",
       "      <td>0.000000</td>\n",
       "      <td>0.976473</td>\n",
       "    </tr>\n",
       "    <tr>\n",
       "      <th>1</th>\n",
       "      <td>0</td>\n",
       "      <td>1</td>\n",
       "      <td>1</td>\n",
       "      <td>1</td>\n",
       "      <td>0</td>\n",
       "      <td>0</td>\n",
       "      <td>2</td>\n",
       "      <td>0</td>\n",
       "      <td>1</td>\n",
       "      <td>1</td>\n",
       "      <td>-1.027052</td>\n",
       "      <td>1.560000</td>\n",
       "      <td>-1.170931</td>\n",
       "      <td>2.000000</td>\n",
       "      <td>3.000000</td>\n",
       "      <td>2.000000</td>\n",
       "      <td>1.000000</td>\n",
       "      <td>1.000000</td>\n",
       "    </tr>\n",
       "    <tr>\n",
       "      <th>2</th>\n",
       "      <td>0</td>\n",
       "      <td>1</td>\n",
       "      <td>1</td>\n",
       "      <td>2</td>\n",
       "      <td>0</td>\n",
       "      <td>0</td>\n",
       "      <td>2</td>\n",
       "      <td>3</td>\n",
       "      <td>0</td>\n",
       "      <td>2</td>\n",
       "      <td>-1.027052</td>\n",
       "      <td>1.711460</td>\n",
       "      <td>-1.430012</td>\n",
       "      <td>1.880534</td>\n",
       "      <td>1.411685</td>\n",
       "      <td>1.910378</td>\n",
       "      <td>0.866045</td>\n",
       "      <td>1.673584</td>\n",
       "    </tr>\n",
       "    <tr>\n",
       "      <th>3</th>\n",
       "      <td>0</td>\n",
       "      <td>1</td>\n",
       "      <td>1</td>\n",
       "      <td>2</td>\n",
       "      <td>0</td>\n",
       "      <td>0</td>\n",
       "      <td>1</td>\n",
       "      <td>3</td>\n",
       "      <td>4</td>\n",
       "      <td>3</td>\n",
       "      <td>-0.507929</td>\n",
       "      <td>1.710730</td>\n",
       "      <td>1.644770</td>\n",
       "      <td>3.000000</td>\n",
       "      <td>3.000000</td>\n",
       "      <td>1.674061</td>\n",
       "      <td>1.467863</td>\n",
       "      <td>0.780199</td>\n",
       "    </tr>\n",
       "    <tr>\n",
       "      <th>4</th>\n",
       "      <td>1</td>\n",
       "      <td>1</td>\n",
       "      <td>1</td>\n",
       "      <td>2</td>\n",
       "      <td>0</td>\n",
       "      <td>0</td>\n",
       "      <td>1</td>\n",
       "      <td>3</td>\n",
       "      <td>6</td>\n",
       "      <td>4</td>\n",
       "      <td>1.371197</td>\n",
       "      <td>1.914186</td>\n",
       "      <td>0.224054</td>\n",
       "      <td>2.679664</td>\n",
       "      <td>1.971472</td>\n",
       "      <td>1.979848</td>\n",
       "      <td>1.967973</td>\n",
       "      <td>0.931721</td>\n",
       "    </tr>\n",
       "    <tr>\n",
       "      <th>...</th>\n",
       "      <td>...</td>\n",
       "      <td>...</td>\n",
       "      <td>...</td>\n",
       "      <td>...</td>\n",
       "      <td>...</td>\n",
       "      <td>...</td>\n",
       "      <td>...</td>\n",
       "      <td>...</td>\n",
       "      <td>...</td>\n",
       "      <td>...</td>\n",
       "      <td>...</td>\n",
       "      <td>...</td>\n",
       "      <td>...</td>\n",
       "      <td>...</td>\n",
       "      <td>...</td>\n",
       "      <td>...</td>\n",
       "      <td>...</td>\n",
       "      <td>...</td>\n",
       "    </tr>\n",
       "    <tr>\n",
       "      <th>20753</th>\n",
       "      <td>1</td>\n",
       "      <td>1</td>\n",
       "      <td>1</td>\n",
       "      <td>2</td>\n",
       "      <td>0</td>\n",
       "      <td>0</td>\n",
       "      <td>1</td>\n",
       "      <td>3</td>\n",
       "      <td>3</td>\n",
       "      <td>20753</td>\n",
       "      <td>0.227725</td>\n",
       "      <td>1.766626</td>\n",
       "      <td>0.996987</td>\n",
       "      <td>2.919584</td>\n",
       "      <td>3.000000</td>\n",
       "      <td>2.151809</td>\n",
       "      <td>1.330519</td>\n",
       "      <td>0.196680</td>\n",
       "    </tr>\n",
       "    <tr>\n",
       "      <th>20754</th>\n",
       "      <td>1</td>\n",
       "      <td>0</td>\n",
       "      <td>1</td>\n",
       "      <td>1</td>\n",
       "      <td>0</td>\n",
       "      <td>0</td>\n",
       "      <td>1</td>\n",
       "      <td>3</td>\n",
       "      <td>0</td>\n",
       "      <td>20754</td>\n",
       "      <td>-1.027052</td>\n",
       "      <td>1.710000</td>\n",
       "      <td>-1.436296</td>\n",
       "      <td>3.000000</td>\n",
       "      <td>4.000000</td>\n",
       "      <td>1.000000</td>\n",
       "      <td>2.000000</td>\n",
       "      <td>1.000000</td>\n",
       "    </tr>\n",
       "    <tr>\n",
       "      <th>20755</th>\n",
       "      <td>1</td>\n",
       "      <td>1</td>\n",
       "      <td>1</td>\n",
       "      <td>2</td>\n",
       "      <td>0</td>\n",
       "      <td>0</td>\n",
       "      <td>2</td>\n",
       "      <td>3</td>\n",
       "      <td>3</td>\n",
       "      <td>20755</td>\n",
       "      <td>-0.657669</td>\n",
       "      <td>1.819557</td>\n",
       "      <td>0.670717</td>\n",
       "      <td>2.407817</td>\n",
       "      <td>3.000000</td>\n",
       "      <td>2.000000</td>\n",
       "      <td>1.158040</td>\n",
       "      <td>1.198439</td>\n",
       "    </tr>\n",
       "    <tr>\n",
       "      <th>20756</th>\n",
       "      <td>1</td>\n",
       "      <td>1</td>\n",
       "      <td>1</td>\n",
       "      <td>2</td>\n",
       "      <td>0</td>\n",
       "      <td>0</td>\n",
       "      <td>2</td>\n",
       "      <td>0</td>\n",
       "      <td>6</td>\n",
       "      <td>20756</td>\n",
       "      <td>1.760067</td>\n",
       "      <td>1.700000</td>\n",
       "      <td>-0.165574</td>\n",
       "      <td>2.671238</td>\n",
       "      <td>1.971472</td>\n",
       "      <td>2.144838</td>\n",
       "      <td>0.000000</td>\n",
       "      <td>0.973834</td>\n",
       "    </tr>\n",
       "    <tr>\n",
       "      <th>20757</th>\n",
       "      <td>1</td>\n",
       "      <td>1</td>\n",
       "      <td>1</td>\n",
       "      <td>2</td>\n",
       "      <td>0</td>\n",
       "      <td>0</td>\n",
       "      <td>1</td>\n",
       "      <td>3</td>\n",
       "      <td>3</td>\n",
       "      <td>20757</td>\n",
       "      <td>0.499051</td>\n",
       "      <td>1.816547</td>\n",
       "      <td>1.146645</td>\n",
       "      <td>3.000000</td>\n",
       "      <td>3.000000</td>\n",
       "      <td>2.003563</td>\n",
       "      <td>0.684487</td>\n",
       "      <td>0.713823</td>\n",
       "    </tr>\n",
       "  </tbody>\n",
       "</table>\n",
       "<p>20758 rows × 18 columns</p>\n",
       "</div>"
      ],
      "text/plain": [
       "       Gender  family_history_with_overweight  FAVC  CAEC  SMOKE  SCC  CALC  \\\n",
       "0           1                               1     1     2      0    0     1   \n",
       "1           0                               1     1     1      0    0     2   \n",
       "2           0                               1     1     2      0    0     2   \n",
       "3           0                               1     1     2      0    0     1   \n",
       "4           1                               1     1     2      0    0     1   \n",
       "...       ...                             ...   ...   ...    ...  ...   ...   \n",
       "20753       1                               1     1     2      0    0     1   \n",
       "20754       1                               0     1     1      0    0     1   \n",
       "20755       1                               1     1     2      0    0     2   \n",
       "20756       1                               1     1     2      0    0     2   \n",
       "20757       1                               1     1     2      0    0     1   \n",
       "\n",
       "       MTRANS  NObeyesdad     id       Age    Height    Weight      FCVC  \\\n",
       "0           3           6      0  0.105699  1.699998 -0.235713  2.000000   \n",
       "1           0           1      1 -1.027052  1.560000 -1.170931  2.000000   \n",
       "2           3           0      2 -1.027052  1.711460 -1.430012  1.880534   \n",
       "3           3           4      3 -0.507929  1.710730  1.644770  3.000000   \n",
       "4           3           6      4  1.371197  1.914186  0.224054  2.679664   \n",
       "...       ...         ...    ...       ...       ...       ...       ...   \n",
       "20753       3           3  20753  0.227725  1.766626  0.996987  2.919584   \n",
       "20754       3           0  20754 -1.027052  1.710000 -1.436296  3.000000   \n",
       "20755       3           3  20755 -0.657669  1.819557  0.670717  2.407817   \n",
       "20756       0           6  20756  1.760067  1.700000 -0.165574  2.671238   \n",
       "20757       3           3  20757  0.499051  1.816547  1.146645  3.000000   \n",
       "\n",
       "            NCP      CH2O       FAF       TUE  \n",
       "0      2.983297  2.763573  0.000000  0.976473  \n",
       "1      3.000000  2.000000  1.000000  1.000000  \n",
       "2      1.411685  1.910378  0.866045  1.673584  \n",
       "3      3.000000  1.674061  1.467863  0.780199  \n",
       "4      1.971472  1.979848  1.967973  0.931721  \n",
       "...         ...       ...       ...       ...  \n",
       "20753  3.000000  2.151809  1.330519  0.196680  \n",
       "20754  4.000000  1.000000  2.000000  1.000000  \n",
       "20755  3.000000  2.000000  1.158040  1.198439  \n",
       "20756  1.971472  2.144838  0.000000  0.973834  \n",
       "20757  3.000000  2.003563  0.684487  0.713823  \n",
       "\n",
       "[20758 rows x 18 columns]"
      ]
     },
     "execution_count": 36,
     "metadata": {},
     "output_type": "execute_result"
    }
   ],
   "source": [
    "obesity_train"
   ]
  },
  {
   "cell_type": "markdown",
   "id": "87009669",
   "metadata": {
    "papermill": {
     "duration": 0.036982,
     "end_time": "2024-09-06T12:44:13.959678",
     "exception": false,
     "start_time": "2024-09-06T12:44:13.922696",
     "status": "completed"
    },
    "tags": []
   },
   "source": [
    "# Build Model"
   ]
  },
  {
   "cell_type": "code",
   "execution_count": 37,
   "id": "af4a1d55",
   "metadata": {
    "execution": {
     "iopub.execute_input": "2024-09-06T12:44:14.027810Z",
     "iopub.status.busy": "2024-09-06T12:44:14.027323Z",
     "iopub.status.idle": "2024-09-06T12:44:14.036196Z",
     "shell.execute_reply": "2024-09-06T12:44:14.035040Z"
    },
    "papermill": {
     "duration": 0.045789,
     "end_time": "2024-09-06T12:44:14.039129",
     "exception": false,
     "start_time": "2024-09-06T12:44:13.993340",
     "status": "completed"
    },
    "tags": []
   },
   "outputs": [],
   "source": [
    "x=obesity_train.drop(['NObeyesdad','id'],axis=1)\n",
    "y=obesity_train['NObeyesdad']"
   ]
  },
  {
   "cell_type": "code",
   "execution_count": 38,
   "id": "802581ab",
   "metadata": {
    "execution": {
     "iopub.execute_input": "2024-09-06T12:44:14.105963Z",
     "iopub.status.busy": "2024-09-06T12:44:14.104842Z",
     "iopub.status.idle": "2024-09-06T12:44:14.118560Z",
     "shell.execute_reply": "2024-09-06T12:44:14.117309Z"
    },
    "papermill": {
     "duration": 0.050319,
     "end_time": "2024-09-06T12:44:14.121544",
     "exception": false,
     "start_time": "2024-09-06T12:44:14.071225",
     "status": "completed"
    },
    "tags": []
   },
   "outputs": [],
   "source": [
    "x_train, x_test, y_train, y_test = train_test_split(x,y, test_size=0.2, random_state=42)"
   ]
  },
  {
   "cell_type": "markdown",
   "id": "48c78b0b",
   "metadata": {
    "papermill": {
     "duration": 0.032234,
     "end_time": "2024-09-06T12:44:14.186371",
     "exception": false,
     "start_time": "2024-09-06T12:44:14.154137",
     "status": "completed"
    },
    "tags": []
   },
   "source": [
    "#### Logistic Regression"
   ]
  },
  {
   "cell_type": "code",
   "execution_count": 39,
   "id": "4e860dc5",
   "metadata": {
    "execution": {
     "iopub.execute_input": "2024-09-06T12:44:14.252793Z",
     "iopub.status.busy": "2024-09-06T12:44:14.252309Z",
     "iopub.status.idle": "2024-09-06T12:44:14.258053Z",
     "shell.execute_reply": "2024-09-06T12:44:14.256871Z"
    },
    "papermill": {
     "duration": 0.042318,
     "end_time": "2024-09-06T12:44:14.260793",
     "exception": false,
     "start_time": "2024-09-06T12:44:14.218475",
     "status": "completed"
    },
    "tags": []
   },
   "outputs": [],
   "source": [
    "Model_LR=LogisticRegression()"
   ]
  },
  {
   "cell_type": "code",
   "execution_count": 40,
   "id": "e049f7d7",
   "metadata": {
    "execution": {
     "iopub.execute_input": "2024-09-06T12:44:14.327476Z",
     "iopub.status.busy": "2024-09-06T12:44:14.327013Z",
     "iopub.status.idle": "2024-09-06T12:44:15.301051Z",
     "shell.execute_reply": "2024-09-06T12:44:15.299361Z"
    },
    "papermill": {
     "duration": 1.013479,
     "end_time": "2024-09-06T12:44:15.306346",
     "exception": false,
     "start_time": "2024-09-06T12:44:14.292867",
     "status": "completed"
    },
    "tags": []
   },
   "outputs": [
    {
     "data": {
      "text/html": [
       "<style>#sk-container-id-1 {color: black;background-color: white;}#sk-container-id-1 pre{padding: 0;}#sk-container-id-1 div.sk-toggleable {background-color: white;}#sk-container-id-1 label.sk-toggleable__label {cursor: pointer;display: block;width: 100%;margin-bottom: 0;padding: 0.3em;box-sizing: border-box;text-align: center;}#sk-container-id-1 label.sk-toggleable__label-arrow:before {content: \"▸\";float: left;margin-right: 0.25em;color: #696969;}#sk-container-id-1 label.sk-toggleable__label-arrow:hover:before {color: black;}#sk-container-id-1 div.sk-estimator:hover label.sk-toggleable__label-arrow:before {color: black;}#sk-container-id-1 div.sk-toggleable__content {max-height: 0;max-width: 0;overflow: hidden;text-align: left;background-color: #f0f8ff;}#sk-container-id-1 div.sk-toggleable__content pre {margin: 0.2em;color: black;border-radius: 0.25em;background-color: #f0f8ff;}#sk-container-id-1 input.sk-toggleable__control:checked~div.sk-toggleable__content {max-height: 200px;max-width: 100%;overflow: auto;}#sk-container-id-1 input.sk-toggleable__control:checked~label.sk-toggleable__label-arrow:before {content: \"▾\";}#sk-container-id-1 div.sk-estimator input.sk-toggleable__control:checked~label.sk-toggleable__label {background-color: #d4ebff;}#sk-container-id-1 div.sk-label input.sk-toggleable__control:checked~label.sk-toggleable__label {background-color: #d4ebff;}#sk-container-id-1 input.sk-hidden--visually {border: 0;clip: rect(1px 1px 1px 1px);clip: rect(1px, 1px, 1px, 1px);height: 1px;margin: -1px;overflow: hidden;padding: 0;position: absolute;width: 1px;}#sk-container-id-1 div.sk-estimator {font-family: monospace;background-color: #f0f8ff;border: 1px dotted black;border-radius: 0.25em;box-sizing: border-box;margin-bottom: 0.5em;}#sk-container-id-1 div.sk-estimator:hover {background-color: #d4ebff;}#sk-container-id-1 div.sk-parallel-item::after {content: \"\";width: 100%;border-bottom: 1px solid gray;flex-grow: 1;}#sk-container-id-1 div.sk-label:hover label.sk-toggleable__label {background-color: #d4ebff;}#sk-container-id-1 div.sk-serial::before {content: \"\";position: absolute;border-left: 1px solid gray;box-sizing: border-box;top: 0;bottom: 0;left: 50%;z-index: 0;}#sk-container-id-1 div.sk-serial {display: flex;flex-direction: column;align-items: center;background-color: white;padding-right: 0.2em;padding-left: 0.2em;position: relative;}#sk-container-id-1 div.sk-item {position: relative;z-index: 1;}#sk-container-id-1 div.sk-parallel {display: flex;align-items: stretch;justify-content: center;background-color: white;position: relative;}#sk-container-id-1 div.sk-item::before, #sk-container-id-1 div.sk-parallel-item::before {content: \"\";position: absolute;border-left: 1px solid gray;box-sizing: border-box;top: 0;bottom: 0;left: 50%;z-index: -1;}#sk-container-id-1 div.sk-parallel-item {display: flex;flex-direction: column;z-index: 1;position: relative;background-color: white;}#sk-container-id-1 div.sk-parallel-item:first-child::after {align-self: flex-end;width: 50%;}#sk-container-id-1 div.sk-parallel-item:last-child::after {align-self: flex-start;width: 50%;}#sk-container-id-1 div.sk-parallel-item:only-child::after {width: 0;}#sk-container-id-1 div.sk-dashed-wrapped {border: 1px dashed gray;margin: 0 0.4em 0.5em 0.4em;box-sizing: border-box;padding-bottom: 0.4em;background-color: white;}#sk-container-id-1 div.sk-label label {font-family: monospace;font-weight: bold;display: inline-block;line-height: 1.2em;}#sk-container-id-1 div.sk-label-container {text-align: center;}#sk-container-id-1 div.sk-container {/* jupyter's `normalize.less` sets `[hidden] { display: none; }` but bootstrap.min.css set `[hidden] { display: none !important; }` so we also need the `!important` here to be able to override the default hidden behavior on the sphinx rendered scikit-learn.org. See: https://github.com/scikit-learn/scikit-learn/issues/21755 */display: inline-block !important;position: relative;}#sk-container-id-1 div.sk-text-repr-fallback {display: none;}</style><div id=\"sk-container-id-1\" class=\"sk-top-container\"><div class=\"sk-text-repr-fallback\"><pre>LogisticRegression()</pre><b>In a Jupyter environment, please rerun this cell to show the HTML representation or trust the notebook. <br />On GitHub, the HTML representation is unable to render, please try loading this page with nbviewer.org.</b></div><div class=\"sk-container\" hidden><div class=\"sk-item\"><div class=\"sk-estimator sk-toggleable\"><input class=\"sk-toggleable__control sk-hidden--visually\" id=\"sk-estimator-id-1\" type=\"checkbox\" checked><label for=\"sk-estimator-id-1\" class=\"sk-toggleable__label sk-toggleable__label-arrow\">LogisticRegression</label><div class=\"sk-toggleable__content\"><pre>LogisticRegression()</pre></div></div></div></div></div>"
      ],
      "text/plain": [
       "LogisticRegression()"
      ]
     },
     "execution_count": 40,
     "metadata": {},
     "output_type": "execute_result"
    }
   ],
   "source": [
    "Model_LR.fit(x_train,y_train)"
   ]
  },
  {
   "cell_type": "code",
   "execution_count": 41,
   "id": "f775ad42",
   "metadata": {
    "execution": {
     "iopub.execute_input": "2024-09-06T12:44:15.425655Z",
     "iopub.status.busy": "2024-09-06T12:44:15.425204Z",
     "iopub.status.idle": "2024-09-06T12:44:15.440176Z",
     "shell.execute_reply": "2024-09-06T12:44:15.438258Z"
    },
    "papermill": {
     "duration": 0.067909,
     "end_time": "2024-09-06T12:44:15.446099",
     "exception": false,
     "start_time": "2024-09-06T12:44:15.378190",
     "status": "completed"
    },
    "tags": []
   },
   "outputs": [
    {
     "data": {
      "text/plain": [
       "array([4, 5, 2, ..., 2, 6, 5])"
      ]
     },
     "execution_count": 41,
     "metadata": {},
     "output_type": "execute_result"
    }
   ],
   "source": [
    "Model_LR.predict(x_test)"
   ]
  },
  {
   "cell_type": "code",
   "execution_count": 42,
   "id": "6fbe58a7",
   "metadata": {
    "execution": {
     "iopub.execute_input": "2024-09-06T12:44:15.568918Z",
     "iopub.status.busy": "2024-09-06T12:44:15.568469Z",
     "iopub.status.idle": "2024-09-06T12:44:15.611657Z",
     "shell.execute_reply": "2024-09-06T12:44:15.610093Z"
    },
    "papermill": {
     "duration": 0.102476,
     "end_time": "2024-09-06T12:44:15.616663",
     "exception": false,
     "start_time": "2024-09-06T12:44:15.514187",
     "status": "completed"
    },
    "tags": []
   },
   "outputs": [
    {
     "name": "stdout",
     "output_type": "stream",
     "text": [
      "              precision    recall  f1-score   support\n",
      "\n",
      "           0       0.85      0.79      0.82       569\n",
      "           1       0.69      0.70      0.69       615\n",
      "           2       0.80      0.77      0.78       565\n",
      "           3       0.97      0.95      0.96       668\n",
      "           4       1.00      0.99      1.00       807\n",
      "           5       0.59      0.64      0.62       448\n",
      "           6       0.60      0.65      0.62       480\n",
      "\n",
      "    accuracy                           0.81      4152\n",
      "   macro avg       0.79      0.78      0.78      4152\n",
      "weighted avg       0.81      0.81      0.81      4152\n",
      "\n"
     ]
    }
   ],
   "source": [
    "print(classification_report(Model_LR.predict(x_test),y_test))"
   ]
  },
  {
   "cell_type": "markdown",
   "id": "e2a4ab2c",
   "metadata": {
    "papermill": {
     "duration": 0.036762,
     "end_time": "2024-09-06T12:44:15.724622",
     "exception": false,
     "start_time": "2024-09-06T12:44:15.687860",
     "status": "completed"
    },
    "tags": []
   },
   "source": [
    "#### RandomForestClassifier"
   ]
  },
  {
   "cell_type": "code",
   "execution_count": 43,
   "id": "f4a32f4a",
   "metadata": {
    "execution": {
     "iopub.execute_input": "2024-09-06T12:44:15.793193Z",
     "iopub.status.busy": "2024-09-06T12:44:15.792686Z",
     "iopub.status.idle": "2024-09-06T12:44:15.798602Z",
     "shell.execute_reply": "2024-09-06T12:44:15.797351Z"
    },
    "papermill": {
     "duration": 0.042849,
     "end_time": "2024-09-06T12:44:15.801331",
     "exception": false,
     "start_time": "2024-09-06T12:44:15.758482",
     "status": "completed"
    },
    "tags": []
   },
   "outputs": [],
   "source": [
    "Model_RF=RandomForestClassifier()"
   ]
  },
  {
   "cell_type": "code",
   "execution_count": 44,
   "id": "19d9ba72",
   "metadata": {
    "execution": {
     "iopub.execute_input": "2024-09-06T12:44:15.871051Z",
     "iopub.status.busy": "2024-09-06T12:44:15.870541Z",
     "iopub.status.idle": "2024-09-06T12:44:18.798713Z",
     "shell.execute_reply": "2024-09-06T12:44:18.797305Z"
    },
    "papermill": {
     "duration": 2.966555,
     "end_time": "2024-09-06T12:44:18.801632",
     "exception": false,
     "start_time": "2024-09-06T12:44:15.835077",
     "status": "completed"
    },
    "tags": []
   },
   "outputs": [
    {
     "data": {
      "text/html": [
       "<style>#sk-container-id-2 {color: black;background-color: white;}#sk-container-id-2 pre{padding: 0;}#sk-container-id-2 div.sk-toggleable {background-color: white;}#sk-container-id-2 label.sk-toggleable__label {cursor: pointer;display: block;width: 100%;margin-bottom: 0;padding: 0.3em;box-sizing: border-box;text-align: center;}#sk-container-id-2 label.sk-toggleable__label-arrow:before {content: \"▸\";float: left;margin-right: 0.25em;color: #696969;}#sk-container-id-2 label.sk-toggleable__label-arrow:hover:before {color: black;}#sk-container-id-2 div.sk-estimator:hover label.sk-toggleable__label-arrow:before {color: black;}#sk-container-id-2 div.sk-toggleable__content {max-height: 0;max-width: 0;overflow: hidden;text-align: left;background-color: #f0f8ff;}#sk-container-id-2 div.sk-toggleable__content pre {margin: 0.2em;color: black;border-radius: 0.25em;background-color: #f0f8ff;}#sk-container-id-2 input.sk-toggleable__control:checked~div.sk-toggleable__content {max-height: 200px;max-width: 100%;overflow: auto;}#sk-container-id-2 input.sk-toggleable__control:checked~label.sk-toggleable__label-arrow:before {content: \"▾\";}#sk-container-id-2 div.sk-estimator input.sk-toggleable__control:checked~label.sk-toggleable__label {background-color: #d4ebff;}#sk-container-id-2 div.sk-label input.sk-toggleable__control:checked~label.sk-toggleable__label {background-color: #d4ebff;}#sk-container-id-2 input.sk-hidden--visually {border: 0;clip: rect(1px 1px 1px 1px);clip: rect(1px, 1px, 1px, 1px);height: 1px;margin: -1px;overflow: hidden;padding: 0;position: absolute;width: 1px;}#sk-container-id-2 div.sk-estimator {font-family: monospace;background-color: #f0f8ff;border: 1px dotted black;border-radius: 0.25em;box-sizing: border-box;margin-bottom: 0.5em;}#sk-container-id-2 div.sk-estimator:hover {background-color: #d4ebff;}#sk-container-id-2 div.sk-parallel-item::after {content: \"\";width: 100%;border-bottom: 1px solid gray;flex-grow: 1;}#sk-container-id-2 div.sk-label:hover label.sk-toggleable__label {background-color: #d4ebff;}#sk-container-id-2 div.sk-serial::before {content: \"\";position: absolute;border-left: 1px solid gray;box-sizing: border-box;top: 0;bottom: 0;left: 50%;z-index: 0;}#sk-container-id-2 div.sk-serial {display: flex;flex-direction: column;align-items: center;background-color: white;padding-right: 0.2em;padding-left: 0.2em;position: relative;}#sk-container-id-2 div.sk-item {position: relative;z-index: 1;}#sk-container-id-2 div.sk-parallel {display: flex;align-items: stretch;justify-content: center;background-color: white;position: relative;}#sk-container-id-2 div.sk-item::before, #sk-container-id-2 div.sk-parallel-item::before {content: \"\";position: absolute;border-left: 1px solid gray;box-sizing: border-box;top: 0;bottom: 0;left: 50%;z-index: -1;}#sk-container-id-2 div.sk-parallel-item {display: flex;flex-direction: column;z-index: 1;position: relative;background-color: white;}#sk-container-id-2 div.sk-parallel-item:first-child::after {align-self: flex-end;width: 50%;}#sk-container-id-2 div.sk-parallel-item:last-child::after {align-self: flex-start;width: 50%;}#sk-container-id-2 div.sk-parallel-item:only-child::after {width: 0;}#sk-container-id-2 div.sk-dashed-wrapped {border: 1px dashed gray;margin: 0 0.4em 0.5em 0.4em;box-sizing: border-box;padding-bottom: 0.4em;background-color: white;}#sk-container-id-2 div.sk-label label {font-family: monospace;font-weight: bold;display: inline-block;line-height: 1.2em;}#sk-container-id-2 div.sk-label-container {text-align: center;}#sk-container-id-2 div.sk-container {/* jupyter's `normalize.less` sets `[hidden] { display: none; }` but bootstrap.min.css set `[hidden] { display: none !important; }` so we also need the `!important` here to be able to override the default hidden behavior on the sphinx rendered scikit-learn.org. See: https://github.com/scikit-learn/scikit-learn/issues/21755 */display: inline-block !important;position: relative;}#sk-container-id-2 div.sk-text-repr-fallback {display: none;}</style><div id=\"sk-container-id-2\" class=\"sk-top-container\"><div class=\"sk-text-repr-fallback\"><pre>RandomForestClassifier()</pre><b>In a Jupyter environment, please rerun this cell to show the HTML representation or trust the notebook. <br />On GitHub, the HTML representation is unable to render, please try loading this page with nbviewer.org.</b></div><div class=\"sk-container\" hidden><div class=\"sk-item\"><div class=\"sk-estimator sk-toggleable\"><input class=\"sk-toggleable__control sk-hidden--visually\" id=\"sk-estimator-id-2\" type=\"checkbox\" checked><label for=\"sk-estimator-id-2\" class=\"sk-toggleable__label sk-toggleable__label-arrow\">RandomForestClassifier</label><div class=\"sk-toggleable__content\"><pre>RandomForestClassifier()</pre></div></div></div></div></div>"
      ],
      "text/plain": [
       "RandomForestClassifier()"
      ]
     },
     "execution_count": 44,
     "metadata": {},
     "output_type": "execute_result"
    }
   ],
   "source": [
    "Model_RF.fit(x_train,y_train)"
   ]
  },
  {
   "cell_type": "code",
   "execution_count": 45,
   "id": "1d5557e3",
   "metadata": {
    "execution": {
     "iopub.execute_input": "2024-09-06T12:44:18.870837Z",
     "iopub.status.busy": "2024-09-06T12:44:18.870331Z",
     "iopub.status.idle": "2024-09-06T12:44:18.988799Z",
     "shell.execute_reply": "2024-09-06T12:44:18.987396Z"
    },
    "papermill": {
     "duration": 0.156684,
     "end_time": "2024-09-06T12:44:18.991980",
     "exception": false,
     "start_time": "2024-09-06T12:44:18.835296",
     "status": "completed"
    },
    "tags": []
   },
   "outputs": [
    {
     "data": {
      "text/plain": [
       "array([4, 5, 2, ..., 2, 6, 6])"
      ]
     },
     "execution_count": 45,
     "metadata": {},
     "output_type": "execute_result"
    }
   ],
   "source": [
    "Model_RF.predict(x_test)"
   ]
  },
  {
   "cell_type": "code",
   "execution_count": 46,
   "id": "abd8d9f5",
   "metadata": {
    "execution": {
     "iopub.execute_input": "2024-09-06T12:44:19.061579Z",
     "iopub.status.busy": "2024-09-06T12:44:19.061122Z",
     "iopub.status.idle": "2024-09-06T12:44:19.194904Z",
     "shell.execute_reply": "2024-09-06T12:44:19.193570Z"
    },
    "papermill": {
     "duration": 0.172242,
     "end_time": "2024-09-06T12:44:19.197844",
     "exception": false,
     "start_time": "2024-09-06T12:44:19.025602",
     "status": "completed"
    },
    "tags": []
   },
   "outputs": [
    {
     "name": "stdout",
     "output_type": "stream",
     "text": [
      "              precision    recall  f1-score   support\n",
      "\n",
      "           0       0.92      0.94      0.93       511\n",
      "           1       0.88      0.84      0.86       659\n",
      "           2       0.86      0.88      0.87       534\n",
      "           3       0.97      0.97      0.97       658\n",
      "           4       1.00      1.00      1.00       805\n",
      "           5       0.75      0.77      0.76       471\n",
      "           6       0.79      0.79      0.79       514\n",
      "\n",
      "    accuracy                           0.89      4152\n",
      "   macro avg       0.88      0.88      0.88      4152\n",
      "weighted avg       0.89      0.89      0.89      4152\n",
      "\n"
     ]
    }
   ],
   "source": [
    "print(classification_report(Model_RF.predict(x_test),y_test))"
   ]
  },
  {
   "cell_type": "markdown",
   "id": "9fa849e8",
   "metadata": {
    "papermill": {
     "duration": 0.034784,
     "end_time": "2024-09-06T12:44:19.267064",
     "exception": false,
     "start_time": "2024-09-06T12:44:19.232280",
     "status": "completed"
    },
    "tags": []
   },
   "source": [
    "#### GaussianNB"
   ]
  },
  {
   "cell_type": "code",
   "execution_count": 47,
   "id": "7b5f3596",
   "metadata": {
    "execution": {
     "iopub.execute_input": "2024-09-06T12:44:19.340524Z",
     "iopub.status.busy": "2024-09-06T12:44:19.340034Z",
     "iopub.status.idle": "2024-09-06T12:44:19.346220Z",
     "shell.execute_reply": "2024-09-06T12:44:19.344789Z"
    },
    "papermill": {
     "duration": 0.044409,
     "end_time": "2024-09-06T12:44:19.349583",
     "exception": false,
     "start_time": "2024-09-06T12:44:19.305174",
     "status": "completed"
    },
    "tags": []
   },
   "outputs": [],
   "source": [
    "Model_GNB=GaussianNB()"
   ]
  },
  {
   "cell_type": "code",
   "execution_count": 48,
   "id": "7430bc1b",
   "metadata": {
    "execution": {
     "iopub.execute_input": "2024-09-06T12:44:19.421121Z",
     "iopub.status.busy": "2024-09-06T12:44:19.420655Z",
     "iopub.status.idle": "2024-09-06T12:44:19.444181Z",
     "shell.execute_reply": "2024-09-06T12:44:19.442706Z"
    },
    "papermill": {
     "duration": 0.062102,
     "end_time": "2024-09-06T12:44:19.447112",
     "exception": false,
     "start_time": "2024-09-06T12:44:19.385010",
     "status": "completed"
    },
    "tags": []
   },
   "outputs": [
    {
     "data": {
      "text/html": [
       "<style>#sk-container-id-3 {color: black;background-color: white;}#sk-container-id-3 pre{padding: 0;}#sk-container-id-3 div.sk-toggleable {background-color: white;}#sk-container-id-3 label.sk-toggleable__label {cursor: pointer;display: block;width: 100%;margin-bottom: 0;padding: 0.3em;box-sizing: border-box;text-align: center;}#sk-container-id-3 label.sk-toggleable__label-arrow:before {content: \"▸\";float: left;margin-right: 0.25em;color: #696969;}#sk-container-id-3 label.sk-toggleable__label-arrow:hover:before {color: black;}#sk-container-id-3 div.sk-estimator:hover label.sk-toggleable__label-arrow:before {color: black;}#sk-container-id-3 div.sk-toggleable__content {max-height: 0;max-width: 0;overflow: hidden;text-align: left;background-color: #f0f8ff;}#sk-container-id-3 div.sk-toggleable__content pre {margin: 0.2em;color: black;border-radius: 0.25em;background-color: #f0f8ff;}#sk-container-id-3 input.sk-toggleable__control:checked~div.sk-toggleable__content {max-height: 200px;max-width: 100%;overflow: auto;}#sk-container-id-3 input.sk-toggleable__control:checked~label.sk-toggleable__label-arrow:before {content: \"▾\";}#sk-container-id-3 div.sk-estimator input.sk-toggleable__control:checked~label.sk-toggleable__label {background-color: #d4ebff;}#sk-container-id-3 div.sk-label input.sk-toggleable__control:checked~label.sk-toggleable__label {background-color: #d4ebff;}#sk-container-id-3 input.sk-hidden--visually {border: 0;clip: rect(1px 1px 1px 1px);clip: rect(1px, 1px, 1px, 1px);height: 1px;margin: -1px;overflow: hidden;padding: 0;position: absolute;width: 1px;}#sk-container-id-3 div.sk-estimator {font-family: monospace;background-color: #f0f8ff;border: 1px dotted black;border-radius: 0.25em;box-sizing: border-box;margin-bottom: 0.5em;}#sk-container-id-3 div.sk-estimator:hover {background-color: #d4ebff;}#sk-container-id-3 div.sk-parallel-item::after {content: \"\";width: 100%;border-bottom: 1px solid gray;flex-grow: 1;}#sk-container-id-3 div.sk-label:hover label.sk-toggleable__label {background-color: #d4ebff;}#sk-container-id-3 div.sk-serial::before {content: \"\";position: absolute;border-left: 1px solid gray;box-sizing: border-box;top: 0;bottom: 0;left: 50%;z-index: 0;}#sk-container-id-3 div.sk-serial {display: flex;flex-direction: column;align-items: center;background-color: white;padding-right: 0.2em;padding-left: 0.2em;position: relative;}#sk-container-id-3 div.sk-item {position: relative;z-index: 1;}#sk-container-id-3 div.sk-parallel {display: flex;align-items: stretch;justify-content: center;background-color: white;position: relative;}#sk-container-id-3 div.sk-item::before, #sk-container-id-3 div.sk-parallel-item::before {content: \"\";position: absolute;border-left: 1px solid gray;box-sizing: border-box;top: 0;bottom: 0;left: 50%;z-index: -1;}#sk-container-id-3 div.sk-parallel-item {display: flex;flex-direction: column;z-index: 1;position: relative;background-color: white;}#sk-container-id-3 div.sk-parallel-item:first-child::after {align-self: flex-end;width: 50%;}#sk-container-id-3 div.sk-parallel-item:last-child::after {align-self: flex-start;width: 50%;}#sk-container-id-3 div.sk-parallel-item:only-child::after {width: 0;}#sk-container-id-3 div.sk-dashed-wrapped {border: 1px dashed gray;margin: 0 0.4em 0.5em 0.4em;box-sizing: border-box;padding-bottom: 0.4em;background-color: white;}#sk-container-id-3 div.sk-label label {font-family: monospace;font-weight: bold;display: inline-block;line-height: 1.2em;}#sk-container-id-3 div.sk-label-container {text-align: center;}#sk-container-id-3 div.sk-container {/* jupyter's `normalize.less` sets `[hidden] { display: none; }` but bootstrap.min.css set `[hidden] { display: none !important; }` so we also need the `!important` here to be able to override the default hidden behavior on the sphinx rendered scikit-learn.org. See: https://github.com/scikit-learn/scikit-learn/issues/21755 */display: inline-block !important;position: relative;}#sk-container-id-3 div.sk-text-repr-fallback {display: none;}</style><div id=\"sk-container-id-3\" class=\"sk-top-container\"><div class=\"sk-text-repr-fallback\"><pre>GaussianNB()</pre><b>In a Jupyter environment, please rerun this cell to show the HTML representation or trust the notebook. <br />On GitHub, the HTML representation is unable to render, please try loading this page with nbviewer.org.</b></div><div class=\"sk-container\" hidden><div class=\"sk-item\"><div class=\"sk-estimator sk-toggleable\"><input class=\"sk-toggleable__control sk-hidden--visually\" id=\"sk-estimator-id-3\" type=\"checkbox\" checked><label for=\"sk-estimator-id-3\" class=\"sk-toggleable__label sk-toggleable__label-arrow\">GaussianNB</label><div class=\"sk-toggleable__content\"><pre>GaussianNB()</pre></div></div></div></div></div>"
      ],
      "text/plain": [
       "GaussianNB()"
      ]
     },
     "execution_count": 48,
     "metadata": {},
     "output_type": "execute_result"
    }
   ],
   "source": [
    "Model_GNB.fit(x_train,y_train)"
   ]
  },
  {
   "cell_type": "code",
   "execution_count": 49,
   "id": "f2d10c9e",
   "metadata": {
    "execution": {
     "iopub.execute_input": "2024-09-06T12:44:19.531913Z",
     "iopub.status.busy": "2024-09-06T12:44:19.531454Z",
     "iopub.status.idle": "2024-09-06T12:44:19.550018Z",
     "shell.execute_reply": "2024-09-06T12:44:19.547450Z"
    },
    "papermill": {
     "duration": 0.068456,
     "end_time": "2024-09-06T12:44:19.553295",
     "exception": false,
     "start_time": "2024-09-06T12:44:19.484839",
     "status": "completed"
    },
    "tags": []
   },
   "outputs": [
    {
     "data": {
      "text/plain": [
       "array([4, 5, 2, ..., 2, 2, 2])"
      ]
     },
     "execution_count": 49,
     "metadata": {},
     "output_type": "execute_result"
    }
   ],
   "source": [
    "Model_GNB.predict(x_test)"
   ]
  },
  {
   "cell_type": "code",
   "execution_count": 50,
   "id": "bb471d77",
   "metadata": {
    "execution": {
     "iopub.execute_input": "2024-09-06T12:44:19.625685Z",
     "iopub.status.busy": "2024-09-06T12:44:19.625210Z",
     "iopub.status.idle": "2024-09-06T12:44:19.654378Z",
     "shell.execute_reply": "2024-09-06T12:44:19.652918Z"
    },
    "papermill": {
     "duration": 0.067524,
     "end_time": "2024-09-06T12:44:19.657317",
     "exception": false,
     "start_time": "2024-09-06T12:44:19.589793",
     "status": "completed"
    },
    "tags": []
   },
   "outputs": [
    {
     "name": "stdout",
     "output_type": "stream",
     "text": [
      "              precision    recall  f1-score   support\n",
      "\n",
      "           0       0.85      0.70      0.77       641\n",
      "           1       0.47      0.65      0.54       450\n",
      "           2       0.61      0.37      0.46       897\n",
      "           3       0.93      0.71      0.81       858\n",
      "           4       1.00      0.96      0.98       832\n",
      "           5       0.30      0.61      0.40       239\n",
      "           6       0.24      0.53      0.33       235\n",
      "\n",
      "    accuracy                           0.66      4152\n",
      "   macro avg       0.63      0.65      0.61      4152\n",
      "weighted avg       0.74      0.66      0.68      4152\n",
      "\n"
     ]
    }
   ],
   "source": [
    "print(classification_report(Model_GNB.predict(x_test),y_test))"
   ]
  },
  {
   "cell_type": "markdown",
   "id": "eee5a50e",
   "metadata": {
    "papermill": {
     "duration": 0.033449,
     "end_time": "2024-09-06T12:44:19.725245",
     "exception": false,
     "start_time": "2024-09-06T12:44:19.691796",
     "status": "completed"
    },
    "tags": []
   },
   "source": [
    "#### SVC"
   ]
  },
  {
   "cell_type": "code",
   "execution_count": 51,
   "id": "ddb23078",
   "metadata": {
    "execution": {
     "iopub.execute_input": "2024-09-06T12:44:19.798540Z",
     "iopub.status.busy": "2024-09-06T12:44:19.798061Z",
     "iopub.status.idle": "2024-09-06T12:44:19.804238Z",
     "shell.execute_reply": "2024-09-06T12:44:19.803037Z"
    },
    "papermill": {
     "duration": 0.047121,
     "end_time": "2024-09-06T12:44:19.806695",
     "exception": false,
     "start_time": "2024-09-06T12:44:19.759574",
     "status": "completed"
    },
    "tags": []
   },
   "outputs": [],
   "source": [
    "Model_SVC=SVC()"
   ]
  },
  {
   "cell_type": "code",
   "execution_count": 52,
   "id": "01644f7e",
   "metadata": {
    "execution": {
     "iopub.execute_input": "2024-09-06T12:44:19.878152Z",
     "iopub.status.busy": "2024-09-06T12:44:19.877678Z",
     "iopub.status.idle": "2024-09-06T12:44:23.037673Z",
     "shell.execute_reply": "2024-09-06T12:44:23.036392Z"
    },
    "papermill": {
     "duration": 3.200049,
     "end_time": "2024-09-06T12:44:23.040515",
     "exception": false,
     "start_time": "2024-09-06T12:44:19.840466",
     "status": "completed"
    },
    "tags": []
   },
   "outputs": [
    {
     "data": {
      "text/html": [
       "<style>#sk-container-id-4 {color: black;background-color: white;}#sk-container-id-4 pre{padding: 0;}#sk-container-id-4 div.sk-toggleable {background-color: white;}#sk-container-id-4 label.sk-toggleable__label {cursor: pointer;display: block;width: 100%;margin-bottom: 0;padding: 0.3em;box-sizing: border-box;text-align: center;}#sk-container-id-4 label.sk-toggleable__label-arrow:before {content: \"▸\";float: left;margin-right: 0.25em;color: #696969;}#sk-container-id-4 label.sk-toggleable__label-arrow:hover:before {color: black;}#sk-container-id-4 div.sk-estimator:hover label.sk-toggleable__label-arrow:before {color: black;}#sk-container-id-4 div.sk-toggleable__content {max-height: 0;max-width: 0;overflow: hidden;text-align: left;background-color: #f0f8ff;}#sk-container-id-4 div.sk-toggleable__content pre {margin: 0.2em;color: black;border-radius: 0.25em;background-color: #f0f8ff;}#sk-container-id-4 input.sk-toggleable__control:checked~div.sk-toggleable__content {max-height: 200px;max-width: 100%;overflow: auto;}#sk-container-id-4 input.sk-toggleable__control:checked~label.sk-toggleable__label-arrow:before {content: \"▾\";}#sk-container-id-4 div.sk-estimator input.sk-toggleable__control:checked~label.sk-toggleable__label {background-color: #d4ebff;}#sk-container-id-4 div.sk-label input.sk-toggleable__control:checked~label.sk-toggleable__label {background-color: #d4ebff;}#sk-container-id-4 input.sk-hidden--visually {border: 0;clip: rect(1px 1px 1px 1px);clip: rect(1px, 1px, 1px, 1px);height: 1px;margin: -1px;overflow: hidden;padding: 0;position: absolute;width: 1px;}#sk-container-id-4 div.sk-estimator {font-family: monospace;background-color: #f0f8ff;border: 1px dotted black;border-radius: 0.25em;box-sizing: border-box;margin-bottom: 0.5em;}#sk-container-id-4 div.sk-estimator:hover {background-color: #d4ebff;}#sk-container-id-4 div.sk-parallel-item::after {content: \"\";width: 100%;border-bottom: 1px solid gray;flex-grow: 1;}#sk-container-id-4 div.sk-label:hover label.sk-toggleable__label {background-color: #d4ebff;}#sk-container-id-4 div.sk-serial::before {content: \"\";position: absolute;border-left: 1px solid gray;box-sizing: border-box;top: 0;bottom: 0;left: 50%;z-index: 0;}#sk-container-id-4 div.sk-serial {display: flex;flex-direction: column;align-items: center;background-color: white;padding-right: 0.2em;padding-left: 0.2em;position: relative;}#sk-container-id-4 div.sk-item {position: relative;z-index: 1;}#sk-container-id-4 div.sk-parallel {display: flex;align-items: stretch;justify-content: center;background-color: white;position: relative;}#sk-container-id-4 div.sk-item::before, #sk-container-id-4 div.sk-parallel-item::before {content: \"\";position: absolute;border-left: 1px solid gray;box-sizing: border-box;top: 0;bottom: 0;left: 50%;z-index: -1;}#sk-container-id-4 div.sk-parallel-item {display: flex;flex-direction: column;z-index: 1;position: relative;background-color: white;}#sk-container-id-4 div.sk-parallel-item:first-child::after {align-self: flex-end;width: 50%;}#sk-container-id-4 div.sk-parallel-item:last-child::after {align-self: flex-start;width: 50%;}#sk-container-id-4 div.sk-parallel-item:only-child::after {width: 0;}#sk-container-id-4 div.sk-dashed-wrapped {border: 1px dashed gray;margin: 0 0.4em 0.5em 0.4em;box-sizing: border-box;padding-bottom: 0.4em;background-color: white;}#sk-container-id-4 div.sk-label label {font-family: monospace;font-weight: bold;display: inline-block;line-height: 1.2em;}#sk-container-id-4 div.sk-label-container {text-align: center;}#sk-container-id-4 div.sk-container {/* jupyter's `normalize.less` sets `[hidden] { display: none; }` but bootstrap.min.css set `[hidden] { display: none !important; }` so we also need the `!important` here to be able to override the default hidden behavior on the sphinx rendered scikit-learn.org. See: https://github.com/scikit-learn/scikit-learn/issues/21755 */display: inline-block !important;position: relative;}#sk-container-id-4 div.sk-text-repr-fallback {display: none;}</style><div id=\"sk-container-id-4\" class=\"sk-top-container\"><div class=\"sk-text-repr-fallback\"><pre>SVC()</pre><b>In a Jupyter environment, please rerun this cell to show the HTML representation or trust the notebook. <br />On GitHub, the HTML representation is unable to render, please try loading this page with nbviewer.org.</b></div><div class=\"sk-container\" hidden><div class=\"sk-item\"><div class=\"sk-estimator sk-toggleable\"><input class=\"sk-toggleable__control sk-hidden--visually\" id=\"sk-estimator-id-4\" type=\"checkbox\" checked><label for=\"sk-estimator-id-4\" class=\"sk-toggleable__label sk-toggleable__label-arrow\">SVC</label><div class=\"sk-toggleable__content\"><pre>SVC()</pre></div></div></div></div></div>"
      ],
      "text/plain": [
       "SVC()"
      ]
     },
     "execution_count": 52,
     "metadata": {},
     "output_type": "execute_result"
    }
   ],
   "source": [
    "Model_SVC.fit(x_train,y_train)"
   ]
  },
  {
   "cell_type": "code",
   "execution_count": 53,
   "id": "572db0b6",
   "metadata": {
    "execution": {
     "iopub.execute_input": "2024-09-06T12:44:23.110234Z",
     "iopub.status.busy": "2024-09-06T12:44:23.109761Z",
     "iopub.status.idle": "2024-09-06T12:44:25.094269Z",
     "shell.execute_reply": "2024-09-06T12:44:25.093058Z"
    },
    "papermill": {
     "duration": 2.023063,
     "end_time": "2024-09-06T12:44:25.097485",
     "exception": false,
     "start_time": "2024-09-06T12:44:23.074422",
     "status": "completed"
    },
    "tags": []
   },
   "outputs": [
    {
     "data": {
      "text/plain": [
       "array([4, 5, 2, ..., 2, 6, 5])"
      ]
     },
     "execution_count": 53,
     "metadata": {},
     "output_type": "execute_result"
    }
   ],
   "source": [
    "Model_SVC.predict(x_test)"
   ]
  },
  {
   "cell_type": "code",
   "execution_count": 54,
   "id": "f60e799f",
   "metadata": {
    "execution": {
     "iopub.execute_input": "2024-09-06T12:44:25.170595Z",
     "iopub.status.busy": "2024-09-06T12:44:25.169560Z",
     "iopub.status.idle": "2024-09-06T12:44:27.166245Z",
     "shell.execute_reply": "2024-09-06T12:44:27.164758Z"
    },
    "papermill": {
     "duration": 2.036221,
     "end_time": "2024-09-06T12:44:27.169242",
     "exception": false,
     "start_time": "2024-09-06T12:44:25.133021",
     "status": "completed"
    },
    "tags": []
   },
   "outputs": [
    {
     "name": "stdout",
     "output_type": "stream",
     "text": [
      "              precision    recall  f1-score   support\n",
      "\n",
      "           0       0.94      0.87      0.90       564\n",
      "           1       0.77      0.81      0.79       593\n",
      "           2       0.84      0.82      0.83       557\n",
      "           3       0.97      0.97      0.97       659\n",
      "           4       1.00      1.00      1.00       804\n",
      "           5       0.66      0.69      0.67       463\n",
      "           6       0.69      0.70      0.69       512\n",
      "\n",
      "    accuracy                           0.85      4152\n",
      "   macro avg       0.84      0.83      0.84      4152\n",
      "weighted avg       0.85      0.85      0.85      4152\n",
      "\n"
     ]
    }
   ],
   "source": [
    "print(classification_report(Model_SVC.predict(x_test),y_test))"
   ]
  },
  {
   "cell_type": "markdown",
   "id": "4faff632",
   "metadata": {
    "papermill": {
     "duration": 0.034273,
     "end_time": "2024-09-06T12:44:27.238381",
     "exception": false,
     "start_time": "2024-09-06T12:44:27.204108",
     "status": "completed"
    },
    "tags": []
   },
   "source": [
    "#### XGBClassifier"
   ]
  },
  {
   "cell_type": "code",
   "execution_count": 55,
   "id": "3b7b189f",
   "metadata": {
    "execution": {
     "iopub.execute_input": "2024-09-06T12:44:27.315448Z",
     "iopub.status.busy": "2024-09-06T12:44:27.314819Z",
     "iopub.status.idle": "2024-09-06T12:44:27.321372Z",
     "shell.execute_reply": "2024-09-06T12:44:27.319847Z"
    },
    "papermill": {
     "duration": 0.051527,
     "end_time": "2024-09-06T12:44:27.324358",
     "exception": false,
     "start_time": "2024-09-06T12:44:27.272831",
     "status": "completed"
    },
    "tags": []
   },
   "outputs": [],
   "source": [
    "Model_XGB=XGBClassifier()"
   ]
  },
  {
   "cell_type": "code",
   "execution_count": 56,
   "id": "63a9cfff",
   "metadata": {
    "execution": {
     "iopub.execute_input": "2024-09-06T12:44:27.398241Z",
     "iopub.status.busy": "2024-09-06T12:44:27.397364Z",
     "iopub.status.idle": "2024-09-06T12:44:29.051136Z",
     "shell.execute_reply": "2024-09-06T12:44:29.050051Z"
    },
    "papermill": {
     "duration": 1.693729,
     "end_time": "2024-09-06T12:44:29.053603",
     "exception": false,
     "start_time": "2024-09-06T12:44:27.359874",
     "status": "completed"
    },
    "tags": []
   },
   "outputs": [
    {
     "data": {
      "text/html": [
       "<style>#sk-container-id-5 {color: black;background-color: white;}#sk-container-id-5 pre{padding: 0;}#sk-container-id-5 div.sk-toggleable {background-color: white;}#sk-container-id-5 label.sk-toggleable__label {cursor: pointer;display: block;width: 100%;margin-bottom: 0;padding: 0.3em;box-sizing: border-box;text-align: center;}#sk-container-id-5 label.sk-toggleable__label-arrow:before {content: \"▸\";float: left;margin-right: 0.25em;color: #696969;}#sk-container-id-5 label.sk-toggleable__label-arrow:hover:before {color: black;}#sk-container-id-5 div.sk-estimator:hover label.sk-toggleable__label-arrow:before {color: black;}#sk-container-id-5 div.sk-toggleable__content {max-height: 0;max-width: 0;overflow: hidden;text-align: left;background-color: #f0f8ff;}#sk-container-id-5 div.sk-toggleable__content pre {margin: 0.2em;color: black;border-radius: 0.25em;background-color: #f0f8ff;}#sk-container-id-5 input.sk-toggleable__control:checked~div.sk-toggleable__content {max-height: 200px;max-width: 100%;overflow: auto;}#sk-container-id-5 input.sk-toggleable__control:checked~label.sk-toggleable__label-arrow:before {content: \"▾\";}#sk-container-id-5 div.sk-estimator input.sk-toggleable__control:checked~label.sk-toggleable__label {background-color: #d4ebff;}#sk-container-id-5 div.sk-label input.sk-toggleable__control:checked~label.sk-toggleable__label {background-color: #d4ebff;}#sk-container-id-5 input.sk-hidden--visually {border: 0;clip: rect(1px 1px 1px 1px);clip: rect(1px, 1px, 1px, 1px);height: 1px;margin: -1px;overflow: hidden;padding: 0;position: absolute;width: 1px;}#sk-container-id-5 div.sk-estimator {font-family: monospace;background-color: #f0f8ff;border: 1px dotted black;border-radius: 0.25em;box-sizing: border-box;margin-bottom: 0.5em;}#sk-container-id-5 div.sk-estimator:hover {background-color: #d4ebff;}#sk-container-id-5 div.sk-parallel-item::after {content: \"\";width: 100%;border-bottom: 1px solid gray;flex-grow: 1;}#sk-container-id-5 div.sk-label:hover label.sk-toggleable__label {background-color: #d4ebff;}#sk-container-id-5 div.sk-serial::before {content: \"\";position: absolute;border-left: 1px solid gray;box-sizing: border-box;top: 0;bottom: 0;left: 50%;z-index: 0;}#sk-container-id-5 div.sk-serial {display: flex;flex-direction: column;align-items: center;background-color: white;padding-right: 0.2em;padding-left: 0.2em;position: relative;}#sk-container-id-5 div.sk-item {position: relative;z-index: 1;}#sk-container-id-5 div.sk-parallel {display: flex;align-items: stretch;justify-content: center;background-color: white;position: relative;}#sk-container-id-5 div.sk-item::before, #sk-container-id-5 div.sk-parallel-item::before {content: \"\";position: absolute;border-left: 1px solid gray;box-sizing: border-box;top: 0;bottom: 0;left: 50%;z-index: -1;}#sk-container-id-5 div.sk-parallel-item {display: flex;flex-direction: column;z-index: 1;position: relative;background-color: white;}#sk-container-id-5 div.sk-parallel-item:first-child::after {align-self: flex-end;width: 50%;}#sk-container-id-5 div.sk-parallel-item:last-child::after {align-self: flex-start;width: 50%;}#sk-container-id-5 div.sk-parallel-item:only-child::after {width: 0;}#sk-container-id-5 div.sk-dashed-wrapped {border: 1px dashed gray;margin: 0 0.4em 0.5em 0.4em;box-sizing: border-box;padding-bottom: 0.4em;background-color: white;}#sk-container-id-5 div.sk-label label {font-family: monospace;font-weight: bold;display: inline-block;line-height: 1.2em;}#sk-container-id-5 div.sk-label-container {text-align: center;}#sk-container-id-5 div.sk-container {/* jupyter's `normalize.less` sets `[hidden] { display: none; }` but bootstrap.min.css set `[hidden] { display: none !important; }` so we also need the `!important` here to be able to override the default hidden behavior on the sphinx rendered scikit-learn.org. See: https://github.com/scikit-learn/scikit-learn/issues/21755 */display: inline-block !important;position: relative;}#sk-container-id-5 div.sk-text-repr-fallback {display: none;}</style><div id=\"sk-container-id-5\" class=\"sk-top-container\"><div class=\"sk-text-repr-fallback\"><pre>XGBClassifier(base_score=None, booster=None, callbacks=None,\n",
       "              colsample_bylevel=None, colsample_bynode=None,\n",
       "              colsample_bytree=None, device=None, early_stopping_rounds=None,\n",
       "              enable_categorical=False, eval_metric=None, feature_types=None,\n",
       "              gamma=None, grow_policy=None, importance_type=None,\n",
       "              interaction_constraints=None, learning_rate=None, max_bin=None,\n",
       "              max_cat_threshold=None, max_cat_to_onehot=None,\n",
       "              max_delta_step=None, max_depth=None, max_leaves=None,\n",
       "              min_child_weight=None, missing=nan, monotone_constraints=None,\n",
       "              multi_strategy=None, n_estimators=None, n_jobs=None,\n",
       "              num_parallel_tree=None, objective=&#x27;multi:softprob&#x27;, ...)</pre><b>In a Jupyter environment, please rerun this cell to show the HTML representation or trust the notebook. <br />On GitHub, the HTML representation is unable to render, please try loading this page with nbviewer.org.</b></div><div class=\"sk-container\" hidden><div class=\"sk-item\"><div class=\"sk-estimator sk-toggleable\"><input class=\"sk-toggleable__control sk-hidden--visually\" id=\"sk-estimator-id-5\" type=\"checkbox\" checked><label for=\"sk-estimator-id-5\" class=\"sk-toggleable__label sk-toggleable__label-arrow\">XGBClassifier</label><div class=\"sk-toggleable__content\"><pre>XGBClassifier(base_score=None, booster=None, callbacks=None,\n",
       "              colsample_bylevel=None, colsample_bynode=None,\n",
       "              colsample_bytree=None, device=None, early_stopping_rounds=None,\n",
       "              enable_categorical=False, eval_metric=None, feature_types=None,\n",
       "              gamma=None, grow_policy=None, importance_type=None,\n",
       "              interaction_constraints=None, learning_rate=None, max_bin=None,\n",
       "              max_cat_threshold=None, max_cat_to_onehot=None,\n",
       "              max_delta_step=None, max_depth=None, max_leaves=None,\n",
       "              min_child_weight=None, missing=nan, monotone_constraints=None,\n",
       "              multi_strategy=None, n_estimators=None, n_jobs=None,\n",
       "              num_parallel_tree=None, objective=&#x27;multi:softprob&#x27;, ...)</pre></div></div></div></div></div>"
      ],
      "text/plain": [
       "XGBClassifier(base_score=None, booster=None, callbacks=None,\n",
       "              colsample_bylevel=None, colsample_bynode=None,\n",
       "              colsample_bytree=None, device=None, early_stopping_rounds=None,\n",
       "              enable_categorical=False, eval_metric=None, feature_types=None,\n",
       "              gamma=None, grow_policy=None, importance_type=None,\n",
       "              interaction_constraints=None, learning_rate=None, max_bin=None,\n",
       "              max_cat_threshold=None, max_cat_to_onehot=None,\n",
       "              max_delta_step=None, max_depth=None, max_leaves=None,\n",
       "              min_child_weight=None, missing=nan, monotone_constraints=None,\n",
       "              multi_strategy=None, n_estimators=None, n_jobs=None,\n",
       "              num_parallel_tree=None, objective='multi:softprob', ...)"
      ]
     },
     "execution_count": 56,
     "metadata": {},
     "output_type": "execute_result"
    }
   ],
   "source": [
    "Model_XGB.fit(x_train,y_train)"
   ]
  },
  {
   "cell_type": "code",
   "execution_count": 57,
   "id": "6cc40552",
   "metadata": {
    "execution": {
     "iopub.execute_input": "2024-09-06T12:44:29.124720Z",
     "iopub.status.busy": "2024-09-06T12:44:29.124262Z",
     "iopub.status.idle": "2024-09-06T12:44:29.168198Z",
     "shell.execute_reply": "2024-09-06T12:44:29.167150Z"
    },
    "papermill": {
     "duration": 0.082462,
     "end_time": "2024-09-06T12:44:29.170689",
     "exception": false,
     "start_time": "2024-09-06T12:44:29.088227",
     "status": "completed"
    },
    "tags": []
   },
   "outputs": [
    {
     "data": {
      "text/plain": [
       "array([4, 5, 2, ..., 2, 5, 6])"
      ]
     },
     "execution_count": 57,
     "metadata": {},
     "output_type": "execute_result"
    }
   ],
   "source": [
    "Model_XGB.predict(x_test)"
   ]
  },
  {
   "cell_type": "code",
   "execution_count": 58,
   "id": "0c0fa4d4",
   "metadata": {
    "execution": {
     "iopub.execute_input": "2024-09-06T12:44:29.243499Z",
     "iopub.status.busy": "2024-09-06T12:44:29.243037Z",
     "iopub.status.idle": "2024-09-06T12:44:29.310955Z",
     "shell.execute_reply": "2024-09-06T12:44:29.309432Z"
    },
    "papermill": {
     "duration": 0.108416,
     "end_time": "2024-09-06T12:44:29.314717",
     "exception": false,
     "start_time": "2024-09-06T12:44:29.206301",
     "status": "completed"
    },
    "tags": []
   },
   "outputs": [
    {
     "name": "stdout",
     "output_type": "stream",
     "text": [
      "              precision    recall  f1-score   support\n",
      "\n",
      "           0       0.92      0.95      0.93       506\n",
      "           1       0.89      0.87      0.88       639\n",
      "           2       0.86      0.89      0.87       527\n",
      "           3       0.97      0.97      0.97       656\n",
      "           4       1.00      0.99      1.00       807\n",
      "           5       0.79      0.77      0.78       494\n",
      "           6       0.81      0.79      0.80       523\n",
      "\n",
      "    accuracy                           0.90      4152\n",
      "   macro avg       0.89      0.89      0.89      4152\n",
      "weighted avg       0.90      0.90      0.90      4152\n",
      "\n"
     ]
    }
   ],
   "source": [
    "print(classification_report(Model_XGB.predict(x_test),y_test))"
   ]
  },
  {
   "cell_type": "markdown",
   "id": "57b49bde",
   "metadata": {
    "papermill": {
     "duration": 0.035323,
     "end_time": "2024-09-06T12:44:29.385833",
     "exception": false,
     "start_time": "2024-09-06T12:44:29.350510",
     "status": "completed"
    },
    "tags": []
   },
   "source": [
    "#### GradientBoostingClassifier"
   ]
  },
  {
   "cell_type": "code",
   "execution_count": 59,
   "id": "cb3d8050",
   "metadata": {
    "execution": {
     "iopub.execute_input": "2024-09-06T12:44:29.460501Z",
     "iopub.status.busy": "2024-09-06T12:44:29.459143Z",
     "iopub.status.idle": "2024-09-06T12:44:29.465116Z",
     "shell.execute_reply": "2024-09-06T12:44:29.463653Z"
    },
    "papermill": {
     "duration": 0.045226,
     "end_time": "2024-09-06T12:44:29.467978",
     "exception": false,
     "start_time": "2024-09-06T12:44:29.422752",
     "status": "completed"
    },
    "tags": []
   },
   "outputs": [],
   "source": [
    "Model_GBoosting=GradientBoostingClassifier()"
   ]
  },
  {
   "cell_type": "code",
   "execution_count": 60,
   "id": "af7861bc",
   "metadata": {
    "execution": {
     "iopub.execute_input": "2024-09-06T12:44:29.565250Z",
     "iopub.status.busy": "2024-09-06T12:44:29.564776Z",
     "iopub.status.idle": "2024-09-06T12:44:51.202945Z",
     "shell.execute_reply": "2024-09-06T12:44:51.201740Z"
    },
    "papermill": {
     "duration": 21.690483,
     "end_time": "2024-09-06T12:44:51.205743",
     "exception": false,
     "start_time": "2024-09-06T12:44:29.515260",
     "status": "completed"
    },
    "tags": []
   },
   "outputs": [
    {
     "data": {
      "text/html": [
       "<style>#sk-container-id-6 {color: black;background-color: white;}#sk-container-id-6 pre{padding: 0;}#sk-container-id-6 div.sk-toggleable {background-color: white;}#sk-container-id-6 label.sk-toggleable__label {cursor: pointer;display: block;width: 100%;margin-bottom: 0;padding: 0.3em;box-sizing: border-box;text-align: center;}#sk-container-id-6 label.sk-toggleable__label-arrow:before {content: \"▸\";float: left;margin-right: 0.25em;color: #696969;}#sk-container-id-6 label.sk-toggleable__label-arrow:hover:before {color: black;}#sk-container-id-6 div.sk-estimator:hover label.sk-toggleable__label-arrow:before {color: black;}#sk-container-id-6 div.sk-toggleable__content {max-height: 0;max-width: 0;overflow: hidden;text-align: left;background-color: #f0f8ff;}#sk-container-id-6 div.sk-toggleable__content pre {margin: 0.2em;color: black;border-radius: 0.25em;background-color: #f0f8ff;}#sk-container-id-6 input.sk-toggleable__control:checked~div.sk-toggleable__content {max-height: 200px;max-width: 100%;overflow: auto;}#sk-container-id-6 input.sk-toggleable__control:checked~label.sk-toggleable__label-arrow:before {content: \"▾\";}#sk-container-id-6 div.sk-estimator input.sk-toggleable__control:checked~label.sk-toggleable__label {background-color: #d4ebff;}#sk-container-id-6 div.sk-label input.sk-toggleable__control:checked~label.sk-toggleable__label {background-color: #d4ebff;}#sk-container-id-6 input.sk-hidden--visually {border: 0;clip: rect(1px 1px 1px 1px);clip: rect(1px, 1px, 1px, 1px);height: 1px;margin: -1px;overflow: hidden;padding: 0;position: absolute;width: 1px;}#sk-container-id-6 div.sk-estimator {font-family: monospace;background-color: #f0f8ff;border: 1px dotted black;border-radius: 0.25em;box-sizing: border-box;margin-bottom: 0.5em;}#sk-container-id-6 div.sk-estimator:hover {background-color: #d4ebff;}#sk-container-id-6 div.sk-parallel-item::after {content: \"\";width: 100%;border-bottom: 1px solid gray;flex-grow: 1;}#sk-container-id-6 div.sk-label:hover label.sk-toggleable__label {background-color: #d4ebff;}#sk-container-id-6 div.sk-serial::before {content: \"\";position: absolute;border-left: 1px solid gray;box-sizing: border-box;top: 0;bottom: 0;left: 50%;z-index: 0;}#sk-container-id-6 div.sk-serial {display: flex;flex-direction: column;align-items: center;background-color: white;padding-right: 0.2em;padding-left: 0.2em;position: relative;}#sk-container-id-6 div.sk-item {position: relative;z-index: 1;}#sk-container-id-6 div.sk-parallel {display: flex;align-items: stretch;justify-content: center;background-color: white;position: relative;}#sk-container-id-6 div.sk-item::before, #sk-container-id-6 div.sk-parallel-item::before {content: \"\";position: absolute;border-left: 1px solid gray;box-sizing: border-box;top: 0;bottom: 0;left: 50%;z-index: -1;}#sk-container-id-6 div.sk-parallel-item {display: flex;flex-direction: column;z-index: 1;position: relative;background-color: white;}#sk-container-id-6 div.sk-parallel-item:first-child::after {align-self: flex-end;width: 50%;}#sk-container-id-6 div.sk-parallel-item:last-child::after {align-self: flex-start;width: 50%;}#sk-container-id-6 div.sk-parallel-item:only-child::after {width: 0;}#sk-container-id-6 div.sk-dashed-wrapped {border: 1px dashed gray;margin: 0 0.4em 0.5em 0.4em;box-sizing: border-box;padding-bottom: 0.4em;background-color: white;}#sk-container-id-6 div.sk-label label {font-family: monospace;font-weight: bold;display: inline-block;line-height: 1.2em;}#sk-container-id-6 div.sk-label-container {text-align: center;}#sk-container-id-6 div.sk-container {/* jupyter's `normalize.less` sets `[hidden] { display: none; }` but bootstrap.min.css set `[hidden] { display: none !important; }` so we also need the `!important` here to be able to override the default hidden behavior on the sphinx rendered scikit-learn.org. See: https://github.com/scikit-learn/scikit-learn/issues/21755 */display: inline-block !important;position: relative;}#sk-container-id-6 div.sk-text-repr-fallback {display: none;}</style><div id=\"sk-container-id-6\" class=\"sk-top-container\"><div class=\"sk-text-repr-fallback\"><pre>GradientBoostingClassifier()</pre><b>In a Jupyter environment, please rerun this cell to show the HTML representation or trust the notebook. <br />On GitHub, the HTML representation is unable to render, please try loading this page with nbviewer.org.</b></div><div class=\"sk-container\" hidden><div class=\"sk-item\"><div class=\"sk-estimator sk-toggleable\"><input class=\"sk-toggleable__control sk-hidden--visually\" id=\"sk-estimator-id-6\" type=\"checkbox\" checked><label for=\"sk-estimator-id-6\" class=\"sk-toggleable__label sk-toggleable__label-arrow\">GradientBoostingClassifier</label><div class=\"sk-toggleable__content\"><pre>GradientBoostingClassifier()</pre></div></div></div></div></div>"
      ],
      "text/plain": [
       "GradientBoostingClassifier()"
      ]
     },
     "execution_count": 60,
     "metadata": {},
     "output_type": "execute_result"
    }
   ],
   "source": [
    "Model_GBoosting.fit(x_train,y_train)"
   ]
  },
  {
   "cell_type": "code",
   "execution_count": 61,
   "id": "3ad6692c",
   "metadata": {
    "execution": {
     "iopub.execute_input": "2024-09-06T12:44:51.279610Z",
     "iopub.status.busy": "2024-09-06T12:44:51.278210Z",
     "iopub.status.idle": "2024-09-06T12:44:51.344600Z",
     "shell.execute_reply": "2024-09-06T12:44:51.343110Z"
    },
    "papermill": {
     "duration": 0.105737,
     "end_time": "2024-09-06T12:44:51.347400",
     "exception": false,
     "start_time": "2024-09-06T12:44:51.241663",
     "status": "completed"
    },
    "tags": []
   },
   "outputs": [
    {
     "data": {
      "text/plain": [
       "array([4, 5, 2, ..., 2, 5, 6])"
      ]
     },
     "execution_count": 61,
     "metadata": {},
     "output_type": "execute_result"
    }
   ],
   "source": [
    "Model_GBoosting.predict(x_test)"
   ]
  },
  {
   "cell_type": "code",
   "execution_count": 62,
   "id": "7b43a3ea",
   "metadata": {
    "execution": {
     "iopub.execute_input": "2024-09-06T12:44:51.421535Z",
     "iopub.status.busy": "2024-09-06T12:44:51.420247Z",
     "iopub.status.idle": "2024-09-06T12:44:51.503337Z",
     "shell.execute_reply": "2024-09-06T12:44:51.501707Z"
    },
    "papermill": {
     "duration": 0.122839,
     "end_time": "2024-09-06T12:44:51.506150",
     "exception": false,
     "start_time": "2024-09-06T12:44:51.383311",
     "status": "completed"
    },
    "tags": []
   },
   "outputs": [
    {
     "name": "stdout",
     "output_type": "stream",
     "text": [
      "              precision    recall  f1-score   support\n",
      "\n",
      "           0       0.94      0.95      0.94       520\n",
      "           1       0.88      0.88      0.88       633\n",
      "           2       0.87      0.88      0.88       537\n",
      "           3       0.97      0.97      0.97       655\n",
      "           4       1.00      1.00      1.00       805\n",
      "           5       0.78      0.78      0.78       486\n",
      "           6       0.80      0.80      0.80       516\n",
      "\n",
      "    accuracy                           0.90      4152\n",
      "   macro avg       0.89      0.89      0.89      4152\n",
      "weighted avg       0.90      0.90      0.90      4152\n",
      "\n"
     ]
    }
   ],
   "source": [
    "print(classification_report(Model_GBoosting.predict(x_test),y_test))"
   ]
  },
  {
   "cell_type": "markdown",
   "id": "70d291c8",
   "metadata": {
    "execution": {
     "iopub.execute_input": "2024-09-06T11:21:53.629247Z",
     "iopub.status.busy": "2024-09-06T11:21:53.628769Z",
     "iopub.status.idle": "2024-09-06T11:21:53.634545Z",
     "shell.execute_reply": "2024-09-06T11:21:53.633242Z",
     "shell.execute_reply.started": "2024-09-06T11:21:53.629205Z"
    },
    "papermill": {
     "duration": 0.03646,
     "end_time": "2024-09-06T12:44:51.580273",
     "exception": false,
     "start_time": "2024-09-06T12:44:51.543813",
     "status": "completed"
    },
    "tags": []
   },
   "source": [
    "# Optimaization"
   ]
  },
  {
   "cell_type": "code",
   "execution_count": 63,
   "id": "fbe4b1b7",
   "metadata": {
    "execution": {
     "iopub.execute_input": "2024-09-06T12:44:51.655262Z",
     "iopub.status.busy": "2024-09-06T12:44:51.654332Z",
     "iopub.status.idle": "2024-09-06T12:44:51.660933Z",
     "shell.execute_reply": "2024-09-06T12:44:51.659536Z"
    },
    "papermill": {
     "duration": 0.048073,
     "end_time": "2024-09-06T12:44:51.663792",
     "exception": false,
     "start_time": "2024-09-06T12:44:51.615719",
     "status": "completed"
    },
    "tags": []
   },
   "outputs": [],
   "source": [
    "prim_grid={'n_estimators':[100,200,300],\n",
    "           'learning_rate':[0.1,0.01,0.001],\n",
    "           'max_depth':[3,5,7]}\n",
    "scorer=\"accuracy\""
   ]
  },
  {
   "cell_type": "markdown",
   "id": "6b38c961",
   "metadata": {
    "papermill": {
     "duration": 0.036466,
     "end_time": "2024-09-06T12:44:51.736284",
     "exception": false,
     "start_time": "2024-09-06T12:44:51.699818",
     "status": "completed"
    },
    "tags": []
   },
   "source": [
    "#### XGBClassifier"
   ]
  },
  {
   "cell_type": "code",
   "execution_count": 64,
   "id": "c30d068f",
   "metadata": {
    "execution": {
     "iopub.execute_input": "2024-09-06T12:44:51.812372Z",
     "iopub.status.busy": "2024-09-06T12:44:51.811341Z",
     "iopub.status.idle": "2024-09-06T12:49:04.895508Z",
     "shell.execute_reply": "2024-09-06T12:49:04.893646Z"
    },
    "papermill": {
     "duration": 253.161638,
     "end_time": "2024-09-06T12:49:04.934362",
     "exception": false,
     "start_time": "2024-09-06T12:44:51.772724",
     "status": "completed"
    },
    "tags": []
   },
   "outputs": [
    {
     "name": "stdout",
     "output_type": "stream",
     "text": [
      "{'learning_rate': 0.1, 'max_depth': 5, 'n_estimators': 200}\n",
      "0.9082865301192982\n"
     ]
    }
   ],
   "source": [
    "Model_XGB=GridSearchCV(Model_XGB,prim_grid,scoring=scorer,n_jobs=-1)\n",
    "Model_XGB.fit(x_train,y_train)\n",
    "print(Model_XGB.best_params_)\n",
    "print(Model_XGB.best_score_)"
   ]
  },
  {
   "cell_type": "code",
   "execution_count": 65,
   "id": "3370bbc8",
   "metadata": {
    "execution": {
     "iopub.execute_input": "2024-09-06T12:49:05.010497Z",
     "iopub.status.busy": "2024-09-06T12:49:05.010021Z",
     "iopub.status.idle": "2024-09-06T12:49:05.017669Z",
     "shell.execute_reply": "2024-09-06T12:49:05.016406Z"
    },
    "papermill": {
     "duration": 0.048071,
     "end_time": "2024-09-06T12:49:05.020425",
     "exception": false,
     "start_time": "2024-09-06T12:49:04.972354",
     "status": "completed"
    },
    "tags": []
   },
   "outputs": [],
   "source": [
    "Model_XGB=XGBClassifier({'learning_rate': 0.1, 'max_depth': 5, 'n_estimators': 200})"
   ]
  },
  {
   "cell_type": "code",
   "execution_count": 66,
   "id": "fa71432e",
   "metadata": {
    "execution": {
     "iopub.execute_input": "2024-09-06T12:49:05.093626Z",
     "iopub.status.busy": "2024-09-06T12:49:05.093198Z",
     "iopub.status.idle": "2024-09-06T12:49:08.338072Z",
     "shell.execute_reply": "2024-09-06T12:49:08.336780Z"
    },
    "papermill": {
     "duration": 3.284419,
     "end_time": "2024-09-06T12:49:08.340765",
     "exception": false,
     "start_time": "2024-09-06T12:49:05.056346",
     "status": "completed"
    },
    "tags": []
   },
   "outputs": [
    {
     "data": {
      "text/html": [
       "<style>#sk-container-id-7 {color: black;background-color: white;}#sk-container-id-7 pre{padding: 0;}#sk-container-id-7 div.sk-toggleable {background-color: white;}#sk-container-id-7 label.sk-toggleable__label {cursor: pointer;display: block;width: 100%;margin-bottom: 0;padding: 0.3em;box-sizing: border-box;text-align: center;}#sk-container-id-7 label.sk-toggleable__label-arrow:before {content: \"▸\";float: left;margin-right: 0.25em;color: #696969;}#sk-container-id-7 label.sk-toggleable__label-arrow:hover:before {color: black;}#sk-container-id-7 div.sk-estimator:hover label.sk-toggleable__label-arrow:before {color: black;}#sk-container-id-7 div.sk-toggleable__content {max-height: 0;max-width: 0;overflow: hidden;text-align: left;background-color: #f0f8ff;}#sk-container-id-7 div.sk-toggleable__content pre {margin: 0.2em;color: black;border-radius: 0.25em;background-color: #f0f8ff;}#sk-container-id-7 input.sk-toggleable__control:checked~div.sk-toggleable__content {max-height: 200px;max-width: 100%;overflow: auto;}#sk-container-id-7 input.sk-toggleable__control:checked~label.sk-toggleable__label-arrow:before {content: \"▾\";}#sk-container-id-7 div.sk-estimator input.sk-toggleable__control:checked~label.sk-toggleable__label {background-color: #d4ebff;}#sk-container-id-7 div.sk-label input.sk-toggleable__control:checked~label.sk-toggleable__label {background-color: #d4ebff;}#sk-container-id-7 input.sk-hidden--visually {border: 0;clip: rect(1px 1px 1px 1px);clip: rect(1px, 1px, 1px, 1px);height: 1px;margin: -1px;overflow: hidden;padding: 0;position: absolute;width: 1px;}#sk-container-id-7 div.sk-estimator {font-family: monospace;background-color: #f0f8ff;border: 1px dotted black;border-radius: 0.25em;box-sizing: border-box;margin-bottom: 0.5em;}#sk-container-id-7 div.sk-estimator:hover {background-color: #d4ebff;}#sk-container-id-7 div.sk-parallel-item::after {content: \"\";width: 100%;border-bottom: 1px solid gray;flex-grow: 1;}#sk-container-id-7 div.sk-label:hover label.sk-toggleable__label {background-color: #d4ebff;}#sk-container-id-7 div.sk-serial::before {content: \"\";position: absolute;border-left: 1px solid gray;box-sizing: border-box;top: 0;bottom: 0;left: 50%;z-index: 0;}#sk-container-id-7 div.sk-serial {display: flex;flex-direction: column;align-items: center;background-color: white;padding-right: 0.2em;padding-left: 0.2em;position: relative;}#sk-container-id-7 div.sk-item {position: relative;z-index: 1;}#sk-container-id-7 div.sk-parallel {display: flex;align-items: stretch;justify-content: center;background-color: white;position: relative;}#sk-container-id-7 div.sk-item::before, #sk-container-id-7 div.sk-parallel-item::before {content: \"\";position: absolute;border-left: 1px solid gray;box-sizing: border-box;top: 0;bottom: 0;left: 50%;z-index: -1;}#sk-container-id-7 div.sk-parallel-item {display: flex;flex-direction: column;z-index: 1;position: relative;background-color: white;}#sk-container-id-7 div.sk-parallel-item:first-child::after {align-self: flex-end;width: 50%;}#sk-container-id-7 div.sk-parallel-item:last-child::after {align-self: flex-start;width: 50%;}#sk-container-id-7 div.sk-parallel-item:only-child::after {width: 0;}#sk-container-id-7 div.sk-dashed-wrapped {border: 1px dashed gray;margin: 0 0.4em 0.5em 0.4em;box-sizing: border-box;padding-bottom: 0.4em;background-color: white;}#sk-container-id-7 div.sk-label label {font-family: monospace;font-weight: bold;display: inline-block;line-height: 1.2em;}#sk-container-id-7 div.sk-label-container {text-align: center;}#sk-container-id-7 div.sk-container {/* jupyter's `normalize.less` sets `[hidden] { display: none; }` but bootstrap.min.css set `[hidden] { display: none !important; }` so we also need the `!important` here to be able to override the default hidden behavior on the sphinx rendered scikit-learn.org. See: https://github.com/scikit-learn/scikit-learn/issues/21755 */display: inline-block !important;position: relative;}#sk-container-id-7 div.sk-text-repr-fallback {display: none;}</style><div id=\"sk-container-id-7\" class=\"sk-top-container\"><div class=\"sk-text-repr-fallback\"><pre>XGBClassifier(base_score=None, booster=None, callbacks=None,\n",
       "              colsample_bylevel=None, colsample_bynode=None,\n",
       "              colsample_bytree=None, device=None, early_stopping_rounds=None,\n",
       "              enable_categorical=False, eval_metric=None, feature_types=None,\n",
       "              gamma=None, grow_policy=None, importance_type=None,\n",
       "              interaction_constraints=None, learning_rate=None, max_bin=None,\n",
       "              max_cat_threshold=None, max_cat_to_onehot=None,\n",
       "              max_delta_step=None, max_depth=None, max_leaves=None,\n",
       "              min_child_weight=None, missing=nan, monotone_constraints=None,\n",
       "              multi_strategy=None, n_estimators=None, n_jobs=None,\n",
       "              num_parallel_tree=None, objective=&#x27;multi:softprob&#x27;, ...)</pre><b>In a Jupyter environment, please rerun this cell to show the HTML representation or trust the notebook. <br />On GitHub, the HTML representation is unable to render, please try loading this page with nbviewer.org.</b></div><div class=\"sk-container\" hidden><div class=\"sk-item\"><div class=\"sk-estimator sk-toggleable\"><input class=\"sk-toggleable__control sk-hidden--visually\" id=\"sk-estimator-id-7\" type=\"checkbox\" checked><label for=\"sk-estimator-id-7\" class=\"sk-toggleable__label sk-toggleable__label-arrow\">XGBClassifier</label><div class=\"sk-toggleable__content\"><pre>XGBClassifier(base_score=None, booster=None, callbacks=None,\n",
       "              colsample_bylevel=None, colsample_bynode=None,\n",
       "              colsample_bytree=None, device=None, early_stopping_rounds=None,\n",
       "              enable_categorical=False, eval_metric=None, feature_types=None,\n",
       "              gamma=None, grow_policy=None, importance_type=None,\n",
       "              interaction_constraints=None, learning_rate=None, max_bin=None,\n",
       "              max_cat_threshold=None, max_cat_to_onehot=None,\n",
       "              max_delta_step=None, max_depth=None, max_leaves=None,\n",
       "              min_child_weight=None, missing=nan, monotone_constraints=None,\n",
       "              multi_strategy=None, n_estimators=None, n_jobs=None,\n",
       "              num_parallel_tree=None, objective=&#x27;multi:softprob&#x27;, ...)</pre></div></div></div></div></div>"
      ],
      "text/plain": [
       "XGBClassifier(base_score=None, booster=None, callbacks=None,\n",
       "              colsample_bylevel=None, colsample_bynode=None,\n",
       "              colsample_bytree=None, device=None, early_stopping_rounds=None,\n",
       "              enable_categorical=False, eval_metric=None, feature_types=None,\n",
       "              gamma=None, grow_policy=None, importance_type=None,\n",
       "              interaction_constraints=None, learning_rate=None, max_bin=None,\n",
       "              max_cat_threshold=None, max_cat_to_onehot=None,\n",
       "              max_delta_step=None, max_depth=None, max_leaves=None,\n",
       "              min_child_weight=None, missing=nan, monotone_constraints=None,\n",
       "              multi_strategy=None, n_estimators=None, n_jobs=None,\n",
       "              num_parallel_tree=None, objective='multi:softprob', ...)"
      ]
     },
     "execution_count": 66,
     "metadata": {},
     "output_type": "execute_result"
    }
   ],
   "source": [
    "Model_XGB.fit(x_train,y_train)"
   ]
  },
  {
   "cell_type": "code",
   "execution_count": 67,
   "id": "d04da10d",
   "metadata": {
    "execution": {
     "iopub.execute_input": "2024-09-06T12:49:08.414169Z",
     "iopub.status.busy": "2024-09-06T12:49:08.413709Z",
     "iopub.status.idle": "2024-09-06T12:49:08.460045Z",
     "shell.execute_reply": "2024-09-06T12:49:08.458945Z"
    },
    "papermill": {
     "duration": 0.086727,
     "end_time": "2024-09-06T12:49:08.463258",
     "exception": false,
     "start_time": "2024-09-06T12:49:08.376531",
     "status": "completed"
    },
    "tags": []
   },
   "outputs": [
    {
     "data": {
      "text/plain": [
       "array([4, 5, 2, ..., 2, 5, 6])"
      ]
     },
     "execution_count": 67,
     "metadata": {},
     "output_type": "execute_result"
    }
   ],
   "source": [
    "Model_XGB.predict(x_test)"
   ]
  },
  {
   "cell_type": "code",
   "execution_count": 68,
   "id": "d00df16e",
   "metadata": {
    "execution": {
     "iopub.execute_input": "2024-09-06T12:49:08.537215Z",
     "iopub.status.busy": "2024-09-06T12:49:08.536737Z",
     "iopub.status.idle": "2024-09-06T12:49:08.596855Z",
     "shell.execute_reply": "2024-09-06T12:49:08.595528Z"
    },
    "papermill": {
     "duration": 0.099874,
     "end_time": "2024-09-06T12:49:08.599711",
     "exception": false,
     "start_time": "2024-09-06T12:49:08.499837",
     "status": "completed"
    },
    "tags": []
   },
   "outputs": [
    {
     "name": "stdout",
     "output_type": "stream",
     "text": [
      "              precision    recall  f1-score   support\n",
      "\n",
      "           0       0.92      0.95      0.93       506\n",
      "           1       0.89      0.87      0.88       639\n",
      "           2       0.86      0.89      0.87       527\n",
      "           3       0.97      0.97      0.97       656\n",
      "           4       1.00      0.99      1.00       807\n",
      "           5       0.79      0.77      0.78       494\n",
      "           6       0.81      0.79      0.80       523\n",
      "\n",
      "    accuracy                           0.90      4152\n",
      "   macro avg       0.89      0.89      0.89      4152\n",
      "weighted avg       0.90      0.90      0.90      4152\n",
      "\n"
     ]
    }
   ],
   "source": [
    "print(classification_report(Model_XGB.predict(x_test),y_test))"
   ]
  },
  {
   "cell_type": "markdown",
   "id": "a2aa392c",
   "metadata": {
    "papermill": {
     "duration": 0.03583,
     "end_time": "2024-09-06T12:49:08.673361",
     "exception": false,
     "start_time": "2024-09-06T12:49:08.637531",
     "status": "completed"
    },
    "tags": []
   },
   "source": [
    "# Testing"
   ]
  },
  {
   "cell_type": "code",
   "execution_count": 69,
   "id": "5c2bed2d",
   "metadata": {
    "execution": {
     "iopub.execute_input": "2024-09-06T12:49:08.746855Z",
     "iopub.status.busy": "2024-09-06T12:49:08.746376Z",
     "iopub.status.idle": "2024-09-06T12:49:08.754280Z",
     "shell.execute_reply": "2024-09-06T12:49:08.753065Z"
    },
    "papermill": {
     "duration": 0.047612,
     "end_time": "2024-09-06T12:49:08.756887",
     "exception": false,
     "start_time": "2024-09-06T12:49:08.709275",
     "status": "completed"
    },
    "tags": []
   },
   "outputs": [],
   "source": [
    "test_x=obesity_test.drop(['id'],axis=1)"
   ]
  },
  {
   "cell_type": "code",
   "execution_count": 70,
   "id": "3c56290f",
   "metadata": {
    "execution": {
     "iopub.execute_input": "2024-09-06T12:49:08.831734Z",
     "iopub.status.busy": "2024-09-06T12:49:08.831260Z",
     "iopub.status.idle": "2024-09-06T12:49:08.936759Z",
     "shell.execute_reply": "2024-09-06T12:49:08.935772Z"
    },
    "papermill": {
     "duration": 0.146869,
     "end_time": "2024-09-06T12:49:08.939554",
     "exception": false,
     "start_time": "2024-09-06T12:49:08.792685",
     "status": "completed"
    },
    "tags": []
   },
   "outputs": [],
   "source": [
    "pred=Model_XGB.predict(test_x)"
   ]
  },
  {
   "cell_type": "code",
   "execution_count": 71,
   "id": "d453ccad",
   "metadata": {
    "execution": {
     "iopub.execute_input": "2024-09-06T12:49:09.015273Z",
     "iopub.status.busy": "2024-09-06T12:49:09.014769Z",
     "iopub.status.idle": "2024-09-06T12:49:09.022314Z",
     "shell.execute_reply": "2024-09-06T12:49:09.020825Z"
    },
    "papermill": {
     "duration": 0.047591,
     "end_time": "2024-09-06T12:49:09.024859",
     "exception": false,
     "start_time": "2024-09-06T12:49:08.977268",
     "status": "completed"
    },
    "tags": []
   },
   "outputs": [],
   "source": [
    "df=pd.DataFrame({'id':obesity_test['id'],'NObeyesdad':pred})"
   ]
  },
  {
   "cell_type": "code",
   "execution_count": 72,
   "id": "106cf7d8",
   "metadata": {
    "execution": {
     "iopub.execute_input": "2024-09-06T12:49:09.099410Z",
     "iopub.status.busy": "2024-09-06T12:49:09.098914Z",
     "iopub.status.idle": "2024-09-06T12:49:09.112701Z",
     "shell.execute_reply": "2024-09-06T12:49:09.111331Z"
    },
    "papermill": {
     "duration": 0.053975,
     "end_time": "2024-09-06T12:49:09.115320",
     "exception": false,
     "start_time": "2024-09-06T12:49:09.061345",
     "status": "completed"
    },
    "tags": []
   },
   "outputs": [
    {
     "data": {
      "text/html": [
       "<div>\n",
       "<style scoped>\n",
       "    .dataframe tbody tr th:only-of-type {\n",
       "        vertical-align: middle;\n",
       "    }\n",
       "\n",
       "    .dataframe tbody tr th {\n",
       "        vertical-align: top;\n",
       "    }\n",
       "\n",
       "    .dataframe thead th {\n",
       "        text-align: right;\n",
       "    }\n",
       "</style>\n",
       "<table border=\"1\" class=\"dataframe\">\n",
       "  <thead>\n",
       "    <tr style=\"text-align: right;\">\n",
       "      <th></th>\n",
       "      <th>id</th>\n",
       "      <th>NObeyesdad</th>\n",
       "    </tr>\n",
       "  </thead>\n",
       "  <tbody>\n",
       "    <tr>\n",
       "      <th>0</th>\n",
       "      <td>20758</td>\n",
       "      <td>3</td>\n",
       "    </tr>\n",
       "    <tr>\n",
       "      <th>1</th>\n",
       "      <td>20759</td>\n",
       "      <td>5</td>\n",
       "    </tr>\n",
       "    <tr>\n",
       "      <th>2</th>\n",
       "      <td>20760</td>\n",
       "      <td>4</td>\n",
       "    </tr>\n",
       "    <tr>\n",
       "      <th>3</th>\n",
       "      <td>20761</td>\n",
       "      <td>2</td>\n",
       "    </tr>\n",
       "    <tr>\n",
       "      <th>4</th>\n",
       "      <td>20762</td>\n",
       "      <td>4</td>\n",
       "    </tr>\n",
       "    <tr>\n",
       "      <th>...</th>\n",
       "      <td>...</td>\n",
       "      <td>...</td>\n",
       "    </tr>\n",
       "    <tr>\n",
       "      <th>13835</th>\n",
       "      <td>34593</td>\n",
       "      <td>6</td>\n",
       "    </tr>\n",
       "    <tr>\n",
       "      <th>13836</th>\n",
       "      <td>34594</td>\n",
       "      <td>1</td>\n",
       "    </tr>\n",
       "    <tr>\n",
       "      <th>13837</th>\n",
       "      <td>34595</td>\n",
       "      <td>0</td>\n",
       "    </tr>\n",
       "    <tr>\n",
       "      <th>13838</th>\n",
       "      <td>34596</td>\n",
       "      <td>1</td>\n",
       "    </tr>\n",
       "    <tr>\n",
       "      <th>13839</th>\n",
       "      <td>34597</td>\n",
       "      <td>3</td>\n",
       "    </tr>\n",
       "  </tbody>\n",
       "</table>\n",
       "<p>13840 rows × 2 columns</p>\n",
       "</div>"
      ],
      "text/plain": [
       "          id  NObeyesdad\n",
       "0      20758           3\n",
       "1      20759           5\n",
       "2      20760           4\n",
       "3      20761           2\n",
       "4      20762           4\n",
       "...      ...         ...\n",
       "13835  34593           6\n",
       "13836  34594           1\n",
       "13837  34595           0\n",
       "13838  34596           1\n",
       "13839  34597           3\n",
       "\n",
       "[13840 rows x 2 columns]"
      ]
     },
     "execution_count": 72,
     "metadata": {},
     "output_type": "execute_result"
    }
   ],
   "source": [
    "df"
   ]
  },
  {
   "cell_type": "code",
   "execution_count": 73,
   "id": "780a64fd",
   "metadata": {
    "execution": {
     "iopub.execute_input": "2024-09-06T12:49:09.189779Z",
     "iopub.status.busy": "2024-09-06T12:49:09.189335Z",
     "iopub.status.idle": "2024-09-06T12:49:09.218373Z",
     "shell.execute_reply": "2024-09-06T12:49:09.216999Z"
    },
    "papermill": {
     "duration": 0.06967,
     "end_time": "2024-09-06T12:49:09.221304",
     "exception": false,
     "start_time": "2024-09-06T12:49:09.151634",
     "status": "completed"
    },
    "tags": []
   },
   "outputs": [],
   "source": [
    "df.to_csv(\"sub.csv\",index=False)"
   ]
  },
  {
   "cell_type": "code",
   "execution_count": null,
   "id": "3cdc8366",
   "metadata": {
    "papermill": {
     "duration": 0.047112,
     "end_time": "2024-09-06T12:49:09.305622",
     "exception": false,
     "start_time": "2024-09-06T12:49:09.258510",
     "status": "completed"
    },
    "tags": []
   },
   "outputs": [],
   "source": []
  }
 ],
 "metadata": {
  "kaggle": {
   "accelerator": "none",
   "dataSources": [
    {
     "databundleVersionId": 7609535,
     "sourceId": 68479,
     "sourceType": "competition"
    }
   ],
   "isGpuEnabled": false,
   "isInternetEnabled": true,
   "language": "python",
   "sourceType": "notebook"
  },
  "kernelspec": {
   "display_name": "Python 3 (ipykernel)",
   "language": "python",
   "name": "python3"
  },
  "language_info": {
   "codemirror_mode": {
    "name": "ipython",
    "version": 3
   },
   "file_extension": ".py",
   "mimetype": "text/x-python",
   "name": "python",
   "nbconvert_exporter": "python",
   "pygments_lexer": "ipython3",
   "version": "3.10.14"
  },
  "papermill": {
   "default_parameters": {},
   "duration": 309.243493,
   "end_time": "2024-09-06T12:49:11.965398",
   "environment_variables": {},
   "exception": null,
   "input_path": "__notebook__.ipynb",
   "output_path": "__notebook__.ipynb",
   "parameters": {},
   "start_time": "2024-09-06T12:44:02.721905",
   "version": "2.6.0"
  }
 },
 "nbformat": 4,
 "nbformat_minor": 5
}
