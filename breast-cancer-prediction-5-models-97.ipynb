{
 "cells": [
  {
   "cell_type": "markdown",
   "id": "2c09d2e5",
   "metadata": {
    "papermill": {
     "duration": 0.00927,
     "end_time": "2024-09-07T09:51:01.568083",
     "exception": false,
     "start_time": "2024-09-07T09:51:01.558813",
     "status": "completed"
    },
    "tags": []
   },
   "source": [
    "# Import Libraries"
   ]
  },
  {
   "cell_type": "code",
   "execution_count": 1,
   "id": "1eea0421",
   "metadata": {
    "execution": {
     "iopub.execute_input": "2024-09-07T09:51:01.588564Z",
     "iopub.status.busy": "2024-09-07T09:51:01.587957Z",
     "iopub.status.idle": "2024-09-07T09:51:05.061978Z",
     "shell.execute_reply": "2024-09-07T09:51:05.060766Z"
    },
    "papermill": {
     "duration": 3.487603,
     "end_time": "2024-09-07T09:51:05.064600",
     "exception": false,
     "start_time": "2024-09-07T09:51:01.576997",
     "status": "completed"
    },
    "tags": []
   },
   "outputs": [],
   "source": [
    "import numpy as np\n",
    "import pandas as pd \n",
    "import seaborn as sns \n",
    "import matplotlib.pyplot as plt\n",
    "%matplotlib inline\n",
    "\n",
    "from sklearn.model_selection import train_test_split\n",
    "from sklearn.metrics import classification_report\n",
    "from sklearn.preprocessing import LabelEncoder\n",
    "from imblearn.over_sampling import RandomOverSampler\n",
    "\n",
    "from sklearn.linear_model import LogisticRegression\n",
    "from sklearn.ensemble import RandomForestClassifier\n",
    "from sklearn.ensemble import GradientBoostingClassifier\n",
    "from sklearn.svm import SVC\n",
    "from xgboost import XGBClassifier\n",
    "from sklearn.neighbors import KNeighborsClassifier\n",
    "\n",
    "import warnings\n",
    "warnings.filterwarnings('ignore')"
   ]
  },
  {
   "cell_type": "markdown",
   "id": "e1b2e83a",
   "metadata": {
    "papermill": {
     "duration": 0.008457,
     "end_time": "2024-09-07T09:51:05.082008",
     "exception": false,
     "start_time": "2024-09-07T09:51:05.073551",
     "status": "completed"
    },
    "tags": []
   },
   "source": [
    "# Explore Data"
   ]
  },
  {
   "cell_type": "code",
   "execution_count": 2,
   "id": "e49ba451",
   "metadata": {
    "execution": {
     "iopub.execute_input": "2024-09-07T09:51:05.102132Z",
     "iopub.status.busy": "2024-09-07T09:51:05.100971Z",
     "iopub.status.idle": "2024-09-07T09:51:05.141860Z",
     "shell.execute_reply": "2024-09-07T09:51:05.140559Z"
    },
    "papermill": {
     "duration": 0.05379,
     "end_time": "2024-09-07T09:51:05.144508",
     "exception": false,
     "start_time": "2024-09-07T09:51:05.090718",
     "status": "completed"
    },
    "tags": []
   },
   "outputs": [],
   "source": [
    "cancer=pd.read_csv('/kaggle/input/breast-cancer/Breast_Cancer.csv')"
   ]
  },
  {
   "cell_type": "code",
   "execution_count": 3,
   "id": "a0a1d781",
   "metadata": {
    "execution": {
     "iopub.execute_input": "2024-09-07T09:51:05.164336Z",
     "iopub.status.busy": "2024-09-07T09:51:05.163562Z",
     "iopub.status.idle": "2024-09-07T09:51:05.191946Z",
     "shell.execute_reply": "2024-09-07T09:51:05.190836Z"
    },
    "papermill": {
     "duration": 0.041101,
     "end_time": "2024-09-07T09:51:05.194479",
     "exception": false,
     "start_time": "2024-09-07T09:51:05.153378",
     "status": "completed"
    },
    "tags": []
   },
   "outputs": [
    {
     "data": {
      "text/html": [
       "<div>\n",
       "<style scoped>\n",
       "    .dataframe tbody tr th:only-of-type {\n",
       "        vertical-align: middle;\n",
       "    }\n",
       "\n",
       "    .dataframe tbody tr th {\n",
       "        vertical-align: top;\n",
       "    }\n",
       "\n",
       "    .dataframe thead th {\n",
       "        text-align: right;\n",
       "    }\n",
       "</style>\n",
       "<table border=\"1\" class=\"dataframe\">\n",
       "  <thead>\n",
       "    <tr style=\"text-align: right;\">\n",
       "      <th></th>\n",
       "      <th>Age</th>\n",
       "      <th>Race</th>\n",
       "      <th>Marital Status</th>\n",
       "      <th>T Stage</th>\n",
       "      <th>N Stage</th>\n",
       "      <th>6th Stage</th>\n",
       "      <th>differentiate</th>\n",
       "      <th>Grade</th>\n",
       "      <th>A Stage</th>\n",
       "      <th>Tumor Size</th>\n",
       "      <th>Estrogen Status</th>\n",
       "      <th>Progesterone Status</th>\n",
       "      <th>Regional Node Examined</th>\n",
       "      <th>Reginol Node Positive</th>\n",
       "      <th>Survival Months</th>\n",
       "      <th>Status</th>\n",
       "    </tr>\n",
       "  </thead>\n",
       "  <tbody>\n",
       "    <tr>\n",
       "      <th>0</th>\n",
       "      <td>68</td>\n",
       "      <td>White</td>\n",
       "      <td>Married</td>\n",
       "      <td>T1</td>\n",
       "      <td>N1</td>\n",
       "      <td>IIA</td>\n",
       "      <td>Poorly differentiated</td>\n",
       "      <td>3</td>\n",
       "      <td>Regional</td>\n",
       "      <td>4</td>\n",
       "      <td>Positive</td>\n",
       "      <td>Positive</td>\n",
       "      <td>24</td>\n",
       "      <td>1</td>\n",
       "      <td>60</td>\n",
       "      <td>Alive</td>\n",
       "    </tr>\n",
       "    <tr>\n",
       "      <th>1</th>\n",
       "      <td>50</td>\n",
       "      <td>White</td>\n",
       "      <td>Married</td>\n",
       "      <td>T2</td>\n",
       "      <td>N2</td>\n",
       "      <td>IIIA</td>\n",
       "      <td>Moderately differentiated</td>\n",
       "      <td>2</td>\n",
       "      <td>Regional</td>\n",
       "      <td>35</td>\n",
       "      <td>Positive</td>\n",
       "      <td>Positive</td>\n",
       "      <td>14</td>\n",
       "      <td>5</td>\n",
       "      <td>62</td>\n",
       "      <td>Alive</td>\n",
       "    </tr>\n",
       "    <tr>\n",
       "      <th>2</th>\n",
       "      <td>58</td>\n",
       "      <td>White</td>\n",
       "      <td>Divorced</td>\n",
       "      <td>T3</td>\n",
       "      <td>N3</td>\n",
       "      <td>IIIC</td>\n",
       "      <td>Moderately differentiated</td>\n",
       "      <td>2</td>\n",
       "      <td>Regional</td>\n",
       "      <td>63</td>\n",
       "      <td>Positive</td>\n",
       "      <td>Positive</td>\n",
       "      <td>14</td>\n",
       "      <td>7</td>\n",
       "      <td>75</td>\n",
       "      <td>Alive</td>\n",
       "    </tr>\n",
       "    <tr>\n",
       "      <th>3</th>\n",
       "      <td>58</td>\n",
       "      <td>White</td>\n",
       "      <td>Married</td>\n",
       "      <td>T1</td>\n",
       "      <td>N1</td>\n",
       "      <td>IIA</td>\n",
       "      <td>Poorly differentiated</td>\n",
       "      <td>3</td>\n",
       "      <td>Regional</td>\n",
       "      <td>18</td>\n",
       "      <td>Positive</td>\n",
       "      <td>Positive</td>\n",
       "      <td>2</td>\n",
       "      <td>1</td>\n",
       "      <td>84</td>\n",
       "      <td>Alive</td>\n",
       "    </tr>\n",
       "    <tr>\n",
       "      <th>4</th>\n",
       "      <td>47</td>\n",
       "      <td>White</td>\n",
       "      <td>Married</td>\n",
       "      <td>T2</td>\n",
       "      <td>N1</td>\n",
       "      <td>IIB</td>\n",
       "      <td>Poorly differentiated</td>\n",
       "      <td>3</td>\n",
       "      <td>Regional</td>\n",
       "      <td>41</td>\n",
       "      <td>Positive</td>\n",
       "      <td>Positive</td>\n",
       "      <td>3</td>\n",
       "      <td>1</td>\n",
       "      <td>50</td>\n",
       "      <td>Alive</td>\n",
       "    </tr>\n",
       "  </tbody>\n",
       "</table>\n",
       "</div>"
      ],
      "text/plain": [
       "   Age   Race Marital Status T Stage  N Stage 6th Stage  \\\n",
       "0   68  White        Married       T1      N1       IIA   \n",
       "1   50  White        Married       T2      N2      IIIA   \n",
       "2   58  White       Divorced       T3      N3      IIIC   \n",
       "3   58  White        Married       T1      N1       IIA   \n",
       "4   47  White        Married       T2      N1       IIB   \n",
       "\n",
       "               differentiate Grade   A Stage  Tumor Size Estrogen Status  \\\n",
       "0      Poorly differentiated     3  Regional           4        Positive   \n",
       "1  Moderately differentiated     2  Regional          35        Positive   \n",
       "2  Moderately differentiated     2  Regional          63        Positive   \n",
       "3      Poorly differentiated     3  Regional          18        Positive   \n",
       "4      Poorly differentiated     3  Regional          41        Positive   \n",
       "\n",
       "  Progesterone Status  Regional Node Examined  Reginol Node Positive  \\\n",
       "0            Positive                      24                      1   \n",
       "1            Positive                      14                      5   \n",
       "2            Positive                      14                      7   \n",
       "3            Positive                       2                      1   \n",
       "4            Positive                       3                      1   \n",
       "\n",
       "   Survival Months Status  \n",
       "0               60  Alive  \n",
       "1               62  Alive  \n",
       "2               75  Alive  \n",
       "3               84  Alive  \n",
       "4               50  Alive  "
      ]
     },
     "execution_count": 3,
     "metadata": {},
     "output_type": "execute_result"
    }
   ],
   "source": [
    "cancer.head()"
   ]
  },
  {
   "cell_type": "code",
   "execution_count": 4,
   "id": "5faa9c0c",
   "metadata": {
    "execution": {
     "iopub.execute_input": "2024-09-07T09:51:05.215139Z",
     "iopub.status.busy": "2024-09-07T09:51:05.214673Z",
     "iopub.status.idle": "2024-09-07T09:51:05.221873Z",
     "shell.execute_reply": "2024-09-07T09:51:05.220596Z"
    },
    "papermill": {
     "duration": 0.020491,
     "end_time": "2024-09-07T09:51:05.224221",
     "exception": false,
     "start_time": "2024-09-07T09:51:05.203730",
     "status": "completed"
    },
    "tags": []
   },
   "outputs": [
    {
     "data": {
      "text/plain": [
       "(4024, 16)"
      ]
     },
     "execution_count": 4,
     "metadata": {},
     "output_type": "execute_result"
    }
   ],
   "source": [
    "cancer.shape"
   ]
  },
  {
   "cell_type": "code",
   "execution_count": 5,
   "id": "b864bf29",
   "metadata": {
    "execution": {
     "iopub.execute_input": "2024-09-07T09:51:05.244686Z",
     "iopub.status.busy": "2024-09-07T09:51:05.244204Z",
     "iopub.status.idle": "2024-09-07T09:51:05.264018Z",
     "shell.execute_reply": "2024-09-07T09:51:05.262869Z"
    },
    "papermill": {
     "duration": 0.033102,
     "end_time": "2024-09-07T09:51:05.266718",
     "exception": false,
     "start_time": "2024-09-07T09:51:05.233616",
     "status": "completed"
    },
    "tags": []
   },
   "outputs": [
    {
     "data": {
      "text/html": [
       "<div>\n",
       "<style scoped>\n",
       "    .dataframe tbody tr th:only-of-type {\n",
       "        vertical-align: middle;\n",
       "    }\n",
       "\n",
       "    .dataframe tbody tr th {\n",
       "        vertical-align: top;\n",
       "    }\n",
       "\n",
       "    .dataframe thead th {\n",
       "        text-align: right;\n",
       "    }\n",
       "</style>\n",
       "<table border=\"1\" class=\"dataframe\">\n",
       "  <thead>\n",
       "    <tr style=\"text-align: right;\">\n",
       "      <th></th>\n",
       "      <th>Age</th>\n",
       "      <th>Race</th>\n",
       "      <th>Marital Status</th>\n",
       "      <th>T Stage</th>\n",
       "      <th>N Stage</th>\n",
       "      <th>6th Stage</th>\n",
       "      <th>differentiate</th>\n",
       "      <th>Grade</th>\n",
       "      <th>A Stage</th>\n",
       "      <th>Tumor Size</th>\n",
       "      <th>Estrogen Status</th>\n",
       "      <th>Progesterone Status</th>\n",
       "      <th>Regional Node Examined</th>\n",
       "      <th>Reginol Node Positive</th>\n",
       "      <th>Survival Months</th>\n",
       "      <th>Status</th>\n",
       "    </tr>\n",
       "  </thead>\n",
       "  <tbody>\n",
       "    <tr>\n",
       "      <th>4019</th>\n",
       "      <td>62</td>\n",
       "      <td>Other</td>\n",
       "      <td>Married</td>\n",
       "      <td>T1</td>\n",
       "      <td>N1</td>\n",
       "      <td>IIA</td>\n",
       "      <td>Moderately differentiated</td>\n",
       "      <td>2</td>\n",
       "      <td>Regional</td>\n",
       "      <td>9</td>\n",
       "      <td>Positive</td>\n",
       "      <td>Positive</td>\n",
       "      <td>1</td>\n",
       "      <td>1</td>\n",
       "      <td>49</td>\n",
       "      <td>Alive</td>\n",
       "    </tr>\n",
       "    <tr>\n",
       "      <th>4020</th>\n",
       "      <td>56</td>\n",
       "      <td>White</td>\n",
       "      <td>Divorced</td>\n",
       "      <td>T2</td>\n",
       "      <td>N2</td>\n",
       "      <td>IIIA</td>\n",
       "      <td>Moderately differentiated</td>\n",
       "      <td>2</td>\n",
       "      <td>Regional</td>\n",
       "      <td>46</td>\n",
       "      <td>Positive</td>\n",
       "      <td>Positive</td>\n",
       "      <td>14</td>\n",
       "      <td>8</td>\n",
       "      <td>69</td>\n",
       "      <td>Alive</td>\n",
       "    </tr>\n",
       "    <tr>\n",
       "      <th>4021</th>\n",
       "      <td>68</td>\n",
       "      <td>White</td>\n",
       "      <td>Married</td>\n",
       "      <td>T2</td>\n",
       "      <td>N1</td>\n",
       "      <td>IIB</td>\n",
       "      <td>Moderately differentiated</td>\n",
       "      <td>2</td>\n",
       "      <td>Regional</td>\n",
       "      <td>22</td>\n",
       "      <td>Positive</td>\n",
       "      <td>Negative</td>\n",
       "      <td>11</td>\n",
       "      <td>3</td>\n",
       "      <td>69</td>\n",
       "      <td>Alive</td>\n",
       "    </tr>\n",
       "    <tr>\n",
       "      <th>4022</th>\n",
       "      <td>58</td>\n",
       "      <td>Black</td>\n",
       "      <td>Divorced</td>\n",
       "      <td>T2</td>\n",
       "      <td>N1</td>\n",
       "      <td>IIB</td>\n",
       "      <td>Moderately differentiated</td>\n",
       "      <td>2</td>\n",
       "      <td>Regional</td>\n",
       "      <td>44</td>\n",
       "      <td>Positive</td>\n",
       "      <td>Positive</td>\n",
       "      <td>11</td>\n",
       "      <td>1</td>\n",
       "      <td>72</td>\n",
       "      <td>Alive</td>\n",
       "    </tr>\n",
       "    <tr>\n",
       "      <th>4023</th>\n",
       "      <td>46</td>\n",
       "      <td>White</td>\n",
       "      <td>Married</td>\n",
       "      <td>T2</td>\n",
       "      <td>N1</td>\n",
       "      <td>IIB</td>\n",
       "      <td>Moderately differentiated</td>\n",
       "      <td>2</td>\n",
       "      <td>Regional</td>\n",
       "      <td>30</td>\n",
       "      <td>Positive</td>\n",
       "      <td>Positive</td>\n",
       "      <td>7</td>\n",
       "      <td>2</td>\n",
       "      <td>100</td>\n",
       "      <td>Alive</td>\n",
       "    </tr>\n",
       "  </tbody>\n",
       "</table>\n",
       "</div>"
      ],
      "text/plain": [
       "      Age   Race Marital Status T Stage  N Stage 6th Stage  \\\n",
       "4019   62  Other        Married       T1      N1       IIA   \n",
       "4020   56  White       Divorced       T2      N2      IIIA   \n",
       "4021   68  White        Married       T2      N1       IIB   \n",
       "4022   58  Black       Divorced       T2      N1       IIB   \n",
       "4023   46  White        Married       T2      N1       IIB   \n",
       "\n",
       "                  differentiate Grade   A Stage  Tumor Size Estrogen Status  \\\n",
       "4019  Moderately differentiated     2  Regional           9        Positive   \n",
       "4020  Moderately differentiated     2  Regional          46        Positive   \n",
       "4021  Moderately differentiated     2  Regional          22        Positive   \n",
       "4022  Moderately differentiated     2  Regional          44        Positive   \n",
       "4023  Moderately differentiated     2  Regional          30        Positive   \n",
       "\n",
       "     Progesterone Status  Regional Node Examined  Reginol Node Positive  \\\n",
       "4019            Positive                       1                      1   \n",
       "4020            Positive                      14                      8   \n",
       "4021            Negative                      11                      3   \n",
       "4022            Positive                      11                      1   \n",
       "4023            Positive                       7                      2   \n",
       "\n",
       "      Survival Months Status  \n",
       "4019               49  Alive  \n",
       "4020               69  Alive  \n",
       "4021               69  Alive  \n",
       "4022               72  Alive  \n",
       "4023              100  Alive  "
      ]
     },
     "execution_count": 5,
     "metadata": {},
     "output_type": "execute_result"
    }
   ],
   "source": [
    "cancer.tail()"
   ]
  },
  {
   "cell_type": "code",
   "execution_count": 6,
   "id": "d9b8a153",
   "metadata": {
    "execution": {
     "iopub.execute_input": "2024-09-07T09:51:05.287779Z",
     "iopub.status.busy": "2024-09-07T09:51:05.287369Z",
     "iopub.status.idle": "2024-09-07T09:51:05.317930Z",
     "shell.execute_reply": "2024-09-07T09:51:05.316391Z"
    },
    "papermill": {
     "duration": 0.044326,
     "end_time": "2024-09-07T09:51:05.320752",
     "exception": false,
     "start_time": "2024-09-07T09:51:05.276426",
     "status": "completed"
    },
    "tags": []
   },
   "outputs": [
    {
     "name": "stdout",
     "output_type": "stream",
     "text": [
      "<class 'pandas.core.frame.DataFrame'>\n",
      "RangeIndex: 4024 entries, 0 to 4023\n",
      "Data columns (total 16 columns):\n",
      " #   Column                  Non-Null Count  Dtype \n",
      "---  ------                  --------------  ----- \n",
      " 0   Age                     4024 non-null   int64 \n",
      " 1   Race                    4024 non-null   object\n",
      " 2   Marital Status          4024 non-null   object\n",
      " 3   T Stage                 4024 non-null   object\n",
      " 4   N Stage                 4024 non-null   object\n",
      " 5   6th Stage               4024 non-null   object\n",
      " 6   differentiate           4024 non-null   object\n",
      " 7   Grade                   4024 non-null   object\n",
      " 8   A Stage                 4024 non-null   object\n",
      " 9   Tumor Size              4024 non-null   int64 \n",
      " 10  Estrogen Status         4024 non-null   object\n",
      " 11  Progesterone Status     4024 non-null   object\n",
      " 12  Regional Node Examined  4024 non-null   int64 \n",
      " 13  Reginol Node Positive   4024 non-null   int64 \n",
      " 14  Survival Months         4024 non-null   int64 \n",
      " 15  Status                  4024 non-null   object\n",
      "dtypes: int64(5), object(11)\n",
      "memory usage: 503.1+ KB\n"
     ]
    }
   ],
   "source": [
    "cancer.info()"
   ]
  },
  {
   "cell_type": "code",
   "execution_count": 7,
   "id": "a8d68712",
   "metadata": {
    "execution": {
     "iopub.execute_input": "2024-09-07T09:51:05.341809Z",
     "iopub.status.busy": "2024-09-07T09:51:05.341290Z",
     "iopub.status.idle": "2024-09-07T09:51:05.374845Z",
     "shell.execute_reply": "2024-09-07T09:51:05.373428Z"
    },
    "papermill": {
     "duration": 0.047049,
     "end_time": "2024-09-07T09:51:05.377506",
     "exception": false,
     "start_time": "2024-09-07T09:51:05.330457",
     "status": "completed"
    },
    "tags": []
   },
   "outputs": [
    {
     "data": {
      "text/html": [
       "<div>\n",
       "<style scoped>\n",
       "    .dataframe tbody tr th:only-of-type {\n",
       "        vertical-align: middle;\n",
       "    }\n",
       "\n",
       "    .dataframe tbody tr th {\n",
       "        vertical-align: top;\n",
       "    }\n",
       "\n",
       "    .dataframe thead th {\n",
       "        text-align: right;\n",
       "    }\n",
       "</style>\n",
       "<table border=\"1\" class=\"dataframe\">\n",
       "  <thead>\n",
       "    <tr style=\"text-align: right;\">\n",
       "      <th></th>\n",
       "      <th>Age</th>\n",
       "      <th>Tumor Size</th>\n",
       "      <th>Regional Node Examined</th>\n",
       "      <th>Reginol Node Positive</th>\n",
       "      <th>Survival Months</th>\n",
       "    </tr>\n",
       "  </thead>\n",
       "  <tbody>\n",
       "    <tr>\n",
       "      <th>count</th>\n",
       "      <td>4024.000000</td>\n",
       "      <td>4024.000000</td>\n",
       "      <td>4024.000000</td>\n",
       "      <td>4024.000000</td>\n",
       "      <td>4024.000000</td>\n",
       "    </tr>\n",
       "    <tr>\n",
       "      <th>mean</th>\n",
       "      <td>53.972167</td>\n",
       "      <td>30.473658</td>\n",
       "      <td>14.357107</td>\n",
       "      <td>4.158052</td>\n",
       "      <td>71.297962</td>\n",
       "    </tr>\n",
       "    <tr>\n",
       "      <th>std</th>\n",
       "      <td>8.963134</td>\n",
       "      <td>21.119696</td>\n",
       "      <td>8.099675</td>\n",
       "      <td>5.109331</td>\n",
       "      <td>22.921430</td>\n",
       "    </tr>\n",
       "    <tr>\n",
       "      <th>min</th>\n",
       "      <td>30.000000</td>\n",
       "      <td>1.000000</td>\n",
       "      <td>1.000000</td>\n",
       "      <td>1.000000</td>\n",
       "      <td>1.000000</td>\n",
       "    </tr>\n",
       "    <tr>\n",
       "      <th>25%</th>\n",
       "      <td>47.000000</td>\n",
       "      <td>16.000000</td>\n",
       "      <td>9.000000</td>\n",
       "      <td>1.000000</td>\n",
       "      <td>56.000000</td>\n",
       "    </tr>\n",
       "    <tr>\n",
       "      <th>50%</th>\n",
       "      <td>54.000000</td>\n",
       "      <td>25.000000</td>\n",
       "      <td>14.000000</td>\n",
       "      <td>2.000000</td>\n",
       "      <td>73.000000</td>\n",
       "    </tr>\n",
       "    <tr>\n",
       "      <th>75%</th>\n",
       "      <td>61.000000</td>\n",
       "      <td>38.000000</td>\n",
       "      <td>19.000000</td>\n",
       "      <td>5.000000</td>\n",
       "      <td>90.000000</td>\n",
       "    </tr>\n",
       "    <tr>\n",
       "      <th>max</th>\n",
       "      <td>69.000000</td>\n",
       "      <td>140.000000</td>\n",
       "      <td>61.000000</td>\n",
       "      <td>46.000000</td>\n",
       "      <td>107.000000</td>\n",
       "    </tr>\n",
       "  </tbody>\n",
       "</table>\n",
       "</div>"
      ],
      "text/plain": [
       "               Age   Tumor Size  Regional Node Examined  \\\n",
       "count  4024.000000  4024.000000             4024.000000   \n",
       "mean     53.972167    30.473658               14.357107   \n",
       "std       8.963134    21.119696                8.099675   \n",
       "min      30.000000     1.000000                1.000000   \n",
       "25%      47.000000    16.000000                9.000000   \n",
       "50%      54.000000    25.000000               14.000000   \n",
       "75%      61.000000    38.000000               19.000000   \n",
       "max      69.000000   140.000000               61.000000   \n",
       "\n",
       "       Reginol Node Positive  Survival Months  \n",
       "count            4024.000000      4024.000000  \n",
       "mean                4.158052        71.297962  \n",
       "std                 5.109331        22.921430  \n",
       "min                 1.000000         1.000000  \n",
       "25%                 1.000000        56.000000  \n",
       "50%                 2.000000        73.000000  \n",
       "75%                 5.000000        90.000000  \n",
       "max                46.000000       107.000000  "
      ]
     },
     "execution_count": 7,
     "metadata": {},
     "output_type": "execute_result"
    }
   ],
   "source": [
    "cancer.describe()"
   ]
  },
  {
   "cell_type": "code",
   "execution_count": 8,
   "id": "92dbe9ef",
   "metadata": {
    "execution": {
     "iopub.execute_input": "2024-09-07T09:51:05.399908Z",
     "iopub.status.busy": "2024-09-07T09:51:05.399458Z",
     "iopub.status.idle": "2024-09-07T09:51:05.411499Z",
     "shell.execute_reply": "2024-09-07T09:51:05.409926Z"
    },
    "papermill": {
     "duration": 0.026226,
     "end_time": "2024-09-07T09:51:05.413947",
     "exception": false,
     "start_time": "2024-09-07T09:51:05.387721",
     "status": "completed"
    },
    "tags": []
   },
   "outputs": [
    {
     "data": {
      "text/plain": [
       "Age                       0\n",
       "Race                      0\n",
       "Marital Status            0\n",
       "T Stage                   0\n",
       "N Stage                   0\n",
       "6th Stage                 0\n",
       "differentiate             0\n",
       "Grade                     0\n",
       "A Stage                   0\n",
       "Tumor Size                0\n",
       "Estrogen Status           0\n",
       "Progesterone Status       0\n",
       "Regional Node Examined    0\n",
       "Reginol Node Positive     0\n",
       "Survival Months           0\n",
       "Status                    0\n",
       "dtype: int64"
      ]
     },
     "execution_count": 8,
     "metadata": {},
     "output_type": "execute_result"
    }
   ],
   "source": [
    "cancer.isna().sum()"
   ]
  },
  {
   "cell_type": "code",
   "execution_count": 9,
   "id": "3b05d7c2",
   "metadata": {
    "execution": {
     "iopub.execute_input": "2024-09-07T09:51:05.436761Z",
     "iopub.status.busy": "2024-09-07T09:51:05.436312Z",
     "iopub.status.idle": "2024-09-07T09:51:05.458617Z",
     "shell.execute_reply": "2024-09-07T09:51:05.457450Z"
    },
    "papermill": {
     "duration": 0.036661,
     "end_time": "2024-09-07T09:51:05.460855",
     "exception": false,
     "start_time": "2024-09-07T09:51:05.424194",
     "status": "completed"
    },
    "tags": []
   },
   "outputs": [
    {
     "data": {
      "text/html": [
       "<div>\n",
       "<style scoped>\n",
       "    .dataframe tbody tr th:only-of-type {\n",
       "        vertical-align: middle;\n",
       "    }\n",
       "\n",
       "    .dataframe tbody tr th {\n",
       "        vertical-align: top;\n",
       "    }\n",
       "\n",
       "    .dataframe thead th {\n",
       "        text-align: right;\n",
       "    }\n",
       "</style>\n",
       "<table border=\"1\" class=\"dataframe\">\n",
       "  <thead>\n",
       "    <tr style=\"text-align: right;\">\n",
       "      <th></th>\n",
       "      <th>Age</th>\n",
       "      <th>Race</th>\n",
       "      <th>Marital Status</th>\n",
       "      <th>T Stage</th>\n",
       "      <th>N Stage</th>\n",
       "      <th>6th Stage</th>\n",
       "      <th>differentiate</th>\n",
       "      <th>Grade</th>\n",
       "      <th>A Stage</th>\n",
       "      <th>Tumor Size</th>\n",
       "      <th>Estrogen Status</th>\n",
       "      <th>Progesterone Status</th>\n",
       "      <th>Regional Node Examined</th>\n",
       "      <th>Reginol Node Positive</th>\n",
       "      <th>Survival Months</th>\n",
       "      <th>Status</th>\n",
       "    </tr>\n",
       "  </thead>\n",
       "  <tbody>\n",
       "    <tr>\n",
       "      <th>3288</th>\n",
       "      <td>63</td>\n",
       "      <td>White</td>\n",
       "      <td>Married</td>\n",
       "      <td>T2</td>\n",
       "      <td>N1</td>\n",
       "      <td>IIB</td>\n",
       "      <td>Poorly differentiated</td>\n",
       "      <td>3</td>\n",
       "      <td>Regional</td>\n",
       "      <td>29</td>\n",
       "      <td>Positive</td>\n",
       "      <td>Positive</td>\n",
       "      <td>47</td>\n",
       "      <td>1</td>\n",
       "      <td>58</td>\n",
       "      <td>Alive</td>\n",
       "    </tr>\n",
       "    <tr>\n",
       "      <th>3433</th>\n",
       "      <td>50</td>\n",
       "      <td>White</td>\n",
       "      <td>Married</td>\n",
       "      <td>T2</td>\n",
       "      <td>N1</td>\n",
       "      <td>IIB</td>\n",
       "      <td>Moderately differentiated</td>\n",
       "      <td>2</td>\n",
       "      <td>Regional</td>\n",
       "      <td>24</td>\n",
       "      <td>Positive</td>\n",
       "      <td>Positive</td>\n",
       "      <td>21</td>\n",
       "      <td>1</td>\n",
       "      <td>56</td>\n",
       "      <td>Alive</td>\n",
       "    </tr>\n",
       "    <tr>\n",
       "      <th>1951</th>\n",
       "      <td>52</td>\n",
       "      <td>White</td>\n",
       "      <td>Single</td>\n",
       "      <td>T2</td>\n",
       "      <td>N1</td>\n",
       "      <td>IIB</td>\n",
       "      <td>Poorly differentiated</td>\n",
       "      <td>3</td>\n",
       "      <td>Regional</td>\n",
       "      <td>50</td>\n",
       "      <td>Positive</td>\n",
       "      <td>Negative</td>\n",
       "      <td>13</td>\n",
       "      <td>3</td>\n",
       "      <td>18</td>\n",
       "      <td>Alive</td>\n",
       "    </tr>\n",
       "    <tr>\n",
       "      <th>3218</th>\n",
       "      <td>48</td>\n",
       "      <td>White</td>\n",
       "      <td>Married</td>\n",
       "      <td>T2</td>\n",
       "      <td>N2</td>\n",
       "      <td>IIIA</td>\n",
       "      <td>Moderately differentiated</td>\n",
       "      <td>2</td>\n",
       "      <td>Regional</td>\n",
       "      <td>48</td>\n",
       "      <td>Positive</td>\n",
       "      <td>Positive</td>\n",
       "      <td>37</td>\n",
       "      <td>6</td>\n",
       "      <td>94</td>\n",
       "      <td>Alive</td>\n",
       "    </tr>\n",
       "    <tr>\n",
       "      <th>1729</th>\n",
       "      <td>43</td>\n",
       "      <td>White</td>\n",
       "      <td>Married</td>\n",
       "      <td>T2</td>\n",
       "      <td>N2</td>\n",
       "      <td>IIIA</td>\n",
       "      <td>Moderately differentiated</td>\n",
       "      <td>2</td>\n",
       "      <td>Regional</td>\n",
       "      <td>25</td>\n",
       "      <td>Positive</td>\n",
       "      <td>Positive</td>\n",
       "      <td>8</td>\n",
       "      <td>4</td>\n",
       "      <td>49</td>\n",
       "      <td>Dead</td>\n",
       "    </tr>\n",
       "  </tbody>\n",
       "</table>\n",
       "</div>"
      ],
      "text/plain": [
       "      Age   Race Marital Status T Stage  N Stage 6th Stage  \\\n",
       "3288   63  White        Married       T2      N1       IIB   \n",
       "3433   50  White        Married       T2      N1       IIB   \n",
       "1951   52  White        Single        T2      N1       IIB   \n",
       "3218   48  White        Married       T2      N2      IIIA   \n",
       "1729   43  White        Married       T2      N2      IIIA   \n",
       "\n",
       "                  differentiate Grade   A Stage  Tumor Size Estrogen Status  \\\n",
       "3288      Poorly differentiated     3  Regional          29        Positive   \n",
       "3433  Moderately differentiated     2  Regional          24        Positive   \n",
       "1951      Poorly differentiated     3  Regional          50        Positive   \n",
       "3218  Moderately differentiated     2  Regional          48        Positive   \n",
       "1729  Moderately differentiated     2  Regional          25        Positive   \n",
       "\n",
       "     Progesterone Status  Regional Node Examined  Reginol Node Positive  \\\n",
       "3288            Positive                      47                      1   \n",
       "3433            Positive                      21                      1   \n",
       "1951            Negative                      13                      3   \n",
       "3218            Positive                      37                      6   \n",
       "1729            Positive                       8                      4   \n",
       "\n",
       "      Survival Months Status  \n",
       "3288               58  Alive  \n",
       "3433               56  Alive  \n",
       "1951               18  Alive  \n",
       "3218               94  Alive  \n",
       "1729               49   Dead  "
      ]
     },
     "execution_count": 9,
     "metadata": {},
     "output_type": "execute_result"
    }
   ],
   "source": [
    "cancer.sample(5)"
   ]
  },
  {
   "cell_type": "code",
   "execution_count": 10,
   "id": "c2d235de",
   "metadata": {
    "execution": {
     "iopub.execute_input": "2024-09-07T09:51:05.483865Z",
     "iopub.status.busy": "2024-09-07T09:51:05.482888Z",
     "iopub.status.idle": "2024-09-07T09:51:05.490584Z",
     "shell.execute_reply": "2024-09-07T09:51:05.489445Z"
    },
    "papermill": {
     "duration": 0.021709,
     "end_time": "2024-09-07T09:51:05.492843",
     "exception": false,
     "start_time": "2024-09-07T09:51:05.471134",
     "status": "completed"
    },
    "tags": []
   },
   "outputs": [
    {
     "data": {
      "text/plain": [
       "Index(['Age', 'Race', 'Marital Status', 'T Stage ', 'N Stage', '6th Stage',\n",
       "       'differentiate', 'Grade', 'A Stage', 'Tumor Size', 'Estrogen Status',\n",
       "       'Progesterone Status', 'Regional Node Examined',\n",
       "       'Reginol Node Positive', 'Survival Months', 'Status'],\n",
       "      dtype='object')"
      ]
     },
     "execution_count": 10,
     "metadata": {},
     "output_type": "execute_result"
    }
   ],
   "source": [
    "cancer.columns"
   ]
  },
  {
   "cell_type": "markdown",
   "id": "a90ec79a",
   "metadata": {
    "papermill": {
     "duration": 0.010573,
     "end_time": "2024-09-07T09:51:05.513810",
     "exception": false,
     "start_time": "2024-09-07T09:51:05.503237",
     "status": "completed"
    },
    "tags": []
   },
   "source": [
    "# Data Analysis"
   ]
  },
  {
   "cell_type": "code",
   "execution_count": 11,
   "id": "f776b7f2",
   "metadata": {
    "execution": {
     "iopub.execute_input": "2024-09-07T09:51:05.536394Z",
     "iopub.status.busy": "2024-09-07T09:51:05.535918Z",
     "iopub.status.idle": "2024-09-07T09:51:05.545642Z",
     "shell.execute_reply": "2024-09-07T09:51:05.544165Z"
    },
    "papermill": {
     "duration": 0.024555,
     "end_time": "2024-09-07T09:51:05.548683",
     "exception": false,
     "start_time": "2024-09-07T09:51:05.524128",
     "status": "completed"
    },
    "tags": []
   },
   "outputs": [
    {
     "data": {
      "text/plain": [
       "Status\n",
       "Alive    3408\n",
       "Dead      616\n",
       "Name: count, dtype: int64"
      ]
     },
     "execution_count": 11,
     "metadata": {},
     "output_type": "execute_result"
    }
   ],
   "source": [
    "cancer['Status'].value_counts()"
   ]
  },
  {
   "cell_type": "code",
   "execution_count": 12,
   "id": "396f4fea",
   "metadata": {
    "execution": {
     "iopub.execute_input": "2024-09-07T09:51:05.572025Z",
     "iopub.status.busy": "2024-09-07T09:51:05.571522Z",
     "iopub.status.idle": "2024-09-07T09:51:05.848455Z",
     "shell.execute_reply": "2024-09-07T09:51:05.847293Z"
    },
    "papermill": {
     "duration": 0.291579,
     "end_time": "2024-09-07T09:51:05.851232",
     "exception": false,
     "start_time": "2024-09-07T09:51:05.559653",
     "status": "completed"
    },
    "tags": []
   },
   "outputs": [
    {
     "data": {
      "text/plain": [
       "<Axes: xlabel='Status'>"
      ]
     },
     "execution_count": 12,
     "metadata": {},
     "output_type": "execute_result"
    },
    {
     "data": {
      "image/png": "[encoded data removed]",
      "text/plain": [
       "<Figure size 640x480 with 1 Axes>"
      ]
     },
     "metadata": {},
     "output_type": "display_data"
    }
   ],
   "source": [
    "cancer['Status'].value_counts().plot(kind='bar')"
   ]
  },
  {
   "cell_type": "markdown",
   "id": "ad97fdc8",
   "metadata": {
    "papermill": {
     "duration": 0.010637,
     "end_time": "2024-09-07T09:51:05.873437",
     "exception": false,
     "start_time": "2024-09-07T09:51:05.862800",
     "status": "completed"
    },
    "tags": []
   },
   "source": [
    "# Preprocessing"
   ]
  },
  {
   "cell_type": "markdown",
   "id": "51eeafd5",
   "metadata": {
    "papermill": {
     "duration": 0.0107,
     "end_time": "2024-09-07T09:51:05.895300",
     "exception": false,
     "start_time": "2024-09-07T09:51:05.884600",
     "status": "completed"
    },
    "tags": []
   },
   "source": [
    "Transform object to int "
   ]
  },
  {
   "cell_type": "code",
   "execution_count": 13,
   "id": "e991ecc9",
   "metadata": {
    "execution": {
     "iopub.execute_input": "2024-09-07T09:51:05.918892Z",
     "iopub.status.busy": "2024-09-07T09:51:05.918476Z",
     "iopub.status.idle": "2024-09-07T09:51:05.923588Z",
     "shell.execute_reply": "2024-09-07T09:51:05.922165Z"
    },
    "papermill": {
     "duration": 0.019717,
     "end_time": "2024-09-07T09:51:05.925871",
     "exception": false,
     "start_time": "2024-09-07T09:51:05.906154",
     "status": "completed"
    },
    "tags": []
   },
   "outputs": [],
   "source": [
    "la = LabelEncoder()"
   ]
  },
  {
   "cell_type": "code",
   "execution_count": 14,
   "id": "81eb76e0",
   "metadata": {
    "execution": {
     "iopub.execute_input": "2024-09-07T09:51:05.950979Z",
     "iopub.status.busy": "2024-09-07T09:51:05.949941Z",
     "iopub.status.idle": "2024-09-07T09:51:05.956516Z",
     "shell.execute_reply": "2024-09-07T09:51:05.955326Z"
    },
    "papermill": {
     "duration": 0.021581,
     "end_time": "2024-09-07T09:51:05.958764",
     "exception": false,
     "start_time": "2024-09-07T09:51:05.937183",
     "status": "completed"
    },
    "tags": []
   },
   "outputs": [],
   "source": [
    "ob=cancer.select_dtypes(include='object')\n",
    "non_ob=cancer.select_dtypes(exclude='object')"
   ]
  },
  {
   "cell_type": "code",
   "execution_count": 15,
   "id": "a78ef206",
   "metadata": {
    "execution": {
     "iopub.execute_input": "2024-09-07T09:51:05.983374Z",
     "iopub.status.busy": "2024-09-07T09:51:05.982107Z",
     "iopub.status.idle": "2024-09-07T09:51:05.998765Z",
     "shell.execute_reply": "2024-09-07T09:51:05.997496Z"
    },
    "papermill": {
     "duration": 0.031407,
     "end_time": "2024-09-07T09:51:06.001358",
     "exception": false,
     "start_time": "2024-09-07T09:51:05.969951",
     "status": "completed"
    },
    "tags": []
   },
   "outputs": [
    {
     "data": {
      "text/html": [
       "<div>\n",
       "<style scoped>\n",
       "    .dataframe tbody tr th:only-of-type {\n",
       "        vertical-align: middle;\n",
       "    }\n",
       "\n",
       "    .dataframe tbody tr th {\n",
       "        vertical-align: top;\n",
       "    }\n",
       "\n",
       "    .dataframe thead th {\n",
       "        text-align: right;\n",
       "    }\n",
       "</style>\n",
       "<table border=\"1\" class=\"dataframe\">\n",
       "  <thead>\n",
       "    <tr style=\"text-align: right;\">\n",
       "      <th></th>\n",
       "      <th>Race</th>\n",
       "      <th>Marital Status</th>\n",
       "      <th>T Stage</th>\n",
       "      <th>N Stage</th>\n",
       "      <th>6th Stage</th>\n",
       "      <th>differentiate</th>\n",
       "      <th>Grade</th>\n",
       "      <th>A Stage</th>\n",
       "      <th>Estrogen Status</th>\n",
       "      <th>Progesterone Status</th>\n",
       "      <th>Status</th>\n",
       "    </tr>\n",
       "  </thead>\n",
       "  <tbody>\n",
       "    <tr>\n",
       "      <th>0</th>\n",
       "      <td>White</td>\n",
       "      <td>Married</td>\n",
       "      <td>T1</td>\n",
       "      <td>N1</td>\n",
       "      <td>IIA</td>\n",
       "      <td>Poorly differentiated</td>\n",
       "      <td>3</td>\n",
       "      <td>Regional</td>\n",
       "      <td>Positive</td>\n",
       "      <td>Positive</td>\n",
       "      <td>Alive</td>\n",
       "    </tr>\n",
       "    <tr>\n",
       "      <th>1</th>\n",
       "      <td>White</td>\n",
       "      <td>Married</td>\n",
       "      <td>T2</td>\n",
       "      <td>N2</td>\n",
       "      <td>IIIA</td>\n",
       "      <td>Moderately differentiated</td>\n",
       "      <td>2</td>\n",
       "      <td>Regional</td>\n",
       "      <td>Positive</td>\n",
       "      <td>Positive</td>\n",
       "      <td>Alive</td>\n",
       "    </tr>\n",
       "    <tr>\n",
       "      <th>2</th>\n",
       "      <td>White</td>\n",
       "      <td>Divorced</td>\n",
       "      <td>T3</td>\n",
       "      <td>N3</td>\n",
       "      <td>IIIC</td>\n",
       "      <td>Moderately differentiated</td>\n",
       "      <td>2</td>\n",
       "      <td>Regional</td>\n",
       "      <td>Positive</td>\n",
       "      <td>Positive</td>\n",
       "      <td>Alive</td>\n",
       "    </tr>\n",
       "    <tr>\n",
       "      <th>3</th>\n",
       "      <td>White</td>\n",
       "      <td>Married</td>\n",
       "      <td>T1</td>\n",
       "      <td>N1</td>\n",
       "      <td>IIA</td>\n",
       "      <td>Poorly differentiated</td>\n",
       "      <td>3</td>\n",
       "      <td>Regional</td>\n",
       "      <td>Positive</td>\n",
       "      <td>Positive</td>\n",
       "      <td>Alive</td>\n",
       "    </tr>\n",
       "    <tr>\n",
       "      <th>4</th>\n",
       "      <td>White</td>\n",
       "      <td>Married</td>\n",
       "      <td>T2</td>\n",
       "      <td>N1</td>\n",
       "      <td>IIB</td>\n",
       "      <td>Poorly differentiated</td>\n",
       "      <td>3</td>\n",
       "      <td>Regional</td>\n",
       "      <td>Positive</td>\n",
       "      <td>Positive</td>\n",
       "      <td>Alive</td>\n",
       "    </tr>\n",
       "  </tbody>\n",
       "</table>\n",
       "</div>"
      ],
      "text/plain": [
       "    Race Marital Status T Stage  N Stage 6th Stage              differentiate  \\\n",
       "0  White        Married       T1      N1       IIA      Poorly differentiated   \n",
       "1  White        Married       T2      N2      IIIA  Moderately differentiated   \n",
       "2  White       Divorced       T3      N3      IIIC  Moderately differentiated   \n",
       "3  White        Married       T1      N1       IIA      Poorly differentiated   \n",
       "4  White        Married       T2      N1       IIB      Poorly differentiated   \n",
       "\n",
       "  Grade   A Stage Estrogen Status Progesterone Status Status  \n",
       "0     3  Regional        Positive            Positive  Alive  \n",
       "1     2  Regional        Positive            Positive  Alive  \n",
       "2     2  Regional        Positive            Positive  Alive  \n",
       "3     3  Regional        Positive            Positive  Alive  \n",
       "4     3  Regional        Positive            Positive  Alive  "
      ]
     },
     "execution_count": 15,
     "metadata": {},
     "output_type": "execute_result"
    }
   ],
   "source": [
    "ob.head()"
   ]
  },
  {
   "cell_type": "code",
   "execution_count": 16,
   "id": "2089315d",
   "metadata": {
    "execution": {
     "iopub.execute_input": "2024-09-07T09:51:06.027121Z",
     "iopub.status.busy": "2024-09-07T09:51:06.025956Z",
     "iopub.status.idle": "2024-09-07T09:51:06.037947Z",
     "shell.execute_reply": "2024-09-07T09:51:06.036817Z"
    },
    "papermill": {
     "duration": 0.027398,
     "end_time": "2024-09-07T09:51:06.040352",
     "exception": false,
     "start_time": "2024-09-07T09:51:06.012954",
     "status": "completed"
    },
    "tags": []
   },
   "outputs": [
    {
     "data": {
      "text/html": [
       "<div>\n",
       "<style scoped>\n",
       "    .dataframe tbody tr th:only-of-type {\n",
       "        vertical-align: middle;\n",
       "    }\n",
       "\n",
       "    .dataframe tbody tr th {\n",
       "        vertical-align: top;\n",
       "    }\n",
       "\n",
       "    .dataframe thead th {\n",
       "        text-align: right;\n",
       "    }\n",
       "</style>\n",
       "<table border=\"1\" class=\"dataframe\">\n",
       "  <thead>\n",
       "    <tr style=\"text-align: right;\">\n",
       "      <th></th>\n",
       "      <th>Age</th>\n",
       "      <th>Tumor Size</th>\n",
       "      <th>Regional Node Examined</th>\n",
       "      <th>Reginol Node Positive</th>\n",
       "      <th>Survival Months</th>\n",
       "    </tr>\n",
       "  </thead>\n",
       "  <tbody>\n",
       "    <tr>\n",
       "      <th>0</th>\n",
       "      <td>68</td>\n",
       "      <td>4</td>\n",
       "      <td>24</td>\n",
       "      <td>1</td>\n",
       "      <td>60</td>\n",
       "    </tr>\n",
       "    <tr>\n",
       "      <th>1</th>\n",
       "      <td>50</td>\n",
       "      <td>35</td>\n",
       "      <td>14</td>\n",
       "      <td>5</td>\n",
       "      <td>62</td>\n",
       "    </tr>\n",
       "    <tr>\n",
       "      <th>2</th>\n",
       "      <td>58</td>\n",
       "      <td>63</td>\n",
       "      <td>14</td>\n",
       "      <td>7</td>\n",
       "      <td>75</td>\n",
       "    </tr>\n",
       "    <tr>\n",
       "      <th>3</th>\n",
       "      <td>58</td>\n",
       "      <td>18</td>\n",
       "      <td>2</td>\n",
       "      <td>1</td>\n",
       "      <td>84</td>\n",
       "    </tr>\n",
       "    <tr>\n",
       "      <th>4</th>\n",
       "      <td>47</td>\n",
       "      <td>41</td>\n",
       "      <td>3</td>\n",
       "      <td>1</td>\n",
       "      <td>50</td>\n",
       "    </tr>\n",
       "  </tbody>\n",
       "</table>\n",
       "</div>"
      ],
      "text/plain": [
       "   Age  Tumor Size  Regional Node Examined  Reginol Node Positive  \\\n",
       "0   68           4                      24                      1   \n",
       "1   50          35                      14                      5   \n",
       "2   58          63                      14                      7   \n",
       "3   58          18                       2                      1   \n",
       "4   47          41                       3                      1   \n",
       "\n",
       "   Survival Months  \n",
       "0               60  \n",
       "1               62  \n",
       "2               75  \n",
       "3               84  \n",
       "4               50  "
      ]
     },
     "execution_count": 16,
     "metadata": {},
     "output_type": "execute_result"
    }
   ],
   "source": [
    "non_ob.head()"
   ]
  },
  {
   "cell_type": "code",
   "execution_count": 17,
   "id": "2349bb46",
   "metadata": {
    "execution": {
     "iopub.execute_input": "2024-09-07T09:51:06.065727Z",
     "iopub.status.busy": "2024-09-07T09:51:06.065231Z",
     "iopub.status.idle": "2024-09-07T09:51:06.088912Z",
     "shell.execute_reply": "2024-09-07T09:51:06.087599Z"
    },
    "papermill": {
     "duration": 0.040142,
     "end_time": "2024-09-07T09:51:06.091924",
     "exception": false,
     "start_time": "2024-09-07T09:51:06.051782",
     "status": "completed"
    },
    "tags": []
   },
   "outputs": [],
   "source": [
    "for i in range(0,ob.shape[1]):\n",
    "    ob.iloc[:,i]=la.fit_transform(ob.iloc[:,i])"
   ]
  },
  {
   "cell_type": "code",
   "execution_count": 18,
   "id": "1b137188",
   "metadata": {
    "execution": {
     "iopub.execute_input": "2024-09-07T09:51:06.117388Z",
     "iopub.status.busy": "2024-09-07T09:51:06.116833Z",
     "iopub.status.idle": "2024-09-07T09:51:06.133718Z",
     "shell.execute_reply": "2024-09-07T09:51:06.132489Z"
    },
    "papermill": {
     "duration": 0.032931,
     "end_time": "2024-09-07T09:51:06.136500",
     "exception": false,
     "start_time": "2024-09-07T09:51:06.103569",
     "status": "completed"
    },
    "tags": []
   },
   "outputs": [
    {
     "data": {
      "text/html": [
       "<div>\n",
       "<style scoped>\n",
       "    .dataframe tbody tr th:only-of-type {\n",
       "        vertical-align: middle;\n",
       "    }\n",
       "\n",
       "    .dataframe tbody tr th {\n",
       "        vertical-align: top;\n",
       "    }\n",
       "\n",
       "    .dataframe thead th {\n",
       "        text-align: right;\n",
       "    }\n",
       "</style>\n",
       "<table border=\"1\" class=\"dataframe\">\n",
       "  <thead>\n",
       "    <tr style=\"text-align: right;\">\n",
       "      <th></th>\n",
       "      <th>Race</th>\n",
       "      <th>Marital Status</th>\n",
       "      <th>T Stage</th>\n",
       "      <th>N Stage</th>\n",
       "      <th>6th Stage</th>\n",
       "      <th>differentiate</th>\n",
       "      <th>Grade</th>\n",
       "      <th>A Stage</th>\n",
       "      <th>Estrogen Status</th>\n",
       "      <th>Progesterone Status</th>\n",
       "      <th>Status</th>\n",
       "    </tr>\n",
       "  </thead>\n",
       "  <tbody>\n",
       "    <tr>\n",
       "      <th>0</th>\n",
       "      <td>2</td>\n",
       "      <td>1</td>\n",
       "      <td>0</td>\n",
       "      <td>0</td>\n",
       "      <td>0</td>\n",
       "      <td>1</td>\n",
       "      <td>3</td>\n",
       "      <td>1</td>\n",
       "      <td>1</td>\n",
       "      <td>1</td>\n",
       "      <td>0</td>\n",
       "    </tr>\n",
       "    <tr>\n",
       "      <th>1</th>\n",
       "      <td>2</td>\n",
       "      <td>1</td>\n",
       "      <td>1</td>\n",
       "      <td>1</td>\n",
       "      <td>2</td>\n",
       "      <td>0</td>\n",
       "      <td>2</td>\n",
       "      <td>1</td>\n",
       "      <td>1</td>\n",
       "      <td>1</td>\n",
       "      <td>0</td>\n",
       "    </tr>\n",
       "    <tr>\n",
       "      <th>2</th>\n",
       "      <td>2</td>\n",
       "      <td>0</td>\n",
       "      <td>2</td>\n",
       "      <td>2</td>\n",
       "      <td>4</td>\n",
       "      <td>0</td>\n",
       "      <td>2</td>\n",
       "      <td>1</td>\n",
       "      <td>1</td>\n",
       "      <td>1</td>\n",
       "      <td>0</td>\n",
       "    </tr>\n",
       "    <tr>\n",
       "      <th>3</th>\n",
       "      <td>2</td>\n",
       "      <td>1</td>\n",
       "      <td>0</td>\n",
       "      <td>0</td>\n",
       "      <td>0</td>\n",
       "      <td>1</td>\n",
       "      <td>3</td>\n",
       "      <td>1</td>\n",
       "      <td>1</td>\n",
       "      <td>1</td>\n",
       "      <td>0</td>\n",
       "    </tr>\n",
       "    <tr>\n",
       "      <th>4</th>\n",
       "      <td>2</td>\n",
       "      <td>1</td>\n",
       "      <td>1</td>\n",
       "      <td>0</td>\n",
       "      <td>1</td>\n",
       "      <td>1</td>\n",
       "      <td>3</td>\n",
       "      <td>1</td>\n",
       "      <td>1</td>\n",
       "      <td>1</td>\n",
       "      <td>0</td>\n",
       "    </tr>\n",
       "  </tbody>\n",
       "</table>\n",
       "</div>"
      ],
      "text/plain": [
       "  Race Marital Status T Stage  N Stage 6th Stage differentiate Grade A Stage  \\\n",
       "0    2              1        0       0         0             1     3       1   \n",
       "1    2              1        1       1         2             0     2       1   \n",
       "2    2              0        2       2         4             0     2       1   \n",
       "3    2              1        0       0         0             1     3       1   \n",
       "4    2              1        1       0         1             1     3       1   \n",
       "\n",
       "  Estrogen Status Progesterone Status Status  \n",
       "0               1                   1      0  \n",
       "1               1                   1      0  \n",
       "2               1                   1      0  \n",
       "3               1                   1      0  \n",
       "4               1                   1      0  "
      ]
     },
     "execution_count": 18,
     "metadata": {},
     "output_type": "execute_result"
    }
   ],
   "source": [
    "ob.head()"
   ]
  },
  {
   "cell_type": "code",
   "execution_count": 19,
   "id": "18a2268e",
   "metadata": {
    "execution": {
     "iopub.execute_input": "2024-09-07T09:51:06.162144Z",
     "iopub.status.busy": "2024-09-07T09:51:06.161658Z",
     "iopub.status.idle": "2024-09-07T09:51:06.170019Z",
     "shell.execute_reply": "2024-09-07T09:51:06.168377Z"
    },
    "papermill": {
     "duration": 0.024511,
     "end_time": "2024-09-07T09:51:06.172707",
     "exception": false,
     "start_time": "2024-09-07T09:51:06.148196",
     "status": "completed"
    },
    "tags": []
   },
   "outputs": [],
   "source": [
    "ob=ob.astype('int')"
   ]
  },
  {
   "cell_type": "code",
   "execution_count": 20,
   "id": "88a479c2",
   "metadata": {
    "execution": {
     "iopub.execute_input": "2024-09-07T09:51:06.197685Z",
     "iopub.status.busy": "2024-09-07T09:51:06.197233Z",
     "iopub.status.idle": "2024-09-07T09:51:06.209231Z",
     "shell.execute_reply": "2024-09-07T09:51:06.208127Z"
    },
    "papermill": {
     "duration": 0.027353,
     "end_time": "2024-09-07T09:51:06.211837",
     "exception": false,
     "start_time": "2024-09-07T09:51:06.184484",
     "status": "completed"
    },
    "tags": []
   },
   "outputs": [
    {
     "name": "stdout",
     "output_type": "stream",
     "text": [
      "<class 'pandas.core.frame.DataFrame'>\n",
      "RangeIndex: 4024 entries, 0 to 4023\n",
      "Data columns (total 11 columns):\n",
      " #   Column               Non-Null Count  Dtype\n",
      "---  ------               --------------  -----\n",
      " 0   Race                 4024 non-null   int64\n",
      " 1   Marital Status       4024 non-null   int64\n",
      " 2   T Stage              4024 non-null   int64\n",
      " 3   N Stage              4024 non-null   int64\n",
      " 4   6th Stage            4024 non-null   int64\n",
      " 5   differentiate        4024 non-null   int64\n",
      " 6   Grade                4024 non-null   int64\n",
      " 7   A Stage              4024 non-null   int64\n",
      " 8   Estrogen Status      4024 non-null   int64\n",
      " 9   Progesterone Status  4024 non-null   int64\n",
      " 10  Status               4024 non-null   int64\n",
      "dtypes: int64(11)\n",
      "memory usage: 345.9 KB\n"
     ]
    }
   ],
   "source": [
    "ob.info()"
   ]
  },
  {
   "cell_type": "code",
   "execution_count": 21,
   "id": "6906e437",
   "metadata": {
    "execution": {
     "iopub.execute_input": "2024-09-07T09:51:06.238081Z",
     "iopub.status.busy": "2024-09-07T09:51:06.237633Z",
     "iopub.status.idle": "2024-09-07T09:51:06.244887Z",
     "shell.execute_reply": "2024-09-07T09:51:06.243357Z"
    },
    "papermill": {
     "duration": 0.023954,
     "end_time": "2024-09-07T09:51:06.247801",
     "exception": false,
     "start_time": "2024-09-07T09:51:06.223847",
     "status": "completed"
    },
    "tags": []
   },
   "outputs": [],
   "source": [
    "cancer=pd.concat([ob,non_ob],axis=1)"
   ]
  },
  {
   "cell_type": "code",
   "execution_count": 22,
   "id": "8c445636",
   "metadata": {
    "execution": {
     "iopub.execute_input": "2024-09-07T09:51:06.274498Z",
     "iopub.status.busy": "2024-09-07T09:51:06.273915Z",
     "iopub.status.idle": "2024-09-07T09:51:06.292585Z",
     "shell.execute_reply": "2024-09-07T09:51:06.291322Z"
    },
    "papermill": {
     "duration": 0.035232,
     "end_time": "2024-09-07T09:51:06.294980",
     "exception": false,
     "start_time": "2024-09-07T09:51:06.259748",
     "status": "completed"
    },
    "tags": []
   },
   "outputs": [
    {
     "data": {
      "text/html": [
       "<div>\n",
       "<style scoped>\n",
       "    .dataframe tbody tr th:only-of-type {\n",
       "        vertical-align: middle;\n",
       "    }\n",
       "\n",
       "    .dataframe tbody tr th {\n",
       "        vertical-align: top;\n",
       "    }\n",
       "\n",
       "    .dataframe thead th {\n",
       "        text-align: right;\n",
       "    }\n",
       "</style>\n",
       "<table border=\"1\" class=\"dataframe\">\n",
       "  <thead>\n",
       "    <tr style=\"text-align: right;\">\n",
       "      <th></th>\n",
       "      <th>Race</th>\n",
       "      <th>Marital Status</th>\n",
       "      <th>T Stage</th>\n",
       "      <th>N Stage</th>\n",
       "      <th>6th Stage</th>\n",
       "      <th>differentiate</th>\n",
       "      <th>Grade</th>\n",
       "      <th>A Stage</th>\n",
       "      <th>Estrogen Status</th>\n",
       "      <th>Progesterone Status</th>\n",
       "      <th>Status</th>\n",
       "      <th>Age</th>\n",
       "      <th>Tumor Size</th>\n",
       "      <th>Regional Node Examined</th>\n",
       "      <th>Reginol Node Positive</th>\n",
       "      <th>Survival Months</th>\n",
       "    </tr>\n",
       "  </thead>\n",
       "  <tbody>\n",
       "    <tr>\n",
       "      <th>0</th>\n",
       "      <td>2</td>\n",
       "      <td>1</td>\n",
       "      <td>0</td>\n",
       "      <td>0</td>\n",
       "      <td>0</td>\n",
       "      <td>1</td>\n",
       "      <td>3</td>\n",
       "      <td>1</td>\n",
       "      <td>1</td>\n",
       "      <td>1</td>\n",
       "      <td>0</td>\n",
       "      <td>68</td>\n",
       "      <td>4</td>\n",
       "      <td>24</td>\n",
       "      <td>1</td>\n",
       "      <td>60</td>\n",
       "    </tr>\n",
       "    <tr>\n",
       "      <th>1</th>\n",
       "      <td>2</td>\n",
       "      <td>1</td>\n",
       "      <td>1</td>\n",
       "      <td>1</td>\n",
       "      <td>2</td>\n",
       "      <td>0</td>\n",
       "      <td>2</td>\n",
       "      <td>1</td>\n",
       "      <td>1</td>\n",
       "      <td>1</td>\n",
       "      <td>0</td>\n",
       "      <td>50</td>\n",
       "      <td>35</td>\n",
       "      <td>14</td>\n",
       "      <td>5</td>\n",
       "      <td>62</td>\n",
       "    </tr>\n",
       "    <tr>\n",
       "      <th>2</th>\n",
       "      <td>2</td>\n",
       "      <td>0</td>\n",
       "      <td>2</td>\n",
       "      <td>2</td>\n",
       "      <td>4</td>\n",
       "      <td>0</td>\n",
       "      <td>2</td>\n",
       "      <td>1</td>\n",
       "      <td>1</td>\n",
       "      <td>1</td>\n",
       "      <td>0</td>\n",
       "      <td>58</td>\n",
       "      <td>63</td>\n",
       "      <td>14</td>\n",
       "      <td>7</td>\n",
       "      <td>75</td>\n",
       "    </tr>\n",
       "    <tr>\n",
       "      <th>3</th>\n",
       "      <td>2</td>\n",
       "      <td>1</td>\n",
       "      <td>0</td>\n",
       "      <td>0</td>\n",
       "      <td>0</td>\n",
       "      <td>1</td>\n",
       "      <td>3</td>\n",
       "      <td>1</td>\n",
       "      <td>1</td>\n",
       "      <td>1</td>\n",
       "      <td>0</td>\n",
       "      <td>58</td>\n",
       "      <td>18</td>\n",
       "      <td>2</td>\n",
       "      <td>1</td>\n",
       "      <td>84</td>\n",
       "    </tr>\n",
       "    <tr>\n",
       "      <th>4</th>\n",
       "      <td>2</td>\n",
       "      <td>1</td>\n",
       "      <td>1</td>\n",
       "      <td>0</td>\n",
       "      <td>1</td>\n",
       "      <td>1</td>\n",
       "      <td>3</td>\n",
       "      <td>1</td>\n",
       "      <td>1</td>\n",
       "      <td>1</td>\n",
       "      <td>0</td>\n",
       "      <td>47</td>\n",
       "      <td>41</td>\n",
       "      <td>3</td>\n",
       "      <td>1</td>\n",
       "      <td>50</td>\n",
       "    </tr>\n",
       "    <tr>\n",
       "      <th>...</th>\n",
       "      <td>...</td>\n",
       "      <td>...</td>\n",
       "      <td>...</td>\n",
       "      <td>...</td>\n",
       "      <td>...</td>\n",
       "      <td>...</td>\n",
       "      <td>...</td>\n",
       "      <td>...</td>\n",
       "      <td>...</td>\n",
       "      <td>...</td>\n",
       "      <td>...</td>\n",
       "      <td>...</td>\n",
       "      <td>...</td>\n",
       "      <td>...</td>\n",
       "      <td>...</td>\n",
       "      <td>...</td>\n",
       "    </tr>\n",
       "    <tr>\n",
       "      <th>4019</th>\n",
       "      <td>1</td>\n",
       "      <td>1</td>\n",
       "      <td>0</td>\n",
       "      <td>0</td>\n",
       "      <td>0</td>\n",
       "      <td>0</td>\n",
       "      <td>2</td>\n",
       "      <td>1</td>\n",
       "      <td>1</td>\n",
       "      <td>1</td>\n",
       "      <td>0</td>\n",
       "      <td>62</td>\n",
       "      <td>9</td>\n",
       "      <td>1</td>\n",
       "      <td>1</td>\n",
       "      <td>49</td>\n",
       "    </tr>\n",
       "    <tr>\n",
       "      <th>4020</th>\n",
       "      <td>2</td>\n",
       "      <td>0</td>\n",
       "      <td>1</td>\n",
       "      <td>1</td>\n",
       "      <td>2</td>\n",
       "      <td>0</td>\n",
       "      <td>2</td>\n",
       "      <td>1</td>\n",
       "      <td>1</td>\n",
       "      <td>1</td>\n",
       "      <td>0</td>\n",
       "      <td>56</td>\n",
       "      <td>46</td>\n",
       "      <td>14</td>\n",
       "      <td>8</td>\n",
       "      <td>69</td>\n",
       "    </tr>\n",
       "    <tr>\n",
       "      <th>4021</th>\n",
       "      <td>2</td>\n",
       "      <td>1</td>\n",
       "      <td>1</td>\n",
       "      <td>0</td>\n",
       "      <td>1</td>\n",
       "      <td>0</td>\n",
       "      <td>2</td>\n",
       "      <td>1</td>\n",
       "      <td>1</td>\n",
       "      <td>0</td>\n",
       "      <td>0</td>\n",
       "      <td>68</td>\n",
       "      <td>22</td>\n",
       "      <td>11</td>\n",
       "      <td>3</td>\n",
       "      <td>69</td>\n",
       "    </tr>\n",
       "    <tr>\n",
       "      <th>4022</th>\n",
       "      <td>0</td>\n",
       "      <td>0</td>\n",
       "      <td>1</td>\n",
       "      <td>0</td>\n",
       "      <td>1</td>\n",
       "      <td>0</td>\n",
       "      <td>2</td>\n",
       "      <td>1</td>\n",
       "      <td>1</td>\n",
       "      <td>1</td>\n",
       "      <td>0</td>\n",
       "      <td>58</td>\n",
       "      <td>44</td>\n",
       "      <td>11</td>\n",
       "      <td>1</td>\n",
       "      <td>72</td>\n",
       "    </tr>\n",
       "    <tr>\n",
       "      <th>4023</th>\n",
       "      <td>2</td>\n",
       "      <td>1</td>\n",
       "      <td>1</td>\n",
       "      <td>0</td>\n",
       "      <td>1</td>\n",
       "      <td>0</td>\n",
       "      <td>2</td>\n",
       "      <td>1</td>\n",
       "      <td>1</td>\n",
       "      <td>1</td>\n",
       "      <td>0</td>\n",
       "      <td>46</td>\n",
       "      <td>30</td>\n",
       "      <td>7</td>\n",
       "      <td>2</td>\n",
       "      <td>100</td>\n",
       "    </tr>\n",
       "  </tbody>\n",
       "</table>\n",
       "<p>4024 rows × 16 columns</p>\n",
       "</div>"
      ],
      "text/plain": [
       "      Race  Marital Status  T Stage   N Stage  6th Stage  differentiate  \\\n",
       "0        2               1         0        0          0              1   \n",
       "1        2               1         1        1          2              0   \n",
       "2        2               0         2        2          4              0   \n",
       "3        2               1         0        0          0              1   \n",
       "4        2               1         1        0          1              1   \n",
       "...    ...             ...       ...      ...        ...            ...   \n",
       "4019     1               1         0        0          0              0   \n",
       "4020     2               0         1        1          2              0   \n",
       "4021     2               1         1        0          1              0   \n",
       "4022     0               0         1        0          1              0   \n",
       "4023     2               1         1        0          1              0   \n",
       "\n",
       "      Grade  A Stage  Estrogen Status  Progesterone Status  Status  Age  \\\n",
       "0         3        1                1                    1       0   68   \n",
       "1         2        1                1                    1       0   50   \n",
       "2         2        1                1                    1       0   58   \n",
       "3         3        1                1                    1       0   58   \n",
       "4         3        1                1                    1       0   47   \n",
       "...     ...      ...              ...                  ...     ...  ...   \n",
       "4019      2        1                1                    1       0   62   \n",
       "4020      2        1                1                    1       0   56   \n",
       "4021      2        1                1                    0       0   68   \n",
       "4022      2        1                1                    1       0   58   \n",
       "4023      2        1                1                    1       0   46   \n",
       "\n",
       "      Tumor Size  Regional Node Examined  Reginol Node Positive  \\\n",
       "0              4                      24                      1   \n",
       "1             35                      14                      5   \n",
       "2             63                      14                      7   \n",
       "3             18                       2                      1   \n",
       "4             41                       3                      1   \n",
       "...          ...                     ...                    ...   \n",
       "4019           9                       1                      1   \n",
       "4020          46                      14                      8   \n",
       "4021          22                      11                      3   \n",
       "4022          44                      11                      1   \n",
       "4023          30                       7                      2   \n",
       "\n",
       "      Survival Months  \n",
       "0                  60  \n",
       "1                  62  \n",
       "2                  75  \n",
       "3                  84  \n",
       "4                  50  \n",
       "...               ...  \n",
       "4019               49  \n",
       "4020               69  \n",
       "4021               69  \n",
       "4022               72  \n",
       "4023              100  \n",
       "\n",
       "[4024 rows x 16 columns]"
      ]
     },
     "execution_count": 22,
     "metadata": {},
     "output_type": "execute_result"
    }
   ],
   "source": [
    "cancer"
   ]
  },
  {
   "cell_type": "markdown",
   "id": "6892849d",
   "metadata": {
    "papermill": {
     "duration": 0.011653,
     "end_time": "2024-09-07T09:51:06.318867",
     "exception": false,
     "start_time": "2024-09-07T09:51:06.307214",
     "status": "completed"
    },
    "tags": []
   },
   "source": [
    "# Build Model"
   ]
  },
  {
   "cell_type": "code",
   "execution_count": 23,
   "id": "9af615d4",
   "metadata": {
    "execution": {
     "iopub.execute_input": "2024-09-07T09:51:06.344711Z",
     "iopub.status.busy": "2024-09-07T09:51:06.344238Z",
     "iopub.status.idle": "2024-09-07T09:51:06.350688Z",
     "shell.execute_reply": "2024-09-07T09:51:06.349539Z"
    },
    "papermill": {
     "duration": 0.022412,
     "end_time": "2024-09-07T09:51:06.353378",
     "exception": false,
     "start_time": "2024-09-07T09:51:06.330966",
     "status": "completed"
    },
    "tags": []
   },
   "outputs": [],
   "source": [
    "x=cancer.drop(['Status'],axis=1)"
   ]
  },
  {
   "cell_type": "code",
   "execution_count": 24,
   "id": "30d1828c",
   "metadata": {
    "execution": {
     "iopub.execute_input": "2024-09-07T09:51:06.380124Z",
     "iopub.status.busy": "2024-09-07T09:51:06.379681Z",
     "iopub.status.idle": "2024-09-07T09:51:06.385369Z",
     "shell.execute_reply": "2024-09-07T09:51:06.384049Z"
    },
    "papermill": {
     "duration": 0.022449,
     "end_time": "2024-09-07T09:51:06.387973",
     "exception": false,
     "start_time": "2024-09-07T09:51:06.365524",
     "status": "completed"
    },
    "tags": []
   },
   "outputs": [],
   "source": [
    "y=cancer['Status']"
   ]
  },
  {
   "cell_type": "code",
   "execution_count": 25,
   "id": "76c38741",
   "metadata": {
    "execution": {
     "iopub.execute_input": "2024-09-07T09:51:06.413938Z",
     "iopub.status.busy": "2024-09-07T09:51:06.413511Z",
     "iopub.status.idle": "2024-09-07T09:51:06.431075Z",
     "shell.execute_reply": "2024-09-07T09:51:06.429880Z"
    },
    "papermill": {
     "duration": 0.033616,
     "end_time": "2024-09-07T09:51:06.433640",
     "exception": false,
     "start_time": "2024-09-07T09:51:06.400024",
     "status": "completed"
    },
    "tags": []
   },
   "outputs": [
    {
     "data": {
      "text/html": [
       "<div>\n",
       "<style scoped>\n",
       "    .dataframe tbody tr th:only-of-type {\n",
       "        vertical-align: middle;\n",
       "    }\n",
       "\n",
       "    .dataframe tbody tr th {\n",
       "        vertical-align: top;\n",
       "    }\n",
       "\n",
       "    .dataframe thead th {\n",
       "        text-align: right;\n",
       "    }\n",
       "</style>\n",
       "<table border=\"1\" class=\"dataframe\">\n",
       "  <thead>\n",
       "    <tr style=\"text-align: right;\">\n",
       "      <th></th>\n",
       "      <th>Race</th>\n",
       "      <th>Marital Status</th>\n",
       "      <th>T Stage</th>\n",
       "      <th>N Stage</th>\n",
       "      <th>6th Stage</th>\n",
       "      <th>differentiate</th>\n",
       "      <th>Grade</th>\n",
       "      <th>A Stage</th>\n",
       "      <th>Estrogen Status</th>\n",
       "      <th>Progesterone Status</th>\n",
       "      <th>Age</th>\n",
       "      <th>Tumor Size</th>\n",
       "      <th>Regional Node Examined</th>\n",
       "      <th>Reginol Node Positive</th>\n",
       "      <th>Survival Months</th>\n",
       "    </tr>\n",
       "  </thead>\n",
       "  <tbody>\n",
       "    <tr>\n",
       "      <th>0</th>\n",
       "      <td>2</td>\n",
       "      <td>1</td>\n",
       "      <td>0</td>\n",
       "      <td>0</td>\n",
       "      <td>0</td>\n",
       "      <td>1</td>\n",
       "      <td>3</td>\n",
       "      <td>1</td>\n",
       "      <td>1</td>\n",
       "      <td>1</td>\n",
       "      <td>68</td>\n",
       "      <td>4</td>\n",
       "      <td>24</td>\n",
       "      <td>1</td>\n",
       "      <td>60</td>\n",
       "    </tr>\n",
       "    <tr>\n",
       "      <th>1</th>\n",
       "      <td>2</td>\n",
       "      <td>1</td>\n",
       "      <td>1</td>\n",
       "      <td>1</td>\n",
       "      <td>2</td>\n",
       "      <td>0</td>\n",
       "      <td>2</td>\n",
       "      <td>1</td>\n",
       "      <td>1</td>\n",
       "      <td>1</td>\n",
       "      <td>50</td>\n",
       "      <td>35</td>\n",
       "      <td>14</td>\n",
       "      <td>5</td>\n",
       "      <td>62</td>\n",
       "    </tr>\n",
       "    <tr>\n",
       "      <th>2</th>\n",
       "      <td>2</td>\n",
       "      <td>0</td>\n",
       "      <td>2</td>\n",
       "      <td>2</td>\n",
       "      <td>4</td>\n",
       "      <td>0</td>\n",
       "      <td>2</td>\n",
       "      <td>1</td>\n",
       "      <td>1</td>\n",
       "      <td>1</td>\n",
       "      <td>58</td>\n",
       "      <td>63</td>\n",
       "      <td>14</td>\n",
       "      <td>7</td>\n",
       "      <td>75</td>\n",
       "    </tr>\n",
       "    <tr>\n",
       "      <th>3</th>\n",
       "      <td>2</td>\n",
       "      <td>1</td>\n",
       "      <td>0</td>\n",
       "      <td>0</td>\n",
       "      <td>0</td>\n",
       "      <td>1</td>\n",
       "      <td>3</td>\n",
       "      <td>1</td>\n",
       "      <td>1</td>\n",
       "      <td>1</td>\n",
       "      <td>58</td>\n",
       "      <td>18</td>\n",
       "      <td>2</td>\n",
       "      <td>1</td>\n",
       "      <td>84</td>\n",
       "    </tr>\n",
       "    <tr>\n",
       "      <th>4</th>\n",
       "      <td>2</td>\n",
       "      <td>1</td>\n",
       "      <td>1</td>\n",
       "      <td>0</td>\n",
       "      <td>1</td>\n",
       "      <td>1</td>\n",
       "      <td>3</td>\n",
       "      <td>1</td>\n",
       "      <td>1</td>\n",
       "      <td>1</td>\n",
       "      <td>47</td>\n",
       "      <td>41</td>\n",
       "      <td>3</td>\n",
       "      <td>1</td>\n",
       "      <td>50</td>\n",
       "    </tr>\n",
       "    <tr>\n",
       "      <th>...</th>\n",
       "      <td>...</td>\n",
       "      <td>...</td>\n",
       "      <td>...</td>\n",
       "      <td>...</td>\n",
       "      <td>...</td>\n",
       "      <td>...</td>\n",
       "      <td>...</td>\n",
       "      <td>...</td>\n",
       "      <td>...</td>\n",
       "      <td>...</td>\n",
       "      <td>...</td>\n",
       "      <td>...</td>\n",
       "      <td>...</td>\n",
       "      <td>...</td>\n",
       "      <td>...</td>\n",
       "    </tr>\n",
       "    <tr>\n",
       "      <th>4019</th>\n",
       "      <td>1</td>\n",
       "      <td>1</td>\n",
       "      <td>0</td>\n",
       "      <td>0</td>\n",
       "      <td>0</td>\n",
       "      <td>0</td>\n",
       "      <td>2</td>\n",
       "      <td>1</td>\n",
       "      <td>1</td>\n",
       "      <td>1</td>\n",
       "      <td>62</td>\n",
       "      <td>9</td>\n",
       "      <td>1</td>\n",
       "      <td>1</td>\n",
       "      <td>49</td>\n",
       "    </tr>\n",
       "    <tr>\n",
       "      <th>4020</th>\n",
       "      <td>2</td>\n",
       "      <td>0</td>\n",
       "      <td>1</td>\n",
       "      <td>1</td>\n",
       "      <td>2</td>\n",
       "      <td>0</td>\n",
       "      <td>2</td>\n",
       "      <td>1</td>\n",
       "      <td>1</td>\n",
       "      <td>1</td>\n",
       "      <td>56</td>\n",
       "      <td>46</td>\n",
       "      <td>14</td>\n",
       "      <td>8</td>\n",
       "      <td>69</td>\n",
       "    </tr>\n",
       "    <tr>\n",
       "      <th>4021</th>\n",
       "      <td>2</td>\n",
       "      <td>1</td>\n",
       "      <td>1</td>\n",
       "      <td>0</td>\n",
       "      <td>1</td>\n",
       "      <td>0</td>\n",
       "      <td>2</td>\n",
       "      <td>1</td>\n",
       "      <td>1</td>\n",
       "      <td>0</td>\n",
       "      <td>68</td>\n",
       "      <td>22</td>\n",
       "      <td>11</td>\n",
       "      <td>3</td>\n",
       "      <td>69</td>\n",
       "    </tr>\n",
       "    <tr>\n",
       "      <th>4022</th>\n",
       "      <td>0</td>\n",
       "      <td>0</td>\n",
       "      <td>1</td>\n",
       "      <td>0</td>\n",
       "      <td>1</td>\n",
       "      <td>0</td>\n",
       "      <td>2</td>\n",
       "      <td>1</td>\n",
       "      <td>1</td>\n",
       "      <td>1</td>\n",
       "      <td>58</td>\n",
       "      <td>44</td>\n",
       "      <td>11</td>\n",
       "      <td>1</td>\n",
       "      <td>72</td>\n",
       "    </tr>\n",
       "    <tr>\n",
       "      <th>4023</th>\n",
       "      <td>2</td>\n",
       "      <td>1</td>\n",
       "      <td>1</td>\n",
       "      <td>0</td>\n",
       "      <td>1</td>\n",
       "      <td>0</td>\n",
       "      <td>2</td>\n",
       "      <td>1</td>\n",
       "      <td>1</td>\n",
       "      <td>1</td>\n",
       "      <td>46</td>\n",
       "      <td>30</td>\n",
       "      <td>7</td>\n",
       "      <td>2</td>\n",
       "      <td>100</td>\n",
       "    </tr>\n",
       "  </tbody>\n",
       "</table>\n",
       "<p>4024 rows × 15 columns</p>\n",
       "</div>"
      ],
      "text/plain": [
       "      Race  Marital Status  T Stage   N Stage  6th Stage  differentiate  \\\n",
       "0        2               1         0        0          0              1   \n",
       "1        2               1         1        1          2              0   \n",
       "2        2               0         2        2          4              0   \n",
       "3        2               1         0        0          0              1   \n",
       "4        2               1         1        0          1              1   \n",
       "...    ...             ...       ...      ...        ...            ...   \n",
       "4019     1               1         0        0          0              0   \n",
       "4020     2               0         1        1          2              0   \n",
       "4021     2               1         1        0          1              0   \n",
       "4022     0               0         1        0          1              0   \n",
       "4023     2               1         1        0          1              0   \n",
       "\n",
       "      Grade  A Stage  Estrogen Status  Progesterone Status  Age  Tumor Size  \\\n",
       "0         3        1                1                    1   68           4   \n",
       "1         2        1                1                    1   50          35   \n",
       "2         2        1                1                    1   58          63   \n",
       "3         3        1                1                    1   58          18   \n",
       "4         3        1                1                    1   47          41   \n",
       "...     ...      ...              ...                  ...  ...         ...   \n",
       "4019      2        1                1                    1   62           9   \n",
       "4020      2        1                1                    1   56          46   \n",
       "4021      2        1                1                    0   68          22   \n",
       "4022      2        1                1                    1   58          44   \n",
       "4023      2        1                1                    1   46          30   \n",
       "\n",
       "      Regional Node Examined  Reginol Node Positive  Survival Months  \n",
       "0                         24                      1               60  \n",
       "1                         14                      5               62  \n",
       "2                         14                      7               75  \n",
       "3                          2                      1               84  \n",
       "4                          3                      1               50  \n",
       "...                      ...                    ...              ...  \n",
       "4019                       1                      1               49  \n",
       "4020                      14                      8               69  \n",
       "4021                      11                      3               69  \n",
       "4022                      11                      1               72  \n",
       "4023                       7                      2              100  \n",
       "\n",
       "[4024 rows x 15 columns]"
      ]
     },
     "execution_count": 25,
     "metadata": {},
     "output_type": "execute_result"
    }
   ],
   "source": [
    "x"
   ]
  },
  {
   "cell_type": "code",
   "execution_count": 26,
   "id": "64695e96",
   "metadata": {
    "execution": {
     "iopub.execute_input": "2024-09-07T09:51:06.460430Z",
     "iopub.status.busy": "2024-09-07T09:51:06.459959Z",
     "iopub.status.idle": "2024-09-07T09:51:06.469704Z",
     "shell.execute_reply": "2024-09-07T09:51:06.468420Z"
    },
    "papermill": {
     "duration": 0.026336,
     "end_time": "2024-09-07T09:51:06.472496",
     "exception": false,
     "start_time": "2024-09-07T09:51:06.446160",
     "status": "completed"
    },
    "tags": []
   },
   "outputs": [
    {
     "data": {
      "text/plain": [
       "0       0\n",
       "1       0\n",
       "2       0\n",
       "3       0\n",
       "4       0\n",
       "       ..\n",
       "4019    0\n",
       "4020    0\n",
       "4021    0\n",
       "4022    0\n",
       "4023    0\n",
       "Name: Status, Length: 4024, dtype: int64"
      ]
     },
     "execution_count": 26,
     "metadata": {},
     "output_type": "execute_result"
    }
   ],
   "source": [
    "y"
   ]
  },
  {
   "cell_type": "markdown",
   "id": "6068a4a4",
   "metadata": {
    "papermill": {
     "duration": 0.012576,
     "end_time": "2024-09-07T09:51:06.497920",
     "exception": false,
     "start_time": "2024-09-07T09:51:06.485344",
     "status": "completed"
    },
    "tags": []
   },
   "source": [
    "Over Sampling"
   ]
  },
  {
   "cell_type": "code",
   "execution_count": 27,
   "id": "41aeb591",
   "metadata": {
    "execution": {
     "iopub.execute_input": "2024-09-07T09:51:06.524743Z",
     "iopub.status.busy": "2024-09-07T09:51:06.524307Z",
     "iopub.status.idle": "2024-09-07T09:51:06.538784Z",
     "shell.execute_reply": "2024-09-07T09:51:06.537361Z"
    },
    "papermill": {
     "duration": 0.031109,
     "end_time": "2024-09-07T09:51:06.541682",
     "exception": false,
     "start_time": "2024-09-07T09:51:06.510573",
     "status": "completed"
    },
    "tags": []
   },
   "outputs": [],
   "source": [
    "RS=RandomOverSampler(random_state=42)\n",
    "x_rs,y_rs=RS.fit_resample(x,y)"
   ]
  },
  {
   "cell_type": "code",
   "execution_count": 28,
   "id": "e635cd5c",
   "metadata": {
    "execution": {
     "iopub.execute_input": "2024-09-07T09:51:06.570830Z",
     "iopub.status.busy": "2024-09-07T09:51:06.570394Z",
     "iopub.status.idle": "2024-09-07T09:51:06.581149Z",
     "shell.execute_reply": "2024-09-07T09:51:06.579790Z"
    },
    "papermill": {
     "duration": 0.029061,
     "end_time": "2024-09-07T09:51:06.583760",
     "exception": false,
     "start_time": "2024-09-07T09:51:06.554699",
     "status": "completed"
    },
    "tags": []
   },
   "outputs": [],
   "source": [
    "x_train, x_test, y_train, y_test = train_test_split(x_rs,y_rs, test_size=0.2, random_state=42)"
   ]
  },
  {
   "cell_type": "code",
   "execution_count": 29,
   "id": "ca450575",
   "metadata": {
    "execution": {
     "iopub.execute_input": "2024-09-07T09:51:06.611023Z",
     "iopub.status.busy": "2024-09-07T09:51:06.610614Z",
     "iopub.status.idle": "2024-09-07T09:51:06.616602Z",
     "shell.execute_reply": "2024-09-07T09:51:06.615446Z"
    },
    "papermill": {
     "duration": 0.022248,
     "end_time": "2024-09-07T09:51:06.618848",
     "exception": false,
     "start_time": "2024-09-07T09:51:06.596600",
     "status": "completed"
    },
    "tags": []
   },
   "outputs": [],
   "source": [
    "Model_LR=LogisticRegression()\n",
    "Model_RF=RandomForestClassifier()\n",
    "Model_SVC=SVC()\n",
    "Model_XGB=XGBClassifier()\n",
    "Model_GBoosting=GradientBoostingClassifier()"
   ]
  },
  {
   "cell_type": "code",
   "execution_count": 30,
   "id": "8a8cfe81",
   "metadata": {
    "execution": {
     "iopub.execute_input": "2024-09-07T09:51:06.646436Z",
     "iopub.status.busy": "2024-09-07T09:51:06.645991Z",
     "iopub.status.idle": "2024-09-07T09:51:06.651419Z",
     "shell.execute_reply": "2024-09-07T09:51:06.650157Z"
    },
    "papermill": {
     "duration": 0.022025,
     "end_time": "2024-09-07T09:51:06.653675",
     "exception": false,
     "start_time": "2024-09-07T09:51:06.631650",
     "status": "completed"
    },
    "tags": []
   },
   "outputs": [],
   "source": [
    "def predictt(model):\n",
    "    model.fit(x_train,y_train)\n",
    "    model.predict(x_test)\n",
    "    print(classification_report(model.predict(x_test),y_test))"
   ]
  },
  {
   "cell_type": "code",
   "execution_count": 31,
   "id": "65437196",
   "metadata": {
    "execution": {
     "iopub.execute_input": "2024-09-07T09:51:06.681026Z",
     "iopub.status.busy": "2024-09-07T09:51:06.680581Z",
     "iopub.status.idle": "2024-09-07T09:51:06.802896Z",
     "shell.execute_reply": "2024-09-07T09:51:06.801532Z"
    },
    "papermill": {
     "duration": 0.139759,
     "end_time": "2024-09-07T09:51:06.806222",
     "exception": false,
     "start_time": "2024-09-07T09:51:06.666463",
     "status": "completed"
    },
    "tags": []
   },
   "outputs": [
    {
     "name": "stdout",
     "output_type": "stream",
     "text": [
      "              precision    recall  f1-score   support\n",
      "\n",
      "           0       0.83      0.77      0.80       730\n",
      "           1       0.76      0.82      0.79       634\n",
      "\n",
      "    accuracy                           0.80      1364\n",
      "   macro avg       0.80      0.80      0.80      1364\n",
      "weighted avg       0.80      0.80      0.80      1364\n",
      "\n"
     ]
    }
   ],
   "source": [
    "predictt(Model_LR)"
   ]
  },
  {
   "cell_type": "code",
   "execution_count": 32,
   "id": "9215acca",
   "metadata": {
    "execution": {
     "iopub.execute_input": "2024-09-07T09:51:06.851146Z",
     "iopub.status.busy": "2024-09-07T09:51:06.850510Z",
     "iopub.status.idle": "2024-09-07T09:51:07.635691Z",
     "shell.execute_reply": "2024-09-07T09:51:07.634189Z"
    },
    "papermill": {
     "duration": 0.810701,
     "end_time": "2024-09-07T09:51:07.638226",
     "exception": false,
     "start_time": "2024-09-07T09:51:06.827525",
     "status": "completed"
    },
    "tags": []
   },
   "outputs": [
    {
     "name": "stdout",
     "output_type": "stream",
     "text": [
      "              precision    recall  f1-score   support\n",
      "\n",
      "           0       0.95      1.00      0.97       646\n",
      "           1       1.00      0.95      0.97       718\n",
      "\n",
      "    accuracy                           0.97      1364\n",
      "   macro avg       0.97      0.97      0.97      1364\n",
      "weighted avg       0.97      0.97      0.97      1364\n",
      "\n"
     ]
    }
   ],
   "source": [
    "predictt(Model_RF)"
   ]
  },
  {
   "cell_type": "code",
   "execution_count": 33,
   "id": "9dc5e1e3",
   "metadata": {
    "execution": {
     "iopub.execute_input": "2024-09-07T09:51:07.668858Z",
     "iopub.status.busy": "2024-09-07T09:51:07.666924Z",
     "iopub.status.idle": "2024-09-07T09:51:09.153561Z",
     "shell.execute_reply": "2024-09-07T09:51:09.152159Z"
    },
    "papermill": {
     "duration": 1.504355,
     "end_time": "2024-09-07T09:51:09.156243",
     "exception": false,
     "start_time": "2024-09-07T09:51:07.651888",
     "status": "completed"
    },
    "tags": []
   },
   "outputs": [
    {
     "name": "stdout",
     "output_type": "stream",
     "text": [
      "              precision    recall  f1-score   support\n",
      "\n",
      "           0       0.86      0.76      0.81       768\n",
      "           1       0.73      0.84      0.78       596\n",
      "\n",
      "    accuracy                           0.80      1364\n",
      "   macro avg       0.80      0.80      0.80      1364\n",
      "weighted avg       0.81      0.80      0.80      1364\n",
      "\n"
     ]
    }
   ],
   "source": [
    "predictt(Model_SVC)"
   ]
  },
  {
   "cell_type": "code",
   "execution_count": 34,
   "id": "8551e896",
   "metadata": {
    "execution": {
     "iopub.execute_input": "2024-09-07T09:51:09.184126Z",
     "iopub.status.busy": "2024-09-07T09:51:09.183654Z",
     "iopub.status.idle": "2024-09-07T09:51:09.393573Z",
     "shell.execute_reply": "2024-09-07T09:51:09.392147Z"
    },
    "papermill": {
     "duration": 0.227,
     "end_time": "2024-09-07T09:51:09.396305",
     "exception": false,
     "start_time": "2024-09-07T09:51:09.169305",
     "status": "completed"
    },
    "tags": []
   },
   "outputs": [
    {
     "name": "stdout",
     "output_type": "stream",
     "text": [
      "              precision    recall  f1-score   support\n",
      "\n",
      "           0       0.93      1.00      0.96       632\n",
      "           1       1.00      0.93      0.96       732\n",
      "\n",
      "    accuracy                           0.96      1364\n",
      "   macro avg       0.96      0.96      0.96      1364\n",
      "weighted avg       0.96      0.96      0.96      1364\n",
      "\n"
     ]
    }
   ],
   "source": [
    "predictt(Model_XGB)"
   ]
  },
  {
   "cell_type": "code",
   "execution_count": 35,
   "id": "be0157fd",
   "metadata": {
    "execution": {
     "iopub.execute_input": "2024-09-07T09:51:09.424031Z",
     "iopub.status.busy": "2024-09-07T09:51:09.423639Z",
     "iopub.status.idle": "2024-09-07T09:51:10.119108Z",
     "shell.execute_reply": "2024-09-07T09:51:10.117602Z"
    },
    "papermill": {
     "duration": 0.712625,
     "end_time": "2024-09-07T09:51:10.121900",
     "exception": false,
     "start_time": "2024-09-07T09:51:09.409275",
     "status": "completed"
    },
    "tags": []
   },
   "outputs": [
    {
     "name": "stdout",
     "output_type": "stream",
     "text": [
      "              precision    recall  f1-score   support\n",
      "\n",
      "           0       0.87      0.82      0.84       725\n",
      "           1       0.80      0.86      0.83       639\n",
      "\n",
      "    accuracy                           0.84      1364\n",
      "   macro avg       0.84      0.84      0.84      1364\n",
      "weighted avg       0.84      0.84      0.84      1364\n",
      "\n"
     ]
    }
   ],
   "source": [
    "predictt(Model_GBoosting)"
   ]
  }
 ],
 "metadata": {
  "kaggle": {
   "accelerator": "none",
   "dataSources": [
    {
     "datasetId": 2396275,
     "sourceId": 4045493,
     "sourceType": "datasetVersion"
    }
   ],
   "dockerImageVersionId": 30761,
   "isGpuEnabled": false,
   "isInternetEnabled": true,
   "language": "python",
   "sourceType": "notebook"
  },
  "kernelspec": {
   "display_name": "Python 3",
   "language": "python",
   "name": "python3"
  },
  "language_info": {
   "codemirror_mode": {
    "name": "ipython",
    "version": 3
   },
   "file_extension": ".py",
   "mimetype": "text/x-python",
   "name": "python",
   "nbconvert_exporter": "python",
   "pygments_lexer": "ipython3",
   "version": "3.10.14"
  },
  "papermill": {
   "default_parameters": {},
   "duration": 12.235692,
   "end_time": "2024-09-07T09:51:10.858425",
   "environment_variables": {},
   "exception": null,
   "input_path": "__notebook__.ipynb",
   "output_path": "__notebook__.ipynb",
   "parameters": {},
   "start_time": "2024-09-07T09:50:58.622733",
   "version": "2.6.0"
  }
 },
 "nbformat": 4,
 "nbformat_minor": 5
}
