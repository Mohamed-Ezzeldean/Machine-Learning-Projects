{
 "cells": [
  {
   "cell_type": "markdown",
   "id": "94bc9b47",
   "metadata": {
    "papermill": {
     "duration": 0.020825,
     "end_time": "2024-09-10T11:58:27.252012",
     "exception": false,
     "start_time": "2024-09-10T11:58:27.231187",
     "status": "completed"
    },
    "tags": []
   },
   "source": [
    "# Import Libraries"
   ]
  },
  {
   "cell_type": "code",
   "execution_count": 1,
   "id": "5cfeaec0",
   "metadata": {
    "execution": {
     "iopub.execute_input": "2024-09-10T11:58:27.295018Z",
     "iopub.status.busy": "2024-09-10T11:58:27.293827Z",
     "iopub.status.idle": "2024-09-10T11:58:30.122011Z",
     "shell.execute_reply": "2024-09-10T11:58:30.120666Z"
    },
    "papermill": {
     "duration": 2.852722,
     "end_time": "2024-09-10T11:58:30.124976",
     "exception": false,
     "start_time": "2024-09-10T11:58:27.272254",
     "status": "completed"
    },
    "tags": []
   },
   "outputs": [],
   "source": [
    "import numpy as np\n",
    "import pandas as pd \n",
    "import seaborn as sns \n",
    "import matplotlib.pyplot as plt\n",
    "%matplotlib inline\n",
    "\n",
    "from sklearn.model_selection import train_test_split\n",
    "from sklearn.metrics import r2_score,mean_squared_error\n",
    "from sklearn.preprocessing import LabelEncoder\n",
    "\n",
    "from sklearn.linear_model import LinearRegression\n",
    "from sklearn.ensemble import RandomForestRegressor\n",
    "from sklearn.ensemble import GradientBoostingRegressor\n",
    "from sklearn.svm import SVR\n",
    "from xgboost import XGBRegressor\n",
    "from sklearn.neighbors import KNeighborsRegressor\n",
    "from sklearn.tree import DecisionTreeRegressor\n",
    "\n",
    "import warnings\n",
    "warnings.filterwarnings('ignore')"
   ]
  },
  {
   "cell_type": "markdown",
   "id": "d6379640",
   "metadata": {
    "papermill": {
     "duration": 0.019663,
     "end_time": "2024-09-10T11:58:30.164598",
     "exception": false,
     "start_time": "2024-09-10T11:58:30.144935",
     "status": "completed"
    },
    "tags": []
   },
   "source": [
    "# Explore Data"
   ]
  },
  {
   "cell_type": "code",
   "execution_count": 2,
   "id": "49da1437",
   "metadata": {
    "execution": {
     "iopub.execute_input": "2024-09-10T11:58:30.206261Z",
     "iopub.status.busy": "2024-09-10T11:58:30.205668Z",
     "iopub.status.idle": "2024-09-10T11:58:30.445864Z",
     "shell.execute_reply": "2024-09-10T11:58:30.444559Z"
    },
    "papermill": {
     "duration": 0.264021,
     "end_time": "2024-09-10T11:58:30.448643",
     "exception": false,
     "start_time": "2024-09-10T11:58:30.184622",
     "status": "completed"
    },
    "tags": []
   },
   "outputs": [],
   "source": [
    "cars=pd.read_csv('/kaggle/input/car-price-prediction-challenge/car_price_prediction.csv')"
   ]
  },
  {
   "cell_type": "code",
   "execution_count": 3,
   "id": "a92bba8b",
   "metadata": {
    "execution": {
     "iopub.execute_input": "2024-09-10T11:58:30.490677Z",
     "iopub.status.busy": "2024-09-10T11:58:30.490205Z",
     "iopub.status.idle": "2024-09-10T11:58:30.525559Z",
     "shell.execute_reply": "2024-09-10T11:58:30.524386Z"
    },
    "papermill": {
     "duration": 0.059405,
     "end_time": "2024-09-10T11:58:30.528060",
     "exception": false,
     "start_time": "2024-09-10T11:58:30.468655",
     "status": "completed"
    },
    "tags": []
   },
   "outputs": [
    {
     "data": {
      "text/html": [
       "<div>\n",
       "<style scoped>\n",
       "    .dataframe tbody tr th:only-of-type {\n",
       "        vertical-align: middle;\n",
       "    }\n",
       "\n",
       "    .dataframe tbody tr th {\n",
       "        vertical-align: top;\n",
       "    }\n",
       "\n",
       "    .dataframe thead th {\n",
       "        text-align: right;\n",
       "    }\n",
       "</style>\n",
       "<table border=\"1\" class=\"dataframe\">\n",
       "  <thead>\n",
       "    <tr style=\"text-align: right;\">\n",
       "      <th></th>\n",
       "      <th>ID</th>\n",
       "      <th>Price</th>\n",
       "      <th>Levy</th>\n",
       "      <th>Manufacturer</th>\n",
       "      <th>Model</th>\n",
       "      <th>Prod. year</th>\n",
       "      <th>Category</th>\n",
       "      <th>Leather interior</th>\n",
       "      <th>Fuel type</th>\n",
       "      <th>Engine volume</th>\n",
       "      <th>Mileage</th>\n",
       "      <th>Cylinders</th>\n",
       "      <th>Gear box type</th>\n",
       "      <th>Drive wheels</th>\n",
       "      <th>Doors</th>\n",
       "      <th>Wheel</th>\n",
       "      <th>Color</th>\n",
       "      <th>Airbags</th>\n",
       "    </tr>\n",
       "  </thead>\n",
       "  <tbody>\n",
       "    <tr>\n",
       "      <th>0</th>\n",
       "      <td>45654403</td>\n",
       "      <td>13328</td>\n",
       "      <td>1399</td>\n",
       "      <td>LEXUS</td>\n",
       "      <td>RX 450</td>\n",
       "      <td>2010</td>\n",
       "      <td>Jeep</td>\n",
       "      <td>Yes</td>\n",
       "      <td>Hybrid</td>\n",
       "      <td>3.5</td>\n",
       "      <td>186005 km</td>\n",
       "      <td>6.0</td>\n",
       "      <td>Automatic</td>\n",
       "      <td>4x4</td>\n",
       "      <td>04-May</td>\n",
       "      <td>Left wheel</td>\n",
       "      <td>Silver</td>\n",
       "      <td>12</td>\n",
       "    </tr>\n",
       "    <tr>\n",
       "      <th>1</th>\n",
       "      <td>44731507</td>\n",
       "      <td>16621</td>\n",
       "      <td>1018</td>\n",
       "      <td>CHEVROLET</td>\n",
       "      <td>Equinox</td>\n",
       "      <td>2011</td>\n",
       "      <td>Jeep</td>\n",
       "      <td>No</td>\n",
       "      <td>Petrol</td>\n",
       "      <td>3</td>\n",
       "      <td>192000 km</td>\n",
       "      <td>6.0</td>\n",
       "      <td>Tiptronic</td>\n",
       "      <td>4x4</td>\n",
       "      <td>04-May</td>\n",
       "      <td>Left wheel</td>\n",
       "      <td>Black</td>\n",
       "      <td>8</td>\n",
       "    </tr>\n",
       "    <tr>\n",
       "      <th>2</th>\n",
       "      <td>45774419</td>\n",
       "      <td>8467</td>\n",
       "      <td>-</td>\n",
       "      <td>HONDA</td>\n",
       "      <td>FIT</td>\n",
       "      <td>2006</td>\n",
       "      <td>Hatchback</td>\n",
       "      <td>No</td>\n",
       "      <td>Petrol</td>\n",
       "      <td>1.3</td>\n",
       "      <td>200000 km</td>\n",
       "      <td>4.0</td>\n",
       "      <td>Variator</td>\n",
       "      <td>Front</td>\n",
       "      <td>04-May</td>\n",
       "      <td>Right-hand drive</td>\n",
       "      <td>Black</td>\n",
       "      <td>2</td>\n",
       "    </tr>\n",
       "    <tr>\n",
       "      <th>3</th>\n",
       "      <td>45769185</td>\n",
       "      <td>3607</td>\n",
       "      <td>862</td>\n",
       "      <td>FORD</td>\n",
       "      <td>Escape</td>\n",
       "      <td>2011</td>\n",
       "      <td>Jeep</td>\n",
       "      <td>Yes</td>\n",
       "      <td>Hybrid</td>\n",
       "      <td>2.5</td>\n",
       "      <td>168966 km</td>\n",
       "      <td>4.0</td>\n",
       "      <td>Automatic</td>\n",
       "      <td>4x4</td>\n",
       "      <td>04-May</td>\n",
       "      <td>Left wheel</td>\n",
       "      <td>White</td>\n",
       "      <td>0</td>\n",
       "    </tr>\n",
       "    <tr>\n",
       "      <th>4</th>\n",
       "      <td>45809263</td>\n",
       "      <td>11726</td>\n",
       "      <td>446</td>\n",
       "      <td>HONDA</td>\n",
       "      <td>FIT</td>\n",
       "      <td>2014</td>\n",
       "      <td>Hatchback</td>\n",
       "      <td>Yes</td>\n",
       "      <td>Petrol</td>\n",
       "      <td>1.3</td>\n",
       "      <td>91901 km</td>\n",
       "      <td>4.0</td>\n",
       "      <td>Automatic</td>\n",
       "      <td>Front</td>\n",
       "      <td>04-May</td>\n",
       "      <td>Left wheel</td>\n",
       "      <td>Silver</td>\n",
       "      <td>4</td>\n",
       "    </tr>\n",
       "  </tbody>\n",
       "</table>\n",
       "</div>"
      ],
      "text/plain": [
       "         ID  Price  Levy Manufacturer    Model  Prod. year   Category  \\\n",
       "0  45654403  13328  1399        LEXUS   RX 450        2010       Jeep   \n",
       "1  44731507  16621  1018    CHEVROLET  Equinox        2011       Jeep   \n",
       "2  45774419   8467     -        HONDA      FIT        2006  Hatchback   \n",
       "3  45769185   3607   862         FORD   Escape        2011       Jeep   \n",
       "4  45809263  11726   446        HONDA      FIT        2014  Hatchback   \n",
       "\n",
       "  Leather interior Fuel type Engine volume    Mileage  Cylinders  \\\n",
       "0              Yes    Hybrid           3.5  186005 km        6.0   \n",
       "1               No    Petrol             3  192000 km        6.0   \n",
       "2               No    Petrol           1.3  200000 km        4.0   \n",
       "3              Yes    Hybrid           2.5  168966 km        4.0   \n",
       "4              Yes    Petrol           1.3   91901 km        4.0   \n",
       "\n",
       "  Gear box type Drive wheels   Doors             Wheel   Color  Airbags  \n",
       "0     Automatic          4x4  04-May        Left wheel  Silver       12  \n",
       "1     Tiptronic          4x4  04-May        Left wheel   Black        8  \n",
       "2      Variator        Front  04-May  Right-hand drive   Black        2  \n",
       "3     Automatic          4x4  04-May        Left wheel   White        0  \n",
       "4     Automatic        Front  04-May        Left wheel  Silver        4  "
      ]
     },
     "execution_count": 3,
     "metadata": {},
     "output_type": "execute_result"
    }
   ],
   "source": [
    "cars.head()"
   ]
  },
  {
   "cell_type": "code",
   "execution_count": 4,
   "id": "715cc1ec",
   "metadata": {
    "execution": {
     "iopub.execute_input": "2024-09-10T11:58:30.570411Z",
     "iopub.status.busy": "2024-09-10T11:58:30.569676Z",
     "iopub.status.idle": "2024-09-10T11:58:30.576678Z",
     "shell.execute_reply": "2024-09-10T11:58:30.575550Z"
    },
    "papermill": {
     "duration": 0.030668,
     "end_time": "2024-09-10T11:58:30.579002",
     "exception": false,
     "start_time": "2024-09-10T11:58:30.548334",
     "status": "completed"
    },
    "tags": []
   },
   "outputs": [
    {
     "data": {
      "text/plain": [
       "(19237, 18)"
      ]
     },
     "execution_count": 4,
     "metadata": {},
     "output_type": "execute_result"
    }
   ],
   "source": [
    "cars.shape"
   ]
  },
  {
   "cell_type": "code",
   "execution_count": 5,
   "id": "905d5523",
   "metadata": {
    "execution": {
     "iopub.execute_input": "2024-09-10T11:58:30.622222Z",
     "iopub.status.busy": "2024-09-10T11:58:30.621808Z",
     "iopub.status.idle": "2024-09-10T11:58:30.642556Z",
     "shell.execute_reply": "2024-09-10T11:58:30.641394Z"
    },
    "papermill": {
     "duration": 0.045337,
     "end_time": "2024-09-10T11:58:30.645343",
     "exception": false,
     "start_time": "2024-09-10T11:58:30.600006",
     "status": "completed"
    },
    "tags": []
   },
   "outputs": [
    {
     "data": {
      "text/html": [
       "<div>\n",
       "<style scoped>\n",
       "    .dataframe tbody tr th:only-of-type {\n",
       "        vertical-align: middle;\n",
       "    }\n",
       "\n",
       "    .dataframe tbody tr th {\n",
       "        vertical-align: top;\n",
       "    }\n",
       "\n",
       "    .dataframe thead th {\n",
       "        text-align: right;\n",
       "    }\n",
       "</style>\n",
       "<table border=\"1\" class=\"dataframe\">\n",
       "  <thead>\n",
       "    <tr style=\"text-align: right;\">\n",
       "      <th></th>\n",
       "      <th>ID</th>\n",
       "      <th>Price</th>\n",
       "      <th>Levy</th>\n",
       "      <th>Manufacturer</th>\n",
       "      <th>Model</th>\n",
       "      <th>Prod. year</th>\n",
       "      <th>Category</th>\n",
       "      <th>Leather interior</th>\n",
       "      <th>Fuel type</th>\n",
       "      <th>Engine volume</th>\n",
       "      <th>Mileage</th>\n",
       "      <th>Cylinders</th>\n",
       "      <th>Gear box type</th>\n",
       "      <th>Drive wheels</th>\n",
       "      <th>Doors</th>\n",
       "      <th>Wheel</th>\n",
       "      <th>Color</th>\n",
       "      <th>Airbags</th>\n",
       "    </tr>\n",
       "  </thead>\n",
       "  <tbody>\n",
       "    <tr>\n",
       "      <th>19232</th>\n",
       "      <td>45798355</td>\n",
       "      <td>8467</td>\n",
       "      <td>-</td>\n",
       "      <td>MERCEDES-BENZ</td>\n",
       "      <td>CLK 200</td>\n",
       "      <td>1999</td>\n",
       "      <td>Coupe</td>\n",
       "      <td>Yes</td>\n",
       "      <td>CNG</td>\n",
       "      <td>2.0 Turbo</td>\n",
       "      <td>300000 km</td>\n",
       "      <td>4.0</td>\n",
       "      <td>Manual</td>\n",
       "      <td>Rear</td>\n",
       "      <td>02-Mar</td>\n",
       "      <td>Left wheel</td>\n",
       "      <td>Silver</td>\n",
       "      <td>5</td>\n",
       "    </tr>\n",
       "    <tr>\n",
       "      <th>19233</th>\n",
       "      <td>45778856</td>\n",
       "      <td>15681</td>\n",
       "      <td>831</td>\n",
       "      <td>HYUNDAI</td>\n",
       "      <td>Sonata</td>\n",
       "      <td>2011</td>\n",
       "      <td>Sedan</td>\n",
       "      <td>Yes</td>\n",
       "      <td>Petrol</td>\n",
       "      <td>2.4</td>\n",
       "      <td>161600 km</td>\n",
       "      <td>4.0</td>\n",
       "      <td>Tiptronic</td>\n",
       "      <td>Front</td>\n",
       "      <td>04-May</td>\n",
       "      <td>Left wheel</td>\n",
       "      <td>Red</td>\n",
       "      <td>8</td>\n",
       "    </tr>\n",
       "    <tr>\n",
       "      <th>19234</th>\n",
       "      <td>45804997</td>\n",
       "      <td>26108</td>\n",
       "      <td>836</td>\n",
       "      <td>HYUNDAI</td>\n",
       "      <td>Tucson</td>\n",
       "      <td>2010</td>\n",
       "      <td>Jeep</td>\n",
       "      <td>Yes</td>\n",
       "      <td>Diesel</td>\n",
       "      <td>2</td>\n",
       "      <td>116365 km</td>\n",
       "      <td>4.0</td>\n",
       "      <td>Automatic</td>\n",
       "      <td>Front</td>\n",
       "      <td>04-May</td>\n",
       "      <td>Left wheel</td>\n",
       "      <td>Grey</td>\n",
       "      <td>4</td>\n",
       "    </tr>\n",
       "    <tr>\n",
       "      <th>19235</th>\n",
       "      <td>45793526</td>\n",
       "      <td>5331</td>\n",
       "      <td>1288</td>\n",
       "      <td>CHEVROLET</td>\n",
       "      <td>Captiva</td>\n",
       "      <td>2007</td>\n",
       "      <td>Jeep</td>\n",
       "      <td>Yes</td>\n",
       "      <td>Diesel</td>\n",
       "      <td>2</td>\n",
       "      <td>51258 km</td>\n",
       "      <td>4.0</td>\n",
       "      <td>Automatic</td>\n",
       "      <td>Front</td>\n",
       "      <td>04-May</td>\n",
       "      <td>Left wheel</td>\n",
       "      <td>Black</td>\n",
       "      <td>4</td>\n",
       "    </tr>\n",
       "    <tr>\n",
       "      <th>19236</th>\n",
       "      <td>45813273</td>\n",
       "      <td>470</td>\n",
       "      <td>753</td>\n",
       "      <td>HYUNDAI</td>\n",
       "      <td>Sonata</td>\n",
       "      <td>2012</td>\n",
       "      <td>Sedan</td>\n",
       "      <td>Yes</td>\n",
       "      <td>Hybrid</td>\n",
       "      <td>2.4</td>\n",
       "      <td>186923 km</td>\n",
       "      <td>4.0</td>\n",
       "      <td>Automatic</td>\n",
       "      <td>Front</td>\n",
       "      <td>04-May</td>\n",
       "      <td>Left wheel</td>\n",
       "      <td>White</td>\n",
       "      <td>12</td>\n",
       "    </tr>\n",
       "  </tbody>\n",
       "</table>\n",
       "</div>"
      ],
      "text/plain": [
       "             ID  Price  Levy   Manufacturer    Model  Prod. year Category  \\\n",
       "19232  45798355   8467     -  MERCEDES-BENZ  CLK 200        1999    Coupe   \n",
       "19233  45778856  15681   831        HYUNDAI   Sonata        2011    Sedan   \n",
       "19234  45804997  26108   836        HYUNDAI   Tucson        2010     Jeep   \n",
       "19235  45793526   5331  1288      CHEVROLET  Captiva        2007     Jeep   \n",
       "19236  45813273    470   753        HYUNDAI   Sonata        2012    Sedan   \n",
       "\n",
       "      Leather interior Fuel type Engine volume    Mileage  Cylinders  \\\n",
       "19232              Yes       CNG     2.0 Turbo  300000 km        4.0   \n",
       "19233              Yes    Petrol           2.4  161600 km        4.0   \n",
       "19234              Yes    Diesel             2  116365 km        4.0   \n",
       "19235              Yes    Diesel             2   51258 km        4.0   \n",
       "19236              Yes    Hybrid           2.4  186923 km        4.0   \n",
       "\n",
       "      Gear box type Drive wheels   Doors       Wheel   Color  Airbags  \n",
       "19232        Manual         Rear  02-Mar  Left wheel  Silver        5  \n",
       "19233     Tiptronic        Front  04-May  Left wheel     Red        8  \n",
       "19234     Automatic        Front  04-May  Left wheel    Grey        4  \n",
       "19235     Automatic        Front  04-May  Left wheel   Black        4  \n",
       "19236     Automatic        Front  04-May  Left wheel   White       12  "
      ]
     },
     "execution_count": 5,
     "metadata": {},
     "output_type": "execute_result"
    }
   ],
   "source": [
    "cars.tail()"
   ]
  },
  {
   "cell_type": "code",
   "execution_count": 6,
   "id": "cd622fe4",
   "metadata": {
    "execution": {
     "iopub.execute_input": "2024-09-10T11:58:30.689042Z",
     "iopub.status.busy": "2024-09-10T11:58:30.688623Z",
     "iopub.status.idle": "2024-09-10T11:58:30.742319Z",
     "shell.execute_reply": "2024-09-10T11:58:30.741123Z"
    },
    "papermill": {
     "duration": 0.079005,
     "end_time": "2024-09-10T11:58:30.745332",
     "exception": false,
     "start_time": "2024-09-10T11:58:30.666327",
     "status": "completed"
    },
    "tags": []
   },
   "outputs": [
    {
     "name": "stdout",
     "output_type": "stream",
     "text": [
      "<class 'pandas.core.frame.DataFrame'>\n",
      "RangeIndex: 19237 entries, 0 to 19236\n",
      "Data columns (total 18 columns):\n",
      " #   Column            Non-Null Count  Dtype  \n",
      "---  ------            --------------  -----  \n",
      " 0   ID                19237 non-null  int64  \n",
      " 1   Price             19237 non-null  int64  \n",
      " 2   Levy              19237 non-null  object \n",
      " 3   Manufacturer      19237 non-null  object \n",
      " 4   Model             19237 non-null  object \n",
      " 5   Prod. year        19237 non-null  int64  \n",
      " 6   Category          19237 non-null  object \n",
      " 7   Leather interior  19237 non-null  object \n",
      " 8   Fuel type         19237 non-null  object \n",
      " 9   Engine volume     19237 non-null  object \n",
      " 10  Mileage           19237 non-null  object \n",
      " 11  Cylinders         19237 non-null  float64\n",
      " 12  Gear box type     19237 non-null  object \n",
      " 13  Drive wheels      19237 non-null  object \n",
      " 14  Doors             19237 non-null  object \n",
      " 15  Wheel             19237 non-null  object \n",
      " 16  Color             19237 non-null  object \n",
      " 17  Airbags           19237 non-null  int64  \n",
      "dtypes: float64(1), int64(4), object(13)\n",
      "memory usage: 2.6+ MB\n"
     ]
    }
   ],
   "source": [
    "cars.info()"
   ]
  },
  {
   "cell_type": "code",
   "execution_count": 7,
   "id": "5738d8e7",
   "metadata": {
    "execution": {
     "iopub.execute_input": "2024-09-10T11:58:30.789517Z",
     "iopub.status.busy": "2024-09-10T11:58:30.789057Z",
     "iopub.status.idle": "2024-09-10T11:58:30.821195Z",
     "shell.execute_reply": "2024-09-10T11:58:30.820106Z"
    },
    "papermill": {
     "duration": 0.057216,
     "end_time": "2024-09-10T11:58:30.823844",
     "exception": false,
     "start_time": "2024-09-10T11:58:30.766628",
     "status": "completed"
    },
    "tags": []
   },
   "outputs": [
    {
     "data": {
      "text/html": [
       "<div>\n",
       "<style scoped>\n",
       "    .dataframe tbody tr th:only-of-type {\n",
       "        vertical-align: middle;\n",
       "    }\n",
       "\n",
       "    .dataframe tbody tr th {\n",
       "        vertical-align: top;\n",
       "    }\n",
       "\n",
       "    .dataframe thead th {\n",
       "        text-align: right;\n",
       "    }\n",
       "</style>\n",
       "<table border=\"1\" class=\"dataframe\">\n",
       "  <thead>\n",
       "    <tr style=\"text-align: right;\">\n",
       "      <th></th>\n",
       "      <th>ID</th>\n",
       "      <th>Price</th>\n",
       "      <th>Prod. year</th>\n",
       "      <th>Cylinders</th>\n",
       "      <th>Airbags</th>\n",
       "    </tr>\n",
       "  </thead>\n",
       "  <tbody>\n",
       "    <tr>\n",
       "      <th>count</th>\n",
       "      <td>1.923700e+04</td>\n",
       "      <td>1.923700e+04</td>\n",
       "      <td>19237.000000</td>\n",
       "      <td>19237.000000</td>\n",
       "      <td>19237.000000</td>\n",
       "    </tr>\n",
       "    <tr>\n",
       "      <th>mean</th>\n",
       "      <td>4.557654e+07</td>\n",
       "      <td>1.855593e+04</td>\n",
       "      <td>2010.912824</td>\n",
       "      <td>4.582991</td>\n",
       "      <td>6.582627</td>\n",
       "    </tr>\n",
       "    <tr>\n",
       "      <th>std</th>\n",
       "      <td>9.365914e+05</td>\n",
       "      <td>1.905813e+05</td>\n",
       "      <td>5.668673</td>\n",
       "      <td>1.199933</td>\n",
       "      <td>4.320168</td>\n",
       "    </tr>\n",
       "    <tr>\n",
       "      <th>min</th>\n",
       "      <td>2.074688e+07</td>\n",
       "      <td>1.000000e+00</td>\n",
       "      <td>1939.000000</td>\n",
       "      <td>1.000000</td>\n",
       "      <td>0.000000</td>\n",
       "    </tr>\n",
       "    <tr>\n",
       "      <th>25%</th>\n",
       "      <td>4.569837e+07</td>\n",
       "      <td>5.331000e+03</td>\n",
       "      <td>2009.000000</td>\n",
       "      <td>4.000000</td>\n",
       "      <td>4.000000</td>\n",
       "    </tr>\n",
       "    <tr>\n",
       "      <th>50%</th>\n",
       "      <td>4.577231e+07</td>\n",
       "      <td>1.317200e+04</td>\n",
       "      <td>2012.000000</td>\n",
       "      <td>4.000000</td>\n",
       "      <td>6.000000</td>\n",
       "    </tr>\n",
       "    <tr>\n",
       "      <th>75%</th>\n",
       "      <td>4.580204e+07</td>\n",
       "      <td>2.207500e+04</td>\n",
       "      <td>2015.000000</td>\n",
       "      <td>4.000000</td>\n",
       "      <td>12.000000</td>\n",
       "    </tr>\n",
       "    <tr>\n",
       "      <th>max</th>\n",
       "      <td>4.581665e+07</td>\n",
       "      <td>2.630750e+07</td>\n",
       "      <td>2020.000000</td>\n",
       "      <td>16.000000</td>\n",
       "      <td>16.000000</td>\n",
       "    </tr>\n",
       "  </tbody>\n",
       "</table>\n",
       "</div>"
      ],
      "text/plain": [
       "                 ID         Price    Prod. year     Cylinders       Airbags\n",
       "count  1.923700e+04  1.923700e+04  19237.000000  19237.000000  19237.000000\n",
       "mean   4.557654e+07  1.855593e+04   2010.912824      4.582991      6.582627\n",
       "std    9.365914e+05  1.905813e+05      5.668673      1.199933      4.320168\n",
       "min    2.074688e+07  1.000000e+00   1939.000000      1.000000      0.000000\n",
       "25%    4.569837e+07  5.331000e+03   2009.000000      4.000000      4.000000\n",
       "50%    4.577231e+07  1.317200e+04   2012.000000      4.000000      6.000000\n",
       "75%    4.580204e+07  2.207500e+04   2015.000000      4.000000     12.000000\n",
       "max    4.581665e+07  2.630750e+07   2020.000000     16.000000     16.000000"
      ]
     },
     "execution_count": 7,
     "metadata": {},
     "output_type": "execute_result"
    }
   ],
   "source": [
    "cars.describe()"
   ]
  },
  {
   "cell_type": "code",
   "execution_count": 8,
   "id": "6ecf0499",
   "metadata": {
    "execution": {
     "iopub.execute_input": "2024-09-10T11:58:30.871051Z",
     "iopub.status.busy": "2024-09-10T11:58:30.870615Z",
     "iopub.status.idle": "2024-09-10T11:58:30.906803Z",
     "shell.execute_reply": "2024-09-10T11:58:30.905621Z"
    },
    "papermill": {
     "duration": 0.0632,
     "end_time": "2024-09-10T11:58:30.909272",
     "exception": false,
     "start_time": "2024-09-10T11:58:30.846072",
     "status": "completed"
    },
    "tags": []
   },
   "outputs": [
    {
     "data": {
      "text/plain": [
       "ID                  0\n",
       "Price               0\n",
       "Levy                0\n",
       "Manufacturer        0\n",
       "Model               0\n",
       "Prod. year          0\n",
       "Category            0\n",
       "Leather interior    0\n",
       "Fuel type           0\n",
       "Engine volume       0\n",
       "Mileage             0\n",
       "Cylinders           0\n",
       "Gear box type       0\n",
       "Drive wheels        0\n",
       "Doors               0\n",
       "Wheel               0\n",
       "Color               0\n",
       "Airbags             0\n",
       "dtype: int64"
      ]
     },
     "execution_count": 8,
     "metadata": {},
     "output_type": "execute_result"
    }
   ],
   "source": [
    "cars.isna().sum()"
   ]
  },
  {
   "cell_type": "code",
   "execution_count": 9,
   "id": "7d3f8c0b",
   "metadata": {
    "execution": {
     "iopub.execute_input": "2024-09-10T11:58:30.955077Z",
     "iopub.status.busy": "2024-09-10T11:58:30.953780Z",
     "iopub.status.idle": "2024-09-10T11:58:30.982173Z",
     "shell.execute_reply": "2024-09-10T11:58:30.980730Z"
    },
    "papermill": {
     "duration": 0.054115,
     "end_time": "2024-09-10T11:58:30.984854",
     "exception": false,
     "start_time": "2024-09-10T11:58:30.930739",
     "status": "completed"
    },
    "tags": []
   },
   "outputs": [
    {
     "data": {
      "text/html": [
       "<div>\n",
       "<style scoped>\n",
       "    .dataframe tbody tr th:only-of-type {\n",
       "        vertical-align: middle;\n",
       "    }\n",
       "\n",
       "    .dataframe tbody tr th {\n",
       "        vertical-align: top;\n",
       "    }\n",
       "\n",
       "    .dataframe thead th {\n",
       "        text-align: right;\n",
       "    }\n",
       "</style>\n",
       "<table border=\"1\" class=\"dataframe\">\n",
       "  <thead>\n",
       "    <tr style=\"text-align: right;\">\n",
       "      <th></th>\n",
       "      <th>ID</th>\n",
       "      <th>Price</th>\n",
       "      <th>Levy</th>\n",
       "      <th>Manufacturer</th>\n",
       "      <th>Model</th>\n",
       "      <th>Prod. year</th>\n",
       "      <th>Category</th>\n",
       "      <th>Leather interior</th>\n",
       "      <th>Fuel type</th>\n",
       "      <th>Engine volume</th>\n",
       "      <th>Mileage</th>\n",
       "      <th>Cylinders</th>\n",
       "      <th>Gear box type</th>\n",
       "      <th>Drive wheels</th>\n",
       "      <th>Doors</th>\n",
       "      <th>Wheel</th>\n",
       "      <th>Color</th>\n",
       "      <th>Airbags</th>\n",
       "    </tr>\n",
       "  </thead>\n",
       "  <tbody>\n",
       "    <tr>\n",
       "      <th>17589</th>\n",
       "      <td>45731795</td>\n",
       "      <td>42102</td>\n",
       "      <td>1249</td>\n",
       "      <td>HYUNDAI</td>\n",
       "      <td>H1</td>\n",
       "      <td>2017</td>\n",
       "      <td>Universal</td>\n",
       "      <td>Yes</td>\n",
       "      <td>Diesel</td>\n",
       "      <td>2.5</td>\n",
       "      <td>110000 km</td>\n",
       "      <td>4.0</td>\n",
       "      <td>Automatic</td>\n",
       "      <td>Front</td>\n",
       "      <td>04-May</td>\n",
       "      <td>Left wheel</td>\n",
       "      <td>Grey</td>\n",
       "      <td>4</td>\n",
       "    </tr>\n",
       "    <tr>\n",
       "      <th>5016</th>\n",
       "      <td>44754850</td>\n",
       "      <td>11604</td>\n",
       "      <td>503</td>\n",
       "      <td>TOYOTA</td>\n",
       "      <td>Prius C</td>\n",
       "      <td>2012</td>\n",
       "      <td>Hatchback</td>\n",
       "      <td>No</td>\n",
       "      <td>Hybrid</td>\n",
       "      <td>1.5</td>\n",
       "      <td>0 km</td>\n",
       "      <td>4.0</td>\n",
       "      <td>Automatic</td>\n",
       "      <td>Front</td>\n",
       "      <td>04-May</td>\n",
       "      <td>Left wheel</td>\n",
       "      <td>White</td>\n",
       "      <td>12</td>\n",
       "    </tr>\n",
       "    <tr>\n",
       "      <th>16874</th>\n",
       "      <td>45792221</td>\n",
       "      <td>27441</td>\n",
       "      <td>1016</td>\n",
       "      <td>KIA</td>\n",
       "      <td>Optima</td>\n",
       "      <td>2017</td>\n",
       "      <td>Sedan</td>\n",
       "      <td>Yes</td>\n",
       "      <td>Petrol</td>\n",
       "      <td>2</td>\n",
       "      <td>30087 km</td>\n",
       "      <td>4.0</td>\n",
       "      <td>Automatic</td>\n",
       "      <td>Front</td>\n",
       "      <td>04-May</td>\n",
       "      <td>Left wheel</td>\n",
       "      <td>Black</td>\n",
       "      <td>4</td>\n",
       "    </tr>\n",
       "    <tr>\n",
       "      <th>15462</th>\n",
       "      <td>45760086</td>\n",
       "      <td>34811</td>\n",
       "      <td>-</td>\n",
       "      <td>JEEP</td>\n",
       "      <td>Renegade</td>\n",
       "      <td>2016</td>\n",
       "      <td>Jeep</td>\n",
       "      <td>No</td>\n",
       "      <td>Petrol</td>\n",
       "      <td>2.4</td>\n",
       "      <td>53700 km</td>\n",
       "      <td>4.0</td>\n",
       "      <td>Tiptronic</td>\n",
       "      <td>4x4</td>\n",
       "      <td>04-May</td>\n",
       "      <td>Left wheel</td>\n",
       "      <td>Beige</td>\n",
       "      <td>12</td>\n",
       "    </tr>\n",
       "    <tr>\n",
       "      <th>17765</th>\n",
       "      <td>45803938</td>\n",
       "      <td>11563</td>\n",
       "      <td>836</td>\n",
       "      <td>HYUNDAI</td>\n",
       "      <td>Tucson</td>\n",
       "      <td>2010</td>\n",
       "      <td>Jeep</td>\n",
       "      <td>Yes</td>\n",
       "      <td>Diesel</td>\n",
       "      <td>2</td>\n",
       "      <td>114000 km</td>\n",
       "      <td>4.0</td>\n",
       "      <td>Automatic</td>\n",
       "      <td>Front</td>\n",
       "      <td>04-May</td>\n",
       "      <td>Left wheel</td>\n",
       "      <td>Silver</td>\n",
       "      <td>4</td>\n",
       "    </tr>\n",
       "  </tbody>\n",
       "</table>\n",
       "</div>"
      ],
      "text/plain": [
       "             ID  Price  Levy Manufacturer     Model  Prod. year   Category  \\\n",
       "17589  45731795  42102  1249      HYUNDAI        H1        2017  Universal   \n",
       "5016   44754850  11604   503       TOYOTA   Prius C        2012  Hatchback   \n",
       "16874  45792221  27441  1016          KIA    Optima        2017      Sedan   \n",
       "15462  45760086  34811     -         JEEP  Renegade        2016       Jeep   \n",
       "17765  45803938  11563   836      HYUNDAI    Tucson        2010       Jeep   \n",
       "\n",
       "      Leather interior Fuel type Engine volume    Mileage  Cylinders  \\\n",
       "17589              Yes    Diesel           2.5  110000 km        4.0   \n",
       "5016                No    Hybrid           1.5       0 km        4.0   \n",
       "16874              Yes    Petrol             2   30087 km        4.0   \n",
       "15462               No    Petrol           2.4   53700 km        4.0   \n",
       "17765              Yes    Diesel             2  114000 km        4.0   \n",
       "\n",
       "      Gear box type Drive wheels   Doors       Wheel   Color  Airbags  \n",
       "17589     Automatic        Front  04-May  Left wheel    Grey        4  \n",
       "5016      Automatic        Front  04-May  Left wheel   White       12  \n",
       "16874     Automatic        Front  04-May  Left wheel   Black        4  \n",
       "15462     Tiptronic          4x4  04-May  Left wheel   Beige       12  \n",
       "17765     Automatic        Front  04-May  Left wheel  Silver        4  "
      ]
     },
     "execution_count": 9,
     "metadata": {},
     "output_type": "execute_result"
    }
   ],
   "source": [
    "cars.sample(5)"
   ]
  },
  {
   "cell_type": "code",
   "execution_count": 10,
   "id": "3455989f",
   "metadata": {
    "execution": {
     "iopub.execute_input": "2024-09-10T11:58:31.030460Z",
     "iopub.status.busy": "2024-09-10T11:58:31.029749Z",
     "iopub.status.idle": "2024-09-10T11:58:31.069249Z",
     "shell.execute_reply": "2024-09-10T11:58:31.068117Z"
    },
    "papermill": {
     "duration": 0.065315,
     "end_time": "2024-09-10T11:58:31.072000",
     "exception": false,
     "start_time": "2024-09-10T11:58:31.006685",
     "status": "completed"
    },
    "tags": []
   },
   "outputs": [
    {
     "data": {
      "text/plain": [
       "313"
      ]
     },
     "execution_count": 10,
     "metadata": {},
     "output_type": "execute_result"
    }
   ],
   "source": [
    "cars.duplicated().sum()"
   ]
  },
  {
   "cell_type": "code",
   "execution_count": 11,
   "id": "e6ef1fb2",
   "metadata": {
    "execution": {
     "iopub.execute_input": "2024-09-10T11:58:31.119618Z",
     "iopub.status.busy": "2024-09-10T11:58:31.118515Z",
     "iopub.status.idle": "2024-09-10T11:58:31.158586Z",
     "shell.execute_reply": "2024-09-10T11:58:31.157399Z"
    },
    "papermill": {
     "duration": 0.066617,
     "end_time": "2024-09-10T11:58:31.161264",
     "exception": false,
     "start_time": "2024-09-10T11:58:31.094647",
     "status": "completed"
    },
    "tags": []
   },
   "outputs": [],
   "source": [
    "cars.drop_duplicates(inplace=True)"
   ]
  },
  {
   "cell_type": "code",
   "execution_count": 12,
   "id": "c1923139",
   "metadata": {
    "execution": {
     "iopub.execute_input": "2024-09-10T11:58:31.207912Z",
     "iopub.status.busy": "2024-09-10T11:58:31.207011Z",
     "iopub.status.idle": "2024-09-10T11:58:31.245581Z",
     "shell.execute_reply": "2024-09-10T11:58:31.244391Z"
    },
    "papermill": {
     "duration": 0.064992,
     "end_time": "2024-09-10T11:58:31.248032",
     "exception": false,
     "start_time": "2024-09-10T11:58:31.183040",
     "status": "completed"
    },
    "tags": []
   },
   "outputs": [
    {
     "data": {
      "text/plain": [
       "0"
      ]
     },
     "execution_count": 12,
     "metadata": {},
     "output_type": "execute_result"
    }
   ],
   "source": [
    "cars.duplicated().sum()"
   ]
  },
  {
   "cell_type": "code",
   "execution_count": 13,
   "id": "c7e91961",
   "metadata": {
    "execution": {
     "iopub.execute_input": "2024-09-10T11:58:31.295027Z",
     "iopub.status.busy": "2024-09-10T11:58:31.294200Z",
     "iopub.status.idle": "2024-09-10T11:58:31.301413Z",
     "shell.execute_reply": "2024-09-10T11:58:31.300364Z"
    },
    "papermill": {
     "duration": 0.032933,
     "end_time": "2024-09-10T11:58:31.303719",
     "exception": false,
     "start_time": "2024-09-10T11:58:31.270786",
     "status": "completed"
    },
    "tags": []
   },
   "outputs": [
    {
     "data": {
      "text/plain": [
       "(18924, 18)"
      ]
     },
     "execution_count": 13,
     "metadata": {},
     "output_type": "execute_result"
    }
   ],
   "source": [
    "cars.shape"
   ]
  },
  {
   "cell_type": "code",
   "execution_count": null,
   "id": "a0875a2d",
   "metadata": {
    "papermill": {
     "duration": 0.022325,
     "end_time": "2024-09-10T11:58:31.348035",
     "exception": false,
     "start_time": "2024-09-10T11:58:31.325710",
     "status": "completed"
    },
    "tags": []
   },
   "outputs": [],
   "source": []
  },
  {
   "cell_type": "markdown",
   "id": "84c98585",
   "metadata": {
    "papermill": {
     "duration": 0.021662,
     "end_time": "2024-09-10T11:58:31.393052",
     "exception": false,
     "start_time": "2024-09-10T11:58:31.371390",
     "status": "completed"
    },
    "tags": []
   },
   "source": [
    "# Data Analysis and Visualization"
   ]
  },
  {
   "cell_type": "code",
   "execution_count": 14,
   "id": "76331862",
   "metadata": {
    "execution": {
     "iopub.execute_input": "2024-09-10T11:58:31.439633Z",
     "iopub.status.busy": "2024-09-10T11:58:31.438606Z",
     "iopub.status.idle": "2024-09-10T11:58:31.448089Z",
     "shell.execute_reply": "2024-09-10T11:58:31.446960Z"
    },
    "papermill": {
     "duration": 0.0354,
     "end_time": "2024-09-10T11:58:31.450586",
     "exception": false,
     "start_time": "2024-09-10T11:58:31.415186",
     "status": "completed"
    },
    "tags": []
   },
   "outputs": [
    {
     "data": {
      "text/plain": [
       "array(['LEXUS', 'CHEVROLET', 'HONDA', 'FORD', 'HYUNDAI', 'TOYOTA',\n",
       "       'MERCEDES-BENZ', 'OPEL', 'PORSCHE', 'BMW', 'JEEP', 'VOLKSWAGEN',\n",
       "       'AUDI', 'RENAULT', 'NISSAN', 'SUBARU', 'DAEWOO', 'KIA',\n",
       "       'MITSUBISHI', 'SSANGYONG', 'MAZDA', 'GMC', 'FIAT', 'INFINITI',\n",
       "       'ALFA ROMEO', 'SUZUKI', 'ACURA', 'LINCOLN', 'VAZ', 'GAZ',\n",
       "       'CITROEN', 'LAND ROVER', 'MINI', 'DODGE', 'CHRYSLER', 'JAGUAR',\n",
       "       'ISUZU', 'SKODA', 'DAIHATSU', 'BUICK', 'TESLA', 'CADILLAC',\n",
       "       'PEUGEOT', 'BENTLEY', 'VOLVO', 'სხვა', 'HAVAL', 'HUMMER', 'SCION',\n",
       "       'UAZ', 'MERCURY', 'ZAZ', 'ROVER', 'SEAT', 'LANCIA', 'MOSKVICH',\n",
       "       'MASERATI', 'FERRARI', 'SAAB', 'LAMBORGHINI', 'ROLLS-ROYCE',\n",
       "       'PONTIAC', 'SATURN', 'ASTON MARTIN', 'GREATWALL'], dtype=object)"
      ]
     },
     "execution_count": 14,
     "metadata": {},
     "output_type": "execute_result"
    }
   ],
   "source": [
    "cars['Manufacturer'].unique()"
   ]
  },
  {
   "cell_type": "code",
   "execution_count": 15,
   "id": "d7df783e",
   "metadata": {
    "execution": {
     "iopub.execute_input": "2024-09-10T11:58:31.498633Z",
     "iopub.status.busy": "2024-09-10T11:58:31.498040Z",
     "iopub.status.idle": "2024-09-10T11:58:31.536555Z",
     "shell.execute_reply": "2024-09-10T11:58:31.534774Z"
    },
    "papermill": {
     "duration": 0.065594,
     "end_time": "2024-09-10T11:58:31.539267",
     "exception": false,
     "start_time": "2024-09-10T11:58:31.473673",
     "status": "completed"
    },
    "tags": []
   },
   "outputs": [
    {
     "name": "stdout",
     "output_type": "stream",
     "text": [
      "ID : 18924\n",
      "Price : 2315\n",
      "Levy : 559\n",
      "Manufacturer : 65\n",
      "Model : 1590\n",
      "Prod. year : 54\n",
      "Category : 11\n",
      "Leather interior : 2\n",
      "Fuel type : 7\n",
      "Engine volume : 107\n",
      "Mileage : 7687\n",
      "Cylinders : 13\n",
      "Gear box type : 4\n",
      "Drive wheels : 3\n",
      "Doors : 3\n",
      "Wheel : 2\n",
      "Color : 16\n",
      "Airbags : 17\n"
     ]
    }
   ],
   "source": [
    "for i in cars.columns:\n",
    "    print(i,':',cars[i].nunique())"
   ]
  },
  {
   "cell_type": "code",
   "execution_count": 16,
   "id": "30db8f5e",
   "metadata": {
    "execution": {
     "iopub.execute_input": "2024-09-10T11:58:31.587138Z",
     "iopub.status.busy": "2024-09-10T11:58:31.586684Z",
     "iopub.status.idle": "2024-09-10T11:58:32.947818Z",
     "shell.execute_reply": "2024-09-10T11:58:32.946543Z"
    },
    "papermill": {
     "duration": 1.388714,
     "end_time": "2024-09-10T11:58:32.950857",
     "exception": false,
     "start_time": "2024-09-10T11:58:31.562143",
     "status": "completed"
    },
    "tags": []
   },
   "outputs": [
    {
     "data": {
      "image/png": "[encoded data removed]",
      "text/plain": [
       "<Figure size 2000x1200 with 6 Axes>"
      ]
     },
     "metadata": {},
     "output_type": "display_data"
    }
   ],
   "source": [
    "cars.hist(figsize=(20,12))\n",
    "plt.show()"
   ]
  },
  {
   "cell_type": "code",
   "execution_count": 17,
   "id": "d9b5d255",
   "metadata": {
    "execution": {
     "iopub.execute_input": "2024-09-10T11:58:33.003164Z",
     "iopub.status.busy": "2024-09-10T11:58:33.002709Z",
     "iopub.status.idle": "2024-09-10T11:58:33.012419Z",
     "shell.execute_reply": "2024-09-10T11:58:33.010972Z"
    },
    "papermill": {
     "duration": 0.038009,
     "end_time": "2024-09-10T11:58:33.015014",
     "exception": false,
     "start_time": "2024-09-10T11:58:32.977005",
     "status": "completed"
    },
    "tags": []
   },
   "outputs": [],
   "source": [
    "topcars=cars['Manufacturer'].value_counts().head(10)"
   ]
  },
  {
   "cell_type": "code",
   "execution_count": 18,
   "id": "e5669bee",
   "metadata": {
    "execution": {
     "iopub.execute_input": "2024-09-10T11:58:33.064298Z",
     "iopub.status.busy": "2024-09-10T11:58:33.063866Z",
     "iopub.status.idle": "2024-09-10T11:58:33.073085Z",
     "shell.execute_reply": "2024-09-10T11:58:33.071930Z"
    },
    "papermill": {
     "duration": 0.036546,
     "end_time": "2024-09-10T11:58:33.075483",
     "exception": false,
     "start_time": "2024-09-10T11:58:33.038937",
     "status": "completed"
    },
    "tags": []
   },
   "outputs": [
    {
     "data": {
      "text/plain": [
       "Manufacturer\n",
       "HYUNDAI          3729\n",
       "TOYOTA           3606\n",
       "MERCEDES-BENZ    2043\n",
       "FORD             1088\n",
       "CHEVROLET        1047\n",
       "BMW              1036\n",
       "HONDA             960\n",
       "LEXUS             927\n",
       "NISSAN            645\n",
       "VOLKSWAGEN        571\n",
       "Name: count, dtype: int64"
      ]
     },
     "execution_count": 18,
     "metadata": {},
     "output_type": "execute_result"
    }
   ],
   "source": [
    "topcars"
   ]
  },
  {
   "cell_type": "code",
   "execution_count": 19,
   "id": "4ce6e9ad",
   "metadata": {
    "execution": {
     "iopub.execute_input": "2024-09-10T11:58:33.125320Z",
     "iopub.status.busy": "2024-09-10T11:58:33.124834Z",
     "iopub.status.idle": "2024-09-10T11:58:33.139433Z",
     "shell.execute_reply": "2024-09-10T11:58:33.138107Z"
    },
    "papermill": {
     "duration": 0.042523,
     "end_time": "2024-09-10T11:58:33.142001",
     "exception": false,
     "start_time": "2024-09-10T11:58:33.099478",
     "status": "completed"
    },
    "tags": []
   },
   "outputs": [
    {
     "data": {
      "text/plain": [
       "Manufacturer\n",
       "GREATWALL       1\n",
       "LANCIA          1\n",
       "HAVAL           1\n",
       "LAMBORGHINI     1\n",
       "ASTON MARTIN    1\n",
       "PONTIAC         1\n",
       "SATURN          1\n",
       "TESLA           1\n",
       "BENTLEY         2\n",
       "ZAZ             2\n",
       "Name: count, dtype: int64"
      ]
     },
     "execution_count": 19,
     "metadata": {},
     "output_type": "execute_result"
    }
   ],
   "source": [
    "cars['Manufacturer'].value_counts().sort_values(ascending=True).head(10)"
   ]
  },
  {
   "cell_type": "code",
   "execution_count": 20,
   "id": "9ce47104",
   "metadata": {
    "execution": {
     "iopub.execute_input": "2024-09-10T11:58:33.192438Z",
     "iopub.status.busy": "2024-09-10T11:58:33.191979Z",
     "iopub.status.idle": "2024-09-10T11:58:33.516130Z",
     "shell.execute_reply": "2024-09-10T11:58:33.514939Z"
    },
    "papermill": {
     "duration": 0.352528,
     "end_time": "2024-09-10T11:58:33.518843",
     "exception": false,
     "start_time": "2024-09-10T11:58:33.166315",
     "status": "completed"
    },
    "tags": []
   },
   "outputs": [
    {
     "data": {
      "text/plain": [
       "<Axes: xlabel='Manufacturer'>"
      ]
     },
     "execution_count": 20,
     "metadata": {},
     "output_type": "execute_result"
    },
    {
     "data": {
      "image/png": "[encoded data removed]",
      "text/plain": [
       "<Figure size 640x480 with 1 Axes>"
      ]
     },
     "metadata": {},
     "output_type": "display_data"
    }
   ],
   "source": [
    "topcars.plot(kind='bar')"
   ]
  },
  {
   "cell_type": "code",
   "execution_count": 21,
   "id": "87abbd1c",
   "metadata": {
    "execution": {
     "iopub.execute_input": "2024-09-10T11:58:33.572730Z",
     "iopub.status.busy": "2024-09-10T11:58:33.572169Z",
     "iopub.status.idle": "2024-09-10T11:58:33.975538Z",
     "shell.execute_reply": "2024-09-10T11:58:33.974194Z"
    },
    "papermill": {
     "duration": 0.436617,
     "end_time": "2024-09-10T11:58:33.981008",
     "exception": false,
     "start_time": "2024-09-10T11:58:33.544391",
     "status": "completed"
    },
    "tags": []
   },
   "outputs": [
    {
     "data": {
      "text/plain": [
       "<Axes: xlabel='Manufacturer'>"
      ]
     },
     "execution_count": 21,
     "metadata": {},
     "output_type": "execute_result"
    },
    {
     "data": {
      "image/png": "[encoded data removed]",
      "text/plain": [
       "<Figure size 640x480 with 1 Axes>"
      ]
     },
     "metadata": {},
     "output_type": "display_data"
    }
   ],
   "source": [
    "cars['Manufacturer'].value_counts().sort_values(ascending=True).head(10).plot(kind='bar')"
   ]
  },
  {
   "cell_type": "code",
   "execution_count": 22,
   "id": "c71b2328",
   "metadata": {
    "execution": {
     "iopub.execute_input": "2024-09-10T11:58:34.053259Z",
     "iopub.status.busy": "2024-09-10T11:58:34.052786Z",
     "iopub.status.idle": "2024-09-10T11:58:34.109056Z",
     "shell.execute_reply": "2024-09-10T11:58:34.107980Z"
    },
    "papermill": {
     "duration": 0.092666,
     "end_time": "2024-09-10T11:58:34.111933",
     "exception": false,
     "start_time": "2024-09-10T11:58:34.019267",
     "status": "completed"
    },
    "tags": []
   },
   "outputs": [],
   "source": [
    "toppricemean=[cars[cars['Manufacturer']==i]['Price'].mean() for i in list (topcars.index)]"
   ]
  },
  {
   "cell_type": "code",
   "execution_count": 23,
   "id": "3f3abc5d",
   "metadata": {
    "execution": {
     "iopub.execute_input": "2024-09-10T11:58:34.164647Z",
     "iopub.status.busy": "2024-09-10T11:58:34.164140Z",
     "iopub.status.idle": "2024-09-10T11:58:34.171778Z",
     "shell.execute_reply": "2024-09-10T11:58:34.170522Z"
    },
    "papermill": {
     "duration": 0.037034,
     "end_time": "2024-09-10T11:58:34.174429",
     "exception": false,
     "start_time": "2024-09-10T11:58:34.137395",
     "status": "completed"
    },
    "tags": []
   },
   "outputs": [
    {
     "data": {
      "text/plain": [
       "[22306.00080450523,\n",
       " 14302.447864669994,\n",
       " 18590.331375428294,\n",
       " 15411.85018382353,\n",
       " 14894.873925501433,\n",
       " 20609.468146718147,\n",
       " 14162.073958333332,\n",
       " 20052.594390507013,\n",
       " 9835.84031007752,\n",
       " 11471.77408056042]"
      ]
     },
     "execution_count": 23,
     "metadata": {},
     "output_type": "execute_result"
    }
   ],
   "source": [
    "toppricemean"
   ]
  },
  {
   "cell_type": "code",
   "execution_count": 24,
   "id": "d7c87eec",
   "metadata": {
    "execution": {
     "iopub.execute_input": "2024-09-10T11:58:34.236125Z",
     "iopub.status.busy": "2024-09-10T11:58:34.235279Z",
     "iopub.status.idle": "2024-09-10T11:58:34.659113Z",
     "shell.execute_reply": "2024-09-10T11:58:34.657809Z"
    },
    "papermill": {
     "duration": 0.458612,
     "end_time": "2024-09-10T11:58:34.661756",
     "exception": false,
     "start_time": "2024-09-10T11:58:34.203144",
     "status": "completed"
    },
    "tags": []
   },
   "outputs": [
    {
     "data": {
      "image/png": "[encoded data removed]",
      "text/plain": [
       "<Figure size 1500x1000 with 1 Axes>"
      ]
     },
     "metadata": {},
     "output_type": "display_data"
    }
   ],
   "source": [
    "plt.figure(figsize=(15, 10))\n",
    "plt.plot(topcars.index, toppricemean, color='blue')  \n",
    "plt.title('Top Cars by Average Price', loc='center', fontweight='bold', fontsize=18)\n",
    "plt.ylabel('Average Price')\n",
    "plt.xlabel('Manufacturer')\n",
    "plt.xticks(rotation=90)  \n",
    "plt.tight_layout()\n",
    "plt.show()"
   ]
  },
  {
   "cell_type": "code",
   "execution_count": 25,
   "id": "0be634dc",
   "metadata": {
    "execution": {
     "iopub.execute_input": "2024-09-10T11:58:34.721585Z",
     "iopub.status.busy": "2024-09-10T11:58:34.721080Z",
     "iopub.status.idle": "2024-09-10T11:58:34.728691Z",
     "shell.execute_reply": "2024-09-10T11:58:34.727558Z"
    },
    "papermill": {
     "duration": 0.038865,
     "end_time": "2024-09-10T11:58:34.731230",
     "exception": false,
     "start_time": "2024-09-10T11:58:34.692365",
     "status": "completed"
    },
    "tags": []
   },
   "outputs": [],
   "source": [
    "ob=cars.select_dtypes(include='object')"
   ]
  },
  {
   "cell_type": "code",
   "execution_count": 26,
   "id": "ed822acf",
   "metadata": {
    "execution": {
     "iopub.execute_input": "2024-09-10T11:58:34.788186Z",
     "iopub.status.busy": "2024-09-10T11:58:34.787754Z",
     "iopub.status.idle": "2024-09-10T11:58:39.421768Z",
     "shell.execute_reply": "2024-09-10T11:58:39.420589Z"
    },
    "papermill": {
     "duration": 4.665519,
     "end_time": "2024-09-10T11:58:39.424609",
     "exception": false,
     "start_time": "2024-09-10T11:58:34.759090",
     "status": "completed"
    },
    "tags": []
   },
   "outputs": [
    {
     "data": {
      "image/png": "[encoded data removed]",
      "text/plain": [
       "<Figure size 2000x1200 with 1 Axes>"
      ]
     },
     "metadata": {},
     "output_type": "display_data"
    },
    {
     "data": {
      "image/png": "[encoded data removed]",
      "text/plain": [
       "<Figure size 2000x1200 with 1 Axes>"
      ]
     },
     "metadata": {},
     "output_type": "display_data"
    },
    {
     "data": {
      "image/png": "[encoded data removed]",
      "text/plain": [
       "<Figure size 2000x1200 with 1 Axes>"
      ]
     },
     "metadata": {},
     "output_type": "display_data"
    },
    {
     "data": {
      "image/png": "[encoded data removed]",
      "text/plain": [
       "<Figure size 2000x1200 with 1 Axes>"
      ]
     },
     "metadata": {},
     "output_type": "display_data"
    },
    {
     "data": {
      "image/png": "[encoded data removed]",
      "text/plain": [
       "<Figure size 2000x1200 with 1 Axes>"
      ]
     },
     "metadata": {},
     "output_type": "display_data"
    },
    {
     "data": {
      "image/png": "[encoded data removed]",
      "text/plain": [
       "<Figure size 2000x1200 with 1 Axes>"
      ]
     },
     "metadata": {},
     "output_type": "display_data"
    },
    {
     "data": {
      "image/png": "[encoded data removed]",
      "text/plain": [
       "<Figure size 2000x1200 with 1 Axes>"
      ]
     },
     "metadata": {},
     "output_type": "display_data"
    },
    {
     "data": {
      "image/png": "[encoded data removed]",
      "text/plain": [
       "<Figure size 2000x1200 with 1 Axes>"
      ]
     },
     "metadata": {},
     "output_type": "display_data"
    },
    {
     "data": {
      "image/png": "[encoded data removed]",
      "text/plain": [
       "<Figure size 2000x1200 with 1 Axes>"
      ]
     },
     "metadata": {},
     "output_type": "display_data"
    },
    {
     "data": {
      "image/png": "[encoded data removed]",
      "text/plain": [
       "<Figure size 2000x1200 with 1 Axes>"
      ]
     },
     "metadata": {},
     "output_type": "display_data"
    },
    {
     "data": {
      "image/png": "[encoded data removed]",
      "text/plain": [
       "<Figure size 2000x1200 with 1 Axes>"
      ]
     },
     "metadata": {},
     "output_type": "display_data"
    },
    {
     "data": {
      "image/png": "[encoded data removed]",
      "text/plain": [
       "<Figure size 2000x1200 with 1 Axes>"
      ]
     },
     "metadata": {},
     "output_type": "display_data"
    },
    {
     "data": {
      "image/png": "[encoded data removed]",
      "text/plain": [
       "<Figure size 2000x1200 with 1 Axes>"
      ]
     },
     "metadata": {},
     "output_type": "display_data"
    }
   ],
   "source": [
    "for i in ob:\n",
    "    plt.figure(figsize=(20,12))\n",
    "    top=cars[i].value_counts()[:10]\n",
    "    color=['red','green','yellow','blue']\n",
    "    top.plot(kind='bar',color=color)\n",
    "    plt.title('top ten'+' '+i)\n",
    "    plt.show()"
   ]
  },
  {
   "cell_type": "markdown",
   "id": "a023b314",
   "metadata": {
    "papermill": {
     "duration": 0.036373,
     "end_time": "2024-09-10T11:58:39.497245",
     "exception": false,
     "start_time": "2024-09-10T11:58:39.460872",
     "status": "completed"
    },
    "tags": []
   },
   "source": [
    "# Preprocessing"
   ]
  },
  {
   "cell_type": "code",
   "execution_count": 27,
   "id": "02097bdb",
   "metadata": {
    "execution": {
     "iopub.execute_input": "2024-09-10T11:58:39.569777Z",
     "iopub.status.busy": "2024-09-10T11:58:39.569301Z",
     "iopub.status.idle": "2024-09-10T11:58:39.577144Z",
     "shell.execute_reply": "2024-09-10T11:58:39.576005Z"
    },
    "papermill": {
     "duration": 0.046793,
     "end_time": "2024-09-10T11:58:39.579632",
     "exception": false,
     "start_time": "2024-09-10T11:58:39.532839",
     "status": "completed"
    },
    "tags": []
   },
   "outputs": [
    {
     "data": {
      "text/plain": [
       "datetime.datetime(2024, 9, 10, 11, 58, 39, 571124)"
      ]
     },
     "execution_count": 27,
     "metadata": {},
     "output_type": "execute_result"
    }
   ],
   "source": [
    "import datetime\n",
    "dtime=datetime.datetime.now()\n",
    "dtime"
   ]
  },
  {
   "cell_type": "code",
   "execution_count": 28,
   "id": "59a0e288",
   "metadata": {
    "execution": {
     "iopub.execute_input": "2024-09-10T11:58:39.651942Z",
     "iopub.status.busy": "2024-09-10T11:58:39.651439Z",
     "iopub.status.idle": "2024-09-10T11:58:39.658384Z",
     "shell.execute_reply": "2024-09-10T11:58:39.657309Z"
    },
    "papermill": {
     "duration": 0.046021,
     "end_time": "2024-09-10T11:58:39.660819",
     "exception": false,
     "start_time": "2024-09-10T11:58:39.614798",
     "status": "completed"
    },
    "tags": []
   },
   "outputs": [],
   "source": [
    "cars['Age']=dtime.year-cars['Prod. year']"
   ]
  },
  {
   "cell_type": "code",
   "execution_count": 29,
   "id": "d41ca9bf",
   "metadata": {
    "execution": {
     "iopub.execute_input": "2024-09-10T11:58:39.733381Z",
     "iopub.status.busy": "2024-09-10T11:58:39.732915Z",
     "iopub.status.idle": "2024-09-10T11:58:39.743506Z",
     "shell.execute_reply": "2024-09-10T11:58:39.742549Z"
    },
    "papermill": {
     "duration": 0.049942,
     "end_time": "2024-09-10T11:58:39.745927",
     "exception": false,
     "start_time": "2024-09-10T11:58:39.695985",
     "status": "completed"
    },
    "tags": []
   },
   "outputs": [],
   "source": [
    "cars.drop(['ID','Doors'],axis=1,inplace = True)"
   ]
  },
  {
   "cell_type": "code",
   "execution_count": 30,
   "id": "740cb98d",
   "metadata": {
    "execution": {
     "iopub.execute_input": "2024-09-10T11:58:39.873437Z",
     "iopub.status.busy": "2024-09-10T11:58:39.872980Z",
     "iopub.status.idle": "2024-09-10T11:58:39.901308Z",
     "shell.execute_reply": "2024-09-10T11:58:39.899942Z"
    },
    "papermill": {
     "duration": 0.121992,
     "end_time": "2024-09-10T11:58:39.904013",
     "exception": false,
     "start_time": "2024-09-10T11:58:39.782021",
     "status": "completed"
    },
    "tags": []
   },
   "outputs": [],
   "source": [
    "cars['Mileage'] =cars['Mileage'].str.replace('km',\"\")\n",
    "cars['Mileage'] = cars['Mileage'].astype('Int64')"
   ]
  },
  {
   "cell_type": "code",
   "execution_count": 31,
   "id": "bc50e7ce",
   "metadata": {
    "execution": {
     "iopub.execute_input": "2024-09-10T11:58:39.976741Z",
     "iopub.status.busy": "2024-09-10T11:58:39.976275Z",
     "iopub.status.idle": "2024-09-10T11:58:39.996708Z",
     "shell.execute_reply": "2024-09-10T11:58:39.995162Z"
    },
    "papermill": {
     "duration": 0.059519,
     "end_time": "2024-09-10T11:58:39.999173",
     "exception": false,
     "start_time": "2024-09-10T11:58:39.939654",
     "status": "completed"
    },
    "tags": []
   },
   "outputs": [],
   "source": [
    "cars['Levy'] = cars['Levy'].str.replace('-', '0')\n",
    "cars['Levy'] = cars['Levy'].astype(float)"
   ]
  },
  {
   "cell_type": "code",
   "execution_count": 32,
   "id": "3483a2b3",
   "metadata": {
    "execution": {
     "iopub.execute_input": "2024-09-10T11:58:40.072371Z",
     "iopub.status.busy": "2024-09-10T11:58:40.071899Z",
     "iopub.status.idle": "2024-09-10T11:58:40.092615Z",
     "shell.execute_reply": "2024-09-10T11:58:40.091388Z"
    },
    "papermill": {
     "duration": 0.060312,
     "end_time": "2024-09-10T11:58:40.095211",
     "exception": false,
     "start_time": "2024-09-10T11:58:40.034899",
     "status": "completed"
    },
    "tags": []
   },
   "outputs": [],
   "source": [
    "cars['Engine volume'] = cars['Engine volume'].str.replace('Turbo','')\n",
    "cars['Engine volume'] = cars['Engine volume'].astype('float64')"
   ]
  },
  {
   "cell_type": "code",
   "execution_count": 33,
   "id": "515030eb",
   "metadata": {
    "execution": {
     "iopub.execute_input": "2024-09-10T11:58:40.167643Z",
     "iopub.status.busy": "2024-09-10T11:58:40.167162Z",
     "iopub.status.idle": "2024-09-10T11:58:40.199782Z",
     "shell.execute_reply": "2024-09-10T11:58:40.198324Z"
    },
    "papermill": {
     "duration": 0.072056,
     "end_time": "2024-09-10T11:58:40.202650",
     "exception": false,
     "start_time": "2024-09-10T11:58:40.130594",
     "status": "completed"
    },
    "tags": []
   },
   "outputs": [
    {
     "name": "stdout",
     "output_type": "stream",
     "text": [
      "<class 'pandas.core.frame.DataFrame'>\n",
      "Index: 18924 entries, 0 to 19236\n",
      "Data columns (total 17 columns):\n",
      " #   Column            Non-Null Count  Dtype  \n",
      "---  ------            --------------  -----  \n",
      " 0   Price             18924 non-null  int64  \n",
      " 1   Levy              18924 non-null  float64\n",
      " 2   Manufacturer      18924 non-null  object \n",
      " 3   Model             18924 non-null  object \n",
      " 4   Prod. year        18924 non-null  int64  \n",
      " 5   Category          18924 non-null  object \n",
      " 6   Leather interior  18924 non-null  object \n",
      " 7   Fuel type         18924 non-null  object \n",
      " 8   Engine volume     18924 non-null  float64\n",
      " 9   Mileage           18924 non-null  Int64  \n",
      " 10  Cylinders         18924 non-null  float64\n",
      " 11  Gear box type     18924 non-null  object \n",
      " 12  Drive wheels      18924 non-null  object \n",
      " 13  Wheel             18924 non-null  object \n",
      " 14  Color             18924 non-null  object \n",
      " 15  Airbags           18924 non-null  int64  \n",
      " 16  Age               18924 non-null  int64  \n",
      "dtypes: Int64(1), float64(3), int64(4), object(9)\n",
      "memory usage: 2.6+ MB\n"
     ]
    }
   ],
   "source": [
    "cars.info()"
   ]
  },
  {
   "cell_type": "code",
   "execution_count": 34,
   "id": "d03cc94c",
   "metadata": {
    "execution": {
     "iopub.execute_input": "2024-09-10T11:58:40.276836Z",
     "iopub.status.busy": "2024-09-10T11:58:40.275963Z",
     "iopub.status.idle": "2024-09-10T11:58:40.299586Z",
     "shell.execute_reply": "2024-09-10T11:58:40.298296Z"
    },
    "papermill": {
     "duration": 0.063711,
     "end_time": "2024-09-10T11:58:40.302316",
     "exception": false,
     "start_time": "2024-09-10T11:58:40.238605",
     "status": "completed"
    },
    "tags": []
   },
   "outputs": [
    {
     "data": {
      "text/html": [
       "<div>\n",
       "<style scoped>\n",
       "    .dataframe tbody tr th:only-of-type {\n",
       "        vertical-align: middle;\n",
       "    }\n",
       "\n",
       "    .dataframe tbody tr th {\n",
       "        vertical-align: top;\n",
       "    }\n",
       "\n",
       "    .dataframe thead th {\n",
       "        text-align: right;\n",
       "    }\n",
       "</style>\n",
       "<table border=\"1\" class=\"dataframe\">\n",
       "  <thead>\n",
       "    <tr style=\"text-align: right;\">\n",
       "      <th></th>\n",
       "      <th>Price</th>\n",
       "      <th>Levy</th>\n",
       "      <th>Manufacturer</th>\n",
       "      <th>Model</th>\n",
       "      <th>Prod. year</th>\n",
       "      <th>Category</th>\n",
       "      <th>Leather interior</th>\n",
       "      <th>Fuel type</th>\n",
       "      <th>Engine volume</th>\n",
       "      <th>Mileage</th>\n",
       "      <th>Cylinders</th>\n",
       "      <th>Gear box type</th>\n",
       "      <th>Drive wheels</th>\n",
       "      <th>Wheel</th>\n",
       "      <th>Color</th>\n",
       "      <th>Airbags</th>\n",
       "      <th>Age</th>\n",
       "    </tr>\n",
       "  </thead>\n",
       "  <tbody>\n",
       "    <tr>\n",
       "      <th>0</th>\n",
       "      <td>13328</td>\n",
       "      <td>1399.0</td>\n",
       "      <td>LEXUS</td>\n",
       "      <td>RX 450</td>\n",
       "      <td>2010</td>\n",
       "      <td>Jeep</td>\n",
       "      <td>Yes</td>\n",
       "      <td>Hybrid</td>\n",
       "      <td>3.5</td>\n",
       "      <td>186005</td>\n",
       "      <td>6.0</td>\n",
       "      <td>Automatic</td>\n",
       "      <td>4x4</td>\n",
       "      <td>Left wheel</td>\n",
       "      <td>Silver</td>\n",
       "      <td>12</td>\n",
       "      <td>14</td>\n",
       "    </tr>\n",
       "    <tr>\n",
       "      <th>1</th>\n",
       "      <td>16621</td>\n",
       "      <td>1018.0</td>\n",
       "      <td>CHEVROLET</td>\n",
       "      <td>Equinox</td>\n",
       "      <td>2011</td>\n",
       "      <td>Jeep</td>\n",
       "      <td>No</td>\n",
       "      <td>Petrol</td>\n",
       "      <td>3.0</td>\n",
       "      <td>192000</td>\n",
       "      <td>6.0</td>\n",
       "      <td>Tiptronic</td>\n",
       "      <td>4x4</td>\n",
       "      <td>Left wheel</td>\n",
       "      <td>Black</td>\n",
       "      <td>8</td>\n",
       "      <td>13</td>\n",
       "    </tr>\n",
       "    <tr>\n",
       "      <th>2</th>\n",
       "      <td>8467</td>\n",
       "      <td>0.0</td>\n",
       "      <td>HONDA</td>\n",
       "      <td>FIT</td>\n",
       "      <td>2006</td>\n",
       "      <td>Hatchback</td>\n",
       "      <td>No</td>\n",
       "      <td>Petrol</td>\n",
       "      <td>1.3</td>\n",
       "      <td>200000</td>\n",
       "      <td>4.0</td>\n",
       "      <td>Variator</td>\n",
       "      <td>Front</td>\n",
       "      <td>Right-hand drive</td>\n",
       "      <td>Black</td>\n",
       "      <td>2</td>\n",
       "      <td>18</td>\n",
       "    </tr>\n",
       "    <tr>\n",
       "      <th>3</th>\n",
       "      <td>3607</td>\n",
       "      <td>862.0</td>\n",
       "      <td>FORD</td>\n",
       "      <td>Escape</td>\n",
       "      <td>2011</td>\n",
       "      <td>Jeep</td>\n",
       "      <td>Yes</td>\n",
       "      <td>Hybrid</td>\n",
       "      <td>2.5</td>\n",
       "      <td>168966</td>\n",
       "      <td>4.0</td>\n",
       "      <td>Automatic</td>\n",
       "      <td>4x4</td>\n",
       "      <td>Left wheel</td>\n",
       "      <td>White</td>\n",
       "      <td>0</td>\n",
       "      <td>13</td>\n",
       "    </tr>\n",
       "    <tr>\n",
       "      <th>4</th>\n",
       "      <td>11726</td>\n",
       "      <td>446.0</td>\n",
       "      <td>HONDA</td>\n",
       "      <td>FIT</td>\n",
       "      <td>2014</td>\n",
       "      <td>Hatchback</td>\n",
       "      <td>Yes</td>\n",
       "      <td>Petrol</td>\n",
       "      <td>1.3</td>\n",
       "      <td>91901</td>\n",
       "      <td>4.0</td>\n",
       "      <td>Automatic</td>\n",
       "      <td>Front</td>\n",
       "      <td>Left wheel</td>\n",
       "      <td>Silver</td>\n",
       "      <td>4</td>\n",
       "      <td>10</td>\n",
       "    </tr>\n",
       "  </tbody>\n",
       "</table>\n",
       "</div>"
      ],
      "text/plain": [
       "   Price    Levy Manufacturer    Model  Prod. year   Category  \\\n",
       "0  13328  1399.0        LEXUS   RX 450        2010       Jeep   \n",
       "1  16621  1018.0    CHEVROLET  Equinox        2011       Jeep   \n",
       "2   8467     0.0        HONDA      FIT        2006  Hatchback   \n",
       "3   3607   862.0         FORD   Escape        2011       Jeep   \n",
       "4  11726   446.0        HONDA      FIT        2014  Hatchback   \n",
       "\n",
       "  Leather interior Fuel type  Engine volume  Mileage  Cylinders Gear box type  \\\n",
       "0              Yes    Hybrid            3.5   186005        6.0     Automatic   \n",
       "1               No    Petrol            3.0   192000        6.0     Tiptronic   \n",
       "2               No    Petrol            1.3   200000        4.0      Variator   \n",
       "3              Yes    Hybrid            2.5   168966        4.0     Automatic   \n",
       "4              Yes    Petrol            1.3    91901        4.0     Automatic   \n",
       "\n",
       "  Drive wheels             Wheel   Color  Airbags  Age  \n",
       "0          4x4        Left wheel  Silver       12   14  \n",
       "1          4x4        Left wheel   Black        8   13  \n",
       "2        Front  Right-hand drive   Black        2   18  \n",
       "3          4x4        Left wheel   White        0   13  \n",
       "4        Front        Left wheel  Silver        4   10  "
      ]
     },
     "execution_count": 34,
     "metadata": {},
     "output_type": "execute_result"
    }
   ],
   "source": [
    "cars.head()"
   ]
  },
  {
   "cell_type": "markdown",
   "id": "65bd6df0",
   "metadata": {
    "execution": {
     "iopub.execute_input": "2024-09-10T11:13:01.024523Z",
     "iopub.status.busy": "2024-09-10T11:13:01.023968Z",
     "iopub.status.idle": "2024-09-10T11:13:01.068570Z",
     "shell.execute_reply": "2024-09-10T11:13:01.065519Z",
     "shell.execute_reply.started": "2024-09-10T11:13:01.024457Z"
    },
    "papermill": {
     "duration": 0.035684,
     "end_time": "2024-09-10T11:58:40.374247",
     "exception": false,
     "start_time": "2024-09-10T11:58:40.338563",
     "status": "completed"
    },
    "tags": []
   },
   "source": [
    "### OutLier"
   ]
  },
  {
   "cell_type": "code",
   "execution_count": 35,
   "id": "98e9e44d",
   "metadata": {
    "execution": {
     "iopub.execute_input": "2024-09-10T11:58:40.449077Z",
     "iopub.status.busy": "2024-09-10T11:58:40.448634Z",
     "iopub.status.idle": "2024-09-10T11:58:40.456878Z",
     "shell.execute_reply": "2024-09-10T11:58:40.455628Z"
    },
    "papermill": {
     "duration": 0.049381,
     "end_time": "2024-09-10T11:58:40.459628",
     "exception": false,
     "start_time": "2024-09-10T11:58:40.410247",
     "status": "completed"
    },
    "tags": []
   },
   "outputs": [],
   "source": [
    "non_ob = cars.select_dtypes(exclude=object)"
   ]
  },
  {
   "cell_type": "code",
   "execution_count": 36,
   "id": "7208c965",
   "metadata": {
    "execution": {
     "iopub.execute_input": "2024-09-10T11:58:40.533201Z",
     "iopub.status.busy": "2024-09-10T11:58:40.532785Z",
     "iopub.status.idle": "2024-09-10T11:58:40.563814Z",
     "shell.execute_reply": "2024-09-10T11:58:40.562402Z"
    },
    "papermill": {
     "duration": 0.071217,
     "end_time": "2024-09-10T11:58:40.566657",
     "exception": false,
     "start_time": "2024-09-10T11:58:40.495440",
     "status": "completed"
    },
    "tags": []
   },
   "outputs": [
    {
     "name": "stdout",
     "output_type": "stream",
     "text": [
      "Total Outliers in Price: 1055 -- 5.57%\n",
      "Total Outliers in Levy: 160 -- 0.85%\n",
      "Total Outliers in Prod. year: 962 -- 5.08%\n",
      "Total Outliers in Engine volume: 1358 -- 7.18%\n",
      "Total Outliers in Mileage: 635 -- 3.36%\n",
      "Total Outliers in Cylinders: 4765 -- 25.18%\n",
      "Total Outliers in Airbags: 0 -- 0.0%\n",
      "Total Outliers in Age: 962 -- 5.08%\n"
     ]
    }
   ],
   "source": [
    "for col in non_ob:\n",
    "    Q1 = non_ob[col].quantile(0.25)\n",
    "    Q3 = non_ob[col].quantile(0.75)\n",
    "    \n",
    "    IQR = Q3 - Q1\n",
    "    \n",
    "    lower_bound = Q1 - 1.5 * IQR\n",
    "    upper_bound = Q3 + 1.5 * IQR\n",
    "    \n",
    "    outliers = ((non_ob[col] < lower_bound) | (non_ob[col] > upper_bound)).sum()\n",
    "    \n",
    "    total_points = non_ob[col].shape[0]\n",
    "    \n",
    "    print(f\"Total Outliers in {col}: {outliers} -- {round(100 * (outliers / total_points), 2)}%\")"
   ]
  },
  {
   "cell_type": "code",
   "execution_count": 37,
   "id": "f3a84b00",
   "metadata": {
    "execution": {
     "iopub.execute_input": "2024-09-10T11:58:40.641619Z",
     "iopub.status.busy": "2024-09-10T11:58:40.641120Z",
     "iopub.status.idle": "2024-09-10T11:58:40.651452Z",
     "shell.execute_reply": "2024-09-10T11:58:40.650410Z"
    },
    "papermill": {
     "duration": 0.051507,
     "end_time": "2024-09-10T11:58:40.654230",
     "exception": false,
     "start_time": "2024-09-10T11:58:40.602723",
     "status": "completed"
    },
    "tags": []
   },
   "outputs": [],
   "source": [
    "if outliers>0:\n",
    "    cars = cars.loc[(cars[col]<=upper_bound) & (cars[col]>=lower_bound) ]"
   ]
  },
  {
   "cell_type": "markdown",
   "id": "460c19e3",
   "metadata": {
    "papermill": {
     "duration": 0.035581,
     "end_time": "2024-09-10T11:58:40.725985",
     "exception": false,
     "start_time": "2024-09-10T11:58:40.690404",
     "status": "completed"
    },
    "tags": []
   },
   "source": [
    "### Transform Data"
   ]
  },
  {
   "cell_type": "code",
   "execution_count": 38,
   "id": "ab0b8ee4",
   "metadata": {
    "execution": {
     "iopub.execute_input": "2024-09-10T11:58:40.800568Z",
     "iopub.status.busy": "2024-09-10T11:58:40.800100Z",
     "iopub.status.idle": "2024-09-10T11:58:40.811016Z",
     "shell.execute_reply": "2024-09-10T11:58:40.809972Z"
    },
    "papermill": {
     "duration": 0.051768,
     "end_time": "2024-09-10T11:58:40.813682",
     "exception": false,
     "start_time": "2024-09-10T11:58:40.761914",
     "status": "completed"
    },
    "tags": []
   },
   "outputs": [],
   "source": [
    "obj=cars.select_dtypes(include='object')\n",
    "non_obj=cars.select_dtypes(exclude='object')"
   ]
  },
  {
   "cell_type": "code",
   "execution_count": 39,
   "id": "0348cf4d",
   "metadata": {
    "execution": {
     "iopub.execute_input": "2024-09-10T11:58:40.888066Z",
     "iopub.status.busy": "2024-09-10T11:58:40.887589Z",
     "iopub.status.idle": "2024-09-10T11:58:40.907164Z",
     "shell.execute_reply": "2024-09-10T11:58:40.906006Z"
    },
    "papermill": {
     "duration": 0.060183,
     "end_time": "2024-09-10T11:58:40.909938",
     "exception": false,
     "start_time": "2024-09-10T11:58:40.849755",
     "status": "completed"
    },
    "tags": []
   },
   "outputs": [
    {
     "data": {
      "text/html": [
       "<div>\n",
       "<style scoped>\n",
       "    .dataframe tbody tr th:only-of-type {\n",
       "        vertical-align: middle;\n",
       "    }\n",
       "\n",
       "    .dataframe tbody tr th {\n",
       "        vertical-align: top;\n",
       "    }\n",
       "\n",
       "    .dataframe thead th {\n",
       "        text-align: right;\n",
       "    }\n",
       "</style>\n",
       "<table border=\"1\" class=\"dataframe\">\n",
       "  <thead>\n",
       "    <tr style=\"text-align: right;\">\n",
       "      <th></th>\n",
       "      <th>Manufacturer</th>\n",
       "      <th>Model</th>\n",
       "      <th>Category</th>\n",
       "      <th>Leather interior</th>\n",
       "      <th>Fuel type</th>\n",
       "      <th>Gear box type</th>\n",
       "      <th>Drive wheels</th>\n",
       "      <th>Wheel</th>\n",
       "      <th>Color</th>\n",
       "    </tr>\n",
       "  </thead>\n",
       "  <tbody>\n",
       "    <tr>\n",
       "      <th>0</th>\n",
       "      <td>LEXUS</td>\n",
       "      <td>RX 450</td>\n",
       "      <td>Jeep</td>\n",
       "      <td>Yes</td>\n",
       "      <td>Hybrid</td>\n",
       "      <td>Automatic</td>\n",
       "      <td>4x4</td>\n",
       "      <td>Left wheel</td>\n",
       "      <td>Silver</td>\n",
       "    </tr>\n",
       "    <tr>\n",
       "      <th>1</th>\n",
       "      <td>CHEVROLET</td>\n",
       "      <td>Equinox</td>\n",
       "      <td>Jeep</td>\n",
       "      <td>No</td>\n",
       "      <td>Petrol</td>\n",
       "      <td>Tiptronic</td>\n",
       "      <td>4x4</td>\n",
       "      <td>Left wheel</td>\n",
       "      <td>Black</td>\n",
       "    </tr>\n",
       "    <tr>\n",
       "      <th>2</th>\n",
       "      <td>HONDA</td>\n",
       "      <td>FIT</td>\n",
       "      <td>Hatchback</td>\n",
       "      <td>No</td>\n",
       "      <td>Petrol</td>\n",
       "      <td>Variator</td>\n",
       "      <td>Front</td>\n",
       "      <td>Right-hand drive</td>\n",
       "      <td>Black</td>\n",
       "    </tr>\n",
       "    <tr>\n",
       "      <th>3</th>\n",
       "      <td>FORD</td>\n",
       "      <td>Escape</td>\n",
       "      <td>Jeep</td>\n",
       "      <td>Yes</td>\n",
       "      <td>Hybrid</td>\n",
       "      <td>Automatic</td>\n",
       "      <td>4x4</td>\n",
       "      <td>Left wheel</td>\n",
       "      <td>White</td>\n",
       "    </tr>\n",
       "    <tr>\n",
       "      <th>4</th>\n",
       "      <td>HONDA</td>\n",
       "      <td>FIT</td>\n",
       "      <td>Hatchback</td>\n",
       "      <td>Yes</td>\n",
       "      <td>Petrol</td>\n",
       "      <td>Automatic</td>\n",
       "      <td>Front</td>\n",
       "      <td>Left wheel</td>\n",
       "      <td>Silver</td>\n",
       "    </tr>\n",
       "    <tr>\n",
       "      <th>...</th>\n",
       "      <td>...</td>\n",
       "      <td>...</td>\n",
       "      <td>...</td>\n",
       "      <td>...</td>\n",
       "      <td>...</td>\n",
       "      <td>...</td>\n",
       "      <td>...</td>\n",
       "      <td>...</td>\n",
       "      <td>...</td>\n",
       "    </tr>\n",
       "    <tr>\n",
       "      <th>19231</th>\n",
       "      <td>MERCEDES-BENZ</td>\n",
       "      <td>E 350</td>\n",
       "      <td>Sedan</td>\n",
       "      <td>Yes</td>\n",
       "      <td>Diesel</td>\n",
       "      <td>Automatic</td>\n",
       "      <td>Rear</td>\n",
       "      <td>Left wheel</td>\n",
       "      <td>Grey</td>\n",
       "    </tr>\n",
       "    <tr>\n",
       "      <th>19233</th>\n",
       "      <td>HYUNDAI</td>\n",
       "      <td>Sonata</td>\n",
       "      <td>Sedan</td>\n",
       "      <td>Yes</td>\n",
       "      <td>Petrol</td>\n",
       "      <td>Tiptronic</td>\n",
       "      <td>Front</td>\n",
       "      <td>Left wheel</td>\n",
       "      <td>Red</td>\n",
       "    </tr>\n",
       "    <tr>\n",
       "      <th>19234</th>\n",
       "      <td>HYUNDAI</td>\n",
       "      <td>Tucson</td>\n",
       "      <td>Jeep</td>\n",
       "      <td>Yes</td>\n",
       "      <td>Diesel</td>\n",
       "      <td>Automatic</td>\n",
       "      <td>Front</td>\n",
       "      <td>Left wheel</td>\n",
       "      <td>Grey</td>\n",
       "    </tr>\n",
       "    <tr>\n",
       "      <th>19235</th>\n",
       "      <td>CHEVROLET</td>\n",
       "      <td>Captiva</td>\n",
       "      <td>Jeep</td>\n",
       "      <td>Yes</td>\n",
       "      <td>Diesel</td>\n",
       "      <td>Automatic</td>\n",
       "      <td>Front</td>\n",
       "      <td>Left wheel</td>\n",
       "      <td>Black</td>\n",
       "    </tr>\n",
       "    <tr>\n",
       "      <th>19236</th>\n",
       "      <td>HYUNDAI</td>\n",
       "      <td>Sonata</td>\n",
       "      <td>Sedan</td>\n",
       "      <td>Yes</td>\n",
       "      <td>Hybrid</td>\n",
       "      <td>Automatic</td>\n",
       "      <td>Front</td>\n",
       "      <td>Left wheel</td>\n",
       "      <td>White</td>\n",
       "    </tr>\n",
       "  </tbody>\n",
       "</table>\n",
       "<p>17962 rows × 9 columns</p>\n",
       "</div>"
      ],
      "text/plain": [
       "        Manufacturer    Model   Category Leather interior Fuel type  \\\n",
       "0              LEXUS   RX 450       Jeep              Yes    Hybrid   \n",
       "1          CHEVROLET  Equinox       Jeep               No    Petrol   \n",
       "2              HONDA      FIT  Hatchback               No    Petrol   \n",
       "3               FORD   Escape       Jeep              Yes    Hybrid   \n",
       "4              HONDA      FIT  Hatchback              Yes    Petrol   \n",
       "...              ...      ...        ...              ...       ...   \n",
       "19231  MERCEDES-BENZ    E 350      Sedan              Yes    Diesel   \n",
       "19233        HYUNDAI   Sonata      Sedan              Yes    Petrol   \n",
       "19234        HYUNDAI   Tucson       Jeep              Yes    Diesel   \n",
       "19235      CHEVROLET  Captiva       Jeep              Yes    Diesel   \n",
       "19236        HYUNDAI   Sonata      Sedan              Yes    Hybrid   \n",
       "\n",
       "      Gear box type Drive wheels             Wheel   Color  \n",
       "0         Automatic          4x4        Left wheel  Silver  \n",
       "1         Tiptronic          4x4        Left wheel   Black  \n",
       "2          Variator        Front  Right-hand drive   Black  \n",
       "3         Automatic          4x4        Left wheel   White  \n",
       "4         Automatic        Front        Left wheel  Silver  \n",
       "...             ...          ...               ...     ...  \n",
       "19231     Automatic         Rear        Left wheel    Grey  \n",
       "19233     Tiptronic        Front        Left wheel     Red  \n",
       "19234     Automatic        Front        Left wheel    Grey  \n",
       "19235     Automatic        Front        Left wheel   Black  \n",
       "19236     Automatic        Front        Left wheel   White  \n",
       "\n",
       "[17962 rows x 9 columns]"
      ]
     },
     "execution_count": 39,
     "metadata": {},
     "output_type": "execute_result"
    }
   ],
   "source": [
    "obj"
   ]
  },
  {
   "cell_type": "code",
   "execution_count": 40,
   "id": "76d1a118",
   "metadata": {
    "execution": {
     "iopub.execute_input": "2024-09-10T11:58:40.986642Z",
     "iopub.status.busy": "2024-09-10T11:58:40.986130Z",
     "iopub.status.idle": "2024-09-10T11:58:41.007300Z",
     "shell.execute_reply": "2024-09-10T11:58:41.006138Z"
    },
    "papermill": {
     "duration": 0.06242,
     "end_time": "2024-09-10T11:58:41.009835",
     "exception": false,
     "start_time": "2024-09-10T11:58:40.947415",
     "status": "completed"
    },
    "tags": []
   },
   "outputs": [
    {
     "data": {
      "text/html": [
       "<div>\n",
       "<style scoped>\n",
       "    .dataframe tbody tr th:only-of-type {\n",
       "        vertical-align: middle;\n",
       "    }\n",
       "\n",
       "    .dataframe tbody tr th {\n",
       "        vertical-align: top;\n",
       "    }\n",
       "\n",
       "    .dataframe thead th {\n",
       "        text-align: right;\n",
       "    }\n",
       "</style>\n",
       "<table border=\"1\" class=\"dataframe\">\n",
       "  <thead>\n",
       "    <tr style=\"text-align: right;\">\n",
       "      <th></th>\n",
       "      <th>Price</th>\n",
       "      <th>Levy</th>\n",
       "      <th>Prod. year</th>\n",
       "      <th>Engine volume</th>\n",
       "      <th>Mileage</th>\n",
       "      <th>Cylinders</th>\n",
       "      <th>Airbags</th>\n",
       "      <th>Age</th>\n",
       "    </tr>\n",
       "  </thead>\n",
       "  <tbody>\n",
       "    <tr>\n",
       "      <th>0</th>\n",
       "      <td>13328</td>\n",
       "      <td>1399.0</td>\n",
       "      <td>2010</td>\n",
       "      <td>3.5</td>\n",
       "      <td>186005</td>\n",
       "      <td>6.0</td>\n",
       "      <td>12</td>\n",
       "      <td>14</td>\n",
       "    </tr>\n",
       "    <tr>\n",
       "      <th>1</th>\n",
       "      <td>16621</td>\n",
       "      <td>1018.0</td>\n",
       "      <td>2011</td>\n",
       "      <td>3.0</td>\n",
       "      <td>192000</td>\n",
       "      <td>6.0</td>\n",
       "      <td>8</td>\n",
       "      <td>13</td>\n",
       "    </tr>\n",
       "    <tr>\n",
       "      <th>2</th>\n",
       "      <td>8467</td>\n",
       "      <td>0.0</td>\n",
       "      <td>2006</td>\n",
       "      <td>1.3</td>\n",
       "      <td>200000</td>\n",
       "      <td>4.0</td>\n",
       "      <td>2</td>\n",
       "      <td>18</td>\n",
       "    </tr>\n",
       "    <tr>\n",
       "      <th>3</th>\n",
       "      <td>3607</td>\n",
       "      <td>862.0</td>\n",
       "      <td>2011</td>\n",
       "      <td>2.5</td>\n",
       "      <td>168966</td>\n",
       "      <td>4.0</td>\n",
       "      <td>0</td>\n",
       "      <td>13</td>\n",
       "    </tr>\n",
       "    <tr>\n",
       "      <th>4</th>\n",
       "      <td>11726</td>\n",
       "      <td>446.0</td>\n",
       "      <td>2014</td>\n",
       "      <td>1.3</td>\n",
       "      <td>91901</td>\n",
       "      <td>4.0</td>\n",
       "      <td>4</td>\n",
       "      <td>10</td>\n",
       "    </tr>\n",
       "    <tr>\n",
       "      <th>...</th>\n",
       "      <td>...</td>\n",
       "      <td>...</td>\n",
       "      <td>...</td>\n",
       "      <td>...</td>\n",
       "      <td>...</td>\n",
       "      <td>...</td>\n",
       "      <td>...</td>\n",
       "      <td>...</td>\n",
       "    </tr>\n",
       "    <tr>\n",
       "      <th>19231</th>\n",
       "      <td>5802</td>\n",
       "      <td>1055.0</td>\n",
       "      <td>2013</td>\n",
       "      <td>3.5</td>\n",
       "      <td>107800</td>\n",
       "      <td>6.0</td>\n",
       "      <td>12</td>\n",
       "      <td>11</td>\n",
       "    </tr>\n",
       "    <tr>\n",
       "      <th>19233</th>\n",
       "      <td>15681</td>\n",
       "      <td>831.0</td>\n",
       "      <td>2011</td>\n",
       "      <td>2.4</td>\n",
       "      <td>161600</td>\n",
       "      <td>4.0</td>\n",
       "      <td>8</td>\n",
       "      <td>13</td>\n",
       "    </tr>\n",
       "    <tr>\n",
       "      <th>19234</th>\n",
       "      <td>26108</td>\n",
       "      <td>836.0</td>\n",
       "      <td>2010</td>\n",
       "      <td>2.0</td>\n",
       "      <td>116365</td>\n",
       "      <td>4.0</td>\n",
       "      <td>4</td>\n",
       "      <td>14</td>\n",
       "    </tr>\n",
       "    <tr>\n",
       "      <th>19235</th>\n",
       "      <td>5331</td>\n",
       "      <td>1288.0</td>\n",
       "      <td>2007</td>\n",
       "      <td>2.0</td>\n",
       "      <td>51258</td>\n",
       "      <td>4.0</td>\n",
       "      <td>4</td>\n",
       "      <td>17</td>\n",
       "    </tr>\n",
       "    <tr>\n",
       "      <th>19236</th>\n",
       "      <td>470</td>\n",
       "      <td>753.0</td>\n",
       "      <td>2012</td>\n",
       "      <td>2.4</td>\n",
       "      <td>186923</td>\n",
       "      <td>4.0</td>\n",
       "      <td>12</td>\n",
       "      <td>12</td>\n",
       "    </tr>\n",
       "  </tbody>\n",
       "</table>\n",
       "<p>17962 rows × 8 columns</p>\n",
       "</div>"
      ],
      "text/plain": [
       "       Price    Levy  Prod. year  Engine volume  Mileage  Cylinders  Airbags  \\\n",
       "0      13328  1399.0        2010            3.5   186005        6.0       12   \n",
       "1      16621  1018.0        2011            3.0   192000        6.0        8   \n",
       "2       8467     0.0        2006            1.3   200000        4.0        2   \n",
       "3       3607   862.0        2011            2.5   168966        4.0        0   \n",
       "4      11726   446.0        2014            1.3    91901        4.0        4   \n",
       "...      ...     ...         ...            ...      ...        ...      ...   \n",
       "19231   5802  1055.0        2013            3.5   107800        6.0       12   \n",
       "19233  15681   831.0        2011            2.4   161600        4.0        8   \n",
       "19234  26108   836.0        2010            2.0   116365        4.0        4   \n",
       "19235   5331  1288.0        2007            2.0    51258        4.0        4   \n",
       "19236    470   753.0        2012            2.4   186923        4.0       12   \n",
       "\n",
       "       Age  \n",
       "0       14  \n",
       "1       13  \n",
       "2       18  \n",
       "3       13  \n",
       "4       10  \n",
       "...    ...  \n",
       "19231   11  \n",
       "19233   13  \n",
       "19234   14  \n",
       "19235   17  \n",
       "19236   12  \n",
       "\n",
       "[17962 rows x 8 columns]"
      ]
     },
     "execution_count": 40,
     "metadata": {},
     "output_type": "execute_result"
    }
   ],
   "source": [
    "non_obj"
   ]
  },
  {
   "cell_type": "code",
   "execution_count": 41,
   "id": "5546715d",
   "metadata": {
    "execution": {
     "iopub.execute_input": "2024-09-10T11:58:41.086651Z",
     "iopub.status.busy": "2024-09-10T11:58:41.086166Z",
     "iopub.status.idle": "2024-09-10T11:58:41.091656Z",
     "shell.execute_reply": "2024-09-10T11:58:41.090377Z"
    },
    "papermill": {
     "duration": 0.046523,
     "end_time": "2024-09-10T11:58:41.094193",
     "exception": false,
     "start_time": "2024-09-10T11:58:41.047670",
     "status": "completed"
    },
    "tags": []
   },
   "outputs": [],
   "source": [
    "la = LabelEncoder()"
   ]
  },
  {
   "cell_type": "code",
   "execution_count": 42,
   "id": "6b51e4f0",
   "metadata": {
    "execution": {
     "iopub.execute_input": "2024-09-10T11:58:41.171557Z",
     "iopub.status.busy": "2024-09-10T11:58:41.170427Z",
     "iopub.status.idle": "2024-09-10T11:58:41.234739Z",
     "shell.execute_reply": "2024-09-10T11:58:41.233763Z"
    },
    "papermill": {
     "duration": 0.105698,
     "end_time": "2024-09-10T11:58:41.237673",
     "exception": false,
     "start_time": "2024-09-10T11:58:41.131975",
     "status": "completed"
    },
    "tags": []
   },
   "outputs": [],
   "source": [
    "for i in range(0,obj.shape[1]):\n",
    "    obj.iloc[:,i]=la.fit_transform(obj.iloc[:,i])"
   ]
  },
  {
   "cell_type": "code",
   "execution_count": 43,
   "id": "cbc2f697",
   "metadata": {
    "execution": {
     "iopub.execute_input": "2024-09-10T11:58:41.313895Z",
     "iopub.status.busy": "2024-09-10T11:58:41.313436Z",
     "iopub.status.idle": "2024-09-10T11:58:41.330680Z",
     "shell.execute_reply": "2024-09-10T11:58:41.329515Z"
    },
    "papermill": {
     "duration": 0.058763,
     "end_time": "2024-09-10T11:58:41.333539",
     "exception": false,
     "start_time": "2024-09-10T11:58:41.274776",
     "status": "completed"
    },
    "tags": []
   },
   "outputs": [
    {
     "data": {
      "text/html": [
       "<div>\n",
       "<style scoped>\n",
       "    .dataframe tbody tr th:only-of-type {\n",
       "        vertical-align: middle;\n",
       "    }\n",
       "\n",
       "    .dataframe tbody tr th {\n",
       "        vertical-align: top;\n",
       "    }\n",
       "\n",
       "    .dataframe thead th {\n",
       "        text-align: right;\n",
       "    }\n",
       "</style>\n",
       "<table border=\"1\" class=\"dataframe\">\n",
       "  <thead>\n",
       "    <tr style=\"text-align: right;\">\n",
       "      <th></th>\n",
       "      <th>Manufacturer</th>\n",
       "      <th>Model</th>\n",
       "      <th>Category</th>\n",
       "      <th>Leather interior</th>\n",
       "      <th>Fuel type</th>\n",
       "      <th>Gear box type</th>\n",
       "      <th>Drive wheels</th>\n",
       "      <th>Wheel</th>\n",
       "      <th>Color</th>\n",
       "    </tr>\n",
       "  </thead>\n",
       "  <tbody>\n",
       "    <tr>\n",
       "      <th>0</th>\n",
       "      <td>32</td>\n",
       "      <td>1136</td>\n",
       "      <td>4</td>\n",
       "      <td>1</td>\n",
       "      <td>2</td>\n",
       "      <td>0</td>\n",
       "      <td>0</td>\n",
       "      <td>0</td>\n",
       "      <td>12</td>\n",
       "    </tr>\n",
       "    <tr>\n",
       "      <th>1</th>\n",
       "      <td>8</td>\n",
       "      <td>586</td>\n",
       "      <td>4</td>\n",
       "      <td>0</td>\n",
       "      <td>5</td>\n",
       "      <td>2</td>\n",
       "      <td>0</td>\n",
       "      <td>0</td>\n",
       "      <td>1</td>\n",
       "    </tr>\n",
       "    <tr>\n",
       "      <th>2</th>\n",
       "      <td>21</td>\n",
       "      <td>610</td>\n",
       "      <td>3</td>\n",
       "      <td>0</td>\n",
       "      <td>5</td>\n",
       "      <td>3</td>\n",
       "      <td>1</td>\n",
       "      <td>1</td>\n",
       "      <td>1</td>\n",
       "    </tr>\n",
       "    <tr>\n",
       "      <th>3</th>\n",
       "      <td>16</td>\n",
       "      <td>589</td>\n",
       "      <td>4</td>\n",
       "      <td>1</td>\n",
       "      <td>2</td>\n",
       "      <td>0</td>\n",
       "      <td>0</td>\n",
       "      <td>0</td>\n",
       "      <td>14</td>\n",
       "    </tr>\n",
       "    <tr>\n",
       "      <th>4</th>\n",
       "      <td>21</td>\n",
       "      <td>610</td>\n",
       "      <td>3</td>\n",
       "      <td>1</td>\n",
       "      <td>5</td>\n",
       "      <td>0</td>\n",
       "      <td>1</td>\n",
       "      <td>0</td>\n",
       "      <td>12</td>\n",
       "    </tr>\n",
       "  </tbody>\n",
       "</table>\n",
       "</div>"
      ],
      "text/plain": [
       "  Manufacturer Model Category Leather interior Fuel type Gear box type  \\\n",
       "0           32  1136        4                1         2             0   \n",
       "1            8   586        4                0         5             2   \n",
       "2           21   610        3                0         5             3   \n",
       "3           16   589        4                1         2             0   \n",
       "4           21   610        3                1         5             0   \n",
       "\n",
       "  Drive wheels Wheel Color  \n",
       "0            0     0    12  \n",
       "1            0     0     1  \n",
       "2            1     1     1  \n",
       "3            0     0    14  \n",
       "4            1     0    12  "
      ]
     },
     "execution_count": 43,
     "metadata": {},
     "output_type": "execute_result"
    }
   ],
   "source": [
    "obj.head()"
   ]
  },
  {
   "cell_type": "code",
   "execution_count": 44,
   "id": "69df9eab",
   "metadata": {
    "execution": {
     "iopub.execute_input": "2024-09-10T11:58:41.413479Z",
     "iopub.status.busy": "2024-09-10T11:58:41.413047Z",
     "iopub.status.idle": "2024-09-10T11:58:41.428546Z",
     "shell.execute_reply": "2024-09-10T11:58:41.427476Z"
    },
    "papermill": {
     "duration": 0.059135,
     "end_time": "2024-09-10T11:58:41.430897",
     "exception": false,
     "start_time": "2024-09-10T11:58:41.371762",
     "status": "completed"
    },
    "tags": []
   },
   "outputs": [],
   "source": [
    "obj=obj.astype('int')"
   ]
  },
  {
   "cell_type": "code",
   "execution_count": 45,
   "id": "2cbda86b",
   "metadata": {
    "execution": {
     "iopub.execute_input": "2024-09-10T11:58:41.508755Z",
     "iopub.status.busy": "2024-09-10T11:58:41.508242Z",
     "iopub.status.idle": "2024-09-10T11:58:41.522080Z",
     "shell.execute_reply": "2024-09-10T11:58:41.520783Z"
    },
    "papermill": {
     "duration": 0.056302,
     "end_time": "2024-09-10T11:58:41.524833",
     "exception": false,
     "start_time": "2024-09-10T11:58:41.468531",
     "status": "completed"
    },
    "tags": []
   },
   "outputs": [
    {
     "name": "stdout",
     "output_type": "stream",
     "text": [
      "<class 'pandas.core.frame.DataFrame'>\n",
      "Index: 17962 entries, 0 to 19236\n",
      "Data columns (total 9 columns):\n",
      " #   Column            Non-Null Count  Dtype\n",
      "---  ------            --------------  -----\n",
      " 0   Manufacturer      17962 non-null  int64\n",
      " 1   Model             17962 non-null  int64\n",
      " 2   Category          17962 non-null  int64\n",
      " 3   Leather interior  17962 non-null  int64\n",
      " 4   Fuel type         17962 non-null  int64\n",
      " 5   Gear box type     17962 non-null  int64\n",
      " 6   Drive wheels      17962 non-null  int64\n",
      " 7   Wheel             17962 non-null  int64\n",
      " 8   Color             17962 non-null  int64\n",
      "dtypes: int64(9)\n",
      "memory usage: 1.4 MB\n"
     ]
    }
   ],
   "source": [
    "obj.info()"
   ]
  },
  {
   "cell_type": "code",
   "execution_count": 46,
   "id": "de2ee65c",
   "metadata": {
    "execution": {
     "iopub.execute_input": "2024-09-10T11:58:41.601032Z",
     "iopub.status.busy": "2024-09-10T11:58:41.600576Z",
     "iopub.status.idle": "2024-09-10T11:58:41.608323Z",
     "shell.execute_reply": "2024-09-10T11:58:41.607382Z"
    },
    "papermill": {
     "duration": 0.049255,
     "end_time": "2024-09-10T11:58:41.611130",
     "exception": false,
     "start_time": "2024-09-10T11:58:41.561875",
     "status": "completed"
    },
    "tags": []
   },
   "outputs": [],
   "source": [
    "cars=pd.concat([obj,non_obj],axis=1)"
   ]
  },
  {
   "cell_type": "code",
   "execution_count": 47,
   "id": "53b706bc",
   "metadata": {
    "execution": {
     "iopub.execute_input": "2024-09-10T11:58:41.688321Z",
     "iopub.status.busy": "2024-09-10T11:58:41.687446Z",
     "iopub.status.idle": "2024-09-10T11:58:41.713083Z",
     "shell.execute_reply": "2024-09-10T11:58:41.711947Z"
    },
    "papermill": {
     "duration": 0.066786,
     "end_time": "2024-09-10T11:58:41.715528",
     "exception": false,
     "start_time": "2024-09-10T11:58:41.648742",
     "status": "completed"
    },
    "tags": []
   },
   "outputs": [
    {
     "data": {
      "text/html": [
       "<div>\n",
       "<style scoped>\n",
       "    .dataframe tbody tr th:only-of-type {\n",
       "        vertical-align: middle;\n",
       "    }\n",
       "\n",
       "    .dataframe tbody tr th {\n",
       "        vertical-align: top;\n",
       "    }\n",
       "\n",
       "    .dataframe thead th {\n",
       "        text-align: right;\n",
       "    }\n",
       "</style>\n",
       "<table border=\"1\" class=\"dataframe\">\n",
       "  <thead>\n",
       "    <tr style=\"text-align: right;\">\n",
       "      <th></th>\n",
       "      <th>Manufacturer</th>\n",
       "      <th>Model</th>\n",
       "      <th>Category</th>\n",
       "      <th>Leather interior</th>\n",
       "      <th>Fuel type</th>\n",
       "      <th>Gear box type</th>\n",
       "      <th>Drive wheels</th>\n",
       "      <th>Wheel</th>\n",
       "      <th>Color</th>\n",
       "      <th>Price</th>\n",
       "      <th>Levy</th>\n",
       "      <th>Prod. year</th>\n",
       "      <th>Engine volume</th>\n",
       "      <th>Mileage</th>\n",
       "      <th>Cylinders</th>\n",
       "      <th>Airbags</th>\n",
       "      <th>Age</th>\n",
       "    </tr>\n",
       "  </thead>\n",
       "  <tbody>\n",
       "    <tr>\n",
       "      <th>0</th>\n",
       "      <td>32</td>\n",
       "      <td>1136</td>\n",
       "      <td>4</td>\n",
       "      <td>1</td>\n",
       "      <td>2</td>\n",
       "      <td>0</td>\n",
       "      <td>0</td>\n",
       "      <td>0</td>\n",
       "      <td>12</td>\n",
       "      <td>13328</td>\n",
       "      <td>1399.0</td>\n",
       "      <td>2010</td>\n",
       "      <td>3.5</td>\n",
       "      <td>186005</td>\n",
       "      <td>6.0</td>\n",
       "      <td>12</td>\n",
       "      <td>14</td>\n",
       "    </tr>\n",
       "    <tr>\n",
       "      <th>1</th>\n",
       "      <td>8</td>\n",
       "      <td>586</td>\n",
       "      <td>4</td>\n",
       "      <td>0</td>\n",
       "      <td>5</td>\n",
       "      <td>2</td>\n",
       "      <td>0</td>\n",
       "      <td>0</td>\n",
       "      <td>1</td>\n",
       "      <td>16621</td>\n",
       "      <td>1018.0</td>\n",
       "      <td>2011</td>\n",
       "      <td>3.0</td>\n",
       "      <td>192000</td>\n",
       "      <td>6.0</td>\n",
       "      <td>8</td>\n",
       "      <td>13</td>\n",
       "    </tr>\n",
       "    <tr>\n",
       "      <th>2</th>\n",
       "      <td>21</td>\n",
       "      <td>610</td>\n",
       "      <td>3</td>\n",
       "      <td>0</td>\n",
       "      <td>5</td>\n",
       "      <td>3</td>\n",
       "      <td>1</td>\n",
       "      <td>1</td>\n",
       "      <td>1</td>\n",
       "      <td>8467</td>\n",
       "      <td>0.0</td>\n",
       "      <td>2006</td>\n",
       "      <td>1.3</td>\n",
       "      <td>200000</td>\n",
       "      <td>4.0</td>\n",
       "      <td>2</td>\n",
       "      <td>18</td>\n",
       "    </tr>\n",
       "    <tr>\n",
       "      <th>3</th>\n",
       "      <td>16</td>\n",
       "      <td>589</td>\n",
       "      <td>4</td>\n",
       "      <td>1</td>\n",
       "      <td>2</td>\n",
       "      <td>0</td>\n",
       "      <td>0</td>\n",
       "      <td>0</td>\n",
       "      <td>14</td>\n",
       "      <td>3607</td>\n",
       "      <td>862.0</td>\n",
       "      <td>2011</td>\n",
       "      <td>2.5</td>\n",
       "      <td>168966</td>\n",
       "      <td>4.0</td>\n",
       "      <td>0</td>\n",
       "      <td>13</td>\n",
       "    </tr>\n",
       "    <tr>\n",
       "      <th>4</th>\n",
       "      <td>21</td>\n",
       "      <td>610</td>\n",
       "      <td>3</td>\n",
       "      <td>1</td>\n",
       "      <td>5</td>\n",
       "      <td>0</td>\n",
       "      <td>1</td>\n",
       "      <td>0</td>\n",
       "      <td>12</td>\n",
       "      <td>11726</td>\n",
       "      <td>446.0</td>\n",
       "      <td>2014</td>\n",
       "      <td>1.3</td>\n",
       "      <td>91901</td>\n",
       "      <td>4.0</td>\n",
       "      <td>4</td>\n",
       "      <td>10</td>\n",
       "    </tr>\n",
       "    <tr>\n",
       "      <th>...</th>\n",
       "      <td>...</td>\n",
       "      <td>...</td>\n",
       "      <td>...</td>\n",
       "      <td>...</td>\n",
       "      <td>...</td>\n",
       "      <td>...</td>\n",
       "      <td>...</td>\n",
       "      <td>...</td>\n",
       "      <td>...</td>\n",
       "      <td>...</td>\n",
       "      <td>...</td>\n",
       "      <td>...</td>\n",
       "      <td>...</td>\n",
       "      <td>...</td>\n",
       "      <td>...</td>\n",
       "      <td>...</td>\n",
       "      <td>...</td>\n",
       "    </tr>\n",
       "    <tr>\n",
       "      <th>19231</th>\n",
       "      <td>36</td>\n",
       "      <td>530</td>\n",
       "      <td>9</td>\n",
       "      <td>1</td>\n",
       "      <td>1</td>\n",
       "      <td>0</td>\n",
       "      <td>2</td>\n",
       "      <td>0</td>\n",
       "      <td>7</td>\n",
       "      <td>5802</td>\n",
       "      <td>1055.0</td>\n",
       "      <td>2013</td>\n",
       "      <td>3.5</td>\n",
       "      <td>107800</td>\n",
       "      <td>6.0</td>\n",
       "      <td>12</td>\n",
       "      <td>11</td>\n",
       "    </tr>\n",
       "    <tr>\n",
       "      <th>19233</th>\n",
       "      <td>23</td>\n",
       "      <td>1213</td>\n",
       "      <td>9</td>\n",
       "      <td>1</td>\n",
       "      <td>5</td>\n",
       "      <td>2</td>\n",
       "      <td>1</td>\n",
       "      <td>0</td>\n",
       "      <td>11</td>\n",
       "      <td>15681</td>\n",
       "      <td>831.0</td>\n",
       "      <td>2011</td>\n",
       "      <td>2.4</td>\n",
       "      <td>161600</td>\n",
       "      <td>4.0</td>\n",
       "      <td>8</td>\n",
       "      <td>13</td>\n",
       "    </tr>\n",
       "    <tr>\n",
       "      <th>19234</th>\n",
       "      <td>23</td>\n",
       "      <td>1312</td>\n",
       "      <td>4</td>\n",
       "      <td>1</td>\n",
       "      <td>1</td>\n",
       "      <td>0</td>\n",
       "      <td>1</td>\n",
       "      <td>0</td>\n",
       "      <td>7</td>\n",
       "      <td>26108</td>\n",
       "      <td>836.0</td>\n",
       "      <td>2010</td>\n",
       "      <td>2.0</td>\n",
       "      <td>116365</td>\n",
       "      <td>4.0</td>\n",
       "      <td>4</td>\n",
       "      <td>14</td>\n",
       "    </tr>\n",
       "    <tr>\n",
       "      <th>19235</th>\n",
       "      <td>8</td>\n",
       "      <td>396</td>\n",
       "      <td>4</td>\n",
       "      <td>1</td>\n",
       "      <td>1</td>\n",
       "      <td>0</td>\n",
       "      <td>1</td>\n",
       "      <td>0</td>\n",
       "      <td>1</td>\n",
       "      <td>5331</td>\n",
       "      <td>1288.0</td>\n",
       "      <td>2007</td>\n",
       "      <td>2.0</td>\n",
       "      <td>51258</td>\n",
       "      <td>4.0</td>\n",
       "      <td>4</td>\n",
       "      <td>17</td>\n",
       "    </tr>\n",
       "    <tr>\n",
       "      <th>19236</th>\n",
       "      <td>23</td>\n",
       "      <td>1213</td>\n",
       "      <td>9</td>\n",
       "      <td>1</td>\n",
       "      <td>2</td>\n",
       "      <td>0</td>\n",
       "      <td>1</td>\n",
       "      <td>0</td>\n",
       "      <td>14</td>\n",
       "      <td>470</td>\n",
       "      <td>753.0</td>\n",
       "      <td>2012</td>\n",
       "      <td>2.4</td>\n",
       "      <td>186923</td>\n",
       "      <td>4.0</td>\n",
       "      <td>12</td>\n",
       "      <td>12</td>\n",
       "    </tr>\n",
       "  </tbody>\n",
       "</table>\n",
       "<p>17962 rows × 17 columns</p>\n",
       "</div>"
      ],
      "text/plain": [
       "       Manufacturer  Model  Category  Leather interior  Fuel type  \\\n",
       "0                32   1136         4                 1          2   \n",
       "1                 8    586         4                 0          5   \n",
       "2                21    610         3                 0          5   \n",
       "3                16    589         4                 1          2   \n",
       "4                21    610         3                 1          5   \n",
       "...             ...    ...       ...               ...        ...   \n",
       "19231            36    530         9                 1          1   \n",
       "19233            23   1213         9                 1          5   \n",
       "19234            23   1312         4                 1          1   \n",
       "19235             8    396         4                 1          1   \n",
       "19236            23   1213         9                 1          2   \n",
       "\n",
       "       Gear box type  Drive wheels  Wheel  Color  Price    Levy  Prod. year  \\\n",
       "0                  0             0      0     12  13328  1399.0        2010   \n",
       "1                  2             0      0      1  16621  1018.0        2011   \n",
       "2                  3             1      1      1   8467     0.0        2006   \n",
       "3                  0             0      0     14   3607   862.0        2011   \n",
       "4                  0             1      0     12  11726   446.0        2014   \n",
       "...              ...           ...    ...    ...    ...     ...         ...   \n",
       "19231              0             2      0      7   5802  1055.0        2013   \n",
       "19233              2             1      0     11  15681   831.0        2011   \n",
       "19234              0             1      0      7  26108   836.0        2010   \n",
       "19235              0             1      0      1   5331  1288.0        2007   \n",
       "19236              0             1      0     14    470   753.0        2012   \n",
       "\n",
       "       Engine volume  Mileage  Cylinders  Airbags  Age  \n",
       "0                3.5   186005        6.0       12   14  \n",
       "1                3.0   192000        6.0        8   13  \n",
       "2                1.3   200000        4.0        2   18  \n",
       "3                2.5   168966        4.0        0   13  \n",
       "4                1.3    91901        4.0        4   10  \n",
       "...              ...      ...        ...      ...  ...  \n",
       "19231            3.5   107800        6.0       12   11  \n",
       "19233            2.4   161600        4.0        8   13  \n",
       "19234            2.0   116365        4.0        4   14  \n",
       "19235            2.0    51258        4.0        4   17  \n",
       "19236            2.4   186923        4.0       12   12  \n",
       "\n",
       "[17962 rows x 17 columns]"
      ]
     },
     "execution_count": 47,
     "metadata": {},
     "output_type": "execute_result"
    }
   ],
   "source": [
    "cars"
   ]
  },
  {
   "cell_type": "code",
   "execution_count": 48,
   "id": "6eaca286",
   "metadata": {
    "execution": {
     "iopub.execute_input": "2024-09-10T11:58:41.794369Z",
     "iopub.status.busy": "2024-09-10T11:58:41.793601Z",
     "iopub.status.idle": "2024-09-10T11:58:41.807282Z",
     "shell.execute_reply": "2024-09-10T11:58:41.805888Z"
    },
    "papermill": {
     "duration": 0.056342,
     "end_time": "2024-09-10T11:58:41.809740",
     "exception": false,
     "start_time": "2024-09-10T11:58:41.753398",
     "status": "completed"
    },
    "tags": []
   },
   "outputs": [
    {
     "name": "stdout",
     "output_type": "stream",
     "text": [
      "<class 'pandas.core.frame.DataFrame'>\n",
      "Index: 17962 entries, 0 to 19236\n",
      "Data columns (total 17 columns):\n",
      " #   Column            Non-Null Count  Dtype  \n",
      "---  ------            --------------  -----  \n",
      " 0   Manufacturer      17962 non-null  int64  \n",
      " 1   Model             17962 non-null  int64  \n",
      " 2   Category          17962 non-null  int64  \n",
      " 3   Leather interior  17962 non-null  int64  \n",
      " 4   Fuel type         17962 non-null  int64  \n",
      " 5   Gear box type     17962 non-null  int64  \n",
      " 6   Drive wheels      17962 non-null  int64  \n",
      " 7   Wheel             17962 non-null  int64  \n",
      " 8   Color             17962 non-null  int64  \n",
      " 9   Price             17962 non-null  int64  \n",
      " 10  Levy              17962 non-null  float64\n",
      " 11  Prod. year        17962 non-null  int64  \n",
      " 12  Engine volume     17962 non-null  float64\n",
      " 13  Mileage           17962 non-null  Int64  \n",
      " 14  Cylinders         17962 non-null  float64\n",
      " 15  Airbags           17962 non-null  int64  \n",
      " 16  Age               17962 non-null  int64  \n",
      "dtypes: Int64(1), float64(3), int64(13)\n",
      "memory usage: 2.5 MB\n"
     ]
    }
   ],
   "source": [
    "cars.info()"
   ]
  },
  {
   "cell_type": "code",
   "execution_count": null,
   "id": "e78af8c7",
   "metadata": {
    "papermill": {
     "duration": 0.037424,
     "end_time": "2024-09-10T11:58:41.885073",
     "exception": false,
     "start_time": "2024-09-10T11:58:41.847649",
     "status": "completed"
    },
    "tags": []
   },
   "outputs": [],
   "source": []
  },
  {
   "cell_type": "code",
   "execution_count": null,
   "id": "f0bb8e7f",
   "metadata": {
    "papermill": {
     "duration": 0.0381,
     "end_time": "2024-09-10T11:58:41.962870",
     "exception": false,
     "start_time": "2024-09-10T11:58:41.924770",
     "status": "completed"
    },
    "tags": []
   },
   "outputs": [],
   "source": []
  },
  {
   "cell_type": "markdown",
   "id": "9df643b0",
   "metadata": {
    "papermill": {
     "duration": 0.038411,
     "end_time": "2024-09-10T11:58:42.039185",
     "exception": false,
     "start_time": "2024-09-10T11:58:42.000774",
     "status": "completed"
    },
    "tags": []
   },
   "source": [
    "# Build Model"
   ]
  },
  {
   "cell_type": "code",
   "execution_count": 49,
   "id": "629dc372",
   "metadata": {
    "execution": {
     "iopub.execute_input": "2024-09-10T11:58:42.117641Z",
     "iopub.status.busy": "2024-09-10T11:58:42.117063Z",
     "iopub.status.idle": "2024-09-10T11:58:42.124605Z",
     "shell.execute_reply": "2024-09-10T11:58:42.123592Z"
    },
    "papermill": {
     "duration": 0.049871,
     "end_time": "2024-09-10T11:58:42.127036",
     "exception": false,
     "start_time": "2024-09-10T11:58:42.077165",
     "status": "completed"
    },
    "tags": []
   },
   "outputs": [],
   "source": [
    "x=cars.drop(['Price'],axis=1)"
   ]
  },
  {
   "cell_type": "code",
   "execution_count": 50,
   "id": "32bb9660",
   "metadata": {
    "execution": {
     "iopub.execute_input": "2024-09-10T11:58:42.205243Z",
     "iopub.status.busy": "2024-09-10T11:58:42.204777Z",
     "iopub.status.idle": "2024-09-10T11:58:42.210064Z",
     "shell.execute_reply": "2024-09-10T11:58:42.209032Z"
    },
    "papermill": {
     "duration": 0.047141,
     "end_time": "2024-09-10T11:58:42.212463",
     "exception": false,
     "start_time": "2024-09-10T11:58:42.165322",
     "status": "completed"
    },
    "tags": []
   },
   "outputs": [],
   "source": [
    "y=cars['Price']"
   ]
  },
  {
   "cell_type": "code",
   "execution_count": 51,
   "id": "5588bb07",
   "metadata": {
    "execution": {
     "iopub.execute_input": "2024-09-10T11:58:42.291409Z",
     "iopub.status.busy": "2024-09-10T11:58:42.290439Z",
     "iopub.status.idle": "2024-09-10T11:58:42.314975Z",
     "shell.execute_reply": "2024-09-10T11:58:42.313669Z"
    },
    "papermill": {
     "duration": 0.067546,
     "end_time": "2024-09-10T11:58:42.317724",
     "exception": false,
     "start_time": "2024-09-10T11:58:42.250178",
     "status": "completed"
    },
    "tags": []
   },
   "outputs": [
    {
     "data": {
      "text/html": [
       "<div>\n",
       "<style scoped>\n",
       "    .dataframe tbody tr th:only-of-type {\n",
       "        vertical-align: middle;\n",
       "    }\n",
       "\n",
       "    .dataframe tbody tr th {\n",
       "        vertical-align: top;\n",
       "    }\n",
       "\n",
       "    .dataframe thead th {\n",
       "        text-align: right;\n",
       "    }\n",
       "</style>\n",
       "<table border=\"1\" class=\"dataframe\">\n",
       "  <thead>\n",
       "    <tr style=\"text-align: right;\">\n",
       "      <th></th>\n",
       "      <th>Manufacturer</th>\n",
       "      <th>Model</th>\n",
       "      <th>Category</th>\n",
       "      <th>Leather interior</th>\n",
       "      <th>Fuel type</th>\n",
       "      <th>Gear box type</th>\n",
       "      <th>Drive wheels</th>\n",
       "      <th>Wheel</th>\n",
       "      <th>Color</th>\n",
       "      <th>Levy</th>\n",
       "      <th>Prod. year</th>\n",
       "      <th>Engine volume</th>\n",
       "      <th>Mileage</th>\n",
       "      <th>Cylinders</th>\n",
       "      <th>Airbags</th>\n",
       "      <th>Age</th>\n",
       "    </tr>\n",
       "  </thead>\n",
       "  <tbody>\n",
       "    <tr>\n",
       "      <th>0</th>\n",
       "      <td>32</td>\n",
       "      <td>1136</td>\n",
       "      <td>4</td>\n",
       "      <td>1</td>\n",
       "      <td>2</td>\n",
       "      <td>0</td>\n",
       "      <td>0</td>\n",
       "      <td>0</td>\n",
       "      <td>12</td>\n",
       "      <td>1399.0</td>\n",
       "      <td>2010</td>\n",
       "      <td>3.5</td>\n",
       "      <td>186005</td>\n",
       "      <td>6.0</td>\n",
       "      <td>12</td>\n",
       "      <td>14</td>\n",
       "    </tr>\n",
       "    <tr>\n",
       "      <th>1</th>\n",
       "      <td>8</td>\n",
       "      <td>586</td>\n",
       "      <td>4</td>\n",
       "      <td>0</td>\n",
       "      <td>5</td>\n",
       "      <td>2</td>\n",
       "      <td>0</td>\n",
       "      <td>0</td>\n",
       "      <td>1</td>\n",
       "      <td>1018.0</td>\n",
       "      <td>2011</td>\n",
       "      <td>3.0</td>\n",
       "      <td>192000</td>\n",
       "      <td>6.0</td>\n",
       "      <td>8</td>\n",
       "      <td>13</td>\n",
       "    </tr>\n",
       "    <tr>\n",
       "      <th>2</th>\n",
       "      <td>21</td>\n",
       "      <td>610</td>\n",
       "      <td>3</td>\n",
       "      <td>0</td>\n",
       "      <td>5</td>\n",
       "      <td>3</td>\n",
       "      <td>1</td>\n",
       "      <td>1</td>\n",
       "      <td>1</td>\n",
       "      <td>0.0</td>\n",
       "      <td>2006</td>\n",
       "      <td>1.3</td>\n",
       "      <td>200000</td>\n",
       "      <td>4.0</td>\n",
       "      <td>2</td>\n",
       "      <td>18</td>\n",
       "    </tr>\n",
       "    <tr>\n",
       "      <th>3</th>\n",
       "      <td>16</td>\n",
       "      <td>589</td>\n",
       "      <td>4</td>\n",
       "      <td>1</td>\n",
       "      <td>2</td>\n",
       "      <td>0</td>\n",
       "      <td>0</td>\n",
       "      <td>0</td>\n",
       "      <td>14</td>\n",
       "      <td>862.0</td>\n",
       "      <td>2011</td>\n",
       "      <td>2.5</td>\n",
       "      <td>168966</td>\n",
       "      <td>4.0</td>\n",
       "      <td>0</td>\n",
       "      <td>13</td>\n",
       "    </tr>\n",
       "    <tr>\n",
       "      <th>4</th>\n",
       "      <td>21</td>\n",
       "      <td>610</td>\n",
       "      <td>3</td>\n",
       "      <td>1</td>\n",
       "      <td>5</td>\n",
       "      <td>0</td>\n",
       "      <td>1</td>\n",
       "      <td>0</td>\n",
       "      <td>12</td>\n",
       "      <td>446.0</td>\n",
       "      <td>2014</td>\n",
       "      <td>1.3</td>\n",
       "      <td>91901</td>\n",
       "      <td>4.0</td>\n",
       "      <td>4</td>\n",
       "      <td>10</td>\n",
       "    </tr>\n",
       "    <tr>\n",
       "      <th>...</th>\n",
       "      <td>...</td>\n",
       "      <td>...</td>\n",
       "      <td>...</td>\n",
       "      <td>...</td>\n",
       "      <td>...</td>\n",
       "      <td>...</td>\n",
       "      <td>...</td>\n",
       "      <td>...</td>\n",
       "      <td>...</td>\n",
       "      <td>...</td>\n",
       "      <td>...</td>\n",
       "      <td>...</td>\n",
       "      <td>...</td>\n",
       "      <td>...</td>\n",
       "      <td>...</td>\n",
       "      <td>...</td>\n",
       "    </tr>\n",
       "    <tr>\n",
       "      <th>19231</th>\n",
       "      <td>36</td>\n",
       "      <td>530</td>\n",
       "      <td>9</td>\n",
       "      <td>1</td>\n",
       "      <td>1</td>\n",
       "      <td>0</td>\n",
       "      <td>2</td>\n",
       "      <td>0</td>\n",
       "      <td>7</td>\n",
       "      <td>1055.0</td>\n",
       "      <td>2013</td>\n",
       "      <td>3.5</td>\n",
       "      <td>107800</td>\n",
       "      <td>6.0</td>\n",
       "      <td>12</td>\n",
       "      <td>11</td>\n",
       "    </tr>\n",
       "    <tr>\n",
       "      <th>19233</th>\n",
       "      <td>23</td>\n",
       "      <td>1213</td>\n",
       "      <td>9</td>\n",
       "      <td>1</td>\n",
       "      <td>5</td>\n",
       "      <td>2</td>\n",
       "      <td>1</td>\n",
       "      <td>0</td>\n",
       "      <td>11</td>\n",
       "      <td>831.0</td>\n",
       "      <td>2011</td>\n",
       "      <td>2.4</td>\n",
       "      <td>161600</td>\n",
       "      <td>4.0</td>\n",
       "      <td>8</td>\n",
       "      <td>13</td>\n",
       "    </tr>\n",
       "    <tr>\n",
       "      <th>19234</th>\n",
       "      <td>23</td>\n",
       "      <td>1312</td>\n",
       "      <td>4</td>\n",
       "      <td>1</td>\n",
       "      <td>1</td>\n",
       "      <td>0</td>\n",
       "      <td>1</td>\n",
       "      <td>0</td>\n",
       "      <td>7</td>\n",
       "      <td>836.0</td>\n",
       "      <td>2010</td>\n",
       "      <td>2.0</td>\n",
       "      <td>116365</td>\n",
       "      <td>4.0</td>\n",
       "      <td>4</td>\n",
       "      <td>14</td>\n",
       "    </tr>\n",
       "    <tr>\n",
       "      <th>19235</th>\n",
       "      <td>8</td>\n",
       "      <td>396</td>\n",
       "      <td>4</td>\n",
       "      <td>1</td>\n",
       "      <td>1</td>\n",
       "      <td>0</td>\n",
       "      <td>1</td>\n",
       "      <td>0</td>\n",
       "      <td>1</td>\n",
       "      <td>1288.0</td>\n",
       "      <td>2007</td>\n",
       "      <td>2.0</td>\n",
       "      <td>51258</td>\n",
       "      <td>4.0</td>\n",
       "      <td>4</td>\n",
       "      <td>17</td>\n",
       "    </tr>\n",
       "    <tr>\n",
       "      <th>19236</th>\n",
       "      <td>23</td>\n",
       "      <td>1213</td>\n",
       "      <td>9</td>\n",
       "      <td>1</td>\n",
       "      <td>2</td>\n",
       "      <td>0</td>\n",
       "      <td>1</td>\n",
       "      <td>0</td>\n",
       "      <td>14</td>\n",
       "      <td>753.0</td>\n",
       "      <td>2012</td>\n",
       "      <td>2.4</td>\n",
       "      <td>186923</td>\n",
       "      <td>4.0</td>\n",
       "      <td>12</td>\n",
       "      <td>12</td>\n",
       "    </tr>\n",
       "  </tbody>\n",
       "</table>\n",
       "<p>17962 rows × 16 columns</p>\n",
       "</div>"
      ],
      "text/plain": [
       "       Manufacturer  Model  Category  Leather interior  Fuel type  \\\n",
       "0                32   1136         4                 1          2   \n",
       "1                 8    586         4                 0          5   \n",
       "2                21    610         3                 0          5   \n",
       "3                16    589         4                 1          2   \n",
       "4                21    610         3                 1          5   \n",
       "...             ...    ...       ...               ...        ...   \n",
       "19231            36    530         9                 1          1   \n",
       "19233            23   1213         9                 1          5   \n",
       "19234            23   1312         4                 1          1   \n",
       "19235             8    396         4                 1          1   \n",
       "19236            23   1213         9                 1          2   \n",
       "\n",
       "       Gear box type  Drive wheels  Wheel  Color    Levy  Prod. year  \\\n",
       "0                  0             0      0     12  1399.0        2010   \n",
       "1                  2             0      0      1  1018.0        2011   \n",
       "2                  3             1      1      1     0.0        2006   \n",
       "3                  0             0      0     14   862.0        2011   \n",
       "4                  0             1      0     12   446.0        2014   \n",
       "...              ...           ...    ...    ...     ...         ...   \n",
       "19231              0             2      0      7  1055.0        2013   \n",
       "19233              2             1      0     11   831.0        2011   \n",
       "19234              0             1      0      7   836.0        2010   \n",
       "19235              0             1      0      1  1288.0        2007   \n",
       "19236              0             1      0     14   753.0        2012   \n",
       "\n",
       "       Engine volume  Mileage  Cylinders  Airbags  Age  \n",
       "0                3.5   186005        6.0       12   14  \n",
       "1                3.0   192000        6.0        8   13  \n",
       "2                1.3   200000        4.0        2   18  \n",
       "3                2.5   168966        4.0        0   13  \n",
       "4                1.3    91901        4.0        4   10  \n",
       "...              ...      ...        ...      ...  ...  \n",
       "19231            3.5   107800        6.0       12   11  \n",
       "19233            2.4   161600        4.0        8   13  \n",
       "19234            2.0   116365        4.0        4   14  \n",
       "19235            2.0    51258        4.0        4   17  \n",
       "19236            2.4   186923        4.0       12   12  \n",
       "\n",
       "[17962 rows x 16 columns]"
      ]
     },
     "execution_count": 51,
     "metadata": {},
     "output_type": "execute_result"
    }
   ],
   "source": [
    "x"
   ]
  },
  {
   "cell_type": "code",
   "execution_count": 52,
   "id": "1f4a0f6f",
   "metadata": {
    "execution": {
     "iopub.execute_input": "2024-09-10T11:58:42.399516Z",
     "iopub.status.busy": "2024-09-10T11:58:42.399028Z",
     "iopub.status.idle": "2024-09-10T11:58:42.407897Z",
     "shell.execute_reply": "2024-09-10T11:58:42.406838Z"
    },
    "papermill": {
     "duration": 0.051603,
     "end_time": "2024-09-10T11:58:42.410369",
     "exception": false,
     "start_time": "2024-09-10T11:58:42.358766",
     "status": "completed"
    },
    "tags": []
   },
   "outputs": [
    {
     "data": {
      "text/plain": [
       "0        13328\n",
       "1        16621\n",
       "2         8467\n",
       "3         3607\n",
       "4        11726\n",
       "         ...  \n",
       "19231     5802\n",
       "19233    15681\n",
       "19234    26108\n",
       "19235     5331\n",
       "19236      470\n",
       "Name: Price, Length: 17962, dtype: int64"
      ]
     },
     "execution_count": 52,
     "metadata": {},
     "output_type": "execute_result"
    }
   ],
   "source": [
    "y"
   ]
  },
  {
   "cell_type": "code",
   "execution_count": 53,
   "id": "b9296c03",
   "metadata": {
    "execution": {
     "iopub.execute_input": "2024-09-10T11:58:42.491795Z",
     "iopub.status.busy": "2024-09-10T11:58:42.490774Z",
     "iopub.status.idle": "2024-09-10T11:58:42.501265Z",
     "shell.execute_reply": "2024-09-10T11:58:42.500098Z"
    },
    "papermill": {
     "duration": 0.054456,
     "end_time": "2024-09-10T11:58:42.503994",
     "exception": false,
     "start_time": "2024-09-10T11:58:42.449538",
     "status": "completed"
    },
    "tags": []
   },
   "outputs": [],
   "source": [
    "x_train, x_test, y_train, y_test = train_test_split(x,y, test_size=0.25, random_state=42)"
   ]
  },
  {
   "cell_type": "code",
   "execution_count": 54,
   "id": "da2dcbd6",
   "metadata": {
    "execution": {
     "iopub.execute_input": "2024-09-10T11:58:42.585395Z",
     "iopub.status.busy": "2024-09-10T11:58:42.584932Z",
     "iopub.status.idle": "2024-09-10T11:58:42.594241Z",
     "shell.execute_reply": "2024-09-10T11:58:42.593079Z"
    },
    "papermill": {
     "duration": 0.052974,
     "end_time": "2024-09-10T11:58:42.596963",
     "exception": false,
     "start_time": "2024-09-10T11:58:42.543989",
     "status": "completed"
    },
    "tags": []
   },
   "outputs": [],
   "source": [
    "Model_LR=LinearRegression()\n",
    "Model_RF=RandomForestRegressor(n_estimators=100, max_features= 7)\n",
    "Model_SVC=SVR()\n",
    "Model_XGB=XGBRegressor(ax_depth = 7, n_estimators=500, learning_rate =.05)\n",
    "Model_GBoosting=GradientBoostingRegressor(learning_rate =.07, max_depth =7, verbose=0)\n",
    "Model_DT=DecisionTreeRegressor()"
   ]
  },
  {
   "cell_type": "code",
   "execution_count": 55,
   "id": "e11d4d69",
   "metadata": {
    "execution": {
     "iopub.execute_input": "2024-09-10T11:58:42.675856Z",
     "iopub.status.busy": "2024-09-10T11:58:42.675395Z",
     "iopub.status.idle": "2024-09-10T11:58:42.680938Z",
     "shell.execute_reply": "2024-09-10T11:58:42.679767Z"
    },
    "papermill": {
     "duration": 0.047756,
     "end_time": "2024-09-10T11:58:42.683227",
     "exception": false,
     "start_time": "2024-09-10T11:58:42.635471",
     "status": "completed"
    },
    "tags": []
   },
   "outputs": [],
   "source": [
    "Algo=['LinearRegression','RandomForestRegressor','SVR','XGBRegressor','GradientBoostingRegressor','DecisionTreeRegressor']\n",
    "R2=[]\n",
    "RMSE=[]"
   ]
  },
  {
   "cell_type": "code",
   "execution_count": 56,
   "id": "f2c8bb8d",
   "metadata": {
    "execution": {
     "iopub.execute_input": "2024-09-10T11:58:42.763087Z",
     "iopub.status.busy": "2024-09-10T11:58:42.762271Z",
     "iopub.status.idle": "2024-09-10T11:58:42.769796Z",
     "shell.execute_reply": "2024-09-10T11:58:42.768554Z"
    },
    "papermill": {
     "duration": 0.050475,
     "end_time": "2024-09-10T11:58:42.772120",
     "exception": false,
     "start_time": "2024-09-10T11:58:42.721645",
     "status": "completed"
    },
    "tags": []
   },
   "outputs": [],
   "source": [
    "def predict(model):\n",
    "    model.fit(x_train,y_train)\n",
    "    model.predict(x_test)\n",
    "    r2=r2_score(y_test,model.predict(x_test))\n",
    "    rmse=np.sqrt(mean_squared_error(y_test,model.predict(x_test)))\n",
    "    R2.append(r2)\n",
    "    RMSE.append(rmse)\n",
    "    score=model.score(x_test,y_test)\n",
    "    print(f'score of model is : {score}')\n",
    "    "
   ]
  },
  {
   "cell_type": "code",
   "execution_count": 57,
   "id": "1f1ee731",
   "metadata": {
    "execution": {
     "iopub.execute_input": "2024-09-10T11:58:42.853378Z",
     "iopub.status.busy": "2024-09-10T11:58:42.852350Z",
     "iopub.status.idle": "2024-09-10T11:59:27.274897Z",
     "shell.execute_reply": "2024-09-10T11:59:27.273397Z"
    },
    "papermill": {
     "duration": 44.466244,
     "end_time": "2024-09-10T11:59:27.277949",
     "exception": false,
     "start_time": "2024-09-10T11:58:42.811705",
     "status": "completed"
    },
    "tags": []
   },
   "outputs": [
    {
     "name": "stdout",
     "output_type": "stream",
     "text": [
      "score of model is : 0.21538755560337397\n",
      "score of model is : 0.7198119503304252\n",
      "score of model is : -0.04374447814869198\n",
      "score of model is : 0.7233787888910785\n",
      "score of model is : 0.6847084288076899\n",
      "score of model is : 0.5567822475233561\n"
     ]
    }
   ],
   "source": [
    "predict(Model_LR)\n",
    "predict(Model_RF)\n",
    "predict(Model_SVC)\n",
    "predict(Model_XGB)\n",
    "predict(Model_GBoosting)\n",
    "predict(Model_DT)"
   ]
  },
  {
   "cell_type": "code",
   "execution_count": 58,
   "id": "68971882",
   "metadata": {
    "execution": {
     "iopub.execute_input": "2024-09-10T11:59:27.358910Z",
     "iopub.status.busy": "2024-09-10T11:59:27.358415Z",
     "iopub.status.idle": "2024-09-10T11:59:27.371760Z",
     "shell.execute_reply": "2024-09-10T11:59:27.370579Z"
    },
    "papermill": {
     "duration": 0.056715,
     "end_time": "2024-09-10T11:59:27.374360",
     "exception": false,
     "start_time": "2024-09-10T11:59:27.317645",
     "status": "completed"
    },
    "tags": []
   },
   "outputs": [
    {
     "data": {
      "text/html": [
       "<div>\n",
       "<style scoped>\n",
       "    .dataframe tbody tr th:only-of-type {\n",
       "        vertical-align: middle;\n",
       "    }\n",
       "\n",
       "    .dataframe tbody tr th {\n",
       "        vertical-align: top;\n",
       "    }\n",
       "\n",
       "    .dataframe thead th {\n",
       "        text-align: right;\n",
       "    }\n",
       "</style>\n",
       "<table border=\"1\" class=\"dataframe\">\n",
       "  <thead>\n",
       "    <tr style=\"text-align: right;\">\n",
       "      <th></th>\n",
       "      <th>Algorithm</th>\n",
       "      <th>R2_core</th>\n",
       "      <th>RMSE</th>\n",
       "    </tr>\n",
       "  </thead>\n",
       "  <tbody>\n",
       "    <tr>\n",
       "      <th>0</th>\n",
       "      <td>LinearRegression</td>\n",
       "      <td>0.215388</td>\n",
       "      <td>16306.512772</td>\n",
       "    </tr>\n",
       "    <tr>\n",
       "      <th>1</th>\n",
       "      <td>RandomForestRegressor</td>\n",
       "      <td>0.719812</td>\n",
       "      <td>9744.471799</td>\n",
       "    </tr>\n",
       "    <tr>\n",
       "      <th>2</th>\n",
       "      <td>SVR</td>\n",
       "      <td>-0.043744</td>\n",
       "      <td>18807.479383</td>\n",
       "    </tr>\n",
       "    <tr>\n",
       "      <th>3</th>\n",
       "      <td>XGBRegressor</td>\n",
       "      <td>0.723379</td>\n",
       "      <td>9682.248797</td>\n",
       "    </tr>\n",
       "    <tr>\n",
       "      <th>4</th>\n",
       "      <td>GradientBoostingRegressor</td>\n",
       "      <td>0.684708</td>\n",
       "      <td>10336.884873</td>\n",
       "    </tr>\n",
       "    <tr>\n",
       "      <th>5</th>\n",
       "      <td>DecisionTreeRegressor</td>\n",
       "      <td>0.556782</td>\n",
       "      <td>12255.811495</td>\n",
       "    </tr>\n",
       "  </tbody>\n",
       "</table>\n",
       "</div>"
      ],
      "text/plain": [
       "                   Algorithm   R2_core          RMSE\n",
       "0           LinearRegression  0.215388  16306.512772\n",
       "1      RandomForestRegressor  0.719812   9744.471799\n",
       "2                        SVR -0.043744  18807.479383\n",
       "3               XGBRegressor  0.723379   9682.248797\n",
       "4  GradientBoostingRegressor  0.684708  10336.884873\n",
       "5      DecisionTreeRegressor  0.556782  12255.811495"
      ]
     },
     "execution_count": 58,
     "metadata": {},
     "output_type": "execute_result"
    }
   ],
   "source": [
    "pd.DataFrame({'Algorithm':Algo,'R2_core':R2,'RMSE':RMSE})"
   ]
  },
  {
   "cell_type": "code",
   "execution_count": null,
   "id": "25298e0c",
   "metadata": {
    "papermill": {
     "duration": 0.03885,
     "end_time": "2024-09-10T11:59:27.452492",
     "exception": false,
     "start_time": "2024-09-10T11:59:27.413642",
     "status": "completed"
    },
    "tags": []
   },
   "outputs": [],
   "source": []
  },
  {
   "cell_type": "code",
   "execution_count": null,
   "id": "3f433a32",
   "metadata": {
    "papermill": {
     "duration": 0.040198,
     "end_time": "2024-09-10T11:59:27.532640",
     "exception": false,
     "start_time": "2024-09-10T11:59:27.492442",
     "status": "completed"
    },
    "tags": []
   },
   "outputs": [],
   "source": []
  }
 ],
 "metadata": {
  "kaggle": {
   "accelerator": "none",
   "dataSources": [
    {
     "datasetId": 2322277,
     "sourceId": 3909829,
     "sourceType": "datasetVersion"
    }
   ],
   "dockerImageVersionId": 30761,
   "isGpuEnabled": false,
   "isInternetEnabled": true,
   "language": "python",
   "sourceType": "notebook"
  },
  "kernelspec": {
   "display_name": "Python 3",
   "language": "python",
   "name": "python3"
  },
  "language_info": {
   "codemirror_mode": {
    "name": "ipython",
    "version": 3
   },
   "file_extension": ".py",
   "mimetype": "text/x-python",
   "name": "python",
   "nbconvert_exporter": "python",
   "pygments_lexer": "ipython3",
   "version": "3.10.14"
  },
  "papermill": {
   "default_parameters": {},
   "duration": 64.095924,
   "end_time": "2024-09-10T11:59:28.294300",
   "environment_variables": {},
   "exception": null,
   "input_path": "__notebook__.ipynb",
   "output_path": "__notebook__.ipynb",
   "parameters": {},
   "start_time": "2024-09-10T11:58:24.198376",
   "version": "2.6.0"
  }
 },
 "nbformat": 4,
 "nbformat_minor": 5
}
