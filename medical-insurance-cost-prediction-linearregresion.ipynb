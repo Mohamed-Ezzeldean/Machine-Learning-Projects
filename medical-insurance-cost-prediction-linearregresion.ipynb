{
 "cells": [
  {
   "cell_type": "markdown",
   "id": "a917c017",
   "metadata": {
    "papermill": {
     "duration": 0.01344,
     "end_time": "2024-08-30T14:32:27.104337",
     "exception": false,
     "start_time": "2024-08-30T14:32:27.090897",
     "status": "completed"
    },
    "tags": []
   },
   "source": [
    "## import libraries"
   ]
  },
  {
   "cell_type": "code",
   "execution_count": 1,
   "id": "f6f805b6",
   "metadata": {
    "execution": {
     "iopub.execute_input": "2024-08-30T14:32:27.131627Z",
     "iopub.status.busy": "2024-08-30T14:32:27.131147Z",
     "iopub.status.idle": "2024-08-30T14:32:30.068302Z",
     "shell.execute_reply": "2024-08-30T14:32:30.067127Z"
    },
    "papermill": {
     "duration": 2.954208,
     "end_time": "2024-08-30T14:32:30.071238",
     "exception": false,
     "start_time": "2024-08-30T14:32:27.117030",
     "status": "completed"
    },
    "tags": []
   },
   "outputs": [],
   "source": [
    "import numpy as np\n",
    "import pandas as pd \n",
    "import seaborn as sns\n",
    "import matplotlib.pyplot as plt\n",
    "%matplotlib inline\n",
    "from sklearn.linear_model import LinearRegression\n",
    "from sklearn.model_selection import train_test_split\n",
    "from sklearn import metrics"
   ]
  },
  {
   "cell_type": "markdown",
   "id": "4b35e045",
   "metadata": {
    "papermill": {
     "duration": 0.011906,
     "end_time": "2024-08-30T14:32:30.095697",
     "exception": false,
     "start_time": "2024-08-30T14:32:30.083791",
     "status": "completed"
    },
    "tags": []
   },
   "source": [
    "## Load data and get info"
   ]
  },
  {
   "cell_type": "code",
   "execution_count": 2,
   "id": "e9cc8cdc",
   "metadata": {
    "execution": {
     "iopub.execute_input": "2024-08-30T14:32:30.122592Z",
     "iopub.status.busy": "2024-08-30T14:32:30.121985Z",
     "iopub.status.idle": "2024-08-30T14:32:30.159573Z",
     "shell.execute_reply": "2024-08-30T14:32:30.158225Z"
    },
    "papermill": {
     "duration": 0.054747,
     "end_time": "2024-08-30T14:32:30.162710",
     "exception": false,
     "start_time": "2024-08-30T14:32:30.107963",
     "status": "completed"
    },
    "tags": []
   },
   "outputs": [],
   "source": [
    "insurance=pd.read_csv('/kaggle/input/insurance/insurance.csv')"
   ]
  },
  {
   "cell_type": "code",
   "execution_count": 3,
   "id": "bc3e40bd",
   "metadata": {
    "execution": {
     "iopub.execute_input": "2024-08-30T14:32:30.190442Z",
     "iopub.status.busy": "2024-08-30T14:32:30.189176Z",
     "iopub.status.idle": "2024-08-30T14:32:30.225186Z",
     "shell.execute_reply": "2024-08-30T14:32:30.223931Z"
    },
    "papermill": {
     "duration": 0.052996,
     "end_time": "2024-08-30T14:32:30.228235",
     "exception": false,
     "start_time": "2024-08-30T14:32:30.175239",
     "status": "completed"
    },
    "tags": []
   },
   "outputs": [
    {
     "data": {
      "text/html": [
       "<div>\n",
       "<style scoped>\n",
       "    .dataframe tbody tr th:only-of-type {\n",
       "        vertical-align: middle;\n",
       "    }\n",
       "\n",
       "    .dataframe tbody tr th {\n",
       "        vertical-align: top;\n",
       "    }\n",
       "\n",
       "    .dataframe thead th {\n",
       "        text-align: right;\n",
       "    }\n",
       "</style>\n",
       "<table border=\"1\" class=\"dataframe\">\n",
       "  <thead>\n",
       "    <tr style=\"text-align: right;\">\n",
       "      <th></th>\n",
       "      <th>age</th>\n",
       "      <th>sex</th>\n",
       "      <th>bmi</th>\n",
       "      <th>children</th>\n",
       "      <th>smoker</th>\n",
       "      <th>region</th>\n",
       "      <th>charges</th>\n",
       "    </tr>\n",
       "  </thead>\n",
       "  <tbody>\n",
       "    <tr>\n",
       "      <th>0</th>\n",
       "      <td>19</td>\n",
       "      <td>female</td>\n",
       "      <td>27.900</td>\n",
       "      <td>0</td>\n",
       "      <td>yes</td>\n",
       "      <td>southwest</td>\n",
       "      <td>16884.92400</td>\n",
       "    </tr>\n",
       "    <tr>\n",
       "      <th>1</th>\n",
       "      <td>18</td>\n",
       "      <td>male</td>\n",
       "      <td>33.770</td>\n",
       "      <td>1</td>\n",
       "      <td>no</td>\n",
       "      <td>southeast</td>\n",
       "      <td>1725.55230</td>\n",
       "    </tr>\n",
       "    <tr>\n",
       "      <th>2</th>\n",
       "      <td>28</td>\n",
       "      <td>male</td>\n",
       "      <td>33.000</td>\n",
       "      <td>3</td>\n",
       "      <td>no</td>\n",
       "      <td>southeast</td>\n",
       "      <td>4449.46200</td>\n",
       "    </tr>\n",
       "    <tr>\n",
       "      <th>3</th>\n",
       "      <td>33</td>\n",
       "      <td>male</td>\n",
       "      <td>22.705</td>\n",
       "      <td>0</td>\n",
       "      <td>no</td>\n",
       "      <td>northwest</td>\n",
       "      <td>21984.47061</td>\n",
       "    </tr>\n",
       "    <tr>\n",
       "      <th>4</th>\n",
       "      <td>32</td>\n",
       "      <td>male</td>\n",
       "      <td>28.880</td>\n",
       "      <td>0</td>\n",
       "      <td>no</td>\n",
       "      <td>northwest</td>\n",
       "      <td>3866.85520</td>\n",
       "    </tr>\n",
       "  </tbody>\n",
       "</table>\n",
       "</div>"
      ],
      "text/plain": [
       "   age     sex     bmi  children smoker     region      charges\n",
       "0   19  female  27.900         0    yes  southwest  16884.92400\n",
       "1   18    male  33.770         1     no  southeast   1725.55230\n",
       "2   28    male  33.000         3     no  southeast   4449.46200\n",
       "3   33    male  22.705         0     no  northwest  21984.47061\n",
       "4   32    male  28.880         0     no  northwest   3866.85520"
      ]
     },
     "execution_count": 3,
     "metadata": {},
     "output_type": "execute_result"
    }
   ],
   "source": [
    "insurance.head()"
   ]
  },
  {
   "cell_type": "code",
   "execution_count": 4,
   "id": "3e45ceef",
   "metadata": {
    "execution": {
     "iopub.execute_input": "2024-08-30T14:32:30.255545Z",
     "iopub.status.busy": "2024-08-30T14:32:30.255076Z",
     "iopub.status.idle": "2024-08-30T14:32:30.262820Z",
     "shell.execute_reply": "2024-08-30T14:32:30.261621Z"
    },
    "papermill": {
     "duration": 0.024319,
     "end_time": "2024-08-30T14:32:30.265349",
     "exception": false,
     "start_time": "2024-08-30T14:32:30.241030",
     "status": "completed"
    },
    "tags": []
   },
   "outputs": [
    {
     "data": {
      "text/plain": [
       "(1338, 7)"
      ]
     },
     "execution_count": 4,
     "metadata": {},
     "output_type": "execute_result"
    }
   ],
   "source": [
    "insurance.shape"
   ]
  },
  {
   "cell_type": "code",
   "execution_count": 5,
   "id": "e367ef7d",
   "metadata": {
    "execution": {
     "iopub.execute_input": "2024-08-30T14:32:30.292948Z",
     "iopub.status.busy": "2024-08-30T14:32:30.292530Z",
     "iopub.status.idle": "2024-08-30T14:32:30.325316Z",
     "shell.execute_reply": "2024-08-30T14:32:30.324014Z"
    },
    "papermill": {
     "duration": 0.049891,
     "end_time": "2024-08-30T14:32:30.328370",
     "exception": false,
     "start_time": "2024-08-30T14:32:30.278479",
     "status": "completed"
    },
    "tags": []
   },
   "outputs": [
    {
     "name": "stdout",
     "output_type": "stream",
     "text": [
      "<class 'pandas.core.frame.DataFrame'>\n",
      "RangeIndex: 1338 entries, 0 to 1337\n",
      "Data columns (total 7 columns):\n",
      " #   Column    Non-Null Count  Dtype  \n",
      "---  ------    --------------  -----  \n",
      " 0   age       1338 non-null   int64  \n",
      " 1   sex       1338 non-null   object \n",
      " 2   bmi       1338 non-null   float64\n",
      " 3   children  1338 non-null   int64  \n",
      " 4   smoker    1338 non-null   object \n",
      " 5   region    1338 non-null   object \n",
      " 6   charges   1338 non-null   float64\n",
      "dtypes: float64(2), int64(2), object(3)\n",
      "memory usage: 73.3+ KB\n"
     ]
    }
   ],
   "source": [
    "insurance.info()"
   ]
  },
  {
   "cell_type": "code",
   "execution_count": 6,
   "id": "db8a5ebe",
   "metadata": {
    "execution": {
     "iopub.execute_input": "2024-08-30T14:32:30.358640Z",
     "iopub.status.busy": "2024-08-30T14:32:30.358172Z",
     "iopub.status.idle": "2024-08-30T14:32:30.369727Z",
     "shell.execute_reply": "2024-08-30T14:32:30.368262Z"
    },
    "papermill": {
     "duration": 0.030881,
     "end_time": "2024-08-30T14:32:30.372521",
     "exception": false,
     "start_time": "2024-08-30T14:32:30.341640",
     "status": "completed"
    },
    "tags": []
   },
   "outputs": [
    {
     "data": {
      "text/plain": [
       "age         0\n",
       "sex         0\n",
       "bmi         0\n",
       "children    0\n",
       "smoker      0\n",
       "region      0\n",
       "charges     0\n",
       "dtype: int64"
      ]
     },
     "execution_count": 6,
     "metadata": {},
     "output_type": "execute_result"
    }
   ],
   "source": [
    "insurance.isna().sum()"
   ]
  },
  {
   "cell_type": "code",
   "execution_count": 7,
   "id": "c1e81099",
   "metadata": {
    "execution": {
     "iopub.execute_input": "2024-08-30T14:32:30.401619Z",
     "iopub.status.busy": "2024-08-30T14:32:30.400701Z",
     "iopub.status.idle": "2024-08-30T14:32:30.411261Z",
     "shell.execute_reply": "2024-08-30T14:32:30.410168Z"
    },
    "papermill": {
     "duration": 0.027507,
     "end_time": "2024-08-30T14:32:30.413755",
     "exception": false,
     "start_time": "2024-08-30T14:32:30.386248",
     "status": "completed"
    },
    "tags": []
   },
   "outputs": [
    {
     "data": {
      "text/plain": [
       "1"
      ]
     },
     "execution_count": 7,
     "metadata": {},
     "output_type": "execute_result"
    }
   ],
   "source": [
    "insurance.duplicated().sum()"
   ]
  },
  {
   "cell_type": "code",
   "execution_count": 8,
   "id": "7af37d1a",
   "metadata": {
    "execution": {
     "iopub.execute_input": "2024-08-30T14:32:30.442722Z",
     "iopub.status.busy": "2024-08-30T14:32:30.442235Z",
     "iopub.status.idle": "2024-08-30T14:32:30.472266Z",
     "shell.execute_reply": "2024-08-30T14:32:30.471034Z"
    },
    "papermill": {
     "duration": 0.047761,
     "end_time": "2024-08-30T14:32:30.475009",
     "exception": false,
     "start_time": "2024-08-30T14:32:30.427248",
     "status": "completed"
    },
    "tags": []
   },
   "outputs": [
    {
     "data": {
      "text/html": [
       "<div>\n",
       "<style scoped>\n",
       "    .dataframe tbody tr th:only-of-type {\n",
       "        vertical-align: middle;\n",
       "    }\n",
       "\n",
       "    .dataframe tbody tr th {\n",
       "        vertical-align: top;\n",
       "    }\n",
       "\n",
       "    .dataframe thead th {\n",
       "        text-align: right;\n",
       "    }\n",
       "</style>\n",
       "<table border=\"1\" class=\"dataframe\">\n",
       "  <thead>\n",
       "    <tr style=\"text-align: right;\">\n",
       "      <th></th>\n",
       "      <th>age</th>\n",
       "      <th>bmi</th>\n",
       "      <th>children</th>\n",
       "      <th>charges</th>\n",
       "    </tr>\n",
       "  </thead>\n",
       "  <tbody>\n",
       "    <tr>\n",
       "      <th>count</th>\n",
       "      <td>1338.000000</td>\n",
       "      <td>1338.000000</td>\n",
       "      <td>1338.000000</td>\n",
       "      <td>1338.000000</td>\n",
       "    </tr>\n",
       "    <tr>\n",
       "      <th>mean</th>\n",
       "      <td>39.207025</td>\n",
       "      <td>30.663397</td>\n",
       "      <td>1.094918</td>\n",
       "      <td>13270.422265</td>\n",
       "    </tr>\n",
       "    <tr>\n",
       "      <th>std</th>\n",
       "      <td>14.049960</td>\n",
       "      <td>6.098187</td>\n",
       "      <td>1.205493</td>\n",
       "      <td>12110.011237</td>\n",
       "    </tr>\n",
       "    <tr>\n",
       "      <th>min</th>\n",
       "      <td>18.000000</td>\n",
       "      <td>15.960000</td>\n",
       "      <td>0.000000</td>\n",
       "      <td>1121.873900</td>\n",
       "    </tr>\n",
       "    <tr>\n",
       "      <th>25%</th>\n",
       "      <td>27.000000</td>\n",
       "      <td>26.296250</td>\n",
       "      <td>0.000000</td>\n",
       "      <td>4740.287150</td>\n",
       "    </tr>\n",
       "    <tr>\n",
       "      <th>50%</th>\n",
       "      <td>39.000000</td>\n",
       "      <td>30.400000</td>\n",
       "      <td>1.000000</td>\n",
       "      <td>9382.033000</td>\n",
       "    </tr>\n",
       "    <tr>\n",
       "      <th>75%</th>\n",
       "      <td>51.000000</td>\n",
       "      <td>34.693750</td>\n",
       "      <td>2.000000</td>\n",
       "      <td>16639.912515</td>\n",
       "    </tr>\n",
       "    <tr>\n",
       "      <th>max</th>\n",
       "      <td>64.000000</td>\n",
       "      <td>53.130000</td>\n",
       "      <td>5.000000</td>\n",
       "      <td>63770.428010</td>\n",
       "    </tr>\n",
       "  </tbody>\n",
       "</table>\n",
       "</div>"
      ],
      "text/plain": [
       "               age          bmi     children       charges\n",
       "count  1338.000000  1338.000000  1338.000000   1338.000000\n",
       "mean     39.207025    30.663397     1.094918  13270.422265\n",
       "std      14.049960     6.098187     1.205493  12110.011237\n",
       "min      18.000000    15.960000     0.000000   1121.873900\n",
       "25%      27.000000    26.296250     0.000000   4740.287150\n",
       "50%      39.000000    30.400000     1.000000   9382.033000\n",
       "75%      51.000000    34.693750     2.000000  16639.912515\n",
       "max      64.000000    53.130000     5.000000  63770.428010"
      ]
     },
     "execution_count": 8,
     "metadata": {},
     "output_type": "execute_result"
    }
   ],
   "source": [
    "insurance.describe()"
   ]
  },
  {
   "cell_type": "markdown",
   "id": "cc6a713e",
   "metadata": {
    "execution": {
     "iopub.execute_input": "2024-08-29T15:57:04.265900Z",
     "iopub.status.busy": "2024-08-29T15:57:04.265476Z",
     "iopub.status.idle": "2024-08-29T15:57:04.271110Z",
     "shell.execute_reply": "2024-08-29T15:57:04.269905Z",
     "shell.execute_reply.started": "2024-08-29T15:57:04.265859Z"
    },
    "papermill": {
     "duration": 0.013007,
     "end_time": "2024-08-30T14:32:30.502050",
     "exception": false,
     "start_time": "2024-08-30T14:32:30.489043",
     "status": "completed"
    },
    "tags": []
   },
   "source": [
    "## Visualization"
   ]
  },
  {
   "cell_type": "code",
   "execution_count": 9,
   "id": "7d82608d",
   "metadata": {
    "execution": {
     "iopub.execute_input": "2024-08-30T14:32:30.530896Z",
     "iopub.status.busy": "2024-08-30T14:32:30.530430Z",
     "iopub.status.idle": "2024-08-30T14:32:30.878928Z",
     "shell.execute_reply": "2024-08-30T14:32:30.877664Z"
    },
    "papermill": {
     "duration": 0.36616,
     "end_time": "2024-08-30T14:32:30.881649",
     "exception": false,
     "start_time": "2024-08-30T14:32:30.515489",
     "status": "completed"
    },
    "tags": []
   },
   "outputs": [
    {
     "data": {
      "text/plain": [
       "<Axes: ylabel='Frequency'>"
      ]
     },
     "execution_count": 9,
     "metadata": {},
     "output_type": "execute_result"
    },
    {
     "data": {
      "image/png": "[encoded data removed]",
      "text/plain": [
       "<Figure size 640x480 with 1 Axes>"
      ]
     },
     "metadata": {},
     "output_type": "display_data"
    }
   ],
   "source": [
    "insurance['age'].plot(kind='hist')"
   ]
  },
  {
   "cell_type": "code",
   "execution_count": 10,
   "id": "f3a80cb2",
   "metadata": {
    "execution": {
     "iopub.execute_input": "2024-08-30T14:32:30.913409Z",
     "iopub.status.busy": "2024-08-30T14:32:30.912012Z",
     "iopub.status.idle": "2024-08-30T14:32:31.126563Z",
     "shell.execute_reply": "2024-08-30T14:32:31.125030Z"
    },
    "papermill": {
     "duration": 0.234456,
     "end_time": "2024-08-30T14:32:31.130689",
     "exception": false,
     "start_time": "2024-08-30T14:32:30.896233",
     "status": "completed"
    },
    "tags": []
   },
   "outputs": [
    {
     "data": {
      "text/plain": [
       "<Axes: xlabel='sex'>"
      ]
     },
     "execution_count": 10,
     "metadata": {},
     "output_type": "execute_result"
    },
    {
     "data": {
      "image/png": "[encoded data removed]",
      "text/plain": [
       "<Figure size 640x480 with 1 Axes>"
      ]
     },
     "metadata": {},
     "output_type": "display_data"
    }
   ],
   "source": [
    "insurance['sex'].value_counts().plot(kind='bar')"
   ]
  },
  {
   "cell_type": "code",
   "execution_count": 11,
   "id": "c9928ec1",
   "metadata": {
    "execution": {
     "iopub.execute_input": "2024-08-30T14:32:31.162616Z",
     "iopub.status.busy": "2024-08-30T14:32:31.162145Z",
     "iopub.status.idle": "2024-08-30T14:32:31.420426Z",
     "shell.execute_reply": "2024-08-30T14:32:31.419071Z"
    },
    "papermill": {
     "duration": 0.277245,
     "end_time": "2024-08-30T14:32:31.423173",
     "exception": false,
     "start_time": "2024-08-30T14:32:31.145928",
     "status": "completed"
    },
    "tags": []
   },
   "outputs": [
    {
     "data": {
      "text/plain": [
       "<Axes: xlabel='smoker'>"
      ]
     },
     "execution_count": 11,
     "metadata": {},
     "output_type": "execute_result"
    },
    {
     "data": {
      "image/png": "[encoded data removed]",
      "text/plain": [
       "<Figure size 640x480 with 1 Axes>"
      ]
     },
     "metadata": {},
     "output_type": "display_data"
    }
   ],
   "source": [
    "insurance['smoker'].value_counts().plot(kind='bar')"
   ]
  },
  {
   "cell_type": "code",
   "execution_count": 12,
   "id": "f0e8c53d",
   "metadata": {
    "execution": {
     "iopub.execute_input": "2024-08-30T14:32:31.455872Z",
     "iopub.status.busy": "2024-08-30T14:32:31.455392Z",
     "iopub.status.idle": "2024-08-30T14:32:31.729269Z",
     "shell.execute_reply": "2024-08-30T14:32:31.728026Z"
    },
    "papermill": {
     "duration": 0.293504,
     "end_time": "2024-08-30T14:32:31.732004",
     "exception": false,
     "start_time": "2024-08-30T14:32:31.438500",
     "status": "completed"
    },
    "tags": []
   },
   "outputs": [
    {
     "data": {
      "text/plain": [
       "<Axes: ylabel='Frequency'>"
      ]
     },
     "execution_count": 12,
     "metadata": {},
     "output_type": "execute_result"
    },
    {
     "data": {
      "image/png": "[encoded data removed]",
      "text/plain": [
       "<Figure size 640x480 with 1 Axes>"
      ]
     },
     "metadata": {},
     "output_type": "display_data"
    }
   ],
   "source": [
    "insurance['bmi'].plot(kind='hist')"
   ]
  },
  {
   "cell_type": "code",
   "execution_count": 13,
   "id": "b6868a99",
   "metadata": {
    "execution": {
     "iopub.execute_input": "2024-08-30T14:32:31.765399Z",
     "iopub.status.busy": "2024-08-30T14:32:31.764941Z",
     "iopub.status.idle": "2024-08-30T14:32:31.998368Z",
     "shell.execute_reply": "2024-08-30T14:32:31.997065Z"
    },
    "papermill": {
     "duration": 0.253416,
     "end_time": "2024-08-30T14:32:32.001305",
     "exception": false,
     "start_time": "2024-08-30T14:32:31.747889",
     "status": "completed"
    },
    "tags": []
   },
   "outputs": [
    {
     "data": {
      "text/plain": [
       "<Axes: xlabel='children'>"
      ]
     },
     "execution_count": 13,
     "metadata": {},
     "output_type": "execute_result"
    },
    {
     "data": {
      "image/png": "[encoded data removed]",
      "text/plain": [
       "<Figure size 640x480 with 1 Axes>"
      ]
     },
     "metadata": {},
     "output_type": "display_data"
    }
   ],
   "source": [
    "insurance['children'].value_counts().plot(kind='bar')"
   ]
  },
  {
   "cell_type": "code",
   "execution_count": 14,
   "id": "422496a7",
   "metadata": {
    "execution": {
     "iopub.execute_input": "2024-08-30T14:32:32.037060Z",
     "iopub.status.busy": "2024-08-30T14:32:32.035473Z",
     "iopub.status.idle": "2024-08-30T14:32:32.317305Z",
     "shell.execute_reply": "2024-08-30T14:32:32.315759Z"
    },
    "papermill": {
     "duration": 0.302875,
     "end_time": "2024-08-30T14:32:32.320028",
     "exception": false,
     "start_time": "2024-08-30T14:32:32.017153",
     "status": "completed"
    },
    "tags": []
   },
   "outputs": [
    {
     "data": {
      "text/plain": [
       "<Axes: xlabel='region'>"
      ]
     },
     "execution_count": 14,
     "metadata": {},
     "output_type": "execute_result"
    },
    {
     "data": {
      "image/png": "[encoded data removed]",
      "text/plain": [
       "<Figure size 640x480 with 1 Axes>"
      ]
     },
     "metadata": {},
     "output_type": "display_data"
    }
   ],
   "source": [
    "insurance['region'].value_counts().plot(kind='bar')"
   ]
  },
  {
   "cell_type": "markdown",
   "id": "754fb9ef",
   "metadata": {
    "papermill": {
     "duration": 0.017327,
     "end_time": "2024-08-30T14:32:32.354797",
     "exception": false,
     "start_time": "2024-08-30T14:32:32.337470",
     "status": "completed"
    },
    "tags": []
   },
   "source": [
    "## preprocessing"
   ]
  },
  {
   "cell_type": "code",
   "execution_count": 15,
   "id": "12e5e28d",
   "metadata": {
    "execution": {
     "iopub.execute_input": "2024-08-30T14:32:32.391343Z",
     "iopub.status.busy": "2024-08-30T14:32:32.390802Z",
     "iopub.status.idle": "2024-08-30T14:32:32.405906Z",
     "shell.execute_reply": "2024-08-30T14:32:32.404175Z"
    },
    "papermill": {
     "duration": 0.03622,
     "end_time": "2024-08-30T14:32:32.408860",
     "exception": false,
     "start_time": "2024-08-30T14:32:32.372640",
     "status": "completed"
    },
    "tags": []
   },
   "outputs": [
    {
     "name": "stdout",
     "output_type": "stream",
     "text": [
      "Before Encoding the Data:\n",
      "\n",
      "      sex\n",
      "0    male\n",
      "1  female\n",
      "\n",
      "Before Encoding the Data:\n",
      "\n",
      "  smoker\n",
      "0    yes\n",
      "1     no\n",
      "\n",
      "Before Encoding the Data:\n",
      "\n",
      "       region\n",
      "0   southeast\n",
      "1   southwest\n",
      "2   northeast\n",
      "3   northwest\n",
      "\n"
     ]
    }
   ],
   "source": [
    "from sklearn.preprocessing import LabelEncoder\n",
    "\n",
    "# Create a sample dataframe with categorical data\n",
    "sexx = pd.DataFrame({'sex': ['male', 'female']})\n",
    "smokerr = pd.DataFrame({'smoker': ['yes', 'no']})\n",
    "regionn = pd.DataFrame({'region': ['southeast', 'southwest','northeast',' northwest']})\n",
    "\n",
    "print(f\"Before Encoding the Data:\\n\\n{sexx}\\n\")\n",
    "print(f\"Before Encoding the Data:\\n\\n{smokerr}\\n\")\n",
    "print(f\"Before Encoding the Data:\\n\\n{regionn}\\n\")"
   ]
  },
  {
   "cell_type": "code",
   "execution_count": 16,
   "id": "2e83da9d",
   "metadata": {
    "execution": {
     "iopub.execute_input": "2024-08-30T14:32:32.444526Z",
     "iopub.status.busy": "2024-08-30T14:32:32.444007Z",
     "iopub.status.idle": "2024-08-30T14:32:32.455003Z",
     "shell.execute_reply": "2024-08-30T14:32:32.453323Z"
    },
    "papermill": {
     "duration": 0.03238,
     "end_time": "2024-08-30T14:32:32.457855",
     "exception": false,
     "start_time": "2024-08-30T14:32:32.425475",
     "status": "completed"
    },
    "tags": []
   },
   "outputs": [],
   "source": [
    "# Create a LabelEncoder object\n",
    "le = LabelEncoder()\n",
    "\n",
    "# Fit and transform the categorical data\n",
    "insurance['sex'] = le.fit_transform(insurance['sex'])\n",
    "insurance['smoker'] = le.fit_transform(insurance['smoker'])\n",
    "insurance['region'] = le.fit_transform(insurance['region'])"
   ]
  },
  {
   "cell_type": "code",
   "execution_count": 17,
   "id": "e641dbde",
   "metadata": {
    "execution": {
     "iopub.execute_input": "2024-08-30T14:32:32.492532Z",
     "iopub.status.busy": "2024-08-30T14:32:32.492046Z",
     "iopub.status.idle": "2024-08-30T14:32:32.502949Z",
     "shell.execute_reply": "2024-08-30T14:32:32.501605Z"
    },
    "papermill": {
     "duration": 0.031437,
     "end_time": "2024-08-30T14:32:32.505786",
     "exception": false,
     "start_time": "2024-08-30T14:32:32.474349",
     "status": "completed"
    },
    "tags": []
   },
   "outputs": [
    {
     "data": {
      "text/html": [
       "<div>\n",
       "<style scoped>\n",
       "    .dataframe tbody tr th:only-of-type {\n",
       "        vertical-align: middle;\n",
       "    }\n",
       "\n",
       "    .dataframe tbody tr th {\n",
       "        vertical-align: top;\n",
       "    }\n",
       "\n",
       "    .dataframe thead th {\n",
       "        text-align: right;\n",
       "    }\n",
       "</style>\n",
       "<table border=\"1\" class=\"dataframe\">\n",
       "  <thead>\n",
       "    <tr style=\"text-align: right;\">\n",
       "      <th></th>\n",
       "      <th>sex</th>\n",
       "    </tr>\n",
       "  </thead>\n",
       "  <tbody>\n",
       "    <tr>\n",
       "      <th>0</th>\n",
       "      <td>male</td>\n",
       "    </tr>\n",
       "    <tr>\n",
       "      <th>1</th>\n",
       "      <td>female</td>\n",
       "    </tr>\n",
       "  </tbody>\n",
       "</table>\n",
       "</div>"
      ],
      "text/plain": [
       "      sex\n",
       "0    male\n",
       "1  female"
      ]
     },
     "execution_count": 17,
     "metadata": {},
     "output_type": "execute_result"
    }
   ],
   "source": [
    "sexx"
   ]
  },
  {
   "cell_type": "code",
   "execution_count": 18,
   "id": "91361e64",
   "metadata": {
    "execution": {
     "iopub.execute_input": "2024-08-30T14:32:32.540729Z",
     "iopub.status.busy": "2024-08-30T14:32:32.540255Z",
     "iopub.status.idle": "2024-08-30T14:32:32.551278Z",
     "shell.execute_reply": "2024-08-30T14:32:32.550006Z"
    },
    "papermill": {
     "duration": 0.031765,
     "end_time": "2024-08-30T14:32:32.554148",
     "exception": false,
     "start_time": "2024-08-30T14:32:32.522383",
     "status": "completed"
    },
    "tags": []
   },
   "outputs": [
    {
     "data": {
      "text/html": [
       "<div>\n",
       "<style scoped>\n",
       "    .dataframe tbody tr th:only-of-type {\n",
       "        vertical-align: middle;\n",
       "    }\n",
       "\n",
       "    .dataframe tbody tr th {\n",
       "        vertical-align: top;\n",
       "    }\n",
       "\n",
       "    .dataframe thead th {\n",
       "        text-align: right;\n",
       "    }\n",
       "</style>\n",
       "<table border=\"1\" class=\"dataframe\">\n",
       "  <thead>\n",
       "    <tr style=\"text-align: right;\">\n",
       "      <th></th>\n",
       "      <th>smoker</th>\n",
       "    </tr>\n",
       "  </thead>\n",
       "  <tbody>\n",
       "    <tr>\n",
       "      <th>0</th>\n",
       "      <td>yes</td>\n",
       "    </tr>\n",
       "    <tr>\n",
       "      <th>1</th>\n",
       "      <td>no</td>\n",
       "    </tr>\n",
       "  </tbody>\n",
       "</table>\n",
       "</div>"
      ],
      "text/plain": [
       "  smoker\n",
       "0    yes\n",
       "1     no"
      ]
     },
     "execution_count": 18,
     "metadata": {},
     "output_type": "execute_result"
    }
   ],
   "source": [
    "smokerr"
   ]
  },
  {
   "cell_type": "code",
   "execution_count": 19,
   "id": "2662f1f5",
   "metadata": {
    "execution": {
     "iopub.execute_input": "2024-08-30T14:32:32.590316Z",
     "iopub.status.busy": "2024-08-30T14:32:32.589836Z",
     "iopub.status.idle": "2024-08-30T14:32:32.600794Z",
     "shell.execute_reply": "2024-08-30T14:32:32.599370Z"
    },
    "papermill": {
     "duration": 0.033053,
     "end_time": "2024-08-30T14:32:32.604086",
     "exception": false,
     "start_time": "2024-08-30T14:32:32.571033",
     "status": "completed"
    },
    "tags": []
   },
   "outputs": [
    {
     "data": {
      "text/html": [
       "<div>\n",
       "<style scoped>\n",
       "    .dataframe tbody tr th:only-of-type {\n",
       "        vertical-align: middle;\n",
       "    }\n",
       "\n",
       "    .dataframe tbody tr th {\n",
       "        vertical-align: top;\n",
       "    }\n",
       "\n",
       "    .dataframe thead th {\n",
       "        text-align: right;\n",
       "    }\n",
       "</style>\n",
       "<table border=\"1\" class=\"dataframe\">\n",
       "  <thead>\n",
       "    <tr style=\"text-align: right;\">\n",
       "      <th></th>\n",
       "      <th>region</th>\n",
       "    </tr>\n",
       "  </thead>\n",
       "  <tbody>\n",
       "    <tr>\n",
       "      <th>0</th>\n",
       "      <td>southeast</td>\n",
       "    </tr>\n",
       "    <tr>\n",
       "      <th>1</th>\n",
       "      <td>southwest</td>\n",
       "    </tr>\n",
       "    <tr>\n",
       "      <th>2</th>\n",
       "      <td>northeast</td>\n",
       "    </tr>\n",
       "    <tr>\n",
       "      <th>3</th>\n",
       "      <td>northwest</td>\n",
       "    </tr>\n",
       "  </tbody>\n",
       "</table>\n",
       "</div>"
      ],
      "text/plain": [
       "       region\n",
       "0   southeast\n",
       "1   southwest\n",
       "2   northeast\n",
       "3   northwest"
      ]
     },
     "execution_count": 19,
     "metadata": {},
     "output_type": "execute_result"
    }
   ],
   "source": [
    "regionn"
   ]
  },
  {
   "cell_type": "code",
   "execution_count": 20,
   "id": "2450bcda",
   "metadata": {
    "execution": {
     "iopub.execute_input": "2024-08-30T14:32:32.640920Z",
     "iopub.status.busy": "2024-08-30T14:32:32.640444Z",
     "iopub.status.idle": "2024-08-30T14:32:32.656497Z",
     "shell.execute_reply": "2024-08-30T14:32:32.655099Z"
    },
    "papermill": {
     "duration": 0.03752,
     "end_time": "2024-08-30T14:32:32.659418",
     "exception": false,
     "start_time": "2024-08-30T14:32:32.621898",
     "status": "completed"
    },
    "tags": []
   },
   "outputs": [
    {
     "data": {
      "text/html": [
       "<div>\n",
       "<style scoped>\n",
       "    .dataframe tbody tr th:only-of-type {\n",
       "        vertical-align: middle;\n",
       "    }\n",
       "\n",
       "    .dataframe tbody tr th {\n",
       "        vertical-align: top;\n",
       "    }\n",
       "\n",
       "    .dataframe thead th {\n",
       "        text-align: right;\n",
       "    }\n",
       "</style>\n",
       "<table border=\"1\" class=\"dataframe\">\n",
       "  <thead>\n",
       "    <tr style=\"text-align: right;\">\n",
       "      <th></th>\n",
       "      <th>age</th>\n",
       "      <th>sex</th>\n",
       "      <th>bmi</th>\n",
       "      <th>children</th>\n",
       "      <th>smoker</th>\n",
       "      <th>region</th>\n",
       "      <th>charges</th>\n",
       "    </tr>\n",
       "  </thead>\n",
       "  <tbody>\n",
       "    <tr>\n",
       "      <th>0</th>\n",
       "      <td>19</td>\n",
       "      <td>0</td>\n",
       "      <td>27.900</td>\n",
       "      <td>0</td>\n",
       "      <td>1</td>\n",
       "      <td>3</td>\n",
       "      <td>16884.92400</td>\n",
       "    </tr>\n",
       "    <tr>\n",
       "      <th>1</th>\n",
       "      <td>18</td>\n",
       "      <td>1</td>\n",
       "      <td>33.770</td>\n",
       "      <td>1</td>\n",
       "      <td>0</td>\n",
       "      <td>2</td>\n",
       "      <td>1725.55230</td>\n",
       "    </tr>\n",
       "    <tr>\n",
       "      <th>2</th>\n",
       "      <td>28</td>\n",
       "      <td>1</td>\n",
       "      <td>33.000</td>\n",
       "      <td>3</td>\n",
       "      <td>0</td>\n",
       "      <td>2</td>\n",
       "      <td>4449.46200</td>\n",
       "    </tr>\n",
       "    <tr>\n",
       "      <th>3</th>\n",
       "      <td>33</td>\n",
       "      <td>1</td>\n",
       "      <td>22.705</td>\n",
       "      <td>0</td>\n",
       "      <td>0</td>\n",
       "      <td>1</td>\n",
       "      <td>21984.47061</td>\n",
       "    </tr>\n",
       "    <tr>\n",
       "      <th>4</th>\n",
       "      <td>32</td>\n",
       "      <td>1</td>\n",
       "      <td>28.880</td>\n",
       "      <td>0</td>\n",
       "      <td>0</td>\n",
       "      <td>1</td>\n",
       "      <td>3866.85520</td>\n",
       "    </tr>\n",
       "  </tbody>\n",
       "</table>\n",
       "</div>"
      ],
      "text/plain": [
       "   age  sex     bmi  children  smoker  region      charges\n",
       "0   19    0  27.900         0       1       3  16884.92400\n",
       "1   18    1  33.770         1       0       2   1725.55230\n",
       "2   28    1  33.000         3       0       2   4449.46200\n",
       "3   33    1  22.705         0       0       1  21984.47061\n",
       "4   32    1  28.880         0       0       1   3866.85520"
      ]
     },
     "execution_count": 20,
     "metadata": {},
     "output_type": "execute_result"
    }
   ],
   "source": [
    "insurance.head()"
   ]
  },
  {
   "cell_type": "markdown",
   "id": "03ec7122",
   "metadata": {
    "papermill": {
     "duration": 0.017165,
     "end_time": "2024-08-30T14:32:32.694103",
     "exception": false,
     "start_time": "2024-08-30T14:32:32.676938",
     "status": "completed"
    },
    "tags": []
   },
   "source": [
    "## Build Modwl"
   ]
  },
  {
   "cell_type": "code",
   "execution_count": 21,
   "id": "0ee90887",
   "metadata": {
    "execution": {
     "iopub.execute_input": "2024-08-30T14:32:32.732341Z",
     "iopub.status.busy": "2024-08-30T14:32:32.731835Z",
     "iopub.status.idle": "2024-08-30T14:32:32.742376Z",
     "shell.execute_reply": "2024-08-30T14:32:32.740724Z"
    },
    "papermill": {
     "duration": 0.032357,
     "end_time": "2024-08-30T14:32:32.745269",
     "exception": false,
     "start_time": "2024-08-30T14:32:32.712912",
     "status": "completed"
    },
    "tags": []
   },
   "outputs": [],
   "source": [
    "x = insurance.drop(columns='charges', axis=1)\n",
    "y = insurance['charges']"
   ]
  },
  {
   "cell_type": "code",
   "execution_count": 22,
   "id": "d3a4322e",
   "metadata": {
    "execution": {
     "iopub.execute_input": "2024-08-30T14:32:32.783992Z",
     "iopub.status.busy": "2024-08-30T14:32:32.783536Z",
     "iopub.status.idle": "2024-08-30T14:32:32.800096Z",
     "shell.execute_reply": "2024-08-30T14:32:32.798757Z"
    },
    "papermill": {
     "duration": 0.038867,
     "end_time": "2024-08-30T14:32:32.802804",
     "exception": false,
     "start_time": "2024-08-30T14:32:32.763937",
     "status": "completed"
    },
    "tags": []
   },
   "outputs": [
    {
     "data": {
      "text/html": [
       "<div>\n",
       "<style scoped>\n",
       "    .dataframe tbody tr th:only-of-type {\n",
       "        vertical-align: middle;\n",
       "    }\n",
       "\n",
       "    .dataframe tbody tr th {\n",
       "        vertical-align: top;\n",
       "    }\n",
       "\n",
       "    .dataframe thead th {\n",
       "        text-align: right;\n",
       "    }\n",
       "</style>\n",
       "<table border=\"1\" class=\"dataframe\">\n",
       "  <thead>\n",
       "    <tr style=\"text-align: right;\">\n",
       "      <th></th>\n",
       "      <th>age</th>\n",
       "      <th>sex</th>\n",
       "      <th>bmi</th>\n",
       "      <th>children</th>\n",
       "      <th>smoker</th>\n",
       "      <th>region</th>\n",
       "    </tr>\n",
       "  </thead>\n",
       "  <tbody>\n",
       "    <tr>\n",
       "      <th>0</th>\n",
       "      <td>19</td>\n",
       "      <td>0</td>\n",
       "      <td>27.900</td>\n",
       "      <td>0</td>\n",
       "      <td>1</td>\n",
       "      <td>3</td>\n",
       "    </tr>\n",
       "    <tr>\n",
       "      <th>1</th>\n",
       "      <td>18</td>\n",
       "      <td>1</td>\n",
       "      <td>33.770</td>\n",
       "      <td>1</td>\n",
       "      <td>0</td>\n",
       "      <td>2</td>\n",
       "    </tr>\n",
       "    <tr>\n",
       "      <th>2</th>\n",
       "      <td>28</td>\n",
       "      <td>1</td>\n",
       "      <td>33.000</td>\n",
       "      <td>3</td>\n",
       "      <td>0</td>\n",
       "      <td>2</td>\n",
       "    </tr>\n",
       "    <tr>\n",
       "      <th>3</th>\n",
       "      <td>33</td>\n",
       "      <td>1</td>\n",
       "      <td>22.705</td>\n",
       "      <td>0</td>\n",
       "      <td>0</td>\n",
       "      <td>1</td>\n",
       "    </tr>\n",
       "    <tr>\n",
       "      <th>4</th>\n",
       "      <td>32</td>\n",
       "      <td>1</td>\n",
       "      <td>28.880</td>\n",
       "      <td>0</td>\n",
       "      <td>0</td>\n",
       "      <td>1</td>\n",
       "    </tr>\n",
       "    <tr>\n",
       "      <th>...</th>\n",
       "      <td>...</td>\n",
       "      <td>...</td>\n",
       "      <td>...</td>\n",
       "      <td>...</td>\n",
       "      <td>...</td>\n",
       "      <td>...</td>\n",
       "    </tr>\n",
       "    <tr>\n",
       "      <th>1333</th>\n",
       "      <td>50</td>\n",
       "      <td>1</td>\n",
       "      <td>30.970</td>\n",
       "      <td>3</td>\n",
       "      <td>0</td>\n",
       "      <td>1</td>\n",
       "    </tr>\n",
       "    <tr>\n",
       "      <th>1334</th>\n",
       "      <td>18</td>\n",
       "      <td>0</td>\n",
       "      <td>31.920</td>\n",
       "      <td>0</td>\n",
       "      <td>0</td>\n",
       "      <td>0</td>\n",
       "    </tr>\n",
       "    <tr>\n",
       "      <th>1335</th>\n",
       "      <td>18</td>\n",
       "      <td>0</td>\n",
       "      <td>36.850</td>\n",
       "      <td>0</td>\n",
       "      <td>0</td>\n",
       "      <td>2</td>\n",
       "    </tr>\n",
       "    <tr>\n",
       "      <th>1336</th>\n",
       "      <td>21</td>\n",
       "      <td>0</td>\n",
       "      <td>25.800</td>\n",
       "      <td>0</td>\n",
       "      <td>0</td>\n",
       "      <td>3</td>\n",
       "    </tr>\n",
       "    <tr>\n",
       "      <th>1337</th>\n",
       "      <td>61</td>\n",
       "      <td>0</td>\n",
       "      <td>29.070</td>\n",
       "      <td>0</td>\n",
       "      <td>1</td>\n",
       "      <td>1</td>\n",
       "    </tr>\n",
       "  </tbody>\n",
       "</table>\n",
       "<p>1338 rows × 6 columns</p>\n",
       "</div>"
      ],
      "text/plain": [
       "      age  sex     bmi  children  smoker  region\n",
       "0      19    0  27.900         0       1       3\n",
       "1      18    1  33.770         1       0       2\n",
       "2      28    1  33.000         3       0       2\n",
       "3      33    1  22.705         0       0       1\n",
       "4      32    1  28.880         0       0       1\n",
       "...   ...  ...     ...       ...     ...     ...\n",
       "1333   50    1  30.970         3       0       1\n",
       "1334   18    0  31.920         0       0       0\n",
       "1335   18    0  36.850         0       0       2\n",
       "1336   21    0  25.800         0       0       3\n",
       "1337   61    0  29.070         0       1       1\n",
       "\n",
       "[1338 rows x 6 columns]"
      ]
     },
     "execution_count": 22,
     "metadata": {},
     "output_type": "execute_result"
    }
   ],
   "source": [
    "x"
   ]
  },
  {
   "cell_type": "code",
   "execution_count": 23,
   "id": "1e48fcf1",
   "metadata": {
    "execution": {
     "iopub.execute_input": "2024-08-30T14:32:32.841481Z",
     "iopub.status.busy": "2024-08-30T14:32:32.840991Z",
     "iopub.status.idle": "2024-08-30T14:32:32.852138Z",
     "shell.execute_reply": "2024-08-30T14:32:32.850659Z"
    },
    "papermill": {
     "duration": 0.034375,
     "end_time": "2024-08-30T14:32:32.854956",
     "exception": false,
     "start_time": "2024-08-30T14:32:32.820581",
     "status": "completed"
    },
    "tags": []
   },
   "outputs": [
    {
     "data": {
      "text/plain": [
       "0       16884.92400\n",
       "1        1725.55230\n",
       "2        4449.46200\n",
       "3       21984.47061\n",
       "4        3866.85520\n",
       "           ...     \n",
       "1333    10600.54830\n",
       "1334     2205.98080\n",
       "1335     1629.83350\n",
       "1336     2007.94500\n",
       "1337    29141.36030\n",
       "Name: charges, Length: 1338, dtype: float64"
      ]
     },
     "execution_count": 23,
     "metadata": {},
     "output_type": "execute_result"
    }
   ],
   "source": [
    "y"
   ]
  },
  {
   "cell_type": "code",
   "execution_count": 24,
   "id": "73c90bcf",
   "metadata": {
    "execution": {
     "iopub.execute_input": "2024-08-30T14:32:32.893397Z",
     "iopub.status.busy": "2024-08-30T14:32:32.892794Z",
     "iopub.status.idle": "2024-08-30T14:32:32.903548Z",
     "shell.execute_reply": "2024-08-30T14:32:32.902257Z"
    },
    "papermill": {
     "duration": 0.033131,
     "end_time": "2024-08-30T14:32:32.906531",
     "exception": false,
     "start_time": "2024-08-30T14:32:32.873400",
     "status": "completed"
    },
    "tags": []
   },
   "outputs": [],
   "source": [
    "x_train,x_test,y_train,y_test = train_test_split(x,y,test_size=0.2,random_state=11)"
   ]
  },
  {
   "cell_type": "code",
   "execution_count": 25,
   "id": "f22c3bef",
   "metadata": {
    "execution": {
     "iopub.execute_input": "2024-08-30T14:32:32.944368Z",
     "iopub.status.busy": "2024-08-30T14:32:32.943910Z",
     "iopub.status.idle": "2024-08-30T14:32:32.960563Z",
     "shell.execute_reply": "2024-08-30T14:32:32.959251Z"
    },
    "papermill": {
     "duration": 0.038954,
     "end_time": "2024-08-30T14:32:32.963434",
     "exception": false,
     "start_time": "2024-08-30T14:32:32.924480",
     "status": "completed"
    },
    "tags": []
   },
   "outputs": [
    {
     "data": {
      "text/html": [
       "<div>\n",
       "<style scoped>\n",
       "    .dataframe tbody tr th:only-of-type {\n",
       "        vertical-align: middle;\n",
       "    }\n",
       "\n",
       "    .dataframe tbody tr th {\n",
       "        vertical-align: top;\n",
       "    }\n",
       "\n",
       "    .dataframe thead th {\n",
       "        text-align: right;\n",
       "    }\n",
       "</style>\n",
       "<table border=\"1\" class=\"dataframe\">\n",
       "  <thead>\n",
       "    <tr style=\"text-align: right;\">\n",
       "      <th></th>\n",
       "      <th>age</th>\n",
       "      <th>sex</th>\n",
       "      <th>bmi</th>\n",
       "      <th>children</th>\n",
       "      <th>smoker</th>\n",
       "      <th>region</th>\n",
       "    </tr>\n",
       "  </thead>\n",
       "  <tbody>\n",
       "    <tr>\n",
       "      <th>316</th>\n",
       "      <td>50</td>\n",
       "      <td>1</td>\n",
       "      <td>32.205</td>\n",
       "      <td>0</td>\n",
       "      <td>0</td>\n",
       "      <td>1</td>\n",
       "    </tr>\n",
       "    <tr>\n",
       "      <th>340</th>\n",
       "      <td>24</td>\n",
       "      <td>0</td>\n",
       "      <td>27.600</td>\n",
       "      <td>0</td>\n",
       "      <td>0</td>\n",
       "      <td>3</td>\n",
       "    </tr>\n",
       "    <tr>\n",
       "      <th>151</th>\n",
       "      <td>48</td>\n",
       "      <td>1</td>\n",
       "      <td>29.700</td>\n",
       "      <td>0</td>\n",
       "      <td>0</td>\n",
       "      <td>2</td>\n",
       "    </tr>\n",
       "    <tr>\n",
       "      <th>1282</th>\n",
       "      <td>18</td>\n",
       "      <td>0</td>\n",
       "      <td>21.660</td>\n",
       "      <td>0</td>\n",
       "      <td>1</td>\n",
       "      <td>0</td>\n",
       "    </tr>\n",
       "    <tr>\n",
       "      <th>557</th>\n",
       "      <td>34</td>\n",
       "      <td>1</td>\n",
       "      <td>34.210</td>\n",
       "      <td>0</td>\n",
       "      <td>0</td>\n",
       "      <td>2</td>\n",
       "    </tr>\n",
       "    <tr>\n",
       "      <th>...</th>\n",
       "      <td>...</td>\n",
       "      <td>...</td>\n",
       "      <td>...</td>\n",
       "      <td>...</td>\n",
       "      <td>...</td>\n",
       "      <td>...</td>\n",
       "    </tr>\n",
       "    <tr>\n",
       "      <th>583</th>\n",
       "      <td>32</td>\n",
       "      <td>0</td>\n",
       "      <td>23.650</td>\n",
       "      <td>1</td>\n",
       "      <td>0</td>\n",
       "      <td>2</td>\n",
       "    </tr>\n",
       "    <tr>\n",
       "      <th>332</th>\n",
       "      <td>61</td>\n",
       "      <td>0</td>\n",
       "      <td>31.160</td>\n",
       "      <td>0</td>\n",
       "      <td>0</td>\n",
       "      <td>1</td>\n",
       "    </tr>\n",
       "    <tr>\n",
       "      <th>1293</th>\n",
       "      <td>46</td>\n",
       "      <td>1</td>\n",
       "      <td>25.745</td>\n",
       "      <td>3</td>\n",
       "      <td>0</td>\n",
       "      <td>1</td>\n",
       "    </tr>\n",
       "    <tr>\n",
       "      <th>1115</th>\n",
       "      <td>55</td>\n",
       "      <td>1</td>\n",
       "      <td>32.670</td>\n",
       "      <td>1</td>\n",
       "      <td>0</td>\n",
       "      <td>2</td>\n",
       "    </tr>\n",
       "    <tr>\n",
       "      <th>1104</th>\n",
       "      <td>37</td>\n",
       "      <td>1</td>\n",
       "      <td>29.800</td>\n",
       "      <td>0</td>\n",
       "      <td>0</td>\n",
       "      <td>3</td>\n",
       "    </tr>\n",
       "  </tbody>\n",
       "</table>\n",
       "<p>1070 rows × 6 columns</p>\n",
       "</div>"
      ],
      "text/plain": [
       "      age  sex     bmi  children  smoker  region\n",
       "316    50    1  32.205         0       0       1\n",
       "340    24    0  27.600         0       0       3\n",
       "151    48    1  29.700         0       0       2\n",
       "1282   18    0  21.660         0       1       0\n",
       "557    34    1  34.210         0       0       2\n",
       "...   ...  ...     ...       ...     ...     ...\n",
       "583    32    0  23.650         1       0       2\n",
       "332    61    0  31.160         0       0       1\n",
       "1293   46    1  25.745         3       0       1\n",
       "1115   55    1  32.670         1       0       2\n",
       "1104   37    1  29.800         0       0       3\n",
       "\n",
       "[1070 rows x 6 columns]"
      ]
     },
     "execution_count": 25,
     "metadata": {},
     "output_type": "execute_result"
    }
   ],
   "source": [
    "x_train"
   ]
  },
  {
   "cell_type": "code",
   "execution_count": 26,
   "id": "da7c8c44",
   "metadata": {
    "execution": {
     "iopub.execute_input": "2024-08-30T14:32:33.003276Z",
     "iopub.status.busy": "2024-08-30T14:32:33.002060Z",
     "iopub.status.idle": "2024-08-30T14:32:33.018585Z",
     "shell.execute_reply": "2024-08-30T14:32:33.017266Z"
    },
    "papermill": {
     "duration": 0.039541,
     "end_time": "2024-08-30T14:32:33.021428",
     "exception": false,
     "start_time": "2024-08-30T14:32:32.981887",
     "status": "completed"
    },
    "tags": []
   },
   "outputs": [
    {
     "data": {
      "text/html": [
       "<div>\n",
       "<style scoped>\n",
       "    .dataframe tbody tr th:only-of-type {\n",
       "        vertical-align: middle;\n",
       "    }\n",
       "\n",
       "    .dataframe tbody tr th {\n",
       "        vertical-align: top;\n",
       "    }\n",
       "\n",
       "    .dataframe thead th {\n",
       "        text-align: right;\n",
       "    }\n",
       "</style>\n",
       "<table border=\"1\" class=\"dataframe\">\n",
       "  <thead>\n",
       "    <tr style=\"text-align: right;\">\n",
       "      <th></th>\n",
       "      <th>age</th>\n",
       "      <th>sex</th>\n",
       "      <th>bmi</th>\n",
       "      <th>children</th>\n",
       "      <th>smoker</th>\n",
       "      <th>region</th>\n",
       "    </tr>\n",
       "  </thead>\n",
       "  <tbody>\n",
       "    <tr>\n",
       "      <th>1313</th>\n",
       "      <td>19</td>\n",
       "      <td>0</td>\n",
       "      <td>34.700</td>\n",
       "      <td>2</td>\n",
       "      <td>1</td>\n",
       "      <td>3</td>\n",
       "    </tr>\n",
       "    <tr>\n",
       "      <th>1254</th>\n",
       "      <td>34</td>\n",
       "      <td>0</td>\n",
       "      <td>27.720</td>\n",
       "      <td>0</td>\n",
       "      <td>0</td>\n",
       "      <td>2</td>\n",
       "    </tr>\n",
       "    <tr>\n",
       "      <th>372</th>\n",
       "      <td>42</td>\n",
       "      <td>0</td>\n",
       "      <td>33.155</td>\n",
       "      <td>1</td>\n",
       "      <td>0</td>\n",
       "      <td>0</td>\n",
       "    </tr>\n",
       "    <tr>\n",
       "      <th>937</th>\n",
       "      <td>39</td>\n",
       "      <td>0</td>\n",
       "      <td>24.225</td>\n",
       "      <td>5</td>\n",
       "      <td>0</td>\n",
       "      <td>1</td>\n",
       "    </tr>\n",
       "    <tr>\n",
       "      <th>484</th>\n",
       "      <td>48</td>\n",
       "      <td>1</td>\n",
       "      <td>34.300</td>\n",
       "      <td>3</td>\n",
       "      <td>0</td>\n",
       "      <td>3</td>\n",
       "    </tr>\n",
       "    <tr>\n",
       "      <th>...</th>\n",
       "      <td>...</td>\n",
       "      <td>...</td>\n",
       "      <td>...</td>\n",
       "      <td>...</td>\n",
       "      <td>...</td>\n",
       "      <td>...</td>\n",
       "    </tr>\n",
       "    <tr>\n",
       "      <th>427</th>\n",
       "      <td>18</td>\n",
       "      <td>0</td>\n",
       "      <td>29.165</td>\n",
       "      <td>0</td>\n",
       "      <td>0</td>\n",
       "      <td>0</td>\n",
       "    </tr>\n",
       "    <tr>\n",
       "      <th>1153</th>\n",
       "      <td>35</td>\n",
       "      <td>0</td>\n",
       "      <td>35.815</td>\n",
       "      <td>1</td>\n",
       "      <td>0</td>\n",
       "      <td>1</td>\n",
       "    </tr>\n",
       "    <tr>\n",
       "      <th>973</th>\n",
       "      <td>19</td>\n",
       "      <td>0</td>\n",
       "      <td>40.500</td>\n",
       "      <td>0</td>\n",
       "      <td>0</td>\n",
       "      <td>3</td>\n",
       "    </tr>\n",
       "    <tr>\n",
       "      <th>608</th>\n",
       "      <td>28</td>\n",
       "      <td>1</td>\n",
       "      <td>26.980</td>\n",
       "      <td>2</td>\n",
       "      <td>0</td>\n",
       "      <td>0</td>\n",
       "    </tr>\n",
       "    <tr>\n",
       "      <th>775</th>\n",
       "      <td>51</td>\n",
       "      <td>1</td>\n",
       "      <td>33.330</td>\n",
       "      <td>3</td>\n",
       "      <td>0</td>\n",
       "      <td>2</td>\n",
       "    </tr>\n",
       "  </tbody>\n",
       "</table>\n",
       "<p>268 rows × 6 columns</p>\n",
       "</div>"
      ],
      "text/plain": [
       "      age  sex     bmi  children  smoker  region\n",
       "1313   19    0  34.700         2       1       3\n",
       "1254   34    0  27.720         0       0       2\n",
       "372    42    0  33.155         1       0       0\n",
       "937    39    0  24.225         5       0       1\n",
       "484    48    1  34.300         3       0       3\n",
       "...   ...  ...     ...       ...     ...     ...\n",
       "427    18    0  29.165         0       0       0\n",
       "1153   35    0  35.815         1       0       1\n",
       "973    19    0  40.500         0       0       3\n",
       "608    28    1  26.980         2       0       0\n",
       "775    51    1  33.330         3       0       2\n",
       "\n",
       "[268 rows x 6 columns]"
      ]
     },
     "execution_count": 26,
     "metadata": {},
     "output_type": "execute_result"
    }
   ],
   "source": [
    "x_test"
   ]
  },
  {
   "cell_type": "code",
   "execution_count": 27,
   "id": "3eb9ea77",
   "metadata": {
    "execution": {
     "iopub.execute_input": "2024-08-30T14:32:33.061050Z",
     "iopub.status.busy": "2024-08-30T14:32:33.060618Z",
     "iopub.status.idle": "2024-08-30T14:32:33.071169Z",
     "shell.execute_reply": "2024-08-30T14:32:33.069863Z"
    },
    "papermill": {
     "duration": 0.033567,
     "end_time": "2024-08-30T14:32:33.073991",
     "exception": false,
     "start_time": "2024-08-30T14:32:33.040424",
     "status": "completed"
    },
    "tags": []
   },
   "outputs": [
    {
     "data": {
      "text/plain": [
       "316      8835.26495\n",
       "340     18955.22017\n",
       "151      7789.63500\n",
       "1282    14283.45940\n",
       "557      3935.17990\n",
       "           ...     \n",
       "583     17626.23951\n",
       "332     13429.03540\n",
       "1293     9301.89355\n",
       "1115    10807.48630\n",
       "1104    20420.60465\n",
       "Name: charges, Length: 1070, dtype: float64"
      ]
     },
     "execution_count": 27,
     "metadata": {},
     "output_type": "execute_result"
    }
   ],
   "source": [
    "y_train"
   ]
  },
  {
   "cell_type": "code",
   "execution_count": 28,
   "id": "1f4e3771",
   "metadata": {
    "execution": {
     "iopub.execute_input": "2024-08-30T14:32:33.114213Z",
     "iopub.status.busy": "2024-08-30T14:32:33.113728Z",
     "iopub.status.idle": "2024-08-30T14:32:33.124884Z",
     "shell.execute_reply": "2024-08-30T14:32:33.123573Z"
    },
    "papermill": {
     "duration": 0.033859,
     "end_time": "2024-08-30T14:32:33.127461",
     "exception": false,
     "start_time": "2024-08-30T14:32:33.093602",
     "status": "completed"
    },
    "tags": []
   },
   "outputs": [
    {
     "data": {
      "text/plain": [
       "1313    36397.576000\n",
       "1254     4415.158800\n",
       "372      7639.417450\n",
       "937      8965.795750\n",
       "484      9563.029000\n",
       "            ...     \n",
       "427      7323.734819\n",
       "1153     5630.457850\n",
       "973      1759.338000\n",
       "608      4435.094200\n",
       "775     10560.491700\n",
       "Name: charges, Length: 268, dtype: float64"
      ]
     },
     "execution_count": 28,
     "metadata": {},
     "output_type": "execute_result"
    }
   ],
   "source": [
    "y_test"
   ]
  },
  {
   "cell_type": "code",
   "execution_count": 29,
   "id": "01d4cd9e",
   "metadata": {
    "execution": {
     "iopub.execute_input": "2024-08-30T14:32:33.170964Z",
     "iopub.status.busy": "2024-08-30T14:32:33.170282Z",
     "iopub.status.idle": "2024-08-30T14:32:33.177103Z",
     "shell.execute_reply": "2024-08-30T14:32:33.175372Z"
    },
    "papermill": {
     "duration": 0.034148,
     "end_time": "2024-08-30T14:32:33.180570",
     "exception": false,
     "start_time": "2024-08-30T14:32:33.146422",
     "status": "completed"
    },
    "tags": []
   },
   "outputs": [],
   "source": [
    "Model= LinearRegression()"
   ]
  },
  {
   "cell_type": "code",
   "execution_count": 30,
   "id": "f7af62e8",
   "metadata": {
    "execution": {
     "iopub.execute_input": "2024-08-30T14:32:33.235402Z",
     "iopub.status.busy": "2024-08-30T14:32:33.234873Z",
     "iopub.status.idle": "2024-08-30T14:32:33.271404Z",
     "shell.execute_reply": "2024-08-30T14:32:33.270127Z"
    },
    "papermill": {
     "duration": 0.069402,
     "end_time": "2024-08-30T14:32:33.274257",
     "exception": false,
     "start_time": "2024-08-30T14:32:33.204855",
     "status": "completed"
    },
    "tags": []
   },
   "outputs": [
    {
     "data": {
      "text/html": [
       "<style>#sk-container-id-1 {color: black;background-color: white;}#sk-container-id-1 pre{padding: 0;}#sk-container-id-1 div.sk-toggleable {background-color: white;}#sk-container-id-1 label.sk-toggleable__label {cursor: pointer;display: block;width: 100%;margin-bottom: 0;padding: 0.3em;box-sizing: border-box;text-align: center;}#sk-container-id-1 label.sk-toggleable__label-arrow:before {content: \"▸\";float: left;margin-right: 0.25em;color: #696969;}#sk-container-id-1 label.sk-toggleable__label-arrow:hover:before {color: black;}#sk-container-id-1 div.sk-estimator:hover label.sk-toggleable__label-arrow:before {color: black;}#sk-container-id-1 div.sk-toggleable__content {max-height: 0;max-width: 0;overflow: hidden;text-align: left;background-color: #f0f8ff;}#sk-container-id-1 div.sk-toggleable__content pre {margin: 0.2em;color: black;border-radius: 0.25em;background-color: #f0f8ff;}#sk-container-id-1 input.sk-toggleable__control:checked~div.sk-toggleable__content {max-height: 200px;max-width: 100%;overflow: auto;}#sk-container-id-1 input.sk-toggleable__control:checked~label.sk-toggleable__label-arrow:before {content: \"▾\";}#sk-container-id-1 div.sk-estimator input.sk-toggleable__control:checked~label.sk-toggleable__label {background-color: #d4ebff;}#sk-container-id-1 div.sk-label input.sk-toggleable__control:checked~label.sk-toggleable__label {background-color: #d4ebff;}#sk-container-id-1 input.sk-hidden--visually {border: 0;clip: rect(1px 1px 1px 1px);clip: rect(1px, 1px, 1px, 1px);height: 1px;margin: -1px;overflow: hidden;padding: 0;position: absolute;width: 1px;}#sk-container-id-1 div.sk-estimator {font-family: monospace;background-color: #f0f8ff;border: 1px dotted black;border-radius: 0.25em;box-sizing: border-box;margin-bottom: 0.5em;}#sk-container-id-1 div.sk-estimator:hover {background-color: #d4ebff;}#sk-container-id-1 div.sk-parallel-item::after {content: \"\";width: 100%;border-bottom: 1px solid gray;flex-grow: 1;}#sk-container-id-1 div.sk-label:hover label.sk-toggleable__label {background-color: #d4ebff;}#sk-container-id-1 div.sk-serial::before {content: \"\";position: absolute;border-left: 1px solid gray;box-sizing: border-box;top: 0;bottom: 0;left: 50%;z-index: 0;}#sk-container-id-1 div.sk-serial {display: flex;flex-direction: column;align-items: center;background-color: white;padding-right: 0.2em;padding-left: 0.2em;position: relative;}#sk-container-id-1 div.sk-item {position: relative;z-index: 1;}#sk-container-id-1 div.sk-parallel {display: flex;align-items: stretch;justify-content: center;background-color: white;position: relative;}#sk-container-id-1 div.sk-item::before, #sk-container-id-1 div.sk-parallel-item::before {content: \"\";position: absolute;border-left: 1px solid gray;box-sizing: border-box;top: 0;bottom: 0;left: 50%;z-index: -1;}#sk-container-id-1 div.sk-parallel-item {display: flex;flex-direction: column;z-index: 1;position: relative;background-color: white;}#sk-container-id-1 div.sk-parallel-item:first-child::after {align-self: flex-end;width: 50%;}#sk-container-id-1 div.sk-parallel-item:last-child::after {align-self: flex-start;width: 50%;}#sk-container-id-1 div.sk-parallel-item:only-child::after {width: 0;}#sk-container-id-1 div.sk-dashed-wrapped {border: 1px dashed gray;margin: 0 0.4em 0.5em 0.4em;box-sizing: border-box;padding-bottom: 0.4em;background-color: white;}#sk-container-id-1 div.sk-label label {font-family: monospace;font-weight: bold;display: inline-block;line-height: 1.2em;}#sk-container-id-1 div.sk-label-container {text-align: center;}#sk-container-id-1 div.sk-container {/* jupyter's `normalize.less` sets `[hidden] { display: none; }` but bootstrap.min.css set `[hidden] { display: none !important; }` so we also need the `!important` here to be able to override the default hidden behavior on the sphinx rendered scikit-learn.org. See: https://github.com/scikit-learn/scikit-learn/issues/21755 */display: inline-block !important;position: relative;}#sk-container-id-1 div.sk-text-repr-fallback {display: none;}</style><div id=\"sk-container-id-1\" class=\"sk-top-container\"><div class=\"sk-text-repr-fallback\"><pre>LinearRegression()</pre><b>In a Jupyter environment, please rerun this cell to show the HTML representation or trust the notebook. <br />On GitHub, the HTML representation is unable to render, please try loading this page with nbviewer.org.</b></div><div class=\"sk-container\" hidden><div class=\"sk-item\"><div class=\"sk-estimator sk-toggleable\"><input class=\"sk-toggleable__control sk-hidden--visually\" id=\"sk-estimator-id-1\" type=\"checkbox\" checked><label for=\"sk-estimator-id-1\" class=\"sk-toggleable__label sk-toggleable__label-arrow\">LinearRegression</label><div class=\"sk-toggleable__content\"><pre>LinearRegression()</pre></div></div></div></div></div>"
      ],
      "text/plain": [
       "LinearRegression()"
      ]
     },
     "execution_count": 30,
     "metadata": {},
     "output_type": "execute_result"
    }
   ],
   "source": [
    "Model.fit(x_train,y_train)"
   ]
  },
  {
   "cell_type": "code",
   "execution_count": 31,
   "id": "0aa930ad",
   "metadata": {
    "execution": {
     "iopub.execute_input": "2024-08-30T14:32:33.335008Z",
     "iopub.status.busy": "2024-08-30T14:32:33.334192Z",
     "iopub.status.idle": "2024-08-30T14:32:33.344717Z",
     "shell.execute_reply": "2024-08-30T14:32:33.343421Z"
    },
    "papermill": {
     "duration": 0.04525,
     "end_time": "2024-08-30T14:32:33.347908",
     "exception": false,
     "start_time": "2024-08-30T14:32:33.302658",
     "status": "completed"
    },
    "tags": []
   },
   "outputs": [],
   "source": [
    "t=Model.predict(x_train)"
   ]
  },
  {
   "cell_type": "code",
   "execution_count": 32,
   "id": "77e39bfe",
   "metadata": {
    "execution": {
     "iopub.execute_input": "2024-08-30T14:32:33.397405Z",
     "iopub.status.busy": "2024-08-30T14:32:33.396894Z",
     "iopub.status.idle": "2024-08-30T14:32:33.404953Z",
     "shell.execute_reply": "2024-08-30T14:32:33.403730Z"
    },
    "papermill": {
     "duration": 0.035221,
     "end_time": "2024-08-30T14:32:33.407548",
     "exception": false,
     "start_time": "2024-08-30T14:32:33.372327",
     "status": "completed"
    },
    "tags": []
   },
   "outputs": [
    {
     "name": "stdout",
     "output_type": "stream",
     "text": [
      "R squared vale :  0.7388805137721672\n"
     ]
    }
   ],
   "source": [
    "r2_train = metrics.r2_score(y_train, t)\n",
    "print('R squared vale : ', r2_train)"
   ]
  },
  {
   "cell_type": "code",
   "execution_count": 33,
   "id": "484ae4bb",
   "metadata": {
    "execution": {
     "iopub.execute_input": "2024-08-30T14:32:33.448264Z",
     "iopub.status.busy": "2024-08-30T14:32:33.447774Z",
     "iopub.status.idle": "2024-08-30T14:32:33.456455Z",
     "shell.execute_reply": "2024-08-30T14:32:33.454951Z"
    },
    "papermill": {
     "duration": 0.032708,
     "end_time": "2024-08-30T14:32:33.459677",
     "exception": false,
     "start_time": "2024-08-30T14:32:33.426969",
     "status": "completed"
    },
    "tags": []
   },
   "outputs": [],
   "source": [
    "n=Model.predict(x_test)"
   ]
  },
  {
   "cell_type": "code",
   "execution_count": 34,
   "id": "a8bb9c45",
   "metadata": {
    "execution": {
     "iopub.execute_input": "2024-08-30T14:32:33.501273Z",
     "iopub.status.busy": "2024-08-30T14:32:33.500762Z",
     "iopub.status.idle": "2024-08-30T14:32:33.508911Z",
     "shell.execute_reply": "2024-08-30T14:32:33.507437Z"
    },
    "papermill": {
     "duration": 0.03206,
     "end_time": "2024-08-30T14:32:33.511842",
     "exception": false,
     "start_time": "2024-08-30T14:32:33.479782",
     "status": "completed"
    },
    "tags": []
   },
   "outputs": [
    {
     "name": "stdout",
     "output_type": "stream",
     "text": [
      "R squared vale :  0.7993819717035825\n"
     ]
    }
   ],
   "source": [
    "r2_test = metrics.r2_score(y_test, n)\n",
    "print('R squared vale : ', r2_test)"
   ]
  },
  {
   "cell_type": "code",
   "execution_count": null,
   "id": "51c5f301",
   "metadata": {
    "papermill": {
     "duration": 0.020765,
     "end_time": "2024-08-30T14:32:33.560770",
     "exception": false,
     "start_time": "2024-08-30T14:32:33.540005",
     "status": "completed"
    },
    "tags": []
   },
   "outputs": [],
   "source": []
  }
 ],
 "metadata": {
  "kaggle": {
   "accelerator": "none",
   "dataSources": [
    {
     "datasetId": 13720,
     "sourceId": 18513,
     "sourceType": "datasetVersion"
    }
   ],
   "dockerImageVersionId": 30761,
   "isGpuEnabled": false,
   "isInternetEnabled": true,
   "language": "python",
   "sourceType": "notebook"
  },
  "kernelspec": {
   "display_name": "Python 3",
   "language": "python",
   "name": "python3"
  },
  "language_info": {
   "codemirror_mode": {
    "name": "ipython",
    "version": 3
   },
   "file_extension": ".py",
   "mimetype": "text/x-python",
   "name": "python",
   "nbconvert_exporter": "python",
   "pygments_lexer": "ipython3",
   "version": "3.10.14"
  },
  "papermill": {
   "default_parameters": {},
   "duration": 10.416076,
   "end_time": "2024-08-30T14:32:34.304391",
   "environment_variables": {},
   "exception": null,
   "input_path": "__notebook__.ipynb",
   "output_path": "__notebook__.ipynb",
   "parameters": {},
   "start_time": "2024-08-30T14:32:23.888315",
   "version": "2.6.0"
  }
 },
 "nbformat": 4,
 "nbformat_minor": 5
}
